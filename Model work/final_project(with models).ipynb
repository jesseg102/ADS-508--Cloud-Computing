{
 "cells": [
  {
   "cell_type": "code",
   "execution_count": 2,
   "id": "15fb758c-c6e9-4b74-b508-59a971fbd1e4",
   "metadata": {
    "tags": []
   },
   "outputs": [],
   "source": [
    "# pip install --upgrade pip"
   ]
  },
  {
   "cell_type": "code",
   "execution_count": 9,
   "id": "487fa3ca-9eed-4a95-ac28-b27f9f05a557",
   "metadata": {
    "tags": []
   },
   "outputs": [
    {
     "name": "stdout",
     "output_type": "stream",
     "text": [
      "Collecting pyathena\n",
      "  Using cached pyathena-3.5.1-py3-none-any.whl.metadata (5.5 kB)\n",
      "Requirement already satisfied: boto3>=1.26.4 in /opt/conda/lib/python3.8/site-packages (from pyathena) (1.33.9)\n",
      "Requirement already satisfied: botocore>=1.29.4 in /opt/conda/lib/python3.8/site-packages (from pyathena) (1.33.9)\n",
      "Requirement already satisfied: fsspec in /opt/conda/lib/python3.8/site-packages (from pyathena) (2021.8.1)\n",
      "Requirement already satisfied: tenacity>=4.1.0 in /opt/conda/lib/python3.8/site-packages (from pyathena) (8.2.3)\n",
      "Requirement already satisfied: jmespath<2.0.0,>=0.7.1 in /opt/conda/lib/python3.8/site-packages (from boto3>=1.26.4->pyathena) (1.0.1)\n",
      "Requirement already satisfied: s3transfer<0.9.0,>=0.8.2 in /opt/conda/lib/python3.8/site-packages (from boto3>=1.26.4->pyathena) (0.8.2)\n",
      "Requirement already satisfied: python-dateutil<3.0.0,>=2.1 in /opt/conda/lib/python3.8/site-packages (from botocore>=1.29.4->pyathena) (2.8.2)\n",
      "Collecting urllib3<1.27,>=1.25.4 (from botocore>=1.29.4->pyathena)\n",
      "  Using cached urllib3-1.26.18-py2.py3-none-any.whl.metadata (48 kB)\n",
      "Requirement already satisfied: six>=1.5 in /opt/conda/lib/python3.8/site-packages (from python-dateutil<3.0.0,>=2.1->botocore>=1.29.4->pyathena) (1.16.0)\n",
      "Using cached pyathena-3.5.1-py3-none-any.whl (69 kB)\n",
      "Using cached urllib3-1.26.18-py2.py3-none-any.whl (143 kB)\n",
      "\u001b[33mDEPRECATION: pyodbc 4.0.0-unsupported has a non-standard version number. pip 24.0 will enforce this behaviour change. A possible replacement is to upgrade to a newer version of pyodbc or contact the author to suggest that they release a version with a conforming version number. Discussion can be found at https://github.com/pypa/pip/issues/12063\u001b[0m\u001b[33m\n",
      "\u001b[0mInstalling collected packages: urllib3, pyathena\n",
      "  Attempting uninstall: urllib3\n",
      "    Found existing installation: urllib3 2.1.0\n",
      "    Uninstalling urllib3-2.1.0:\n",
      "      Successfully uninstalled urllib3-2.1.0\n",
      "\u001b[31mERROR: pip's dependency resolver does not currently take into account all the packages that are installed. This behaviour is the source of the following dependency conflicts.\n",
      "sagemaker 2.199.0 requires protobuf<5.0,>=3.12, but you have protobuf 5.26.1 which is incompatible.\u001b[0m\u001b[31m\n",
      "\u001b[0mSuccessfully installed pyathena-3.5.1 urllib3-1.26.18\n",
      "\u001b[33mWARNING: Running pip as the 'root' user can result in broken permissions and conflicting behaviour with the system package manager. It is recommended to use a virtual environment instead: https://pip.pypa.io/warnings/venv\u001b[0m\u001b[33m\n",
      "\u001b[0m\n",
      "\u001b[1m[\u001b[0m\u001b[34;49mnotice\u001b[0m\u001b[1;39;49m]\u001b[0m\u001b[39;49m A new release of pip is available: \u001b[0m\u001b[31;49m23.3.1\u001b[0m\u001b[39;49m -> \u001b[0m\u001b[32;49m24.0\u001b[0m\n",
      "\u001b[1m[\u001b[0m\u001b[34;49mnotice\u001b[0m\u001b[1;39;49m]\u001b[0m\u001b[39;49m To update, run: \u001b[0m\u001b[32;49mpip install --upgrade pip\u001b[0m\n",
      "Note: you may need to restart the kernel to use updated packages.\n"
     ]
    }
   ],
   "source": [
    "pip install pyathena"
   ]
  },
  {
   "cell_type": "code",
   "execution_count": 10,
   "id": "45eaf686-e5e8-45f9-9af8-e1d7149a6fbc",
   "metadata": {
    "tags": []
   },
   "outputs": [],
   "source": [
    "#pip install sagemaker"
   ]
  },
  {
   "cell_type": "code",
   "execution_count": 11,
   "id": "6461c237-02d8-4e5c-a1d3-463c2d3fd57b",
   "metadata": {
    "tags": []
   },
   "outputs": [
    {
     "name": "stdout",
     "output_type": "stream",
     "text": [
      "Requirement already satisfied: protobuf in /opt/conda/lib/python3.8/site-packages (5.26.1)\n",
      "\u001b[33mDEPRECATION: pyodbc 4.0.0-unsupported has a non-standard version number. pip 24.0 will enforce this behaviour change. A possible replacement is to upgrade to a newer version of pyodbc or contact the author to suggest that they release a version with a conforming version number. Discussion can be found at https://github.com/pypa/pip/issues/12063\u001b[0m\u001b[33m\n",
      "\u001b[0m\u001b[33mWARNING: Running pip as the 'root' user can result in broken permissions and conflicting behaviour with the system package manager. It is recommended to use a virtual environment instead: https://pip.pypa.io/warnings/venv\u001b[0m\u001b[33m\n",
      "\u001b[0m\n",
      "\u001b[1m[\u001b[0m\u001b[34;49mnotice\u001b[0m\u001b[1;39;49m]\u001b[0m\u001b[39;49m A new release of pip is available: \u001b[0m\u001b[31;49m23.3.1\u001b[0m\u001b[39;49m -> \u001b[0m\u001b[32;49m24.0\u001b[0m\n",
      "\u001b[1m[\u001b[0m\u001b[34;49mnotice\u001b[0m\u001b[1;39;49m]\u001b[0m\u001b[39;49m To update, run: \u001b[0m\u001b[32;49mpip install --upgrade pip\u001b[0m\n",
      "Note: you may need to restart the kernel to use updated packages.\n"
     ]
    }
   ],
   "source": [
    "pip install --upgrade protobuf"
   ]
  },
  {
   "cell_type": "code",
   "execution_count": 12,
   "id": "fa5ca4dd-f7bd-4ba4-a73f-c155236ac2fe",
   "metadata": {
    "tags": []
   },
   "outputs": [],
   "source": [
    "import os\n",
    "import boto3"
   ]
  },
  {
   "cell_type": "code",
   "execution_count": 13,
   "id": "64d1958d-05a4-43e5-8e85-642444960a20",
   "metadata": {
    "tags": []
   },
   "outputs": [
    {
     "name": "stdout",
     "output_type": "stream",
     "text": [
      "sagemaker.config INFO - Not applying SDK defaults from location: /etc/xdg/sagemaker/config.yaml\n",
      "sagemaker.config INFO - Not applying SDK defaults from location: /root/.config/sagemaker/config.yaml\n"
     ]
    }
   ],
   "source": [
    "import sagemaker\n",
    "import pandas as pd\n",
    "import numpy as np"
   ]
  },
  {
   "cell_type": "code",
   "execution_count": 14,
   "id": "347b1d7c-6d2c-4aa0-99f5-7dbe33b420cc",
   "metadata": {
    "tags": []
   },
   "outputs": [],
   "source": [
    "import csv, json\n",
    "import seaborn as sns\n",
    "import matplotlib.pyplot as plt\n",
    "%matplotlib inline\n",
    "from IPython.display import HTML, display, Image as IImage\n",
    "from io import StringIO\n",
    "from pyathena import connect\n",
    "from sklearn.model_selection import train_test_split\n",
    "import warnings\n",
    "warnings.filterwarnings('ignore')"
   ]
  },
  {
   "cell_type": "code",
   "execution_count": 15,
   "id": "a2cf400f-727e-4550-8016-30ce715c3359",
   "metadata": {
    "tags": []
   },
   "outputs": [],
   "source": [
    "# Initialize Boto3 Rekognition client\n",
    "\n",
    "rekognition_client = boto3.client(\"rekognition\")\n",
    "s3 = boto3.client(\"s3\")"
   ]
  },
  {
   "cell_type": "markdown",
   "id": "4b05e977-1d46-4db6-a9b6-12de63dec62a",
   "metadata": {},
   "source": [
    "# Detect labels in Traffic sign images"
   ]
  },
  {
   "cell_type": "code",
   "execution_count": 16,
   "id": "5110c800-2f9b-4555-bfe3-bed5ada07f67",
   "metadata": {
    "tags": []
   },
   "outputs": [],
   "source": [
    "# Define s3 bucket name, prefix and output csv file path\n",
    "\n",
    "bucket_name = 'finalprojectdata'\n",
    "prefix_key = 'traffic_signs/'\n",
    "output_csv_key = 'csv_files/traffic_signs.csv'"
   ]
  },
  {
   "cell_type": "code",
   "execution_count": 17,
   "id": "f50cd80f-ff88-4b21-ac7f-76f5b3e056bb",
   "metadata": {
    "tags": []
   },
   "outputs": [],
   "source": [
    "# Function to detect text from an image \n",
    "\n",
    "def detect_text_from_image(bucket_name, image_key):\n",
    "    if image_key.endswith('.jpg'):\n",
    "        rekognition_response = rekognition_client.detect_text(Image={'S3Object': {'Bucket': bucket_name, 'Name': image_key}})\n",
    "        return rekognition_response"
   ]
  },
  {
   "cell_type": "code",
   "execution_count": 18,
   "id": "ca7b1b23-0eaa-4d4b-982e-964c4389fe50",
   "metadata": {
    "tags": []
   },
   "outputs": [],
   "source": [
    "# Get a list of objects in the s3 bucket\n",
    "\n",
    "# all_results = []\n",
    "\n",
    "# paginator = s3.get_paginator('list_objects_v2')\n",
    "# result = paginator.paginate(Bucket=bucket_name, Prefix=prefix_key)\n",
    "\n",
    "# for page in result:\n",
    "#     if \"Contents\" in page:\n",
    "#         for key in page[ \"Contents\" ]:\n",
    "#             keyString = key[ \"Key\" ]\n",
    "#             print(keyString)\n",
    "#             if keyString.endswith('.jpg'):\n",
    "#                 response = detect_text_from_image(bucket_name, keyString)\n",
    "#                 all_results.append({'Image': keyString, 'TextDetections': response['TextDetections']})"
   ]
  },
  {
   "cell_type": "code",
   "execution_count": 19,
   "id": "22e13434-d38e-4586-a9c3-564b448808a8",
   "metadata": {
    "tags": []
   },
   "outputs": [],
   "source": [
    "# # Write aggregated results to a single CSV file\n",
    "\n",
    "# csv_buffer = StringIO()\n",
    "# writer = csv.DictWriter(csv_buffer, fieldnames=['Image', 'DetectedText', 'Type', 'Confidence'])\n",
    "# writer.writeheader()\n",
    "# for result in all_results:\n",
    "#     image_key = result['Image']\n",
    "#     for detection in result['TextDetections']:\n",
    "#         detected_text = detection['DetectedText']\n",
    "#         text_type = detection['Type']\n",
    "#         confidence = detection['Confidence']\n",
    "#         writer.writerow({'Image': image_key, 'DetectedText': detected_text, 'Type': text_type, 'Confidence': confidence})\n",
    "        \n",
    "# # Upload CSV string to S3\n",
    "\n",
    "# csv_buffer.seek(0)\n",
    "# s3.put_object(Body=csv_buffer.getvalue(), Bucket=bucket_name, Key=output_csv_key)\n",
    "\n",
    "# print(f\"Text detection results saved to: s3://{bucket_name}/{output_csv_key}\")"
   ]
  },
  {
   "cell_type": "code",
   "execution_count": 20,
   "id": "c5a2cc1b-7d33-4e07-ad3d-4d237f664879",
   "metadata": {
    "tags": []
   },
   "outputs": [
    {
     "name": "stdout",
     "output_type": "stream",
     "text": [
      "Collecting protobuf==3.20.0\n",
      "  Using cached protobuf-3.20.0-cp38-cp38-manylinux_2_5_x86_64.manylinux1_x86_64.whl.metadata (698 bytes)\n",
      "Using cached protobuf-3.20.0-cp38-cp38-manylinux_2_5_x86_64.manylinux1_x86_64.whl (1.0 MB)\n",
      "\u001b[33mDEPRECATION: pyodbc 4.0.0-unsupported has a non-standard version number. pip 24.0 will enforce this behaviour change. A possible replacement is to upgrade to a newer version of pyodbc or contact the author to suggest that they release a version with a conforming version number. Discussion can be found at https://github.com/pypa/pip/issues/12063\u001b[0m\u001b[33m\n",
      "\u001b[0mInstalling collected packages: protobuf\n",
      "  Attempting uninstall: protobuf\n",
      "    Found existing installation: protobuf 5.26.1\n",
      "    Uninstalling protobuf-5.26.1:\n",
      "      Successfully uninstalled protobuf-5.26.1\n",
      "Successfully installed protobuf-3.20.0\n",
      "\u001b[33mWARNING: Running pip as the 'root' user can result in broken permissions and conflicting behaviour with the system package manager. It is recommended to use a virtual environment instead: https://pip.pypa.io/warnings/venv\u001b[0m\u001b[33m\n",
      "\u001b[0m\n",
      "\u001b[1m[\u001b[0m\u001b[34;49mnotice\u001b[0m\u001b[1;39;49m]\u001b[0m\u001b[39;49m A new release of pip is available: \u001b[0m\u001b[31;49m23.3.1\u001b[0m\u001b[39;49m -> \u001b[0m\u001b[32;49m24.0\u001b[0m\n",
      "\u001b[1m[\u001b[0m\u001b[34;49mnotice\u001b[0m\u001b[1;39;49m]\u001b[0m\u001b[39;49m To update, run: \u001b[0m\u001b[32;49mpip install --upgrade pip\u001b[0m\n",
      "Note: you may need to restart the kernel to use updated packages.\n"
     ]
    }
   ],
   "source": [
    "pip install protobuf==3.20.0"
   ]
  },
  {
   "cell_type": "code",
   "execution_count": 21,
   "id": "bc2c167a-43f2-4389-8089-248c26a0a308",
   "metadata": {
    "tags": []
   },
   "outputs": [],
   "source": [
    "import sagemaker"
   ]
  },
  {
   "cell_type": "code",
   "execution_count": 22,
   "id": "862e6298-0f82-4d34-bb3a-6dd18b72c821",
   "metadata": {
    "tags": []
   },
   "outputs": [
    {
     "name": "stdout",
     "output_type": "stream",
     "text": [
      "sagemaker.config INFO - Not applying SDK defaults from location: /etc/xdg/sagemaker/config.yaml\n",
      "sagemaker.config INFO - Not applying SDK defaults from location: /root/.config/sagemaker/config.yaml\n",
      "sagemaker.config INFO - Not applying SDK defaults from location: /etc/xdg/sagemaker/config.yaml\n",
      "sagemaker.config INFO - Not applying SDK defaults from location: /root/.config/sagemaker/config.yaml\n"
     ]
    }
   ],
   "source": [
    "# Create athena database\n",
    "\n",
    "sess = sagemaker.Session()\n",
    "role = sagemaker.get_execution_role()\n",
    "bucket = sess.default_bucket()\n",
    "region = boto3.Session().region_name\n",
    "\n",
    "ingest_create_athena_db_passed = False"
   ]
  },
  {
   "cell_type": "code",
   "execution_count": 23,
   "id": "f24b3791-a436-48d4-b5cf-be9224468914",
   "metadata": {
    "tags": []
   },
   "outputs": [],
   "source": [
    "# Set Athena database name\n",
    "\n",
    "database_name = \"velocityvision\""
   ]
  },
  {
   "cell_type": "code",
   "execution_count": 24,
   "id": "dc685f68-b2da-4281-a91b-873b8836b1e2",
   "metadata": {
    "tags": []
   },
   "outputs": [],
   "source": [
    "# Set S3 staging directory -- this is a temporary directory used for Athena queries\n",
    "\n",
    "s3_staging_dir = \"s3://{0}/athena/staging\".format(bucket)"
   ]
  },
  {
   "cell_type": "code",
   "execution_count": 25,
   "id": "d60f25c1-0031-41e7-881b-8fae276890c8",
   "metadata": {
    "tags": []
   },
   "outputs": [],
   "source": [
    "# Connect to s3 using PyAthena\n",
    "\n",
    "conn = connect(region_name=region, s3_staging_dir=s3_staging_dir)"
   ]
  },
  {
   "cell_type": "code",
   "execution_count": 26,
   "id": "fb73e9df-14b3-4a16-99d7-d00551f77fb5",
   "metadata": {
    "tags": []
   },
   "outputs": [
    {
     "name": "stdout",
     "output_type": "stream",
     "text": [
      "CREATE DATABASE IF NOT EXISTS velocityvision\n"
     ]
    },
    {
     "data": {
      "text/html": [
       "<div>\n",
       "<style scoped>\n",
       "    .dataframe tbody tr th:only-of-type {\n",
       "        vertical-align: middle;\n",
       "    }\n",
       "\n",
       "    .dataframe tbody tr th {\n",
       "        vertical-align: top;\n",
       "    }\n",
       "\n",
       "    .dataframe thead th {\n",
       "        text-align: right;\n",
       "    }\n",
       "</style>\n",
       "<table border=\"1\" class=\"dataframe\">\n",
       "  <thead>\n",
       "    <tr style=\"text-align: right;\">\n",
       "      <th></th>\n",
       "    </tr>\n",
       "  </thead>\n",
       "  <tbody>\n",
       "  </tbody>\n",
       "</table>\n",
       "</div>"
      ],
      "text/plain": [
       "Empty DataFrame\n",
       "Columns: []\n",
       "Index: []"
      ]
     },
     "execution_count": 26,
     "metadata": {},
     "output_type": "execute_result"
    }
   ],
   "source": [
    "# SQL statement to execute\n",
    "\n",
    "statement = \"CREATE DATABASE IF NOT EXISTS {}\".format(database_name)\n",
    "print(statement)\n",
    "pd.read_sql(statement, conn)"
   ]
  },
  {
   "cell_type": "code",
   "execution_count": 27,
   "id": "11029721-91f2-4687-addd-08517da44df1",
   "metadata": {
    "tags": []
   },
   "outputs": [],
   "source": [
    "input_data_location = \"s3://finalprojectdata/csv_files\""
   ]
  },
  {
   "cell_type": "code",
   "execution_count": 28,
   "id": "ff1f2857-a56c-4f5a-bc8b-cd7b59943411",
   "metadata": {},
   "outputs": [
    {
     "data": {
      "text/html": [
       "<div>\n",
       "<style scoped>\n",
       "    .dataframe tbody tr th:only-of-type {\n",
       "        vertical-align: middle;\n",
       "    }\n",
       "\n",
       "    .dataframe tbody tr th {\n",
       "        vertical-align: top;\n",
       "    }\n",
       "\n",
       "    .dataframe thead th {\n",
       "        text-align: right;\n",
       "    }\n",
       "</style>\n",
       "<table border=\"1\" class=\"dataframe\">\n",
       "  <thead>\n",
       "    <tr style=\"text-align: right;\">\n",
       "      <th></th>\n",
       "      <th>image_id</th>\n",
       "      <th>detected_text</th>\n",
       "      <th>type</th>\n",
       "      <th>confidence</th>\n",
       "    </tr>\n",
       "  </thead>\n",
       "  <tbody>\n",
       "    <tr>\n",
       "      <th>0</th>\n",
       "      <td>traffic_signs/000000_jpg.rf.b11f308f16626f9f79...</td>\n",
       "      <td>30</td>\n",
       "      <td>LINE</td>\n",
       "      <td>99.548250</td>\n",
       "    </tr>\n",
       "    <tr>\n",
       "      <th>1</th>\n",
       "      <td>traffic_signs/000000_jpg.rf.b11f308f16626f9f79...</td>\n",
       "      <td>RYARSH</td>\n",
       "      <td>LINE</td>\n",
       "      <td>99.415030</td>\n",
       "    </tr>\n",
       "    <tr>\n",
       "      <th>2</th>\n",
       "      <td>traffic_signs/000000_jpg.rf.b11f308f16626f9f79...</td>\n",
       "      <td>Please reduce</td>\n",
       "      <td>LINE</td>\n",
       "      <td>99.164894</td>\n",
       "    </tr>\n",
       "    <tr>\n",
       "      <th>3</th>\n",
       "      <td>traffic_signs/000000_jpg.rf.b11f308f16626f9f79...</td>\n",
       "      <td>your speed</td>\n",
       "      <td>LINE</td>\n",
       "      <td>99.207320</td>\n",
       "    </tr>\n",
       "    <tr>\n",
       "      <th>4</th>\n",
       "      <td>traffic_signs/000000_jpg.rf.b11f308f16626f9f79...</td>\n",
       "      <td>30</td>\n",
       "      <td>WORD</td>\n",
       "      <td>99.548250</td>\n",
       "    </tr>\n",
       "  </tbody>\n",
       "</table>\n",
       "</div>"
      ],
      "text/plain": [
       "                                            image_id  detected_text  type  \\\n",
       "0  traffic_signs/000000_jpg.rf.b11f308f16626f9f79...             30  LINE   \n",
       "1  traffic_signs/000000_jpg.rf.b11f308f16626f9f79...         RYARSH  LINE   \n",
       "2  traffic_signs/000000_jpg.rf.b11f308f16626f9f79...  Please reduce  LINE   \n",
       "3  traffic_signs/000000_jpg.rf.b11f308f16626f9f79...     your speed  LINE   \n",
       "4  traffic_signs/000000_jpg.rf.b11f308f16626f9f79...             30  WORD   \n",
       "\n",
       "   confidence  \n",
       "0   99.548250  \n",
       "1   99.415030  \n",
       "2   99.164894  \n",
       "3   99.207320  \n",
       "4   99.548250  "
      ]
     },
     "execution_count": 28,
     "metadata": {},
     "output_type": "execute_result"
    }
   ],
   "source": [
    "# SQL statement to execute the traffic signs text detection\n",
    "\n",
    "table_name1 = 'traffic_signs'\n",
    "pd.read_sql(f'DROP TABLE IF EXISTS {database_name}.{table_name1}', conn)\n",
    "\n",
    "create_table = f\"\"\"\n",
    "CREATE EXTERNAL TABLE IF NOT EXISTS {database_name}.{table_name1}(\n",
    "            image_id string,\n",
    "            detected_text string,\n",
    "            type string,\n",
    "            confidence float\n",
    "            )\n",
    "            \n",
    "            ROW FORMAT DELIMITED FIELDS TERMINATED BY ','\n",
    "            LOCATION '{input_data_location}'\n",
    "            TBLPROPERTIES ('skip.header.line.count'='1')\n",
    "\"\"\"\n",
    "\n",
    "pd.read_sql(create_table, conn)\n",
    "\n",
    "pd.read_sql(f'SELECT * FROM {database_name}.{table_name1} LIMIT 5', conn)"
   ]
  },
  {
   "cell_type": "code",
   "execution_count": 29,
   "id": "d8c720fa-b073-45e4-9b95-807967217c4f",
   "metadata": {
    "tags": []
   },
   "outputs": [],
   "source": [
    "# SQL statement to filter rows for \"WORD\" type\n",
    "\n",
    "query1 = \"SELECT * FROM {}.{} WHERE type='WORD'\".format(database_name, table_name1)\n",
    "traffic_signs_df = pd.read_sql(query1, conn)"
   ]
  },
  {
   "cell_type": "code",
   "execution_count": 30,
   "id": "b1a69b2a-1678-498e-a957-817ec9666d93",
   "metadata": {
    "tags": []
   },
   "outputs": [
    {
     "data": {
      "text/plain": [
       "(22975, 4)"
      ]
     },
     "execution_count": 30,
     "metadata": {},
     "output_type": "execute_result"
    }
   ],
   "source": [
    "traffic_signs_df.shape"
   ]
  },
  {
   "cell_type": "markdown",
   "id": "33ed36a1-d9e7-440a-9768-684a7a8f6e0e",
   "metadata": {},
   "source": [
    "## Checking duplicate values"
   ]
  },
  {
   "cell_type": "code",
   "execution_count": 31,
   "id": "3e8f5333-ddba-45ec-8d59-d61509b7bd31",
   "metadata": {
    "tags": []
   },
   "outputs": [
    {
     "data": {
      "text/plain": [
       "7993"
      ]
     },
     "execution_count": 31,
     "metadata": {},
     "output_type": "execute_result"
    }
   ],
   "source": [
    "traffic_signs_df.duplicated().sum()"
   ]
  },
  {
   "cell_type": "code",
   "execution_count": 32,
   "id": "aaa4034d-921c-41ca-9528-85f7a24b46df",
   "metadata": {
    "tags": []
   },
   "outputs": [
    {
     "data": {
      "text/plain": [
       "(14982, 4)"
      ]
     },
     "execution_count": 32,
     "metadata": {},
     "output_type": "execute_result"
    }
   ],
   "source": [
    "# Removing duplicate rows\n",
    "\n",
    "traffic_signs_df.drop_duplicates(inplace = True)\n",
    "traffic_signs_df.shape"
   ]
  },
  {
   "cell_type": "code",
   "execution_count": 33,
   "id": "08252f05-ea09-4d70-9a62-4aee40220a2f",
   "metadata": {
    "tags": []
   },
   "outputs": [
    {
     "data": {
      "text/html": [
       "<div>\n",
       "<style scoped>\n",
       "    .dataframe tbody tr th:only-of-type {\n",
       "        vertical-align: middle;\n",
       "    }\n",
       "\n",
       "    .dataframe tbody tr th {\n",
       "        vertical-align: top;\n",
       "    }\n",
       "\n",
       "    .dataframe thead th {\n",
       "        text-align: right;\n",
       "    }\n",
       "</style>\n",
       "<table border=\"1\" class=\"dataframe\">\n",
       "  <thead>\n",
       "    <tr style=\"text-align: right;\">\n",
       "      <th></th>\n",
       "      <th>image_id</th>\n",
       "      <th>type</th>\n",
       "      <th>detected_text</th>\n",
       "      <th>confidence</th>\n",
       "    </tr>\n",
       "  </thead>\n",
       "  <tbody>\n",
       "    <tr>\n",
       "      <th>0</th>\n",
       "      <td>license_plate/license_1/00009e5b390986a0.jpg</td>\n",
       "      <td>WORD</td>\n",
       "      <td>Bel &amp; The Dragen a Eating Ноква Te Days P طنية...</td>\n",
       "      <td>98.897190</td>\n",
       "    </tr>\n",
       "    <tr>\n",
       "      <th>1</th>\n",
       "      <td>license_plate/license_1/00009e5b390986a0_jpg.r...</td>\n",
       "      <td>WORD</td>\n",
       "      <td>MG Dr Bragan Joseph SANG P -</td>\n",
       "      <td>87.967316</td>\n",
       "    </tr>\n",
       "    <tr>\n",
       "      <th>2</th>\n",
       "      <td>license_plate/license_1/00009e5b390986a0_jpg.r...</td>\n",
       "      <td>WORD</td>\n",
       "      <td>15 118 and التحج your</td>\n",
       "      <td>83.933174</td>\n",
       "    </tr>\n",
       "    <tr>\n",
       "      <th>3</th>\n",
       "      <td>license_plate/license_1/00009e5b390986a0_jpg.r...</td>\n",
       "      <td>WORD</td>\n",
       "      <td>M 10r Вори People Rainy</td>\n",
       "      <td>57.783930</td>\n",
       "    </tr>\n",
       "    <tr>\n",
       "      <th>4</th>\n",
       "      <td>license_plate/license_1/0002a5b67e5f0909_jpg.r...</td>\n",
       "      <td>WORD</td>\n",
       "      <td>и Andrews Church DS00 PCZ</td>\n",
       "      <td>98.522736</td>\n",
       "    </tr>\n",
       "  </tbody>\n",
       "</table>\n",
       "</div>"
      ],
      "text/plain": [
       "                                            image_id  type  \\\n",
       "0       license_plate/license_1/00009e5b390986a0.jpg  WORD   \n",
       "1  license_plate/license_1/00009e5b390986a0_jpg.r...  WORD   \n",
       "2  license_plate/license_1/00009e5b390986a0_jpg.r...  WORD   \n",
       "3  license_plate/license_1/00009e5b390986a0_jpg.r...  WORD   \n",
       "4  license_plate/license_1/0002a5b67e5f0909_jpg.r...  WORD   \n",
       "\n",
       "                                       detected_text  confidence  \n",
       "0  Bel & The Dragen a Eating Ноква Te Days P طنية...   98.897190  \n",
       "1                       MG Dr Bragan Joseph SANG P -   87.967316  \n",
       "2                              15 118 and التحج your   83.933174  \n",
       "3                            M 10r Вори People Rainy   57.783930  \n",
       "4                          и Andrews Church DS00 PCZ   98.522736  "
      ]
     },
     "execution_count": 33,
     "metadata": {},
     "output_type": "execute_result"
    }
   ],
   "source": [
    "traffic_df = traffic_signs_df.groupby(['image_id', 'type']).agg({'detected_text': ' '.join, 'confidence':'max'}).reset_index()\n",
    "traffic_df.head()"
   ]
  },
  {
   "cell_type": "code",
   "execution_count": 34,
   "id": "011a433c-2743-4a90-9495-5a15f1e54110",
   "metadata": {},
   "outputs": [
    {
     "data": {
      "text/html": [
       "<div>\n",
       "<style scoped>\n",
       "    .dataframe tbody tr th:only-of-type {\n",
       "        vertical-align: middle;\n",
       "    }\n",
       "\n",
       "    .dataframe tbody tr th {\n",
       "        vertical-align: top;\n",
       "    }\n",
       "\n",
       "    .dataframe thead th {\n",
       "        text-align: right;\n",
       "    }\n",
       "</style>\n",
       "<table border=\"1\" class=\"dataframe\">\n",
       "  <thead>\n",
       "    <tr style=\"text-align: right;\">\n",
       "      <th></th>\n",
       "    </tr>\n",
       "  </thead>\n",
       "  <tbody>\n",
       "  </tbody>\n",
       "</table>\n",
       "</div>"
      ],
      "text/plain": [
       "Empty DataFrame\n",
       "Columns: []\n",
       "Index: []"
      ]
     },
     "execution_count": 34,
     "metadata": {},
     "output_type": "execute_result"
    }
   ],
   "source": [
    "# SQL statement to execute the analysis of vehicle speed\n",
    "\n",
    "table_name2 = 'vehicle_speed'\n",
    "pd.read_sql(f'DROP TABLE IF EXISTS {database_name}.{table_name2}', conn)\n",
    "\n",
    "create_table = f\"\"\"\n",
    "CREATE EXTERNAL TABLE IF NOT EXISTS {database_name}.{table_name2}(\n",
    "             latitude float,\n",
    "             longitude float,\n",
    "             target_speed float,\n",
    "             way_maxspeed float,\n",
    "             speed_osrm float,\n",
    "             elevation float,\n",
    "             fwd_azimuth float,\n",
    "             way_type string,\n",
    "             way_surface string,\n",
    "             node_intersection string,\n",
    "             node_railway string,\n",
    "             node_crossing string,\n",
    "             node_highway string,\n",
    "             node_stop string,\n",
    "             start_stop int,\n",
    "             azimuth_diff int,\n",
    "             elevation_diff float\n",
    "             )\n",
    "             \n",
    "             ROW FORMAT DELIMITED FIELDS TERMINATED BY ','\n",
    "             LOCATION 's3://finalprojectdata/vehicle_speed'\n",
    "             TBLPROPERTIES ('skip.header.line.count'='1')\n",
    "\"\"\"\n",
    "\n",
    "pd.read_sql(create_table, conn)"
   ]
  },
  {
   "cell_type": "code",
   "execution_count": 35,
   "id": "38971b75-0c6e-487a-a778-50764d2c62a2",
   "metadata": {
    "tags": []
   },
   "outputs": [
    {
     "data": {
      "text/html": [
       "<div>\n",
       "<style scoped>\n",
       "    .dataframe tbody tr th:only-of-type {\n",
       "        vertical-align: middle;\n",
       "    }\n",
       "\n",
       "    .dataframe tbody tr th {\n",
       "        vertical-align: top;\n",
       "    }\n",
       "\n",
       "    .dataframe thead th {\n",
       "        text-align: right;\n",
       "    }\n",
       "</style>\n",
       "<table border=\"1\" class=\"dataframe\">\n",
       "  <thead>\n",
       "    <tr style=\"text-align: right;\">\n",
       "      <th></th>\n",
       "      <th>latitude</th>\n",
       "      <th>longitude</th>\n",
       "      <th>target_speed</th>\n",
       "      <th>way_maxspeed</th>\n",
       "      <th>speed_osrm</th>\n",
       "      <th>elevation</th>\n",
       "      <th>fwd_azimuth</th>\n",
       "      <th>way_type</th>\n",
       "      <th>way_surface</th>\n",
       "      <th>node_intersection</th>\n",
       "      <th>node_railway</th>\n",
       "      <th>node_crossing</th>\n",
       "      <th>node_highway</th>\n",
       "      <th>node_stop</th>\n",
       "      <th>start_stop</th>\n",
       "      <th>azimuth_diff</th>\n",
       "      <th>elevation_diff</th>\n",
       "    </tr>\n",
       "  </thead>\n",
       "  <tbody>\n",
       "    <tr>\n",
       "      <th>0</th>\n",
       "      <td>50.397060</td>\n",
       "      <td>14.913273</td>\n",
       "      <td>39.739456</td>\n",
       "      <td>130.0</td>\n",
       "      <td>28.837246</td>\n",
       "      <td>229.77516</td>\n",
       "      <td>46.24135</td>\n",
       "      <td>motorway</td>\n",
       "      <td>asphalt</td>\n",
       "      <td></td>\n",
       "      <td></td>\n",
       "      <td></td>\n",
       "      <td></td>\n",
       "      <td></td>\n",
       "      <td>0</td>\n",
       "      <td>0.0</td>\n",
       "      <td>-0.025587</td>\n",
       "    </tr>\n",
       "    <tr>\n",
       "      <th>1</th>\n",
       "      <td>50.397068</td>\n",
       "      <td>14.913283</td>\n",
       "      <td>39.717785</td>\n",
       "      <td>130.0</td>\n",
       "      <td>28.875628</td>\n",
       "      <td>229.74959</td>\n",
       "      <td>46.24135</td>\n",
       "      <td>motorway</td>\n",
       "      <td>asphalt</td>\n",
       "      <td></td>\n",
       "      <td></td>\n",
       "      <td></td>\n",
       "      <td></td>\n",
       "      <td></td>\n",
       "      <td>0</td>\n",
       "      <td>0.0</td>\n",
       "      <td>-0.025587</td>\n",
       "    </tr>\n",
       "    <tr>\n",
       "      <th>2</th>\n",
       "      <td>50.397076</td>\n",
       "      <td>14.913294</td>\n",
       "      <td>39.696114</td>\n",
       "      <td>130.0</td>\n",
       "      <td>28.914007</td>\n",
       "      <td>229.72400</td>\n",
       "      <td>46.24135</td>\n",
       "      <td>motorway</td>\n",
       "      <td>asphalt</td>\n",
       "      <td></td>\n",
       "      <td></td>\n",
       "      <td></td>\n",
       "      <td></td>\n",
       "      <td></td>\n",
       "      <td>0</td>\n",
       "      <td>0.0</td>\n",
       "      <td>-0.025587</td>\n",
       "    </tr>\n",
       "    <tr>\n",
       "      <th>3</th>\n",
       "      <td>50.397080</td>\n",
       "      <td>14.913303</td>\n",
       "      <td>39.674442</td>\n",
       "      <td>130.0</td>\n",
       "      <td>28.952387</td>\n",
       "      <td>229.69841</td>\n",
       "      <td>46.24135</td>\n",
       "      <td>motorway</td>\n",
       "      <td>asphalt</td>\n",
       "      <td></td>\n",
       "      <td></td>\n",
       "      <td></td>\n",
       "      <td></td>\n",
       "      <td></td>\n",
       "      <td>0</td>\n",
       "      <td>0.0</td>\n",
       "      <td>-0.025587</td>\n",
       "    </tr>\n",
       "    <tr>\n",
       "      <th>4</th>\n",
       "      <td>50.397087</td>\n",
       "      <td>14.913314</td>\n",
       "      <td>39.652770</td>\n",
       "      <td>130.0</td>\n",
       "      <td>28.990767</td>\n",
       "      <td>229.67282</td>\n",
       "      <td>46.24135</td>\n",
       "      <td>motorway</td>\n",
       "      <td>asphalt</td>\n",
       "      <td></td>\n",
       "      <td></td>\n",
       "      <td></td>\n",
       "      <td></td>\n",
       "      <td></td>\n",
       "      <td>0</td>\n",
       "      <td>0.0</td>\n",
       "      <td>-0.025587</td>\n",
       "    </tr>\n",
       "  </tbody>\n",
       "</table>\n",
       "</div>"
      ],
      "text/plain": [
       "    latitude  longitude  target_speed  way_maxspeed  speed_osrm  elevation  \\\n",
       "0  50.397060  14.913273     39.739456         130.0   28.837246  229.77516   \n",
       "1  50.397068  14.913283     39.717785         130.0   28.875628  229.74959   \n",
       "2  50.397076  14.913294     39.696114         130.0   28.914007  229.72400   \n",
       "3  50.397080  14.913303     39.674442         130.0   28.952387  229.69841   \n",
       "4  50.397087  14.913314     39.652770         130.0   28.990767  229.67282   \n",
       "\n",
       "   fwd_azimuth  way_type way_surface node_intersection node_railway  \\\n",
       "0     46.24135  motorway     asphalt                                  \n",
       "1     46.24135  motorway     asphalt                                  \n",
       "2     46.24135  motorway     asphalt                                  \n",
       "3     46.24135  motorway     asphalt                                  \n",
       "4     46.24135  motorway     asphalt                                  \n",
       "\n",
       "  node_crossing node_highway node_stop  start_stop  azimuth_diff  \\\n",
       "0                                                0           0.0   \n",
       "1                                                0           0.0   \n",
       "2                                                0           0.0   \n",
       "3                                                0           0.0   \n",
       "4                                                0           0.0   \n",
       "\n",
       "   elevation_diff  \n",
       "0       -0.025587  \n",
       "1       -0.025587  \n",
       "2       -0.025587  \n",
       "3       -0.025587  \n",
       "4       -0.025587  "
      ]
     },
     "execution_count": 35,
     "metadata": {},
     "output_type": "execute_result"
    }
   ],
   "source": [
    "vehicle_speed_df = pd.read_sql(f'SELECT * FROM {database_name}.{table_name2}', conn)\n",
    "vehicle_speed_df.head()"
   ]
  },
  {
   "cell_type": "markdown",
   "id": "24ac0d87-05a4-444b-9035-8d19187cec72",
   "metadata": {},
   "source": [
    "# Exploratory Data Analysis"
   ]
  },
  {
   "cell_type": "code",
   "execution_count": 36,
   "id": "f1a2f150-8a7c-435d-9d14-8f006534fd61",
   "metadata": {
    "tags": []
   },
   "outputs": [
    {
     "data": {
      "text/plain": [
       "(12165, 17)"
      ]
     },
     "execution_count": 36,
     "metadata": {},
     "output_type": "execute_result"
    }
   ],
   "source": [
    "vehicle_speed_df.shape"
   ]
  },
  {
   "cell_type": "code",
   "execution_count": 37,
   "id": "469ae319-fb6d-40e2-b619-039e7a1ed3e9",
   "metadata": {
    "tags": []
   },
   "outputs": [
    {
     "data": {
      "text/plain": [
       "Text(0, 0.5, 'Count')"
      ]
     },
     "execution_count": 37,
     "metadata": {},
     "output_type": "execute_result"
    },
    {
     "data": {
      "image/png": "[encoded data removed]",
      "text/plain": [
       "<Figure size 432x288 with 1 Axes>"
      ]
     },
     "metadata": {
      "needs_background": "light"
     },
     "output_type": "display_data"
    }
   ],
   "source": [
    "# Distrubition by Way type\n",
    "\n",
    "vehicle_speed_df['way_type'].value_counts().plot(kind=\"bar\", title=\"Distribution by way type\")\n",
    "plt.xlabel(\"Way Type\")\n",
    "plt.ylabel(\"Count\")"
   ]
  },
  {
   "cell_type": "markdown",
   "id": "d3cf5a17-a1ed-44ad-adb8-766b7926d8da",
   "metadata": {},
   "source": [
    "# Correlation\n",
    "\n",
    "Lets study the correlation between different attributes in the dataset"
   ]
  },
  {
   "cell_type": "code",
   "execution_count": 38,
   "id": "4469eafe-5739-45c4-b831-da969b9a7cdd",
   "metadata": {
    "tags": []
   },
   "outputs": [
    {
     "data": {
      "text/plain": [
       "<AxesSubplot:>"
      ]
     },
     "execution_count": 38,
     "metadata": {},
     "output_type": "execute_result"
    },
    {
     "data": {
      "image/png": "[encoded data removed]",
      "text/plain": [
       "<Figure size 720x576 with 2 Axes>"
      ]
     },
     "metadata": {
      "needs_background": "light"
     },
     "output_type": "display_data"
    }
   ],
   "source": [
    "corr = vehicle_speed_df.corr()\n",
    "plt.figure(figsize=(10, 8))\n",
    "sns.heatmap(corr, annot=True, cmap = 'coolwarm', cbar_kws={'label': 'Correlation Index'})"
   ]
  },
  {
   "cell_type": "markdown",
   "id": "66564c41-12c0-4505-b4d2-703a51fc2d22",
   "metadata": {},
   "source": [
    "From the above correlation Heatmap, it is observed that the below predictors are highly correlated.\n",
    "(1) latitude and elevation\n",
    "(2) target_speed and way_maxspeed\n",
    "(3) way_maxspeed and speed_osrm\n",
    "(4) target_speed and elevation"
   ]
  },
  {
   "cell_type": "markdown",
   "id": "652e2c9e-c11e-4087-bcf7-d4c8176f02a4",
   "metadata": {
    "tags": []
   },
   "source": [
    "# 2. Data Preprocessing\n",
    "\n",
    "## 2.1. Handling Missing Values"
   ]
  },
  {
   "cell_type": "code",
   "execution_count": 39,
   "id": "b0186f64-20fc-4cf8-ab00-e251881ab1e6",
   "metadata": {
    "tags": []
   },
   "outputs": [
    {
     "data": {
      "text/plain": [
       "latitude             0\n",
       "longitude            0\n",
       "target_speed         0\n",
       "way_maxspeed         0\n",
       "speed_osrm           0\n",
       "elevation            0\n",
       "fwd_azimuth          0\n",
       "way_type             0\n",
       "way_surface          0\n",
       "node_intersection    0\n",
       "node_railway         0\n",
       "node_crossing        0\n",
       "node_highway         0\n",
       "node_stop            0\n",
       "start_stop           0\n",
       "azimuth_diff         7\n",
       "elevation_diff       0\n",
       "dtype: int64"
      ]
     },
     "execution_count": 39,
     "metadata": {},
     "output_type": "execute_result"
    }
   ],
   "source": [
    "vehicle_speed_df.isnull().sum()"
   ]
  },
  {
   "cell_type": "code",
   "execution_count": 40,
   "id": "a137f73b-140d-4de3-b75c-786f2941e7e4",
   "metadata": {
    "tags": []
   },
   "outputs": [],
   "source": [
    "# Dropping columns that have null values\n",
    "\n",
    "vehicle_speed_df = vehicle_speed_df.drop(['node_intersection', 'node_railway', 'node_crossing', 'node_highway', 'node_stop'], axis=1)\n",
    "\n",
    "# Dropping rows that have null values\n",
    "\n",
    "vehicle_speed_df = vehicle_speed_df.dropna(subset=['azimuth_diff'])"
   ]
  },
  {
   "cell_type": "code",
   "execution_count": 41,
   "id": "a7179d50-0d74-4509-b61c-74a48bbcbb67",
   "metadata": {
    "tags": []
   },
   "outputs": [
    {
     "data": {
      "text/plain": [
       "0"
      ]
     },
     "execution_count": 41,
     "metadata": {},
     "output_type": "execute_result"
    }
   ],
   "source": [
    "vehicle_speed_df.duplicated().sum()"
   ]
  },
  {
   "cell_type": "markdown",
   "id": "e59f880a-b8d0-44bd-aaff-0d453b5d8618",
   "metadata": {},
   "source": [
    "# Multicollinearity\n",
    "\n",
    "Lets address the multicollinearity issue by calculating Variance Inflation Factor (VIF) and removing highly correlated predictors."
   ]
  },
  {
   "cell_type": "code",
   "execution_count": 42,
   "id": "7f3dc4af-dd29-4589-b80c-b0eef59e90ae",
   "metadata": {
    "tags": []
   },
   "outputs": [],
   "source": [
    "# Separate the predictors and target variables\n",
    "\n",
    "X_pred = vehicle_speed_df.drop(['target_speed'], axis=1)\n",
    "y_target = vehicle_speed_df['target_speed']"
   ]
  },
  {
   "cell_type": "code",
   "execution_count": 43,
   "id": "451ade60-ab75-4a4c-924f-d7cf9befc88e",
   "metadata": {
    "tags": []
   },
   "outputs": [
    {
     "data": {
      "image/png": "[encoded data removed]",
      "text/plain": [
       "<Figure size 720x576 with 2 Axes>"
      ]
     },
     "metadata": {
      "needs_background": "light"
     },
     "output_type": "display_data"
    }
   ],
   "source": [
    "# Calculate correlation matrix for predictors\n",
    "correlation_matrix = X_pred.corr()\n",
    "\n",
    "# Create a mask for the upper triangle\n",
    "mask = np.triu(np.ones_like(correlation_matrix, dtype=bool))\n",
    "\n",
    "# Plot the correlation matrix\n",
    "import seaborn as sns\n",
    "import matplotlib.pyplot as plt\n",
    "\n",
    "plt.figure(figsize=(10, 8))\n",
    "sns.heatmap(correlation_matrix, mask=mask, annot=True, cmap='coolwarm', fmt=\".2f\", linewidths=0.5)\n",
    "plt.title('Correlation Matrix of Predictors')\n",
    "plt.show()"
   ]
  },
  {
   "cell_type": "markdown",
   "id": "16c74e9b-ca09-4f2c-8da5-dbb1138dc49f",
   "metadata": {},
   "source": [
    "To address the issue of multicollinearity, it is suggested to remove the columns longitude, way_maxspeed, and elevation. However, since determining the target speed of a vehicle relies on multiple factors, including spatial information about the vehicle's location, both latitude and longitude should be taken into account."
   ]
  },
  {
   "cell_type": "markdown",
   "id": "ec62b27d-c622-4c1e-be4e-064787505068",
   "metadata": {},
   "source": [
    "# Feature transformation\n",
    "\n",
    "The maximum allowed speed is measured in km/hr whereas target_speed and speed_osrm are measured in m/s. Hence transforming the target_speed and speed_osrm values to km/hr"
   ]
  },
  {
   "cell_type": "code",
   "execution_count": 44,
   "id": "4827037e-e78a-4c10-895f-d41c8c9bc9c6",
   "metadata": {
    "tags": []
   },
   "outputs": [],
   "source": [
    "# Convert m/s to km/hr for the target_speed and speed_osrm column\n",
    "\n",
    "vehicle_speed_df['target_speed'] = vehicle_speed_df['target_speed'] * 3.6\n",
    "\n",
    "vehicle_speed_df['speed_osrm'] = vehicle_speed_df['speed_osrm'] * 3.6"
   ]
  },
  {
   "cell_type": "markdown",
   "id": "d2a87b5f-6d18-42eb-83cb-49427f98e7f3",
   "metadata": {},
   "source": [
    "# Feature Creation\n",
    "\n",
    "Lets create a new feature speed_deviation that computes the difference between target_speed and way_maxspeed to see if the vehicle is driving above or below the allowed speed limit."
   ]
  },
  {
   "cell_type": "code",
   "execution_count": 45,
   "id": "e07556fd-7fbd-4be4-a847-6148b06fe63e",
   "metadata": {
    "tags": []
   },
   "outputs": [],
   "source": [
    "vehicle_speed_df['speed_deviation'] = vehicle_speed_df['target_speed'] - vehicle_speed_df['way_maxspeed']"
   ]
  },
  {
   "cell_type": "markdown",
   "id": "40f5c13e-8099-4e9a-b558-8fc2c6357380",
   "metadata": {},
   "source": [
    "# Drop Irrelevant fields"
   ]
  },
  {
   "cell_type": "code",
   "execution_count": 46,
   "id": "eb829ede-ea6c-4081-b74e-4c259a4abaa9",
   "metadata": {},
   "outputs": [],
   "source": [
    "# Dropping fields that exhibit multicollinearity \n",
    "\n",
    "vehicle_speed_df = vehicle_speed_df.drop(['way_maxspeed', 'elevation'], axis=1)\n",
    "\n",
    "# Dropping irrelevant columns\n",
    "\n",
    "vehicle_speed_df = vehicle_speed_df.drop(['fwd_azimuth', 'way_surface', 'start_stop', 'azimuth_diff', 'elevation_diff'], axis=1)"
   ]
  },
  {
   "cell_type": "markdown",
   "id": "f3f1c5c9-ddfe-4395-b2f1-a05e9e6082b6",
   "metadata": {},
   "source": [
    "# Feature Selection\n",
    "\n",
    "Based on the insights from the correlation matrix heatmap and other transformation techniques, the useful predictors for the final model include: latitude, longitude, speed_osrm, way_type, speed_deviation and target_speed."
   ]
  },
  {
   "cell_type": "code",
   "execution_count": 47,
   "id": "ca9ef430-094a-4ca8-b133-98d5fe4f76c2",
   "metadata": {
    "tags": []
   },
   "outputs": [],
   "source": [
    "final_df = vehicle_speed_df.copy()"
   ]
  },
  {
   "cell_type": "markdown",
   "id": "666c7d8c-cf48-4bc5-84fe-5c78d67d2279",
   "metadata": {},
   "source": [
    "# Encoding Categorical Variables"
   ]
  },
  {
   "cell_type": "code",
   "execution_count": 48,
   "id": "3613a728-7020-48ef-8f18-b45b051aea2c",
   "metadata": {
    "tags": []
   },
   "outputs": [
    {
     "data": {
      "text/html": [
       "<div>\n",
       "<style scoped>\n",
       "    .dataframe tbody tr th:only-of-type {\n",
       "        vertical-align: middle;\n",
       "    }\n",
       "\n",
       "    .dataframe tbody tr th {\n",
       "        vertical-align: top;\n",
       "    }\n",
       "\n",
       "    .dataframe thead th {\n",
       "        text-align: right;\n",
       "    }\n",
       "</style>\n",
       "<table border=\"1\" class=\"dataframe\">\n",
       "  <thead>\n",
       "    <tr style=\"text-align: right;\">\n",
       "      <th></th>\n",
       "      <th>latitude</th>\n",
       "      <th>longitude</th>\n",
       "      <th>target_speed</th>\n",
       "      <th>speed_osrm</th>\n",
       "      <th>speed_deviation</th>\n",
       "      <th>way_type_residential</th>\n",
       "      <th>way_type_secondary</th>\n",
       "      <th>way_type_tertiary</th>\n",
       "      <th>way_type_trunk</th>\n",
       "    </tr>\n",
       "  </thead>\n",
       "  <tbody>\n",
       "    <tr>\n",
       "      <th>0</th>\n",
       "      <td>50.397060</td>\n",
       "      <td>14.913273</td>\n",
       "      <td>143.062042</td>\n",
       "      <td>103.814086</td>\n",
       "      <td>13.062042</td>\n",
       "      <td>0</td>\n",
       "      <td>0</td>\n",
       "      <td>0</td>\n",
       "      <td>0</td>\n",
       "    </tr>\n",
       "    <tr>\n",
       "      <th>1</th>\n",
       "      <td>50.397068</td>\n",
       "      <td>14.913283</td>\n",
       "      <td>142.984026</td>\n",
       "      <td>103.952261</td>\n",
       "      <td>12.984026</td>\n",
       "      <td>0</td>\n",
       "      <td>0</td>\n",
       "      <td>0</td>\n",
       "      <td>0</td>\n",
       "    </tr>\n",
       "    <tr>\n",
       "      <th>2</th>\n",
       "      <td>50.397076</td>\n",
       "      <td>14.913294</td>\n",
       "      <td>142.906010</td>\n",
       "      <td>104.090425</td>\n",
       "      <td>12.906010</td>\n",
       "      <td>0</td>\n",
       "      <td>0</td>\n",
       "      <td>0</td>\n",
       "      <td>0</td>\n",
       "    </tr>\n",
       "    <tr>\n",
       "      <th>3</th>\n",
       "      <td>50.397080</td>\n",
       "      <td>14.913303</td>\n",
       "      <td>142.827991</td>\n",
       "      <td>104.228593</td>\n",
       "      <td>12.827991</td>\n",
       "      <td>0</td>\n",
       "      <td>0</td>\n",
       "      <td>0</td>\n",
       "      <td>0</td>\n",
       "    </tr>\n",
       "    <tr>\n",
       "      <th>4</th>\n",
       "      <td>50.397087</td>\n",
       "      <td>14.913314</td>\n",
       "      <td>142.749972</td>\n",
       "      <td>104.366761</td>\n",
       "      <td>12.749972</td>\n",
       "      <td>0</td>\n",
       "      <td>0</td>\n",
       "      <td>0</td>\n",
       "      <td>0</td>\n",
       "    </tr>\n",
       "  </tbody>\n",
       "</table>\n",
       "</div>"
      ],
      "text/plain": [
       "    latitude  longitude  target_speed  speed_osrm  speed_deviation  \\\n",
       "0  50.397060  14.913273    143.062042  103.814086        13.062042   \n",
       "1  50.397068  14.913283    142.984026  103.952261        12.984026   \n",
       "2  50.397076  14.913294    142.906010  104.090425        12.906010   \n",
       "3  50.397080  14.913303    142.827991  104.228593        12.827991   \n",
       "4  50.397087  14.913314    142.749972  104.366761        12.749972   \n",
       "\n",
       "   way_type_residential  way_type_secondary  way_type_tertiary  way_type_trunk  \n",
       "0                     0                   0                  0               0  \n",
       "1                     0                   0                  0               0  \n",
       "2                     0                   0                  0               0  \n",
       "3                     0                   0                  0               0  \n",
       "4                     0                   0                  0               0  "
      ]
     },
     "execution_count": 48,
     "metadata": {},
     "output_type": "execute_result"
    }
   ],
   "source": [
    "# Convert categorical variables to dummy variables\n",
    "\n",
    "final_df = pd.get_dummies(final_df, columns= ['way_type'], drop_first=True)\n",
    "final_df.head()"
   ]
  },
  {
   "cell_type": "markdown",
   "id": "3691c17a-ee5c-462e-b042-665645bc314c",
   "metadata": {},
   "source": [
    "# Data Partitioning\n",
    "\n",
    "## Separate predictor and target variables"
   ]
  },
  {
   "cell_type": "code",
   "execution_count": 49,
   "id": "d002e108-3db2-416e-ac80-56b02ba81200",
   "metadata": {
    "tags": []
   },
   "outputs": [],
   "source": [
    "# Separate X and y variables\n",
    "\n",
    "X = final_df.drop(['target_speed'], axis=1)\n",
    "y = final_df['target_speed']\n",
    "predictors = X.columns\n",
    "outcome = 'target_speed'"
   ]
  },
  {
   "cell_type": "markdown",
   "id": "e41d192c-9968-468f-b193-68e12f3ec6ac",
   "metadata": {},
   "source": [
    "## Split dataset into training, test and validation sets"
   ]
  },
  {
   "cell_type": "code",
   "execution_count": 50,
   "id": "f85ed64a-85bd-47b6-bbe1-a1c9fc16694a",
   "metadata": {
    "tags": []
   },
   "outputs": [],
   "source": [
    "# Split the training and test set\n",
    "X_train, X_test, y_train, y_test = train_test_split(X, y, test_size=0.4, random_state=1)\n",
    "\n",
    "# Split the test and validation set\n",
    "X_test, X_valid, y_test, y_valid = train_test_split(X_test, y_test, test_size=0.5, random_state=1)"
   ]
  },
  {
   "cell_type": "code",
   "execution_count": 51,
   "id": "682bab85-2264-4bc9-8f72-e83baffbdb08",
   "metadata": {
    "tags": []
   },
   "outputs": [],
   "source": [
    "# Proportions of training, test and validation data\n",
    "\n",
    "train_prop = len(X_train)/len(final_df)\n",
    "test_prop = len(X_test)/len(final_df)\n",
    "valid_prop = len(X_valid)/len(final_df)"
   ]
  },
  {
   "cell_type": "code",
   "execution_count": 52,
   "id": "acbb3b8f-8a83-4562-a6cb-be5e724fb9e5",
   "metadata": {
    "tags": []
   },
   "outputs": [
    {
     "data": {
      "image/png": "[encoded data removed]",
      "text/plain": [
       "<Figure size 504x360 with 1 Axes>"
      ]
     },
     "metadata": {
      "needs_background": "light"
     },
     "output_type": "display_data"
    }
   ],
   "source": [
    "plt.figure(figsize=(7,5))\n",
    "labels = ['Training Set', 'Test Set', 'Validation Set']\n",
    "proportions = [train_prop, test_prop, valid_prop]\n",
    "plt.bar(labels,proportions)\n",
    "plt.xlabel(\"Datasets\")\n",
    "plt.ylabel(\"Proportions\")\n",
    "plt.title(\"Proportions of Training, Test and Validation sets\")\n",
    "plt.show()"
   ]
  },
  {
   "cell_type": "code",
   "execution_count": 53,
   "id": "f2b2a0c7-2d0e-4bb4-9487-bbdf0991cacf",
   "metadata": {
    "tags": []
   },
   "outputs": [],
   "source": [
    "import boto3\n",
    "import json\n",
    "\n",
    "# Initialize Boto3 S3 client\n",
    "s3_client = boto3.client('s3')\n",
    "\n",
    "# Define the bucket name\n",
    "bucket_name = 'vpproject'\n",
    "\n",
    "# Define the filenames for the proportions\n",
    "file_names = ['train_prop.json', 'test_prop.json', 'valid_prop.json']\n",
    "\n",
    "# Define the proportions\n",
    "proportions = {'train_prop': train_prop, 'test_prop': test_prop, 'valid_prop': valid_prop}\n",
    "\n",
    "# Upload each proportion as a separate JSON file to the S3 bucket\n",
    "for file_name in file_names:\n",
    "    proportion_name = file_name.split('.')[0]\n",
    "    with open(file_name, 'w') as f:\n",
    "        json.dump(proportions[proportion_name], f)\n",
    "    s3_client.upload_file(file_name, bucket_name, file_name)\n",
    "\n"
   ]
  },
  {
   "cell_type": "markdown",
   "id": "8e8ca112-e9bf-4ada-b38d-abb93ec9841f",
   "metadata": {},
   "source": [
    "## Linear Learner"
   ]
  },
  {
   "cell_type": "code",
   "execution_count": 54,
   "id": "79ff18a1-4990-475e-a170-eb93961a95e7",
   "metadata": {
    "tags": []
   },
   "outputs": [
    {
     "name": "stdout",
     "output_type": "stream",
     "text": [
      "Prefixes in the bucket:\n",
      "license_plate\n",
      "license_plate/license_1\n"
     ]
    }
   ],
   "source": [
    "import boto3\n",
    "\n",
    "# Initialize Boto3 S3 client\n",
    "s3_client = boto3.client('s3')\n",
    "\n",
    "# Specify your bucket name\n",
    "bucket_name = 'vpproject'\n",
    "\n",
    "# List objects in the bucket\n",
    "response = s3_client.list_objects_v2(Bucket=bucket_name)\n",
    "\n",
    "# Extract prefixes from the response\n",
    "prefixes = set()\n",
    "if 'Contents' in response:\n",
    "    for obj in response['Contents']:\n",
    "        key = obj['Key']\n",
    "        # Extract the prefix (folder) from the key\n",
    "        prefix = '/'.join(key.split('/')[:-1])\n",
    "        prefixes.add(prefix)\n",
    "\n",
    "print(\"Prefixes in the bucket:\")\n",
    "for prefix in prefixes:\n",
    "    print(prefix)\n"
   ]
  },
  {
   "cell_type": "markdown",
   "id": "ffbc86e0-88b1-4c7c-8f3c-93d1f681e33c",
   "metadata": {},
   "source": [
    "## XGBoost"
   ]
  },
  {
   "cell_type": "code",
   "execution_count": 55,
   "id": "e37d89cc-f465-4f4b-a975-ecd01dc964eb",
   "metadata": {
    "tags": []
   },
   "outputs": [
    {
     "name": "stdout",
     "output_type": "stream",
     "text": [
      "Requirement already satisfied: sagemaker in /opt/conda/lib/python3.8/site-packages (2.199.0)\n",
      "Collecting sagemaker\n",
      "  Using cached sagemaker-2.214.2-py3-none-any.whl.metadata (14 kB)\n",
      "Requirement already satisfied: attrs<24,>=23.1.0 in /opt/conda/lib/python3.8/site-packages (from sagemaker) (23.1.0)\n",
      "Requirement already satisfied: boto3<2.0,>=1.33.3 in /opt/conda/lib/python3.8/site-packages (from sagemaker) (1.33.9)\n",
      "Requirement already satisfied: cloudpickle==2.2.1 in /opt/conda/lib/python3.8/site-packages (from sagemaker) (2.2.1)\n",
      "Requirement already satisfied: google-pasta in /opt/conda/lib/python3.8/site-packages (from sagemaker) (0.2.0)\n",
      "Requirement already satisfied: numpy<2.0,>=1.9.0 in /opt/conda/lib/python3.8/site-packages (from sagemaker) (1.24.4)\n",
      "Requirement already satisfied: protobuf<5.0,>=3.12 in /opt/conda/lib/python3.8/site-packages (from sagemaker) (3.20.0)\n",
      "Requirement already satisfied: smdebug-rulesconfig==1.0.1 in /opt/conda/lib/python3.8/site-packages (from sagemaker) (1.0.1)\n",
      "Requirement already satisfied: importlib-metadata<7.0,>=1.4.0 in /opt/conda/lib/python3.8/site-packages (from sagemaker) (4.8.1)\n",
      "Requirement already satisfied: packaging>=20.0 in /opt/conda/lib/python3.8/site-packages (from sagemaker) (21.0)\n",
      "Requirement already satisfied: pandas in /opt/conda/lib/python3.8/site-packages (from sagemaker) (1.3.4)\n",
      "Requirement already satisfied: pathos in /opt/conda/lib/python3.8/site-packages (from sagemaker) (0.3.1)\n",
      "Requirement already satisfied: schema in /opt/conda/lib/python3.8/site-packages (from sagemaker) (0.7.5)\n",
      "Requirement already satisfied: PyYAML~=6.0 in /opt/conda/lib/python3.8/site-packages (from sagemaker) (6.0)\n",
      "Requirement already satisfied: jsonschema in /opt/conda/lib/python3.8/site-packages (from sagemaker) (4.20.0)\n",
      "Requirement already satisfied: platformdirs in /opt/conda/lib/python3.8/site-packages (from sagemaker) (4.1.0)\n",
      "Requirement already satisfied: tblib<4,>=1.7.0 in /opt/conda/lib/python3.8/site-packages (from sagemaker) (1.7.0)\n",
      "Requirement already satisfied: urllib3<3.0.0,>=1.26.8 in /opt/conda/lib/python3.8/site-packages (from sagemaker) (1.26.18)\n",
      "Requirement already satisfied: requests in /opt/conda/lib/python3.8/site-packages (from sagemaker) (2.31.0)\n",
      "Requirement already satisfied: docker in /opt/conda/lib/python3.8/site-packages (from sagemaker) (6.1.3)\n",
      "Requirement already satisfied: tqdm in /opt/conda/lib/python3.8/site-packages (from sagemaker) (4.62.3)\n",
      "Requirement already satisfied: psutil in /opt/conda/lib/python3.8/site-packages (from sagemaker) (5.8.0)\n",
      "Requirement already satisfied: botocore<1.34.0,>=1.33.9 in /opt/conda/lib/python3.8/site-packages (from boto3<2.0,>=1.33.3->sagemaker) (1.33.9)\n",
      "Requirement already satisfied: jmespath<2.0.0,>=0.7.1 in /opt/conda/lib/python3.8/site-packages (from boto3<2.0,>=1.33.3->sagemaker) (1.0.1)\n",
      "Requirement already satisfied: s3transfer<0.9.0,>=0.8.2 in /opt/conda/lib/python3.8/site-packages (from boto3<2.0,>=1.33.3->sagemaker) (0.8.2)\n",
      "Requirement already satisfied: zipp>=0.5 in /opt/conda/lib/python3.8/site-packages (from importlib-metadata<7.0,>=1.4.0->sagemaker) (3.6.0)\n",
      "Requirement already satisfied: pyparsing>=2.0.2 in /opt/conda/lib/python3.8/site-packages (from packaging>=20.0->sagemaker) (3.0.4)\n",
      "Requirement already satisfied: websocket-client>=0.32.0 in /opt/conda/lib/python3.8/site-packages (from docker->sagemaker) (1.7.0)\n",
      "Requirement already satisfied: charset-normalizer<4,>=2 in /opt/conda/lib/python3.8/site-packages (from requests->sagemaker) (2.0.4)\n",
      "Requirement already satisfied: idna<4,>=2.5 in /opt/conda/lib/python3.8/site-packages (from requests->sagemaker) (3.2)\n",
      "Requirement already satisfied: certifi>=2017.4.17 in /opt/conda/lib/python3.8/site-packages (from requests->sagemaker) (2023.11.17)\n",
      "Requirement already satisfied: six in /opt/conda/lib/python3.8/site-packages (from google-pasta->sagemaker) (1.16.0)\n",
      "Requirement already satisfied: importlib-resources>=1.4.0 in /opt/conda/lib/python3.8/site-packages (from jsonschema->sagemaker) (6.1.1)\n",
      "Requirement already satisfied: jsonschema-specifications>=2023.03.6 in /opt/conda/lib/python3.8/site-packages (from jsonschema->sagemaker) (2023.11.2)\n",
      "Requirement already satisfied: pkgutil-resolve-name>=1.3.10 in /opt/conda/lib/python3.8/site-packages (from jsonschema->sagemaker) (1.3.10)\n",
      "Requirement already satisfied: referencing>=0.28.4 in /opt/conda/lib/python3.8/site-packages (from jsonschema->sagemaker) (0.31.1)\n",
      "Requirement already satisfied: rpds-py>=0.7.1 in /opt/conda/lib/python3.8/site-packages (from jsonschema->sagemaker) (0.13.2)\n",
      "Requirement already satisfied: python-dateutil>=2.7.3 in /opt/conda/lib/python3.8/site-packages (from pandas->sagemaker) (2.8.2)\n",
      "Requirement already satisfied: pytz>=2017.3 in /opt/conda/lib/python3.8/site-packages (from pandas->sagemaker) (2021.3)\n",
      "Requirement already satisfied: ppft>=1.7.6.7 in /opt/conda/lib/python3.8/site-packages (from pathos->sagemaker) (1.7.6.7)\n",
      "Requirement already satisfied: dill>=0.3.7 in /opt/conda/lib/python3.8/site-packages (from pathos->sagemaker) (0.3.7)\n",
      "Requirement already satisfied: pox>=0.3.3 in /opt/conda/lib/python3.8/site-packages (from pathos->sagemaker) (0.3.3)\n",
      "Requirement already satisfied: multiprocess>=0.70.15 in /opt/conda/lib/python3.8/site-packages (from pathos->sagemaker) (0.70.15)\n",
      "Requirement already satisfied: contextlib2>=0.5.5 in /opt/conda/lib/python3.8/site-packages (from schema->sagemaker) (0.6.0.post1)\n",
      "Using cached sagemaker-2.214.2-py3-none-any.whl (1.4 MB)\n",
      "\u001b[33mDEPRECATION: pyodbc 4.0.0-unsupported has a non-standard version number. pip 24.0 will enforce this behaviour change. A possible replacement is to upgrade to a newer version of pyodbc or contact the author to suggest that they release a version with a conforming version number. Discussion can be found at https://github.com/pypa/pip/issues/12063\u001b[0m\u001b[33m\n",
      "\u001b[0mInstalling collected packages: sagemaker\n",
      "  Attempting uninstall: sagemaker\n",
      "    Found existing installation: sagemaker 2.199.0\n",
      "    Uninstalling sagemaker-2.199.0:\n",
      "      Successfully uninstalled sagemaker-2.199.0\n",
      "Successfully installed sagemaker-2.214.2\n",
      "\u001b[33mWARNING: Running pip as the 'root' user can result in broken permissions and conflicting behaviour with the system package manager. It is recommended to use a virtual environment instead: https://pip.pypa.io/warnings/venv\u001b[0m\u001b[33m\n",
      "\u001b[0m\n",
      "\u001b[1m[\u001b[0m\u001b[34;49mnotice\u001b[0m\u001b[1;39;49m]\u001b[0m\u001b[39;49m A new release of pip is available: \u001b[0m\u001b[31;49m23.3.1\u001b[0m\u001b[39;49m -> \u001b[0m\u001b[32;49m24.0\u001b[0m\n",
      "\u001b[1m[\u001b[0m\u001b[34;49mnotice\u001b[0m\u001b[1;39;49m]\u001b[0m\u001b[39;49m To update, run: \u001b[0m\u001b[32;49mpip install --upgrade pip\u001b[0m\n"
     ]
    }
   ],
   "source": [
    "!pip install --upgrade sagemaker"
   ]
  },
  {
   "cell_type": "code",
   "execution_count": 56,
   "id": "01587fb2-f248-4e13-8136-67bc6312ad5d",
   "metadata": {
    "tags": []
   },
   "outputs": [
    {
     "name": "stdout",
     "output_type": "stream",
     "text": [
      "Collecting sagemaker==2.60.0\n",
      "  Using cached sagemaker-2.60.0-py2.py3-none-any.whl\n",
      "Requirement already satisfied: attrs in /opt/conda/lib/python3.8/site-packages (from sagemaker==2.60.0) (23.1.0)\n",
      "Requirement already satisfied: boto3>=1.16.32 in /opt/conda/lib/python3.8/site-packages (from sagemaker==2.60.0) (1.33.9)\n",
      "Requirement already satisfied: google-pasta in /opt/conda/lib/python3.8/site-packages (from sagemaker==2.60.0) (0.2.0)\n",
      "Requirement already satisfied: numpy>=1.9.0 in /opt/conda/lib/python3.8/site-packages (from sagemaker==2.60.0) (1.24.4)\n",
      "Requirement already satisfied: protobuf>=3.1 in /opt/conda/lib/python3.8/site-packages (from sagemaker==2.60.0) (3.20.0)\n",
      "Collecting protobuf3-to-dict>=0.1.5 (from sagemaker==2.60.0)\n",
      "  Using cached protobuf3_to_dict-0.1.5-py3-none-any.whl\n",
      "Requirement already satisfied: smdebug-rulesconfig==1.0.1 in /opt/conda/lib/python3.8/site-packages (from sagemaker==2.60.0) (1.0.1)\n",
      "Requirement already satisfied: importlib-metadata>=1.4.0 in /opt/conda/lib/python3.8/site-packages (from sagemaker==2.60.0) (4.8.1)\n",
      "Requirement already satisfied: packaging>=20.0 in /opt/conda/lib/python3.8/site-packages (from sagemaker==2.60.0) (21.0)\n",
      "Requirement already satisfied: pandas in /opt/conda/lib/python3.8/site-packages (from sagemaker==2.60.0) (1.3.4)\n",
      "Requirement already satisfied: pathos in /opt/conda/lib/python3.8/site-packages (from sagemaker==2.60.0) (0.3.1)\n",
      "Requirement already satisfied: botocore<1.34.0,>=1.33.9 in /opt/conda/lib/python3.8/site-packages (from boto3>=1.16.32->sagemaker==2.60.0) (1.33.9)\n",
      "Requirement already satisfied: jmespath<2.0.0,>=0.7.1 in /opt/conda/lib/python3.8/site-packages (from boto3>=1.16.32->sagemaker==2.60.0) (1.0.1)\n",
      "Requirement already satisfied: s3transfer<0.9.0,>=0.8.2 in /opt/conda/lib/python3.8/site-packages (from boto3>=1.16.32->sagemaker==2.60.0) (0.8.2)\n",
      "Requirement already satisfied: zipp>=0.5 in /opt/conda/lib/python3.8/site-packages (from importlib-metadata>=1.4.0->sagemaker==2.60.0) (3.6.0)\n",
      "Requirement already satisfied: pyparsing>=2.0.2 in /opt/conda/lib/python3.8/site-packages (from packaging>=20.0->sagemaker==2.60.0) (3.0.4)\n",
      "Requirement already satisfied: six in /opt/conda/lib/python3.8/site-packages (from protobuf3-to-dict>=0.1.5->sagemaker==2.60.0) (1.16.0)\n",
      "Requirement already satisfied: python-dateutil>=2.7.3 in /opt/conda/lib/python3.8/site-packages (from pandas->sagemaker==2.60.0) (2.8.2)\n",
      "Requirement already satisfied: pytz>=2017.3 in /opt/conda/lib/python3.8/site-packages (from pandas->sagemaker==2.60.0) (2021.3)\n",
      "Requirement already satisfied: ppft>=1.7.6.7 in /opt/conda/lib/python3.8/site-packages (from pathos->sagemaker==2.60.0) (1.7.6.7)\n",
      "Requirement already satisfied: dill>=0.3.7 in /opt/conda/lib/python3.8/site-packages (from pathos->sagemaker==2.60.0) (0.3.7)\n",
      "Requirement already satisfied: pox>=0.3.3 in /opt/conda/lib/python3.8/site-packages (from pathos->sagemaker==2.60.0) (0.3.3)\n",
      "Requirement already satisfied: multiprocess>=0.70.15 in /opt/conda/lib/python3.8/site-packages (from pathos->sagemaker==2.60.0) (0.70.15)\n",
      "Requirement already satisfied: urllib3<1.27,>=1.25.4 in /opt/conda/lib/python3.8/site-packages (from botocore<1.34.0,>=1.33.9->boto3>=1.16.32->sagemaker==2.60.0) (1.26.18)\n",
      "\u001b[33mDEPRECATION: pyodbc 4.0.0-unsupported has a non-standard version number. pip 24.0 will enforce this behaviour change. A possible replacement is to upgrade to a newer version of pyodbc or contact the author to suggest that they release a version with a conforming version number. Discussion can be found at https://github.com/pypa/pip/issues/12063\u001b[0m\u001b[33m\n",
      "\u001b[0mInstalling collected packages: protobuf3-to-dict, sagemaker\n",
      "  Attempting uninstall: sagemaker\n",
      "    Found existing installation: sagemaker 2.214.2\n",
      "    Uninstalling sagemaker-2.214.2:\n",
      "      Successfully uninstalled sagemaker-2.214.2\n",
      "Successfully installed protobuf3-to-dict-0.1.5 sagemaker-2.60.0\n",
      "\u001b[33mWARNING: Running pip as the 'root' user can result in broken permissions and conflicting behaviour with the system package manager. It is recommended to use a virtual environment instead: https://pip.pypa.io/warnings/venv\u001b[0m\u001b[33m\n",
      "\u001b[0m\n",
      "\u001b[1m[\u001b[0m\u001b[34;49mnotice\u001b[0m\u001b[1;39;49m]\u001b[0m\u001b[39;49m A new release of pip is available: \u001b[0m\u001b[31;49m23.3.1\u001b[0m\u001b[39;49m -> \u001b[0m\u001b[32;49m24.0\u001b[0m\n",
      "\u001b[1m[\u001b[0m\u001b[34;49mnotice\u001b[0m\u001b[1;39;49m]\u001b[0m\u001b[39;49m To update, run: \u001b[0m\u001b[32;49mpip install --upgrade pip\u001b[0m\n"
     ]
    }
   ],
   "source": [
    "!pip install sagemaker==2.60.0"
   ]
  },
  {
   "cell_type": "code",
   "execution_count": 57,
   "id": "b5cd8911-2958-461c-a43e-9c947e05879a",
   "metadata": {
    "tags": []
   },
   "outputs": [
    {
     "name": "stdout",
     "output_type": "stream",
     "text": [
      "Train Proportion: 0.5999341997038987\n",
      "Test Proportion: 0.20003290014805067\n",
      "Validation Proportion: 0.20003290014805067\n"
     ]
    }
   ],
   "source": [
    "import json\n",
    "import boto3\n",
    "\n",
    "# Initialize Boto3 S3 client\n",
    "s3_client = boto3.client('s3')\n",
    "\n",
    "# Define the bucket name\n",
    "bucket_name = 'vpproject'\n",
    "\n",
    "# Define the file paths\n",
    "train_prop_file = 'train_prop.json'\n",
    "test_prop_file = 'test_prop.json'\n",
    "valid_prop_file = 'valid_prop.json'\n",
    "\n",
    "# Download the files from S3\n",
    "s3_client.download_file(bucket_name, train_prop_file, train_prop_file)\n",
    "s3_client.download_file(bucket_name, test_prop_file, test_prop_file)\n",
    "s3_client.download_file(bucket_name, valid_prop_file, valid_prop_file)\n",
    "\n",
    "# Load data from JSON files\n",
    "with open(train_prop_file, 'r') as f:\n",
    "    train_prop = json.load(f)\n",
    "\n",
    "with open(test_prop_file, 'r') as f:\n",
    "    test_prop = json.load(f)\n",
    "\n",
    "with open(valid_prop_file, 'r') as f:\n",
    "    valid_prop = json.load(f)\n",
    "\n",
    "# Print the loaded data\n",
    "print(\"Train Proportion:\", train_prop)\n",
    "print(\"Test Proportion:\", test_prop)\n",
    "print(\"Validation Proportion:\", valid_prop)"
   ]
  },
  {
   "cell_type": "markdown",
   "id": "6a1708f7-c730-483e-a6e0-5e4ad251f7da",
   "metadata": {},
   "source": [
    "## Linear Learner"
   ]
  },
  {
   "cell_type": "code",
   "execution_count": 58,
   "id": "6d42a61a-3b27-4f25-9414-931defe8a469",
   "metadata": {
    "tags": []
   },
   "outputs": [
    {
     "name": "stdout",
     "output_type": "stream",
     "text": [
      "sagemaker.config INFO - Not applying SDK defaults from location: /etc/xdg/sagemaker/config.yaml\n",
      "sagemaker.config INFO - Not applying SDK defaults from location: /root/.config/sagemaker/config.yaml\n",
      "sagemaker.config INFO - Not applying SDK defaults from location: /etc/xdg/sagemaker/config.yaml\n",
      "sagemaker.config INFO - Not applying SDK defaults from location: /root/.config/sagemaker/config.yaml\n",
      "Train Proportion: 0.5999341997038987\n",
      "Test Proportion: 0.20003290014805067\n",
      "Validation Proportion: 0.20003290014805067\n"
     ]
    }
   ],
   "source": [
    "import json\n",
    "import boto3\n",
    "import sagemaker\n",
    "from sagemaker import LinearLearner\n",
    "\n",
    "# Initialize Boto3 and SageMaker session\n",
    "s3_client = boto3.client('s3')\n",
    "sess = sagemaker.Session()\n",
    "role = sagemaker.get_execution_role()\n",
    "\n",
    "# Define S3 bucket and file paths\n",
    "bucket_name = 'vpproject'\n",
    "train_prop_file = 'train_prop.json'\n",
    "test_prop_file = 'test_prop.json'\n",
    "valid_prop_file = 'valid_prop.json'\n",
    "\n",
    "# Download the files from S3\n",
    "s3_client.download_file(bucket_name, train_prop_file, train_prop_file)\n",
    "s3_client.download_file(bucket_name, test_prop_file, test_prop_file)\n",
    "s3_client.download_file(bucket_name, valid_prop_file, valid_prop_file)\n",
    "\n",
    "# Load data from JSON files\n",
    "with open(train_prop_file, 'r') as f:\n",
    "    train_prop = json.load(f)\n",
    "\n",
    "with open(test_prop_file, 'r') as f:\n",
    "    test_prop = json.load(f)\n",
    "\n",
    "with open(valid_prop_file, 'r') as f:\n",
    "    valid_prop = json.load(f)\n",
    "\n",
    "# Print the loaded data\n",
    "print(\"Train Proportion:\", train_prop)\n",
    "print(\"Test Proportion:\", test_prop)\n",
    "print(\"Validation Proportion:\", valid_prop)\n",
    "\n",
    "# Define the Linear Learner estimator\n",
    "linear = LinearLearner(role=role,\n",
    "                       instance_count=1,\n",
    "                       instance_type='ml.m5.large',\n",
    "                       predictor_type='regressor',\n",
    "                       sagemaker_session=sess)\n",
    "\n",
    "# Train the model\n",
    "# Note: You may need to convert the data into a format suitable for Linear Learner\n",
    "# and provide the S3 URIs of your training and validation data.\n",
    "# Example: linear.fit({'train': s3_train_data, 'validation': s3_validation_data})\n"
   ]
  },
  {
   "cell_type": "markdown",
   "id": "fa46aad8-a390-4527-9fa0-50bdea64a542",
   "metadata": {},
   "source": [
    "## K-Means"
   ]
  },
  {
   "cell_type": "code",
   "execution_count": 59,
   "id": "aba6549a-229d-46d1-81ba-e2e3273c5acd",
   "metadata": {
    "tags": []
   },
   "outputs": [
    {
     "name": "stdout",
     "output_type": "stream",
     "text": [
      "sagemaker.config INFO - Not applying SDK defaults from location: /etc/xdg/sagemaker/config.yaml\n",
      "sagemaker.config INFO - Not applying SDK defaults from location: /root/.config/sagemaker/config.yaml\n",
      "sagemaker.config INFO - Not applying SDK defaults from location: /etc/xdg/sagemaker/config.yaml\n",
      "sagemaker.config INFO - Not applying SDK defaults from location: /root/.config/sagemaker/config.yaml\n",
      "Train Proportion: 0.5999341997038987\n",
      "Test Proportion: 0.20003290014805067\n",
      "Validation Proportion: 0.20003290014805067\n"
     ]
    }
   ],
   "source": [
    "import json\n",
    "import boto3\n",
    "import sagemaker\n",
    "from sagemaker import KMeans\n",
    "\n",
    "# Initialize Boto3 and SageMaker session\n",
    "s3_client = boto3.client('s3')\n",
    "sess = sagemaker.Session()\n",
    "role = sagemaker.get_execution_role()\n",
    "\n",
    "# Define S3 bucket and file paths\n",
    "bucket_name = 'vpproject'\n",
    "train_prop_file = 'train_prop.json'\n",
    "test_prop_file = 'test_prop.json'\n",
    "valid_prop_file = 'valid_prop.json'\n",
    "\n",
    "# Download the files from S3\n",
    "s3_client.download_file(bucket_name, train_prop_file, train_prop_file)\n",
    "s3_client.download_file(bucket_name, test_prop_file, test_prop_file)\n",
    "s3_client.download_file(bucket_name, valid_prop_file, valid_prop_file)\n",
    "\n",
    "# Load data from JSON files\n",
    "with open(train_prop_file, 'r') as f:\n",
    "    train_prop = json.load(f)\n",
    "\n",
    "with open(test_prop_file, 'r') as f:\n",
    "    test_prop = json.load(f)\n",
    "\n",
    "with open(valid_prop_file, 'r') as f:\n",
    "    valid_prop = json.load(f)\n",
    "\n",
    "# Print the loaded data\n",
    "print(\"Train Proportion:\", train_prop)\n",
    "print(\"Test Proportion:\", test_prop)\n",
    "print(\"Validation Proportion:\", valid_prop)\n",
    "\n",
    "# Define the K-Means estimator\n",
    "kmeans = KMeans(role=role,\n",
    "                instance_count=1,\n",
    "                instance_type='ml.m5.large',\n",
    "                k=5,  # Number of clusters\n",
    "                sagemaker_session=sess)\n",
    "\n",
    "# Train the model\n",
    "# Note: You may need to convert the data into a format suitable for K-Means\n",
    "# and provide the S3 URI of your training data.\n",
    "# Example: kmeans.fit({'train': s3_train_data})\n"
   ]
  },
  {
   "cell_type": "markdown",
   "id": "05b33cad-ce0b-4dea-8928-5f235ad00e9d",
   "metadata": {},
   "source": [
    "## Random Cut Forest (RCF)"
   ]
  },
  {
   "cell_type": "code",
   "execution_count": 60,
   "id": "edbcd9fa-9789-475c-bca5-92e248019313",
   "metadata": {
    "tags": []
   },
   "outputs": [
    {
     "name": "stdout",
     "output_type": "stream",
     "text": [
      "sagemaker.config INFO - Not applying SDK defaults from location: /etc/xdg/sagemaker/config.yaml\n",
      "sagemaker.config INFO - Not applying SDK defaults from location: /root/.config/sagemaker/config.yaml\n",
      "sagemaker.config INFO - Not applying SDK defaults from location: /etc/xdg/sagemaker/config.yaml\n",
      "sagemaker.config INFO - Not applying SDK defaults from location: /root/.config/sagemaker/config.yaml\n",
      "Train Proportion: 0.5999341997038987\n",
      "Test Proportion: 0.20003290014805067\n",
      "Validation Proportion: 0.20003290014805067\n"
     ]
    }
   ],
   "source": [
    "import json\n",
    "import boto3\n",
    "import sagemaker\n",
    "from sagemaker import RandomCutForest\n",
    "\n",
    "# Initialize Boto3 and SageMaker session\n",
    "s3_client = boto3.client('s3')\n",
    "sess = sagemaker.Session()\n",
    "role = sagemaker.get_execution_role()\n",
    "\n",
    "# Define S3 bucket and file paths\n",
    "bucket_name = 'vpproject'\n",
    "train_prop_file = 'train_prop.json'\n",
    "test_prop_file = 'test_prop.json'\n",
    "valid_prop_file = 'valid_prop.json'\n",
    "\n",
    "# Download the files from S3\n",
    "s3_client.download_file(bucket_name, train_prop_file, train_prop_file)\n",
    "s3_client.download_file(bucket_name, test_prop_file, test_prop_file)\n",
    "s3_client.download_file(bucket_name, valid_prop_file, valid_prop_file)\n",
    "\n",
    "# Load data from JSON files\n",
    "with open(train_prop_file, 'r') as f:\n",
    "    train_prop = json.load(f)\n",
    "\n",
    "with open(test_prop_file, 'r') as f:\n",
    "    test_prop = json.load(f)\n",
    "\n",
    "with open(valid_prop_file, 'r') as f:\n",
    "    valid_prop = json.load(f)\n",
    "\n",
    "# Print the loaded data\n",
    "print(\"Train Proportion:\", train_prop)\n",
    "print(\"Test Proportion:\", test_prop)\n",
    "print(\"Validation Proportion:\", valid_prop)\n",
    "\n",
    "# Define the Random Cut Forest (RCF) estimator\n",
    "rcf = RandomCutForest(role=role,\n",
    "                      instance_count=1,\n",
    "                      instance_type='ml.m5.large',\n",
    "                      num_samples_per_tree=100,\n",
    "                      num_trees=50,\n",
    "                      sagemaker_session=sess)\n",
    "\n",
    "# Train the model\n",
    "# Note: You may need to convert the data into a format suitable for Random Cut Forest (RCF)\n",
    "# and provide the S3 URI of your training data.\n",
    "# Example: rcf.fit({'train': s3_train_data})\n"
   ]
  },
  {
   "cell_type": "markdown",
   "id": "ce1e8837-1eb2-4abd-9191-2e93c96360a5",
   "metadata": {},
   "source": [
    "## Standardize numerical variables"
   ]
  },
  {
   "cell_type": "code",
   "execution_count": 61,
   "id": "f4208389-be8a-4a58-b31a-157e54b91db4",
   "metadata": {
    "tags": []
   },
   "outputs": [],
   "source": [
    "from sklearn.preprocessing import MinMaxScaler\n",
    "\n",
    "# Initialize MinMaxScaler\n",
    "scaler = MinMaxScaler()\n",
    "\n",
    "# Fit and transform the training set\n",
    "X_train_scaled = scaler.fit_transform(X_train)\n",
    "\n",
    "# Transform validation and test sets using the same scaler\n",
    "X_valid_scaled = scaler.transform(X_valid)\n",
    "X_test_scaled = scaler.transform(X_test)\n",
    "\n",
    "# Convert the scaled arrays back to DataFrames\n",
    "X_train = pd.DataFrame(X_train_scaled, columns=predictors)\n",
    "X_valid = pd.DataFrame(X_valid_scaled, columns=predictors)\n",
    "X_test = pd.DataFrame(X_test_scaled, columns=predictors)\n"
   ]
  },
  {
   "cell_type": "markdown",
   "id": "ba009721-9302-4b19-9b46-813be50ea51b",
   "metadata": {},
   "source": [
    "## Transfer the training, test and validation data to the s3 bucket"
   ]
  },
  {
   "cell_type": "code",
   "execution_count": 62,
   "id": "3cc60c8a-8aa8-406e-862f-b745d5bbf6aa",
   "metadata": {
    "tags": []
   },
   "outputs": [],
   "source": [
    "# Function to upload training, test and validation data to s3 bucket\n",
    "\n",
    "def upload_df_to_s3(df, bucket_name, s3_key):\n",
    "    csv_buffer = StringIO()\n",
    "    df.to_csv(csv_buffer, index=False, header=False)\n",
    "    s3_resource = boto3.resource('s3')\n",
    "    try:\n",
    "        s3_resource.Object(bucket_name, s3_key).put(Body=csv_buffer.getvalue())\n",
    "        print(f\"Uploaded DataFrame to s3://{bucket_name}/{s3_key}\")\n",
    "    except Exception as e:\n",
    "        print(f\"Error uploading DataFrame to s3://{bucket_name}/{s3_key}: {e}\")"
   ]
  },
  {
   "cell_type": "code",
   "execution_count": 63,
   "id": "0199604a-033b-4f80-8d45-e242f370cc37",
   "metadata": {
    "tags": []
   },
   "outputs": [
    {
     "data": {
      "text/plain": [
       "{'Version': '2012-10-17',\n",
       " 'Statement': [{'Effect': 'Allow',\n",
       "   'Action': 's3:PutObject',\n",
       "   'Resource': 'arn:aws:s3:::vpproject/*'}]}"
      ]
     },
     "execution_count": 63,
     "metadata": {},
     "output_type": "execute_result"
    }
   ],
   "source": [
    "{\n",
    "    \"Version\": \"2012-10-17\",\n",
    "    \"Statement\": [\n",
    "        {\n",
    "            \"Effect\": \"Allow\",\n",
    "            \"Action\": \"s3:PutObject\",\n",
    "            \"Resource\": \"arn:aws:s3:::vpproject/*\"\n",
    "        }\n",
    "    ]\n",
    "}\n"
   ]
  },
  {
   "cell_type": "code",
   "execution_count": 64,
   "id": "d984354e-27c1-4c44-a15e-944496cbab0f",
   "metadata": {
    "tags": []
   },
   "outputs": [
    {
     "name": "stdout",
     "output_type": "stream",
     "text": [
      "Uploaded DataFrame to s3://vpproject/train_data/train_scaled.csv\n",
      "Uploaded DataFrame to s3://vpproject/test_data/test_scaled.csv\n",
      "Uploaded DataFrame to s3://vpproject/valid_data/valid_scaled.csv\n"
     ]
    }
   ],
   "source": [
    "from sklearn.preprocessing import MinMaxScaler\n",
    "\n",
    "# Initialize MinMaxScaler\n",
    "scaler = MinMaxScaler()\n",
    "\n",
    "# Fit scaler on training data and transform training, validation, and test data\n",
    "X_train_scaled = scaler.fit_transform(X_train)\n",
    "X_valid_scaled = scaler.transform(X_valid)\n",
    "X_test_scaled = scaler.transform(X_test)\n",
    "\n",
    "# Convert scaled data back to DataFrames\n",
    "X_train_scaled = pd.DataFrame(X_train_scaled, columns=X_train.columns)\n",
    "X_valid_scaled = pd.DataFrame(X_valid_scaled, columns=X_valid.columns)\n",
    "X_test_scaled = pd.DataFrame(X_test_scaled, columns=X_test.columns)\n",
    "\n",
    "# Define the S3 bucket name\n",
    "bucket_name = 'vpproject'\n",
    "\n",
    "# Define the S3 paths for uploading\n",
    "train_path = 'train_data/train_scaled.csv'\n",
    "test_path = 'test_data/test_scaled.csv'\n",
    "valid_path = 'valid_data/valid_scaled.csv'\n",
    "\n",
    "# Upload scaled DataFrames to S3\n",
    "upload_df_to_s3(X_train_scaled, bucket_name, train_path)\n",
    "upload_df_to_s3(X_test_scaled, bucket_name, test_path)\n",
    "upload_df_to_s3(X_valid_scaled, bucket_name, valid_path)"
   ]
  },
  {
   "cell_type": "code",
   "execution_count": 65,
   "id": "39cf139f-5d89-45ee-ab61-73878825cbf6",
   "metadata": {
    "tags": []
   },
   "outputs": [],
   "source": [
    "import sagemaker\n",
    "\n",
    "# Define the bucket name\n",
    "bucket_name = 'vpproject'\n",
    "\n",
    "# Define the S3 path for the training data\n",
    "s3_training_input = sagemaker.inputs.TrainingInput(s3_data='s3://{}/data_files/train_data'.format(bucket_name), content_type='csv')\n"
   ]
  },
  {
   "cell_type": "markdown",
   "id": "718d090c-894d-4aed-9496-46245e729269",
   "metadata": {
    "tags": []
   },
   "source": [
    "# Model Training"
   ]
  },
  {
   "cell_type": "markdown",
   "id": "9f662b65-719b-4d95-805c-cdc2b9e17cd9",
   "metadata": {},
   "source": [
    "## Train the model using Sagemaker built-in XGBoost Algorithm"
   ]
  },
  {
   "cell_type": "code",
   "execution_count": 66,
   "id": "06de092d-a014-4ba9-a8e7-1baeed661394",
   "metadata": {
    "tags": []
   },
   "outputs": [
    {
     "name": "stdout",
     "output_type": "stream",
     "text": [
      "sagemaker.config INFO - Not applying SDK defaults from location: /etc/xdg/sagemaker/config.yaml\n",
      "sagemaker.config INFO - Not applying SDK defaults from location: /root/.config/sagemaker/config.yaml\n",
      "sagemaker.config INFO - Not applying SDK defaults from location: /etc/xdg/sagemaker/config.yaml\n",
      "sagemaker.config INFO - Not applying SDK defaults from location: /root/.config/sagemaker/config.yaml\n"
     ]
    }
   ],
   "source": [
    "import sagemaker\n",
    "from sagemaker.xgboost.estimator import image_uris\n",
    "\n",
    "# Define the bucket name\n",
    "bucket_name = 'vpproject'\n",
    "\n",
    "# Retrieve the URI of the latest XGBoost container image\n",
    "xgboost_container = sagemaker.image_uris.retrieve(\"xgboost\", region, \"latest\")\n",
    "\n",
    "# Initialize the XGBoost estimator\n",
    "xgb = sagemaker.estimator.Estimator(image_uri=xgboost_container,\n",
    "                                    role=sagemaker.get_execution_role(),\n",
    "                                    instance_count=1,\n",
    "                                    instance_type='ml.m5.large',\n",
    "                                    output_path=f's3://{bucket_name}/output')\n"
   ]
  },
  {
   "cell_type": "code",
   "execution_count": 67,
   "id": "ceb79019-9c97-4788-99d3-54f5b3f46798",
   "metadata": {
    "tags": []
   },
   "outputs": [],
   "source": [
    "# Setting the hyperparameters\n",
    "xgb.set_hyperparameters(max_depth=5,     # Maximum depth of a tree\n",
    "                        eta=0.2,         # Learning rate\n",
    "                        gamma=4,         # Minimum loss reduction required to make a further partition on a leaf node\n",
    "                        min_child_weight=6,  # Minimum sum of instance weight needed in a child\n",
    "                        subsample=0.7,   # Subsample ratio of the training instance\n",
    "                        objective='reg:linear',  # Learning task and the corresponding objective function\n",
    "                        num_round=100)   # Number of boosting rounds\n"
   ]
  },
  {
   "cell_type": "code",
   "execution_count": 68,
   "id": "962cdc48-3eff-4aaf-a157-5f3abe460f8d",
   "metadata": {
    "tags": []
   },
   "outputs": [
    {
     "name": "stdout",
     "output_type": "stream",
     "text": [
      "Requirement already satisfied: sagemaker in /opt/conda/lib/python3.8/site-packages (2.60.0)\n",
      "Collecting sagemaker\n",
      "  Using cached sagemaker-2.214.2-py3-none-any.whl.metadata (14 kB)\n",
      "Requirement already satisfied: attrs<24,>=23.1.0 in /opt/conda/lib/python3.8/site-packages (from sagemaker) (23.1.0)\n",
      "Requirement already satisfied: boto3<2.0,>=1.33.3 in /opt/conda/lib/python3.8/site-packages (from sagemaker) (1.33.9)\n",
      "Requirement already satisfied: cloudpickle==2.2.1 in /opt/conda/lib/python3.8/site-packages (from sagemaker) (2.2.1)\n",
      "Requirement already satisfied: google-pasta in /opt/conda/lib/python3.8/site-packages (from sagemaker) (0.2.0)\n",
      "Requirement already satisfied: numpy<2.0,>=1.9.0 in /opt/conda/lib/python3.8/site-packages (from sagemaker) (1.24.4)\n",
      "Requirement already satisfied: protobuf<5.0,>=3.12 in /opt/conda/lib/python3.8/site-packages (from sagemaker) (3.20.0)\n",
      "Requirement already satisfied: smdebug-rulesconfig==1.0.1 in /opt/conda/lib/python3.8/site-packages (from sagemaker) (1.0.1)\n",
      "Requirement already satisfied: importlib-metadata<7.0,>=1.4.0 in /opt/conda/lib/python3.8/site-packages (from sagemaker) (4.8.1)\n",
      "Requirement already satisfied: packaging>=20.0 in /opt/conda/lib/python3.8/site-packages (from sagemaker) (21.0)\n",
      "Requirement already satisfied: pandas in /opt/conda/lib/python3.8/site-packages (from sagemaker) (1.3.4)\n",
      "Requirement already satisfied: pathos in /opt/conda/lib/python3.8/site-packages (from sagemaker) (0.3.1)\n",
      "Requirement already satisfied: schema in /opt/conda/lib/python3.8/site-packages (from sagemaker) (0.7.5)\n",
      "Requirement already satisfied: PyYAML~=6.0 in /opt/conda/lib/python3.8/site-packages (from sagemaker) (6.0)\n",
      "Requirement already satisfied: jsonschema in /opt/conda/lib/python3.8/site-packages (from sagemaker) (4.20.0)\n",
      "Requirement already satisfied: platformdirs in /opt/conda/lib/python3.8/site-packages (from sagemaker) (4.1.0)\n",
      "Requirement already satisfied: tblib<4,>=1.7.0 in /opt/conda/lib/python3.8/site-packages (from sagemaker) (1.7.0)\n",
      "Requirement already satisfied: urllib3<3.0.0,>=1.26.8 in /opt/conda/lib/python3.8/site-packages (from sagemaker) (1.26.18)\n",
      "Requirement already satisfied: requests in /opt/conda/lib/python3.8/site-packages (from sagemaker) (2.31.0)\n",
      "Requirement already satisfied: docker in /opt/conda/lib/python3.8/site-packages (from sagemaker) (6.1.3)\n",
      "Requirement already satisfied: tqdm in /opt/conda/lib/python3.8/site-packages (from sagemaker) (4.62.3)\n",
      "Requirement already satisfied: psutil in /opt/conda/lib/python3.8/site-packages (from sagemaker) (5.8.0)\n",
      "Requirement already satisfied: botocore<1.34.0,>=1.33.9 in /opt/conda/lib/python3.8/site-packages (from boto3<2.0,>=1.33.3->sagemaker) (1.33.9)\n",
      "Requirement already satisfied: jmespath<2.0.0,>=0.7.1 in /opt/conda/lib/python3.8/site-packages (from boto3<2.0,>=1.33.3->sagemaker) (1.0.1)\n",
      "Requirement already satisfied: s3transfer<0.9.0,>=0.8.2 in /opt/conda/lib/python3.8/site-packages (from boto3<2.0,>=1.33.3->sagemaker) (0.8.2)\n",
      "Requirement already satisfied: zipp>=0.5 in /opt/conda/lib/python3.8/site-packages (from importlib-metadata<7.0,>=1.4.0->sagemaker) (3.6.0)\n",
      "Requirement already satisfied: pyparsing>=2.0.2 in /opt/conda/lib/python3.8/site-packages (from packaging>=20.0->sagemaker) (3.0.4)\n",
      "Requirement already satisfied: websocket-client>=0.32.0 in /opt/conda/lib/python3.8/site-packages (from docker->sagemaker) (1.7.0)\n",
      "Requirement already satisfied: charset-normalizer<4,>=2 in /opt/conda/lib/python3.8/site-packages (from requests->sagemaker) (2.0.4)\n",
      "Requirement already satisfied: idna<4,>=2.5 in /opt/conda/lib/python3.8/site-packages (from requests->sagemaker) (3.2)\n",
      "Requirement already satisfied: certifi>=2017.4.17 in /opt/conda/lib/python3.8/site-packages (from requests->sagemaker) (2023.11.17)\n",
      "Requirement already satisfied: six in /opt/conda/lib/python3.8/site-packages (from google-pasta->sagemaker) (1.16.0)\n",
      "Requirement already satisfied: importlib-resources>=1.4.0 in /opt/conda/lib/python3.8/site-packages (from jsonschema->sagemaker) (6.1.1)\n",
      "Requirement already satisfied: jsonschema-specifications>=2023.03.6 in /opt/conda/lib/python3.8/site-packages (from jsonschema->sagemaker) (2023.11.2)\n",
      "Requirement already satisfied: pkgutil-resolve-name>=1.3.10 in /opt/conda/lib/python3.8/site-packages (from jsonschema->sagemaker) (1.3.10)\n",
      "Requirement already satisfied: referencing>=0.28.4 in /opt/conda/lib/python3.8/site-packages (from jsonschema->sagemaker) (0.31.1)\n",
      "Requirement already satisfied: rpds-py>=0.7.1 in /opt/conda/lib/python3.8/site-packages (from jsonschema->sagemaker) (0.13.2)\n",
      "Requirement already satisfied: python-dateutil>=2.7.3 in /opt/conda/lib/python3.8/site-packages (from pandas->sagemaker) (2.8.2)\n",
      "Requirement already satisfied: pytz>=2017.3 in /opt/conda/lib/python3.8/site-packages (from pandas->sagemaker) (2021.3)\n",
      "Requirement already satisfied: ppft>=1.7.6.7 in /opt/conda/lib/python3.8/site-packages (from pathos->sagemaker) (1.7.6.7)\n",
      "Requirement already satisfied: dill>=0.3.7 in /opt/conda/lib/python3.8/site-packages (from pathos->sagemaker) (0.3.7)\n",
      "Requirement already satisfied: pox>=0.3.3 in /opt/conda/lib/python3.8/site-packages (from pathos->sagemaker) (0.3.3)\n",
      "Requirement already satisfied: multiprocess>=0.70.15 in /opt/conda/lib/python3.8/site-packages (from pathos->sagemaker) (0.70.15)\n",
      "Requirement already satisfied: contextlib2>=0.5.5 in /opt/conda/lib/python3.8/site-packages (from schema->sagemaker) (0.6.0.post1)\n",
      "Using cached sagemaker-2.214.2-py3-none-any.whl (1.4 MB)\n",
      "\u001b[33mDEPRECATION: pyodbc 4.0.0-unsupported has a non-standard version number. pip 24.0 will enforce this behaviour change. A possible replacement is to upgrade to a newer version of pyodbc or contact the author to suggest that they release a version with a conforming version number. Discussion can be found at https://github.com/pypa/pip/issues/12063\u001b[0m\u001b[33m\n",
      "\u001b[0mInstalling collected packages: sagemaker\n",
      "  Attempting uninstall: sagemaker\n",
      "    Found existing installation: sagemaker 2.60.0\n",
      "    Uninstalling sagemaker-2.60.0:\n",
      "      Successfully uninstalled sagemaker-2.60.0\n",
      "Successfully installed sagemaker-2.214.2\n",
      "\u001b[33mWARNING: Running pip as the 'root' user can result in broken permissions and conflicting behaviour with the system package manager. It is recommended to use a virtual environment instead: https://pip.pypa.io/warnings/venv\u001b[0m\u001b[33m\n",
      "\u001b[0m\n",
      "\u001b[1m[\u001b[0m\u001b[34;49mnotice\u001b[0m\u001b[1;39;49m]\u001b[0m\u001b[39;49m A new release of pip is available: \u001b[0m\u001b[31;49m23.3.1\u001b[0m\u001b[39;49m -> \u001b[0m\u001b[32;49m24.0\u001b[0m\n",
      "\u001b[1m[\u001b[0m\u001b[34;49mnotice\u001b[0m\u001b[1;39;49m]\u001b[0m\u001b[39;49m To update, run: \u001b[0m\u001b[32;49mpip install --upgrade pip\u001b[0m\n",
      "Note: you may need to restart the kernel to use updated packages.\n"
     ]
    }
   ],
   "source": [
    "pip install --upgrade sagemaker"
   ]
  },
  {
   "cell_type": "code",
   "execution_count": 69,
   "id": "7c0f615b-6e88-4d86-a88e-eefd1038fb14",
   "metadata": {
    "tags": []
   },
   "outputs": [
    {
     "name": "stdout",
     "output_type": "stream",
     "text": [
      "Requirement already satisfied: sagemaker in /opt/conda/lib/python3.8/site-packages (2.214.2)\n",
      "Collecting experiments\n",
      "  Using cached experiments-0.1.0-py3-none-any.whl.metadata (3.1 kB)\n",
      "Requirement already satisfied: attrs<24,>=23.1.0 in /opt/conda/lib/python3.8/site-packages (from sagemaker) (23.1.0)\n",
      "Requirement already satisfied: boto3<2.0,>=1.33.3 in /opt/conda/lib/python3.8/site-packages (from sagemaker) (1.33.9)\n",
      "Requirement already satisfied: cloudpickle==2.2.1 in /opt/conda/lib/python3.8/site-packages (from sagemaker) (2.2.1)\n",
      "Requirement already satisfied: google-pasta in /opt/conda/lib/python3.8/site-packages (from sagemaker) (0.2.0)\n",
      "Requirement already satisfied: numpy<2.0,>=1.9.0 in /opt/conda/lib/python3.8/site-packages (from sagemaker) (1.24.4)\n",
      "Requirement already satisfied: protobuf<5.0,>=3.12 in /opt/conda/lib/python3.8/site-packages (from sagemaker) (3.20.0)\n",
      "Requirement already satisfied: smdebug-rulesconfig==1.0.1 in /opt/conda/lib/python3.8/site-packages (from sagemaker) (1.0.1)\n",
      "Requirement already satisfied: importlib-metadata<7.0,>=1.4.0 in /opt/conda/lib/python3.8/site-packages (from sagemaker) (4.8.1)\n",
      "Requirement already satisfied: packaging>=20.0 in /opt/conda/lib/python3.8/site-packages (from sagemaker) (21.0)\n",
      "Requirement already satisfied: pandas in /opt/conda/lib/python3.8/site-packages (from sagemaker) (1.3.4)\n",
      "Requirement already satisfied: pathos in /opt/conda/lib/python3.8/site-packages (from sagemaker) (0.3.1)\n",
      "Requirement already satisfied: schema in /opt/conda/lib/python3.8/site-packages (from sagemaker) (0.7.5)\n",
      "Requirement already satisfied: PyYAML~=6.0 in /opt/conda/lib/python3.8/site-packages (from sagemaker) (6.0)\n",
      "Requirement already satisfied: jsonschema in /opt/conda/lib/python3.8/site-packages (from sagemaker) (4.20.0)\n",
      "Requirement already satisfied: platformdirs in /opt/conda/lib/python3.8/site-packages (from sagemaker) (4.1.0)\n",
      "Requirement already satisfied: tblib<4,>=1.7.0 in /opt/conda/lib/python3.8/site-packages (from sagemaker) (1.7.0)\n",
      "Requirement already satisfied: urllib3<3.0.0,>=1.26.8 in /opt/conda/lib/python3.8/site-packages (from sagemaker) (1.26.18)\n",
      "Requirement already satisfied: requests in /opt/conda/lib/python3.8/site-packages (from sagemaker) (2.31.0)\n",
      "Requirement already satisfied: docker in /opt/conda/lib/python3.8/site-packages (from sagemaker) (6.1.3)\n",
      "Requirement already satisfied: tqdm in /opt/conda/lib/python3.8/site-packages (from sagemaker) (4.62.3)\n",
      "Requirement already satisfied: psutil in /opt/conda/lib/python3.8/site-packages (from sagemaker) (5.8.0)\n",
      "Collecting docopt (from experiments)\n",
      "  Using cached docopt-0.6.2-py2.py3-none-any.whl\n",
      "Collecting kubernetes (from experiments)\n",
      "  Using cached kubernetes-29.0.0-py2.py3-none-any.whl.metadata (1.5 kB)\n",
      "Requirement already satisfied: botocore<1.34.0,>=1.33.9 in /opt/conda/lib/python3.8/site-packages (from boto3<2.0,>=1.33.3->sagemaker) (1.33.9)\n",
      "Requirement already satisfied: jmespath<2.0.0,>=0.7.1 in /opt/conda/lib/python3.8/site-packages (from boto3<2.0,>=1.33.3->sagemaker) (1.0.1)\n",
      "Requirement already satisfied: s3transfer<0.9.0,>=0.8.2 in /opt/conda/lib/python3.8/site-packages (from boto3<2.0,>=1.33.3->sagemaker) (0.8.2)\n",
      "Requirement already satisfied: zipp>=0.5 in /opt/conda/lib/python3.8/site-packages (from importlib-metadata<7.0,>=1.4.0->sagemaker) (3.6.0)\n",
      "Requirement already satisfied: pyparsing>=2.0.2 in /opt/conda/lib/python3.8/site-packages (from packaging>=20.0->sagemaker) (3.0.4)\n",
      "Requirement already satisfied: websocket-client>=0.32.0 in /opt/conda/lib/python3.8/site-packages (from docker->sagemaker) (1.7.0)\n",
      "Requirement already satisfied: charset-normalizer<4,>=2 in /opt/conda/lib/python3.8/site-packages (from requests->sagemaker) (2.0.4)\n",
      "Requirement already satisfied: idna<4,>=2.5 in /opt/conda/lib/python3.8/site-packages (from requests->sagemaker) (3.2)\n",
      "Requirement already satisfied: certifi>=2017.4.17 in /opt/conda/lib/python3.8/site-packages (from requests->sagemaker) (2023.11.17)\n",
      "Requirement already satisfied: six in /opt/conda/lib/python3.8/site-packages (from google-pasta->sagemaker) (1.16.0)\n",
      "Requirement already satisfied: importlib-resources>=1.4.0 in /opt/conda/lib/python3.8/site-packages (from jsonschema->sagemaker) (6.1.1)\n",
      "Requirement already satisfied: jsonschema-specifications>=2023.03.6 in /opt/conda/lib/python3.8/site-packages (from jsonschema->sagemaker) (2023.11.2)\n",
      "Requirement already satisfied: pkgutil-resolve-name>=1.3.10 in /opt/conda/lib/python3.8/site-packages (from jsonschema->sagemaker) (1.3.10)\n",
      "Requirement already satisfied: referencing>=0.28.4 in /opt/conda/lib/python3.8/site-packages (from jsonschema->sagemaker) (0.31.1)\n",
      "Requirement already satisfied: rpds-py>=0.7.1 in /opt/conda/lib/python3.8/site-packages (from jsonschema->sagemaker) (0.13.2)\n",
      "Requirement already satisfied: python-dateutil>=2.5.3 in /opt/conda/lib/python3.8/site-packages (from kubernetes->experiments) (2.8.2)\n",
      "Collecting google-auth>=1.0.1 (from kubernetes->experiments)\n",
      "  Using cached google_auth-2.29.0-py2.py3-none-any.whl.metadata (4.7 kB)\n",
      "Collecting requests-oauthlib (from kubernetes->experiments)\n",
      "  Using cached requests_oauthlib-2.0.0-py2.py3-none-any.whl.metadata (11 kB)\n",
      "Collecting oauthlib>=3.2.2 (from kubernetes->experiments)\n",
      "  Using cached oauthlib-3.2.2-py3-none-any.whl.metadata (7.5 kB)\n",
      "Requirement already satisfied: pytz>=2017.3 in /opt/conda/lib/python3.8/site-packages (from pandas->sagemaker) (2021.3)\n",
      "Requirement already satisfied: ppft>=1.7.6.7 in /opt/conda/lib/python3.8/site-packages (from pathos->sagemaker) (1.7.6.7)\n",
      "Requirement already satisfied: dill>=0.3.7 in /opt/conda/lib/python3.8/site-packages (from pathos->sagemaker) (0.3.7)\n",
      "Requirement already satisfied: pox>=0.3.3 in /opt/conda/lib/python3.8/site-packages (from pathos->sagemaker) (0.3.3)\n",
      "Requirement already satisfied: multiprocess>=0.70.15 in /opt/conda/lib/python3.8/site-packages (from pathos->sagemaker) (0.70.15)\n",
      "Requirement already satisfied: contextlib2>=0.5.5 in /opt/conda/lib/python3.8/site-packages (from schema->sagemaker) (0.6.0.post1)\n",
      "Collecting cachetools<6.0,>=2.0.0 (from google-auth>=1.0.1->kubernetes->experiments)\n",
      "  Using cached cachetools-5.3.3-py3-none-any.whl.metadata (5.3 kB)\n",
      "Collecting pyasn1-modules>=0.2.1 (from google-auth>=1.0.1->kubernetes->experiments)\n",
      "  Using cached pyasn1_modules-0.4.0-py3-none-any.whl.metadata (3.4 kB)\n",
      "Requirement already satisfied: rsa<5,>=3.1.4 in /opt/conda/lib/python3.8/site-packages (from google-auth>=1.0.1->kubernetes->experiments) (4.7.2)\n",
      "Requirement already satisfied: pyasn1<0.7.0,>=0.4.6 in /opt/conda/lib/python3.8/site-packages (from pyasn1-modules>=0.2.1->google-auth>=1.0.1->kubernetes->experiments) (0.5.1)\n",
      "Using cached experiments-0.1.0-py3-none-any.whl (5.2 kB)\n",
      "Using cached kubernetes-29.0.0-py2.py3-none-any.whl (1.6 MB)\n",
      "Using cached google_auth-2.29.0-py2.py3-none-any.whl (189 kB)\n",
      "Using cached oauthlib-3.2.2-py3-none-any.whl (151 kB)\n",
      "Using cached requests_oauthlib-2.0.0-py2.py3-none-any.whl (24 kB)\n",
      "Using cached cachetools-5.3.3-py3-none-any.whl (9.3 kB)\n",
      "Using cached pyasn1_modules-0.4.0-py3-none-any.whl (181 kB)\n",
      "\u001b[33mDEPRECATION: pyodbc 4.0.0-unsupported has a non-standard version number. pip 24.0 will enforce this behaviour change. A possible replacement is to upgrade to a newer version of pyodbc or contact the author to suggest that they release a version with a conforming version number. Discussion can be found at https://github.com/pypa/pip/issues/12063\u001b[0m\u001b[33m\n",
      "\u001b[0mInstalling collected packages: docopt, pyasn1-modules, oauthlib, cachetools, requests-oauthlib, google-auth, kubernetes, experiments\n",
      "Successfully installed cachetools-5.3.3 docopt-0.6.2 experiments-0.1.0 google-auth-2.29.0 kubernetes-29.0.0 oauthlib-3.2.2 pyasn1-modules-0.4.0 requests-oauthlib-2.0.0\n",
      "\u001b[33mWARNING: Running pip as the 'root' user can result in broken permissions and conflicting behaviour with the system package manager. It is recommended to use a virtual environment instead: https://pip.pypa.io/warnings/venv\u001b[0m\u001b[33m\n",
      "\u001b[0m\n",
      "\u001b[1m[\u001b[0m\u001b[34;49mnotice\u001b[0m\u001b[1;39;49m]\u001b[0m\u001b[39;49m A new release of pip is available: \u001b[0m\u001b[31;49m23.3.1\u001b[0m\u001b[39;49m -> \u001b[0m\u001b[32;49m24.0\u001b[0m\n",
      "\u001b[1m[\u001b[0m\u001b[34;49mnotice\u001b[0m\u001b[1;39;49m]\u001b[0m\u001b[39;49m To update, run: \u001b[0m\u001b[32;49mpip install --upgrade pip\u001b[0m\n",
      "Note: you may need to restart the kernel to use updated packages.\n"
     ]
    }
   ],
   "source": [
    "pip install sagemaker experiments"
   ]
  },
  {
   "cell_type": "code",
   "execution_count": 70,
   "id": "277769cb-7431-4c6b-b4ab-f0db3c3f7bfc",
   "metadata": {
    "tags": []
   },
   "outputs": [
    {
     "name": "stdout",
     "output_type": "stream",
     "text": [
      "Collecting sagemaker==1.72.0\n",
      "  Using cached sagemaker-1.72.0-py2.py3-none-any.whl\n",
      "Requirement already satisfied: boto3>=1.14.12 in /opt/conda/lib/python3.8/site-packages (from sagemaker==1.72.0) (1.33.9)\n",
      "Requirement already satisfied: numpy>=1.9.0 in /opt/conda/lib/python3.8/site-packages (from sagemaker==1.72.0) (1.24.4)\n",
      "Requirement already satisfied: protobuf>=3.1 in /opt/conda/lib/python3.8/site-packages (from sagemaker==1.72.0) (3.20.0)\n",
      "Requirement already satisfied: scipy>=0.19.0 in /opt/conda/lib/python3.8/site-packages (from sagemaker==1.72.0) (1.10.1)\n",
      "Requirement already satisfied: protobuf3-to-dict>=0.1.5 in /opt/conda/lib/python3.8/site-packages (from sagemaker==1.72.0) (0.1.5)\n",
      "Collecting smdebug-rulesconfig==0.1.4 (from sagemaker==1.72.0)\n",
      "  Using cached smdebug_rulesconfig-0.1.4-py2.py3-none-any.whl.metadata (943 bytes)\n",
      "Requirement already satisfied: importlib-metadata>=1.4.0 in /opt/conda/lib/python3.8/site-packages (from sagemaker==1.72.0) (4.8.1)\n",
      "Requirement already satisfied: packaging>=20.0 in /opt/conda/lib/python3.8/site-packages (from sagemaker==1.72.0) (21.0)\n",
      "Requirement already satisfied: botocore<1.34.0,>=1.33.9 in /opt/conda/lib/python3.8/site-packages (from boto3>=1.14.12->sagemaker==1.72.0) (1.33.9)\n",
      "Requirement already satisfied: jmespath<2.0.0,>=0.7.1 in /opt/conda/lib/python3.8/site-packages (from boto3>=1.14.12->sagemaker==1.72.0) (1.0.1)\n",
      "Requirement already satisfied: s3transfer<0.9.0,>=0.8.2 in /opt/conda/lib/python3.8/site-packages (from boto3>=1.14.12->sagemaker==1.72.0) (0.8.2)\n",
      "Requirement already satisfied: zipp>=0.5 in /opt/conda/lib/python3.8/site-packages (from importlib-metadata>=1.4.0->sagemaker==1.72.0) (3.6.0)\n",
      "Requirement already satisfied: pyparsing>=2.0.2 in /opt/conda/lib/python3.8/site-packages (from packaging>=20.0->sagemaker==1.72.0) (3.0.4)\n",
      "Requirement already satisfied: six in /opt/conda/lib/python3.8/site-packages (from protobuf3-to-dict>=0.1.5->sagemaker==1.72.0) (1.16.0)\n",
      "Requirement already satisfied: python-dateutil<3.0.0,>=2.1 in /opt/conda/lib/python3.8/site-packages (from botocore<1.34.0,>=1.33.9->boto3>=1.14.12->sagemaker==1.72.0) (2.8.2)\n",
      "Requirement already satisfied: urllib3<1.27,>=1.25.4 in /opt/conda/lib/python3.8/site-packages (from botocore<1.34.0,>=1.33.9->boto3>=1.14.12->sagemaker==1.72.0) (1.26.18)\n",
      "Using cached smdebug_rulesconfig-0.1.4-py2.py3-none-any.whl (10 kB)\n",
      "\u001b[33mDEPRECATION: pyodbc 4.0.0-unsupported has a non-standard version number. pip 24.0 will enforce this behaviour change. A possible replacement is to upgrade to a newer version of pyodbc or contact the author to suggest that they release a version with a conforming version number. Discussion can be found at https://github.com/pypa/pip/issues/12063\u001b[0m\u001b[33m\n",
      "\u001b[0mInstalling collected packages: smdebug-rulesconfig, sagemaker\n",
      "  Attempting uninstall: smdebug-rulesconfig\n",
      "    Found existing installation: smdebug-rulesconfig 1.0.1\n",
      "    Uninstalling smdebug-rulesconfig-1.0.1:\n",
      "      Successfully uninstalled smdebug-rulesconfig-1.0.1\n",
      "  Attempting uninstall: sagemaker\n",
      "    Found existing installation: sagemaker 2.214.2\n",
      "    Uninstalling sagemaker-2.214.2:\n",
      "      Successfully uninstalled sagemaker-2.214.2\n",
      "Successfully installed sagemaker-1.72.0 smdebug-rulesconfig-0.1.4\n",
      "\u001b[33mWARNING: Running pip as the 'root' user can result in broken permissions and conflicting behaviour with the system package manager. It is recommended to use a virtual environment instead: https://pip.pypa.io/warnings/venv\u001b[0m\u001b[33m\n",
      "\u001b[0m\n",
      "\u001b[1m[\u001b[0m\u001b[34;49mnotice\u001b[0m\u001b[1;39;49m]\u001b[0m\u001b[39;49m A new release of pip is available: \u001b[0m\u001b[31;49m23.3.1\u001b[0m\u001b[39;49m -> \u001b[0m\u001b[32;49m24.0\u001b[0m\n",
      "\u001b[1m[\u001b[0m\u001b[34;49mnotice\u001b[0m\u001b[1;39;49m]\u001b[0m\u001b[39;49m To update, run: \u001b[0m\u001b[32;49mpip install --upgrade pip\u001b[0m\n",
      "Note: you may need to restart the kernel to use updated packages.\n"
     ]
    }
   ],
   "source": [
    "pip install sagemaker==1.72.0"
   ]
  },
  {
   "cell_type": "code",
   "execution_count": 71,
   "id": "48ace474-6e1f-492d-ade7-e3449a20a76d",
   "metadata": {
    "tags": []
   },
   "outputs": [
    {
     "name": "stdout",
     "output_type": "stream",
     "text": [
      "sagemaker.config INFO - Not applying SDK defaults from location: /etc/xdg/sagemaker/config.yaml\n",
      "sagemaker.config INFO - Not applying SDK defaults from location: /root/.config/sagemaker/config.yaml\n",
      "sagemaker.config INFO - Not applying SDK defaults from location: /etc/xdg/sagemaker/config.yaml\n",
      "sagemaker.config INFO - Not applying SDK defaults from location: /root/.config/sagemaker/config.yaml\n",
      "Unexpected exception formatting exception. Falling back to standard exception\n"
     ]
    },
    {
     "name": "stderr",
     "output_type": "stream",
     "text": [
      "Traceback (most recent call last):\n",
      "  File \"/opt/conda/lib/python3.8/site-packages/IPython/core/interactiveshell.py\", line 3508, in run_code\n",
      "    exec(code_obj, self.user_global_ns, self.user_ns)\n",
      "  File \"/tmp/ipykernel_18/4204787060.py\", line 39, in <module>\n",
      "    xgb.fit({'train': train_input})\n",
      "  File \"/opt/conda/lib/python3.8/site-packages/sagemaker/workflow/pipeline_context.py\", line 346, in wrapper\n",
      "  File \"/opt/conda/lib/python3.8/site-packages/sagemaker/estimator.py\", line 1318, in fit\n",
      "    output_path,\n",
      "  File \"/opt/conda/lib/python3.8/site-packages/sagemaker/utils.py\", line 1052, in check_and_get_run_experiment_config\n",
      "ModuleNotFoundError: No module named 'sagemaker.experiments'\n",
      "\n",
      "During handling of the above exception, another exception occurred:\n",
      "\n",
      "Traceback (most recent call last):\n",
      "  File \"/opt/conda/lib/python3.8/site-packages/IPython/core/interactiveshell.py\", line 2105, in showtraceback\n",
      "    stb = self.InteractiveTB.structured_traceback(\n",
      "  File \"/opt/conda/lib/python3.8/site-packages/IPython/core/ultratb.py\", line 1396, in structured_traceback\n",
      "    return FormattedTB.structured_traceback(\n",
      "  File \"/opt/conda/lib/python3.8/site-packages/IPython/core/ultratb.py\", line 1287, in structured_traceback\n",
      "    return VerboseTB.structured_traceback(\n",
      "  File \"/opt/conda/lib/python3.8/site-packages/IPython/core/ultratb.py\", line 1140, in structured_traceback\n",
      "    formatted_exception = self.format_exception_as_a_whole(etype, evalue, etb, number_of_lines_of_context,\n",
      "  File \"/opt/conda/lib/python3.8/site-packages/IPython/core/ultratb.py\", line 1055, in format_exception_as_a_whole\n",
      "    frames.append(self.format_record(record))\n",
      "  File \"/opt/conda/lib/python3.8/site-packages/IPython/core/ultratb.py\", line 955, in format_record\n",
      "    frame_info.lines, Colors, self.has_colors, lvals\n",
      "  File \"/opt/conda/lib/python3.8/site-packages/IPython/core/ultratb.py\", line 778, in lines\n",
      "    return self._sd.lines\n",
      "  File \"/opt/conda/lib/python3.8/site-packages/stack_data/utils.py\", line 145, in cached_property_wrapper\n",
      "    value = obj.__dict__[self.func.__name__] = self.func(obj)\n",
      "  File \"/opt/conda/lib/python3.8/site-packages/stack_data/core.py\", line 734, in lines\n",
      "    pieces = self.included_pieces\n",
      "  File \"/opt/conda/lib/python3.8/site-packages/stack_data/utils.py\", line 145, in cached_property_wrapper\n",
      "    value = obj.__dict__[self.func.__name__] = self.func(obj)\n",
      "  File \"/opt/conda/lib/python3.8/site-packages/stack_data/core.py\", line 681, in included_pieces\n",
      "    pos = scope_pieces.index(self.executing_piece)\n",
      "  File \"/opt/conda/lib/python3.8/site-packages/stack_data/utils.py\", line 145, in cached_property_wrapper\n",
      "    value = obj.__dict__[self.func.__name__] = self.func(obj)\n",
      "  File \"/opt/conda/lib/python3.8/site-packages/stack_data/core.py\", line 660, in executing_piece\n",
      "    return only(\n",
      "  File \"/opt/conda/lib/python3.8/site-packages/executing/executing.py\", line 116, in only\n",
      "    raise NotOneValueFound('Expected one value, found 0')\n",
      "executing.executing.NotOneValueFound: Expected one value, found 0\n"
     ]
    }
   ],
   "source": [
    "import sagemaker\n",
    "from sagemaker import get_execution_role\n",
    "from sagemaker.inputs import TrainingInput\n",
    "\n",
    "# Create a SageMaker session\n",
    "sagemaker_session = sagemaker.Session()\n",
    "\n",
    "# Specify the S3 bucket name\n",
    "bucket_name = 'vpproject'\n",
    "\n",
    "# Get the execution role\n",
    "role = get_execution_role()\n",
    "\n",
    "# Define the container image for XGBoost\n",
    "container = '433757028032.dkr.ecr.us-west-2.amazonaws.com/xgboost:latest'\n",
    "\n",
    "# Define the estimator\n",
    "xgb = sagemaker.estimator.Estimator(container,\n",
    "                                    role,\n",
    "                                    instance_count=1,\n",
    "                                    instance_type='ml.m5.large',\n",
    "                                    output_path='s3://{}/output'.format(bucket_name),\n",
    "                                    sagemaker_session=sagemaker_session)\n",
    "\n",
    "# Set hyperparameters\n",
    "xgb.set_hyperparameters(max_depth=5,\n",
    "                        eta=0.2,\n",
    "                        gamma=4,\n",
    "                        min_child_weight=6,\n",
    "                        subsample=0.7,\n",
    "                        objective='reg:linear',\n",
    "                        num_round=100)\n",
    "\n",
    "# Specify the training data location in S3\n",
    "train_input = TrainingInput(s3_data='s3://{}/data_files/train_data'.format(bucket_name),\n",
    "                            content_type='csv')\n",
    "\n",
    "# Train the model\n",
    "xgb.fit({'train': train_input})"
   ]
  },
  {
   "cell_type": "code",
   "execution_count": null,
   "id": "d73d7737-20ee-4a2d-ac38-16a12cf17e85",
   "metadata": {},
   "outputs": [],
   "source": []
  }
 ],
 "metadata": {
  "availableInstances": [
   {
    "_defaultOrder": 0,
    "_isFastLaunch": true,
    "category": "General purpose",
    "gpuNum": 0,
    "hideHardwareSpecs": false,
    "memoryGiB": 4,
    "name": "ml.t3.medium",
    "vcpuNum": 2
   },
   {
    "_defaultOrder": 1,
    "_isFastLaunch": false,
    "category": "General purpose",
    "gpuNum": 0,
    "hideHardwareSpecs": false,
    "memoryGiB": 8,
    "name": "ml.t3.large",
    "vcpuNum": 2
   },
   {
    "_defaultOrder": 2,
    "_isFastLaunch": false,
    "category": "General purpose",
    "gpuNum": 0,
    "hideHardwareSpecs": false,
    "memoryGiB": 16,
    "name": "ml.t3.xlarge",
    "vcpuNum": 4
   },
   {
    "_defaultOrder": 3,
    "_isFastLaunch": false,
    "category": "General purpose",
    "gpuNum": 0,
    "hideHardwareSpecs": false,
    "memoryGiB": 32,
    "name": "ml.t3.2xlarge",
    "vcpuNum": 8
   },
   {
    "_defaultOrder": 4,
    "_isFastLaunch": true,
    "category": "General purpose",
    "gpuNum": 0,
    "hideHardwareSpecs": false,
    "memoryGiB": 8,
    "name": "ml.m5.large",
    "vcpuNum": 2
   },
   {
    "_defaultOrder": 5,
    "_isFastLaunch": false,
    "category": "General purpose",
    "gpuNum": 0,
    "hideHardwareSpecs": false,
    "memoryGiB": 16,
    "name": "ml.m5.xlarge",
    "vcpuNum": 4
   },
   {
    "_defaultOrder": 6,
    "_isFastLaunch": false,
    "category": "General purpose",
    "gpuNum": 0,
    "hideHardwareSpecs": false,
    "memoryGiB": 32,
    "name": "ml.m5.2xlarge",
    "vcpuNum": 8
   },
   {
    "_defaultOrder": 7,
    "_isFastLaunch": false,
    "category": "General purpose",
    "gpuNum": 0,
    "hideHardwareSpecs": false,
    "memoryGiB": 64,
    "name": "ml.m5.4xlarge",
    "vcpuNum": 16
   },
   {
    "_defaultOrder": 8,
    "_isFastLaunch": false,
    "category": "General purpose",
    "gpuNum": 0,
    "hideHardwareSpecs": false,
    "memoryGiB": 128,
    "name": "ml.m5.8xlarge",
    "vcpuNum": 32
   },
   {
    "_defaultOrder": 9,
    "_isFastLaunch": false,
    "category": "General purpose",
    "gpuNum": 0,
    "hideHardwareSpecs": false,
    "memoryGiB": 192,
    "name": "ml.m5.12xlarge",
    "vcpuNum": 48
   },
   {
    "_defaultOrder": 10,
    "_isFastLaunch": false,
    "category": "General purpose",
    "gpuNum": 0,
    "hideHardwareSpecs": false,
    "memoryGiB": 256,
    "name": "ml.m5.16xlarge",
    "vcpuNum": 64
   },
   {
    "_defaultOrder": 11,
    "_isFastLaunch": false,
    "category": "General purpose",
    "gpuNum": 0,
    "hideHardwareSpecs": false,
    "memoryGiB": 384,
    "name": "ml.m5.24xlarge",
    "vcpuNum": 96
   },
   {
    "_defaultOrder": 12,
    "_isFastLaunch": false,
    "category": "General purpose",
    "gpuNum": 0,
    "hideHardwareSpecs": false,
    "memoryGiB": 8,
    "name": "ml.m5d.large",
    "vcpuNum": 2
   },
   {
    "_defaultOrder": 13,
    "_isFastLaunch": false,
    "category": "General purpose",
    "gpuNum": 0,
    "hideHardwareSpecs": false,
    "memoryGiB": 16,
    "name": "ml.m5d.xlarge",
    "vcpuNum": 4
   },
   {
    "_defaultOrder": 14,
    "_isFastLaunch": false,
    "category": "General purpose",
    "gpuNum": 0,
    "hideHardwareSpecs": false,
    "memoryGiB": 32,
    "name": "ml.m5d.2xlarge",
    "vcpuNum": 8
   },
   {
    "_defaultOrder": 15,
    "_isFastLaunch": false,
    "category": "General purpose",
    "gpuNum": 0,
    "hideHardwareSpecs": false,
    "memoryGiB": 64,
    "name": "ml.m5d.4xlarge",
    "vcpuNum": 16
   },
   {
    "_defaultOrder": 16,
    "_isFastLaunch": false,
    "category": "General purpose",
    "gpuNum": 0,
    "hideHardwareSpecs": false,
    "memoryGiB": 128,
    "name": "ml.m5d.8xlarge",
    "vcpuNum": 32
   },
   {
    "_defaultOrder": 17,
    "_isFastLaunch": false,
    "category": "General purpose",
    "gpuNum": 0,
    "hideHardwareSpecs": false,
    "memoryGiB": 192,
    "name": "ml.m5d.12xlarge",
    "vcpuNum": 48
   },
   {
    "_defaultOrder": 18,
    "_isFastLaunch": false,
    "category": "General purpose",
    "gpuNum": 0,
    "hideHardwareSpecs": false,
    "memoryGiB": 256,
    "name": "ml.m5d.16xlarge",
    "vcpuNum": 64
   },
   {
    "_defaultOrder": 19,
    "_isFastLaunch": false,
    "category": "General purpose",
    "gpuNum": 0,
    "hideHardwareSpecs": false,
    "memoryGiB": 384,
    "name": "ml.m5d.24xlarge",
    "vcpuNum": 96
   },
   {
    "_defaultOrder": 20,
    "_isFastLaunch": false,
    "category": "General purpose",
    "gpuNum": 0,
    "hideHardwareSpecs": true,
    "memoryGiB": 0,
    "name": "ml.geospatial.interactive",
    "supportedImageNames": [
     "sagemaker-geospatial-v1-0"
    ],
    "vcpuNum": 0
   },
   {
    "_defaultOrder": 21,
    "_isFastLaunch": true,
    "category": "Compute optimized",
    "gpuNum": 0,
    "hideHardwareSpecs": false,
    "memoryGiB": 4,
    "name": "ml.c5.large",
    "vcpuNum": 2
   },
   {
    "_defaultOrder": 22,
    "_isFastLaunch": false,
    "category": "Compute optimized",
    "gpuNum": 0,
    "hideHardwareSpecs": false,
    "memoryGiB": 8,
    "name": "ml.c5.xlarge",
    "vcpuNum": 4
   },
   {
    "_defaultOrder": 23,
    "_isFastLaunch": false,
    "category": "Compute optimized",
    "gpuNum": 0,
    "hideHardwareSpecs": false,
    "memoryGiB": 16,
    "name": "ml.c5.2xlarge",
    "vcpuNum": 8
   },
   {
    "_defaultOrder": 24,
    "_isFastLaunch": false,
    "category": "Compute optimized",
    "gpuNum": 0,
    "hideHardwareSpecs": false,
    "memoryGiB": 32,
    "name": "ml.c5.4xlarge",
    "vcpuNum": 16
   },
   {
    "_defaultOrder": 25,
    "_isFastLaunch": false,
    "category": "Compute optimized",
    "gpuNum": 0,
    "hideHardwareSpecs": false,
    "memoryGiB": 72,
    "name": "ml.c5.9xlarge",
    "vcpuNum": 36
   },
   {
    "_defaultOrder": 26,
    "_isFastLaunch": false,
    "category": "Compute optimized",
    "gpuNum": 0,
    "hideHardwareSpecs": false,
    "memoryGiB": 96,
    "name": "ml.c5.12xlarge",
    "vcpuNum": 48
   },
   {
    "_defaultOrder": 27,
    "_isFastLaunch": false,
    "category": "Compute optimized",
    "gpuNum": 0,
    "hideHardwareSpecs": false,
    "memoryGiB": 144,
    "name": "ml.c5.18xlarge",
    "vcpuNum": 72
   },
   {
    "_defaultOrder": 28,
    "_isFastLaunch": false,
    "category": "Compute optimized",
    "gpuNum": 0,
    "hideHardwareSpecs": false,
    "memoryGiB": 192,
    "name": "ml.c5.24xlarge",
    "vcpuNum": 96
   },
   {
    "_defaultOrder": 29,
    "_isFastLaunch": true,
    "category": "Accelerated computing",
    "gpuNum": 1,
    "hideHardwareSpecs": false,
    "memoryGiB": 16,
    "name": "ml.g4dn.xlarge",
    "vcpuNum": 4
   },
   {
    "_defaultOrder": 30,
    "_isFastLaunch": false,
    "category": "Accelerated computing",
    "gpuNum": 1,
    "hideHardwareSpecs": false,
    "memoryGiB": 32,
    "name": "ml.g4dn.2xlarge",
    "vcpuNum": 8
   },
   {
    "_defaultOrder": 31,
    "_isFastLaunch": false,
    "category": "Accelerated computing",
    "gpuNum": 1,
    "hideHardwareSpecs": false,
    "memoryGiB": 64,
    "name": "ml.g4dn.4xlarge",
    "vcpuNum": 16
   },
   {
    "_defaultOrder": 32,
    "_isFastLaunch": false,
    "category": "Accelerated computing",
    "gpuNum": 1,
    "hideHardwareSpecs": false,
    "memoryGiB": 128,
    "name": "ml.g4dn.8xlarge",
    "vcpuNum": 32
   },
   {
    "_defaultOrder": 33,
    "_isFastLaunch": false,
    "category": "Accelerated computing",
    "gpuNum": 4,
    "hideHardwareSpecs": false,
    "memoryGiB": 192,
    "name": "ml.g4dn.12xlarge",
    "vcpuNum": 48
   },
   {
    "_defaultOrder": 34,
    "_isFastLaunch": false,
    "category": "Accelerated computing",
    "gpuNum": 1,
    "hideHardwareSpecs": false,
    "memoryGiB": 256,
    "name": "ml.g4dn.16xlarge",
    "vcpuNum": 64
   },
   {
    "_defaultOrder": 35,
    "_isFastLaunch": false,
    "category": "Accelerated computing",
    "gpuNum": 1,
    "hideHardwareSpecs": false,
    "memoryGiB": 61,
    "name": "ml.p3.2xlarge",
    "vcpuNum": 8
   },
   {
    "_defaultOrder": 36,
    "_isFastLaunch": false,
    "category": "Accelerated computing",
    "gpuNum": 4,
    "hideHardwareSpecs": false,
    "memoryGiB": 244,
    "name": "ml.p3.8xlarge",
    "vcpuNum": 32
   },
   {
    "_defaultOrder": 37,
    "_isFastLaunch": false,
    "category": "Accelerated computing",
    "gpuNum": 8,
    "hideHardwareSpecs": false,
    "memoryGiB": 488,
    "name": "ml.p3.16xlarge",
    "vcpuNum": 64
   },
   {
    "_defaultOrder": 38,
    "_isFastLaunch": false,
    "category": "Accelerated computing",
    "gpuNum": 8,
    "hideHardwareSpecs": false,
    "memoryGiB": 768,
    "name": "ml.p3dn.24xlarge",
    "vcpuNum": 96
   },
   {
    "_defaultOrder": 39,
    "_isFastLaunch": false,
    "category": "Memory Optimized",
    "gpuNum": 0,
    "hideHardwareSpecs": false,
    "memoryGiB": 16,
    "name": "ml.r5.large",
    "vcpuNum": 2
   },
   {
    "_defaultOrder": 40,
    "_isFastLaunch": false,
    "category": "Memory Optimized",
    "gpuNum": 0,
    "hideHardwareSpecs": false,
    "memoryGiB": 32,
    "name": "ml.r5.xlarge",
    "vcpuNum": 4
   },
   {
    "_defaultOrder": 41,
    "_isFastLaunch": false,
    "category": "Memory Optimized",
    "gpuNum": 0,
    "hideHardwareSpecs": false,
    "memoryGiB": 64,
    "name": "ml.r5.2xlarge",
    "vcpuNum": 8
   },
   {
    "_defaultOrder": 42,
    "_isFastLaunch": false,
    "category": "Memory Optimized",
    "gpuNum": 0,
    "hideHardwareSpecs": false,
    "memoryGiB": 128,
    "name": "ml.r5.4xlarge",
    "vcpuNum": 16
   },
   {
    "_defaultOrder": 43,
    "_isFastLaunch": false,
    "category": "Memory Optimized",
    "gpuNum": 0,
    "hideHardwareSpecs": false,
    "memoryGiB": 256,
    "name": "ml.r5.8xlarge",
    "vcpuNum": 32
   },
   {
    "_defaultOrder": 44,
    "_isFastLaunch": false,
    "category": "Memory Optimized",
    "gpuNum": 0,
    "hideHardwareSpecs": false,
    "memoryGiB": 384,
    "name": "ml.r5.12xlarge",
    "vcpuNum": 48
   },
   {
    "_defaultOrder": 45,
    "_isFastLaunch": false,
    "category": "Memory Optimized",
    "gpuNum": 0,
    "hideHardwareSpecs": false,
    "memoryGiB": 512,
    "name": "ml.r5.16xlarge",
    "vcpuNum": 64
   },
   {
    "_defaultOrder": 46,
    "_isFastLaunch": false,
    "category": "Memory Optimized",
    "gpuNum": 0,
    "hideHardwareSpecs": false,
    "memoryGiB": 768,
    "name": "ml.r5.24xlarge",
    "vcpuNum": 96
   },
   {
    "_defaultOrder": 47,
    "_isFastLaunch": false,
    "category": "Accelerated computing",
    "gpuNum": 1,
    "hideHardwareSpecs": false,
    "memoryGiB": 16,
    "name": "ml.g5.xlarge",
    "vcpuNum": 4
   },
   {
    "_defaultOrder": 48,
    "_isFastLaunch": false,
    "category": "Accelerated computing",
    "gpuNum": 1,
    "hideHardwareSpecs": false,
    "memoryGiB": 32,
    "name": "ml.g5.2xlarge",
    "vcpuNum": 8
   },
   {
    "_defaultOrder": 49,
    "_isFastLaunch": false,
    "category": "Accelerated computing",
    "gpuNum": 1,
    "hideHardwareSpecs": false,
    "memoryGiB": 64,
    "name": "ml.g5.4xlarge",
    "vcpuNum": 16
   },
   {
    "_defaultOrder": 50,
    "_isFastLaunch": false,
    "category": "Accelerated computing",
    "gpuNum": 1,
    "hideHardwareSpecs": false,
    "memoryGiB": 128,
    "name": "ml.g5.8xlarge",
    "vcpuNum": 32
   },
   {
    "_defaultOrder": 51,
    "_isFastLaunch": false,
    "category": "Accelerated computing",
    "gpuNum": 1,
    "hideHardwareSpecs": false,
    "memoryGiB": 256,
    "name": "ml.g5.16xlarge",
    "vcpuNum": 64
   },
   {
    "_defaultOrder": 52,
    "_isFastLaunch": false,
    "category": "Accelerated computing",
    "gpuNum": 4,
    "hideHardwareSpecs": false,
    "memoryGiB": 192,
    "name": "ml.g5.12xlarge",
    "vcpuNum": 48
   },
   {
    "_defaultOrder": 53,
    "_isFastLaunch": false,
    "category": "Accelerated computing",
    "gpuNum": 4,
    "hideHardwareSpecs": false,
    "memoryGiB": 384,
    "name": "ml.g5.24xlarge",
    "vcpuNum": 96
   },
   {
    "_defaultOrder": 54,
    "_isFastLaunch": false,
    "category": "Accelerated computing",
    "gpuNum": 8,
    "hideHardwareSpecs": false,
    "memoryGiB": 768,
    "name": "ml.g5.48xlarge",
    "vcpuNum": 192
   },
   {
    "_defaultOrder": 55,
    "_isFastLaunch": false,
    "category": "Accelerated computing",
    "gpuNum": 8,
    "hideHardwareSpecs": false,
    "memoryGiB": 1152,
    "name": "ml.p4d.24xlarge",
    "vcpuNum": 96
   },
   {
    "_defaultOrder": 56,
    "_isFastLaunch": false,
    "category": "Accelerated computing",
    "gpuNum": 8,
    "hideHardwareSpecs": false,
    "memoryGiB": 1152,
    "name": "ml.p4de.24xlarge",
    "vcpuNum": 96
   },
   {
    "_defaultOrder": 57,
    "_isFastLaunch": false,
    "category": "Accelerated computing",
    "gpuNum": 0,
    "hideHardwareSpecs": false,
    "memoryGiB": 32,
    "name": "ml.trn1.2xlarge",
    "vcpuNum": 8
   },
   {
    "_defaultOrder": 58,
    "_isFastLaunch": false,
    "category": "Accelerated computing",
    "gpuNum": 0,
    "hideHardwareSpecs": false,
    "memoryGiB": 512,
    "name": "ml.trn1.32xlarge",
    "vcpuNum": 128
   },
   {
    "_defaultOrder": 59,
    "_isFastLaunch": false,
    "category": "Accelerated computing",
    "gpuNum": 0,
    "hideHardwareSpecs": false,
    "memoryGiB": 512,
    "name": "ml.trn1n.32xlarge",
    "vcpuNum": 128
   }
  ],
  "instance_type": "ml.t3.medium",
  "kernelspec": {
   "display_name": "Python 3 (Data Science 2.0)",
   "language": "python",
   "name": "python3__SAGEMAKER_INTERNAL__arn:aws:sagemaker:us-east-1:081325390199:image/sagemaker-data-science-38"
  },
  "language_info": {
   "codemirror_mode": {
    "name": "ipython",
    "version": 3
   },
   "file_extension": ".py",
   "mimetype": "text/x-python",
   "name": "python",
   "nbconvert_exporter": "python",
   "pygments_lexer": "ipython3",
   "version": "3.8.13"
  }
 },
 "nbformat": 4,
 "nbformat_minor": 5
}
