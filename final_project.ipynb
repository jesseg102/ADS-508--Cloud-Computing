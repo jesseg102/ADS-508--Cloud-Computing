{
 "cells": [
  {
   "cell_type": "code",
   "execution_count": 4,
   "id": "ca3301d2-89a9-4aeb-99d9-73d29195d924",
   "metadata": {
    "tags": []
   },
   "outputs": [
    {
     "name": "stdout",
     "output_type": "stream",
     "text": [
      "Collecting pyathena\n",
      "  Using cached pyathena-3.5.1-py3-none-any.whl.metadata (5.5 kB)\n",
      "Requirement already satisfied: boto3>=1.26.4 in /opt/conda/lib/python3.8/site-packages (from pyathena) (1.33.9)\n",
      "Requirement already satisfied: botocore>=1.29.4 in /opt/conda/lib/python3.8/site-packages (from pyathena) (1.33.9)\n",
      "Requirement already satisfied: fsspec in /opt/conda/lib/python3.8/site-packages (from pyathena) (2021.8.1)\n",
      "Requirement already satisfied: tenacity>=4.1.0 in /opt/conda/lib/python3.8/site-packages (from pyathena) (8.2.3)\n",
      "Requirement already satisfied: jmespath<2.0.0,>=0.7.1 in /opt/conda/lib/python3.8/site-packages (from boto3>=1.26.4->pyathena) (1.0.1)\n",
      "Requirement already satisfied: s3transfer<0.9.0,>=0.8.2 in /opt/conda/lib/python3.8/site-packages (from boto3>=1.26.4->pyathena) (0.8.2)\n",
      "Requirement already satisfied: python-dateutil<3.0.0,>=2.1 in /opt/conda/lib/python3.8/site-packages (from botocore>=1.29.4->pyathena) (2.8.2)\n",
      "Collecting urllib3<1.27,>=1.25.4 (from botocore>=1.29.4->pyathena)\n",
      "  Using cached urllib3-1.26.18-py2.py3-none-any.whl.metadata (48 kB)\n",
      "Requirement already satisfied: six>=1.5 in /opt/conda/lib/python3.8/site-packages (from python-dateutil<3.0.0,>=2.1->botocore>=1.29.4->pyathena) (1.16.0)\n",
      "Using cached pyathena-3.5.1-py3-none-any.whl (69 kB)\n",
      "Using cached urllib3-1.26.18-py2.py3-none-any.whl (143 kB)\n",
      "\u001b[33mDEPRECATION: pyodbc 4.0.0-unsupported has a non-standard version number. pip 24.0 will enforce this behaviour change. A possible replacement is to upgrade to a newer version of pyodbc or contact the author to suggest that they release a version with a conforming version number. Discussion can be found at https://github.com/pypa/pip/issues/12063\u001b[0m\u001b[33m\n",
      "\u001b[0mInstalling collected packages: urllib3, pyathena\n",
      "  Attempting uninstall: urllib3\n",
      "    Found existing installation: urllib3 2.1.0\n",
      "    Uninstalling urllib3-2.1.0:\n",
      "      Successfully uninstalled urllib3-2.1.0\n",
      "Successfully installed pyathena-3.5.1 urllib3-1.26.18\n",
      "\u001b[33mWARNING: Running pip as the 'root' user can result in broken permissions and conflicting behaviour with the system package manager. It is recommended to use a virtual environment instead: https://pip.pypa.io/warnings/venv\u001b[0m\u001b[33m\n",
      "\u001b[0m\n",
      "\u001b[1m[\u001b[0m\u001b[34;49mnotice\u001b[0m\u001b[1;39;49m]\u001b[0m\u001b[39;49m A new release of pip is available: \u001b[0m\u001b[31;49m23.3.1\u001b[0m\u001b[39;49m -> \u001b[0m\u001b[32;49m24.0\u001b[0m\n",
      "\u001b[1m[\u001b[0m\u001b[34;49mnotice\u001b[0m\u001b[1;39;49m]\u001b[0m\u001b[39;49m To update, run: \u001b[0m\u001b[32;49mpip install --upgrade pip\u001b[0m\n"
     ]
    }
   ],
   "source": [
    "!pip install pyathena"
   ]
  },
  {
   "cell_type": "code",
   "execution_count": 24,
   "id": "347b1d7c-6d2c-4aa0-99f5-7dbe33b420cc",
   "metadata": {
    "tags": []
   },
   "outputs": [],
   "source": [
    "import os\n",
    "import boto3\n",
    "import sagemaker\n",
    "import pandas as pd\n",
    "import numpy as np\n",
    "import csv, json\n",
    "import matplotlib.pyplot as plt\n",
    "%matplotlib inline\n",
    "from IPython.display import HTML, display, Image as IImage\n",
    "from io import StringIO\n",
    "from pyathena import connect\n",
    "import warnings\n",
    "warnings.filterwarnings('ignore')"
   ]
  },
  {
   "cell_type": "code",
   "execution_count": 6,
   "id": "266953bc-3006-4775-9901-0dde716de240",
   "metadata": {
    "tags": []
   },
   "outputs": [
    {
     "name": "stdout",
     "output_type": "stream",
     "text": [
      "sagemaker.config INFO - Not applying SDK defaults from location: /etc/xdg/sagemaker/config.yaml\n",
      "sagemaker.config INFO - Not applying SDK defaults from location: /root/.config/sagemaker/config.yaml\n",
      "sagemaker.config INFO - Not applying SDK defaults from location: /etc/xdg/sagemaker/config.yaml\n",
      "sagemaker.config INFO - Not applying SDK defaults from location: /root/.config/sagemaker/config.yaml\n"
     ]
    }
   ],
   "source": [
    "sess = sagemaker.Session()\n",
    "role = sagemaker.get_execution_role()\n",
    "bucket = sess.default_bucket()\n",
    "region = boto3.Session().region_name"
   ]
  },
  {
   "cell_type": "code",
   "execution_count": 7,
   "id": "a2cf400f-727e-4550-8016-30ce715c3359",
   "metadata": {
    "tags": []
   },
   "outputs": [],
   "source": [
    "# Initialize Boto3 Rekognition client\n",
    "\n",
    "rekognition_client = boto3.client(\"rekognition\")\n",
    "s3 = boto3.client(\"s3\")"
   ]
  },
  {
   "cell_type": "markdown",
   "id": "4b05e977-1d46-4db6-a9b6-12de63dec62a",
   "metadata": {},
   "source": [
    "# Detect labels in Traffic sign images"
   ]
  },
  {
   "cell_type": "code",
   "execution_count": 8,
   "id": "5110c800-2f9b-4555-bfe3-bed5ada07f67",
   "metadata": {
    "tags": []
   },
   "outputs": [],
   "source": [
    "# Define s3 bucket name, prefix and output csv file path\n",
    "\n",
    "bucket_name = 'finalprojectdata'\n",
    "prefix_key = 'traffic_signs/'\n",
    "output_csv_key = 'csv_files/traffic_signs.csv'"
   ]
  },
  {
   "cell_type": "code",
   "execution_count": 9,
   "id": "f50cd80f-ff88-4b21-ac7f-76f5b3e056bb",
   "metadata": {
    "tags": []
   },
   "outputs": [],
   "source": [
    "# Function to detect text from an image \n",
    "\n",
    "def detect_text_from_image(bucket_name, image_key):\n",
    "    if image_key.endswith('.jpg'):\n",
    "        rekognition_response = rekognition_client.detect_text(Image={'S3Object': {'Bucket': bucket_name, 'Name': image_key}})\n",
    "        return rekognition_response"
   ]
  },
  {
   "cell_type": "code",
   "execution_count": 10,
   "id": "ca7b1b23-0eaa-4d4b-982e-964c4389fe50",
   "metadata": {
    "tags": []
   },
   "outputs": [],
   "source": [
    "# Get a list of objects in the s3 bucket\n",
    "\n",
    "# all_results = []\n",
    "\n",
    "# paginator = s3.get_paginator('list_objects_v2')\n",
    "# result = paginator.paginate(Bucket=bucket_name, Prefix=prefix_key)\n",
    "\n",
    "# for page in result:\n",
    "#     if \"Contents\" in page:\n",
    "#         for key in page[ \"Contents\" ]:\n",
    "#             keyString = key[ \"Key\" ]\n",
    "#             print(keyString)\n",
    "#             if keyString.endswith('.jpg'):\n",
    "#                 response = detect_text_from_image(bucket_name, keyString)\n",
    "#                 all_results.append({'Image': keyString, 'TextDetections': response['TextDetections']})"
   ]
  },
  {
   "cell_type": "code",
   "execution_count": 61,
   "id": "22e13434-d38e-4586-a9c3-564b448808a8",
   "metadata": {
    "tags": []
   },
   "outputs": [
    {
     "name": "stdout",
     "output_type": "stream",
     "text": [
      "Text detection results saved to: s3://finalprojectdata/csv_files/traffic_signs.csv\n"
     ]
    }
   ],
   "source": [
    "# Write aggregated results to a single CSV file\n",
    "\n",
    "csv_buffer = StringIO()\n",
    "writer = csv.DictWriter(csv_buffer, fieldnames=['Image', 'DetectedText', 'Type', 'Confidence'])\n",
    "writer.writeheader()\n",
    "for result in all_results:\n",
    "    image_key = result['Image']\n",
    "    for detection in result['TextDetections']:\n",
    "        detected_text = detection['DetectedText']\n",
    "        text_type = detection['Type']\n",
    "        confidence = detection['Confidence']\n",
    "        writer.writerow({'Image': image_key, 'DetectedText': detected_text, 'Type': text_type, 'Confidence': confidence})\n",
    "        \n",
    "# Upload CSV string to S3\n",
    "\n",
    "csv_buffer.seek(0)\n",
    "s3.put_object(Body=csv_buffer.getvalue(), Bucket=bucket_name, Key=output_csv_key)\n",
    "\n",
    "print(f\"Text detection results saved to: s3://{bucket_name}/{output_csv_key}\")"
   ]
  },
  {
   "cell_type": "code",
   "execution_count": 11,
   "id": "862e6298-0f82-4d34-bb3a-6dd18b72c821",
   "metadata": {
    "tags": []
   },
   "outputs": [
    {
     "name": "stdout",
     "output_type": "stream",
     "text": [
      "sagemaker.config INFO - Not applying SDK defaults from location: /etc/xdg/sagemaker/config.yaml\n",
      "sagemaker.config INFO - Not applying SDK defaults from location: /root/.config/sagemaker/config.yaml\n",
      "sagemaker.config INFO - Not applying SDK defaults from location: /etc/xdg/sagemaker/config.yaml\n",
      "sagemaker.config INFO - Not applying SDK defaults from location: /root/.config/sagemaker/config.yaml\n"
     ]
    }
   ],
   "source": [
    "# Create athena database\n",
    "\n",
    "sess = sagemaker.Session()\n",
    "role = sagemaker.get_execution_role()\n",
    "bucket = sess.default_bucket()\n",
    "region = boto3.Session().region_name\n",
    "\n",
    "ingest_create_athena_db_passed = False"
   ]
  },
  {
   "cell_type": "code",
   "execution_count": 12,
   "id": "f24b3791-a436-48d4-b5cf-be9224468914",
   "metadata": {
    "tags": []
   },
   "outputs": [],
   "source": [
    "# Set Athena database name\n",
    "\n",
    "database_name = \"velocityvision\""
   ]
  },
  {
   "cell_type": "code",
   "execution_count": 13,
   "id": "dc685f68-b2da-4281-a91b-873b8836b1e2",
   "metadata": {
    "tags": []
   },
   "outputs": [],
   "source": [
    "# Set S3 staging directory -- this is a temporary directory used for Athena queries\n",
    "\n",
    "s3_staging_dir = \"s3://{0}/athena/staging\".format(bucket)"
   ]
  },
  {
   "cell_type": "code",
   "execution_count": 14,
   "id": "d60f25c1-0031-41e7-881b-8fae276890c8",
   "metadata": {
    "tags": []
   },
   "outputs": [],
   "source": [
    "# Connect to s3 using PyAthena\n",
    "\n",
    "conn = connect(region_name=region, s3_staging_dir=s3_staging_dir)"
   ]
  },
  {
   "cell_type": "code",
   "execution_count": 15,
   "id": "fb73e9df-14b3-4a16-99d7-d00551f77fb5",
   "metadata": {
    "tags": []
   },
   "outputs": [
    {
     "name": "stdout",
     "output_type": "stream",
     "text": [
      "CREATE DATABASE IF NOT EXISTS velocityvision\n"
     ]
    },
    {
     "data": {
      "text/html": [
       "<div>\n",
       "<style scoped>\n",
       "    .dataframe tbody tr th:only-of-type {\n",
       "        vertical-align: middle;\n",
       "    }\n",
       "\n",
       "    .dataframe tbody tr th {\n",
       "        vertical-align: top;\n",
       "    }\n",
       "\n",
       "    .dataframe thead th {\n",
       "        text-align: right;\n",
       "    }\n",
       "</style>\n",
       "<table border=\"1\" class=\"dataframe\">\n",
       "  <thead>\n",
       "    <tr style=\"text-align: right;\">\n",
       "      <th></th>\n",
       "    </tr>\n",
       "  </thead>\n",
       "  <tbody>\n",
       "  </tbody>\n",
       "</table>\n",
       "</div>"
      ],
      "text/plain": [
       "Empty DataFrame\n",
       "Columns: []\n",
       "Index: []"
      ]
     },
     "execution_count": 15,
     "metadata": {},
     "output_type": "execute_result"
    }
   ],
   "source": [
    "# SQL statement to execute\n",
    "\n",
    "statement = \"CREATE DATABASE IF NOT EXISTS {}\".format(database_name)\n",
    "print(statement)\n",
    "pd.read_sql(statement, conn)"
   ]
  },
  {
   "cell_type": "code",
   "execution_count": 66,
   "id": "11029721-91f2-4687-addd-08517da44df1",
   "metadata": {
    "tags": []
   },
   "outputs": [],
   "source": [
    "input_data_location = \"s3://finalprojectdata/csv_files\""
   ]
  },
  {
   "cell_type": "code",
   "execution_count": 68,
   "id": "ff1f2857-a56c-4f5a-bc8b-cd7b59943411",
   "metadata": {},
   "outputs": [
    {
     "data": {
      "text/html": [
       "<div>\n",
       "<style scoped>\n",
       "    .dataframe tbody tr th:only-of-type {\n",
       "        vertical-align: middle;\n",
       "    }\n",
       "\n",
       "    .dataframe tbody tr th {\n",
       "        vertical-align: top;\n",
       "    }\n",
       "\n",
       "    .dataframe thead th {\n",
       "        text-align: right;\n",
       "    }\n",
       "</style>\n",
       "<table border=\"1\" class=\"dataframe\">\n",
       "  <thead>\n",
       "    <tr style=\"text-align: right;\">\n",
       "      <th></th>\n",
       "      <th>image_id</th>\n",
       "      <th>detected_text</th>\n",
       "      <th>type</th>\n",
       "      <th>confidence</th>\n",
       "    </tr>\n",
       "  </thead>\n",
       "  <tbody>\n",
       "    <tr>\n",
       "      <th>0</th>\n",
       "      <td>traffic_signs/000000_jpg.rf.b11f308f16626f9f79...</td>\n",
       "      <td>30</td>\n",
       "      <td>LINE</td>\n",
       "      <td>99.548250</td>\n",
       "    </tr>\n",
       "    <tr>\n",
       "      <th>1</th>\n",
       "      <td>traffic_signs/000000_jpg.rf.b11f308f16626f9f79...</td>\n",
       "      <td>RYARSH</td>\n",
       "      <td>LINE</td>\n",
       "      <td>99.415030</td>\n",
       "    </tr>\n",
       "    <tr>\n",
       "      <th>2</th>\n",
       "      <td>traffic_signs/000000_jpg.rf.b11f308f16626f9f79...</td>\n",
       "      <td>Please reduce</td>\n",
       "      <td>LINE</td>\n",
       "      <td>99.164894</td>\n",
       "    </tr>\n",
       "    <tr>\n",
       "      <th>3</th>\n",
       "      <td>traffic_signs/000000_jpg.rf.b11f308f16626f9f79...</td>\n",
       "      <td>your speed</td>\n",
       "      <td>LINE</td>\n",
       "      <td>99.207320</td>\n",
       "    </tr>\n",
       "    <tr>\n",
       "      <th>4</th>\n",
       "      <td>traffic_signs/000000_jpg.rf.b11f308f16626f9f79...</td>\n",
       "      <td>30</td>\n",
       "      <td>WORD</td>\n",
       "      <td>99.548250</td>\n",
       "    </tr>\n",
       "  </tbody>\n",
       "</table>\n",
       "</div>"
      ],
      "text/plain": [
       "                                            image_id  detected_text  type  \\\n",
       "0  traffic_signs/000000_jpg.rf.b11f308f16626f9f79...             30  LINE   \n",
       "1  traffic_signs/000000_jpg.rf.b11f308f16626f9f79...         RYARSH  LINE   \n",
       "2  traffic_signs/000000_jpg.rf.b11f308f16626f9f79...  Please reduce  LINE   \n",
       "3  traffic_signs/000000_jpg.rf.b11f308f16626f9f79...     your speed  LINE   \n",
       "4  traffic_signs/000000_jpg.rf.b11f308f16626f9f79...             30  WORD   \n",
       "\n",
       "   confidence  \n",
       "0   99.548250  \n",
       "1   99.415030  \n",
       "2   99.164894  \n",
       "3   99.207320  \n",
       "4   99.548250  "
      ]
     },
     "execution_count": 68,
     "metadata": {},
     "output_type": "execute_result"
    }
   ],
   "source": [
    "# SQL statement to execute the traffic signs text detection\n",
    "\n",
    "table_name1 = 'traffic_signs'\n",
    "pd.read_sql(f'DROP TABLE IF EXISTS {database_name}.{table_name1}', conn)\n",
    "\n",
    "create_table = f\"\"\"\n",
    "CREATE EXTERNAL TABLE IF NOT EXISTS {database_name}.{table_name1}(\n",
    "            image_id string,\n",
    "            detected_text string,\n",
    "            type string,\n",
    "            confidence float\n",
    "            )\n",
    "            \n",
    "            ROW FORMAT DELIMITED FIELDS TERMINATED BY ','\n",
    "            LOCATION '{input_data_location}'\n",
    "            TBLPROPERTIES ('skip.header.line.count'='1')\n",
    "\"\"\"\n",
    "\n",
    "pd.read_sql(create_table, conn)\n",
    "\n",
    "pd.read_sql(f'SELECT * FROM {database_name}.{table_name} LIMIT 5', conn)"
   ]
  },
  {
   "cell_type": "code",
   "execution_count": 19,
   "id": "011a433c-2743-4a90-9495-5a15f1e54110",
   "metadata": {},
   "outputs": [
    {
     "data": {
      "text/html": [
       "<div>\n",
       "<style scoped>\n",
       "    .dataframe tbody tr th:only-of-type {\n",
       "        vertical-align: middle;\n",
       "    }\n",
       "\n",
       "    .dataframe tbody tr th {\n",
       "        vertical-align: top;\n",
       "    }\n",
       "\n",
       "    .dataframe thead th {\n",
       "        text-align: right;\n",
       "    }\n",
       "</style>\n",
       "<table border=\"1\" class=\"dataframe\">\n",
       "  <thead>\n",
       "    <tr style=\"text-align: right;\">\n",
       "      <th></th>\n",
       "    </tr>\n",
       "  </thead>\n",
       "  <tbody>\n",
       "  </tbody>\n",
       "</table>\n",
       "</div>"
      ],
      "text/plain": [
       "Empty DataFrame\n",
       "Columns: []\n",
       "Index: []"
      ]
     },
     "execution_count": 19,
     "metadata": {},
     "output_type": "execute_result"
    }
   ],
   "source": [
    "# SQL statement to execute the analysis of vehicle speed\n",
    "\n",
    "table_name2 = 'vehicle_speed'\n",
    "pd.read_sql(f'DROP TABLE IF EXISTS {database_name}.{table_name2}', conn)\n",
    "\n",
    "create_table = f\"\"\"\n",
    "CREATE EXTERNAL TABLE IF NOT EXISTS {database_name}.{table_name2}(\n",
    "             latitude float,\n",
    "             longitude float,\n",
    "             target_speed float,\n",
    "             way_maxspeed float,\n",
    "             speed_osrm float,\n",
    "             elevation float,\n",
    "             fwd_azimuth float,\n",
    "             way_type string,\n",
    "             way_surface string,\n",
    "             node_intersection string,\n",
    "             node_railway string,\n",
    "             node_crossing string,\n",
    "             node_highway string,\n",
    "             node_stop string,\n",
    "             start_stop int,\n",
    "             azimuth_diff int,\n",
    "             elevation_diff float\n",
    "             )\n",
    "             \n",
    "             ROW FORMAT DELIMITED FIELDS TERMINATED BY ','\n",
    "             LOCATION 's3://finalprojectdata/vehicle_speed'\n",
    "             TBLPROPERTIES ('skip.header.line.count'='1')\n",
    "\"\"\"\n",
    "\n",
    "pd.read_sql(create_table, conn)"
   ]
  },
  {
   "cell_type": "code",
   "execution_count": 20,
   "id": "38971b75-0c6e-487a-a778-50764d2c62a2",
   "metadata": {
    "tags": []
   },
   "outputs": [
    {
     "data": {
      "text/html": [
       "<div>\n",
       "<style scoped>\n",
       "    .dataframe tbody tr th:only-of-type {\n",
       "        vertical-align: middle;\n",
       "    }\n",
       "\n",
       "    .dataframe tbody tr th {\n",
       "        vertical-align: top;\n",
       "    }\n",
       "\n",
       "    .dataframe thead th {\n",
       "        text-align: right;\n",
       "    }\n",
       "</style>\n",
       "<table border=\"1\" class=\"dataframe\">\n",
       "  <thead>\n",
       "    <tr style=\"text-align: right;\">\n",
       "      <th></th>\n",
       "      <th>latitude</th>\n",
       "      <th>longitude</th>\n",
       "      <th>target_speed</th>\n",
       "      <th>way_maxspeed</th>\n",
       "      <th>speed_osrm</th>\n",
       "      <th>elevation</th>\n",
       "      <th>fwd_azimuth</th>\n",
       "      <th>way_type</th>\n",
       "      <th>way_surface</th>\n",
       "      <th>node_intersection</th>\n",
       "      <th>node_railway</th>\n",
       "      <th>node_crossing</th>\n",
       "      <th>node_highway</th>\n",
       "      <th>node_stop</th>\n",
       "      <th>start_stop</th>\n",
       "      <th>azimuth_diff</th>\n",
       "      <th>elevation_diff</th>\n",
       "    </tr>\n",
       "  </thead>\n",
       "  <tbody>\n",
       "    <tr>\n",
       "      <th>0</th>\n",
       "      <td>50.397060</td>\n",
       "      <td>14.913273</td>\n",
       "      <td>39.739456</td>\n",
       "      <td>130.0</td>\n",
       "      <td>28.837246</td>\n",
       "      <td>229.77516</td>\n",
       "      <td>46.24135</td>\n",
       "      <td>motorway</td>\n",
       "      <td>asphalt</td>\n",
       "      <td>None</td>\n",
       "      <td>None</td>\n",
       "      <td>None</td>\n",
       "      <td>None</td>\n",
       "      <td>None</td>\n",
       "      <td>0</td>\n",
       "      <td>0.0</td>\n",
       "      <td>-0.025587</td>\n",
       "    </tr>\n",
       "    <tr>\n",
       "      <th>1</th>\n",
       "      <td>50.397068</td>\n",
       "      <td>14.913283</td>\n",
       "      <td>39.717785</td>\n",
       "      <td>130.0</td>\n",
       "      <td>28.875628</td>\n",
       "      <td>229.74959</td>\n",
       "      <td>46.24135</td>\n",
       "      <td>motorway</td>\n",
       "      <td>asphalt</td>\n",
       "      <td>None</td>\n",
       "      <td>None</td>\n",
       "      <td>None</td>\n",
       "      <td>None</td>\n",
       "      <td>None</td>\n",
       "      <td>0</td>\n",
       "      <td>0.0</td>\n",
       "      <td>-0.025587</td>\n",
       "    </tr>\n",
       "    <tr>\n",
       "      <th>2</th>\n",
       "      <td>50.397076</td>\n",
       "      <td>14.913294</td>\n",
       "      <td>39.696114</td>\n",
       "      <td>130.0</td>\n",
       "      <td>28.914007</td>\n",
       "      <td>229.72400</td>\n",
       "      <td>46.24135</td>\n",
       "      <td>motorway</td>\n",
       "      <td>asphalt</td>\n",
       "      <td>None</td>\n",
       "      <td>None</td>\n",
       "      <td>None</td>\n",
       "      <td>None</td>\n",
       "      <td>None</td>\n",
       "      <td>0</td>\n",
       "      <td>0.0</td>\n",
       "      <td>-0.025587</td>\n",
       "    </tr>\n",
       "    <tr>\n",
       "      <th>3</th>\n",
       "      <td>50.397080</td>\n",
       "      <td>14.913303</td>\n",
       "      <td>39.674442</td>\n",
       "      <td>130.0</td>\n",
       "      <td>28.952387</td>\n",
       "      <td>229.69841</td>\n",
       "      <td>46.24135</td>\n",
       "      <td>motorway</td>\n",
       "      <td>asphalt</td>\n",
       "      <td>None</td>\n",
       "      <td>None</td>\n",
       "      <td>None</td>\n",
       "      <td>None</td>\n",
       "      <td>None</td>\n",
       "      <td>0</td>\n",
       "      <td>0.0</td>\n",
       "      <td>-0.025587</td>\n",
       "    </tr>\n",
       "    <tr>\n",
       "      <th>4</th>\n",
       "      <td>50.397087</td>\n",
       "      <td>14.913314</td>\n",
       "      <td>39.652770</td>\n",
       "      <td>130.0</td>\n",
       "      <td>28.990767</td>\n",
       "      <td>229.67282</td>\n",
       "      <td>46.24135</td>\n",
       "      <td>motorway</td>\n",
       "      <td>asphalt</td>\n",
       "      <td>None</td>\n",
       "      <td>None</td>\n",
       "      <td>None</td>\n",
       "      <td>None</td>\n",
       "      <td>None</td>\n",
       "      <td>0</td>\n",
       "      <td>0.0</td>\n",
       "      <td>-0.025587</td>\n",
       "    </tr>\n",
       "  </tbody>\n",
       "</table>\n",
       "</div>"
      ],
      "text/plain": [
       "    latitude  longitude  target_speed  way_maxspeed  speed_osrm  elevation  \\\n",
       "0  50.397060  14.913273     39.739456         130.0   28.837246  229.77516   \n",
       "1  50.397068  14.913283     39.717785         130.0   28.875628  229.74959   \n",
       "2  50.397076  14.913294     39.696114         130.0   28.914007  229.72400   \n",
       "3  50.397080  14.913303     39.674442         130.0   28.952387  229.69841   \n",
       "4  50.397087  14.913314     39.652770         130.0   28.990767  229.67282   \n",
       "\n",
       "   fwd_azimuth  way_type way_surface node_intersection node_railway  \\\n",
       "0     46.24135  motorway     asphalt              None         None   \n",
       "1     46.24135  motorway     asphalt              None         None   \n",
       "2     46.24135  motorway     asphalt              None         None   \n",
       "3     46.24135  motorway     asphalt              None         None   \n",
       "4     46.24135  motorway     asphalt              None         None   \n",
       "\n",
       "  node_crossing node_highway node_stop  start_stop  azimuth_diff  \\\n",
       "0          None         None      None           0           0.0   \n",
       "1          None         None      None           0           0.0   \n",
       "2          None         None      None           0           0.0   \n",
       "3          None         None      None           0           0.0   \n",
       "4          None         None      None           0           0.0   \n",
       "\n",
       "   elevation_diff  \n",
       "0       -0.025587  \n",
       "1       -0.025587  \n",
       "2       -0.025587  \n",
       "3       -0.025587  \n",
       "4       -0.025587  "
      ]
     },
     "execution_count": 20,
     "metadata": {},
     "output_type": "execute_result"
    }
   ],
   "source": [
    "vehicle_speed_df = pd.read_sql(f'SELECT * FROM {database_name}.{table_name2}', conn)\n",
    "vehicle_speed_df.head()"
   ]
  },
  {
   "cell_type": "markdown",
   "id": "24ac0d87-05a4-444b-9035-8d19187cec72",
   "metadata": {},
   "source": [
    "# Exploratory Data Analysis"
   ]
  },
  {
   "cell_type": "code",
   "execution_count": 25,
   "id": "469ae319-fb6d-40e2-b619-039e7a1ed3e9",
   "metadata": {
    "tags": []
   },
   "outputs": [
    {
     "data": {
      "text/plain": [
       "Text(0, 0.5, 'Count')"
      ]
     },
     "execution_count": 25,
     "metadata": {},
     "output_type": "execute_result"
    },
    {
     "data": {
      "image/png": "[encoded data removed]",
      "text/plain": [
       "<Figure size 432x288 with 1 Axes>"
      ]
     },
     "metadata": {
      "needs_background": "light"
     },
     "output_type": "display_data"
    }
   ],
   "source": [
    "# Distrubition by Way type\n",
    "\n",
    "vehicle_speed_df['way_type'].value_counts().plot(kind=\"bar\", title=\"Distribution by way type\")\n",
    "plt.xlabel(\"Way Type\")\n",
    "plt.ylabel(\"Count\")"
   ]
  },
  {
   "cell_type": "markdown",
   "id": "652e2c9e-c11e-4087-bcf7-d4c8176f02a4",
   "metadata": {},
   "source": [
    "# 2. Data Preprocessing\n",
    "\n",
    "## 2.1. Handling Missing Values"
   ]
  },
  {
   "cell_type": "code",
   "execution_count": 21,
   "id": "b0186f64-20fc-4cf8-ab00-e251881ab1e6",
   "metadata": {
    "tags": []
   },
   "outputs": [
    {
     "data": {
      "text/plain": [
       "latitude                 0\n",
       "longitude                0\n",
       "target_speed             0\n",
       "way_maxspeed             0\n",
       "speed_osrm               0\n",
       "elevation                0\n",
       "fwd_azimuth              0\n",
       "way_type                 0\n",
       "way_surface              0\n",
       "node_intersection    12165\n",
       "node_railway         12165\n",
       "node_crossing        12165\n",
       "node_highway         12165\n",
       "node_stop            12165\n",
       "start_stop               0\n",
       "azimuth_diff             7\n",
       "elevation_diff           0\n",
       "dtype: int64"
      ]
     },
     "execution_count": 21,
     "metadata": {},
     "output_type": "execute_result"
    }
   ],
   "source": [
    "vehicle_speed_df.isnull().sum()"
   ]
  },
  {
   "cell_type": "markdown",
   "id": "848cb72a-d7a5-4244-b7dd-c43eb92e5743",
   "metadata": {},
   "source": [
    "From the above output, it is observed that 5 columns have 80% null values and hence dropping them."
   ]
  },
  {
   "cell_type": "code",
   "execution_count": 26,
   "id": "a137f73b-140d-4de3-b75c-786f2941e7e4",
   "metadata": {
    "tags": []
   },
   "outputs": [
    {
     "data": {
      "text/html": [
       "<div>\n",
       "<style scoped>\n",
       "    .dataframe tbody tr th:only-of-type {\n",
       "        vertical-align: middle;\n",
       "    }\n",
       "\n",
       "    .dataframe tbody tr th {\n",
       "        vertical-align: top;\n",
       "    }\n",
       "\n",
       "    .dataframe thead th {\n",
       "        text-align: right;\n",
       "    }\n",
       "</style>\n",
       "<table border=\"1\" class=\"dataframe\">\n",
       "  <thead>\n",
       "    <tr style=\"text-align: right;\">\n",
       "      <th></th>\n",
       "      <th>latitude</th>\n",
       "      <th>longitude</th>\n",
       "      <th>target_speed</th>\n",
       "      <th>way_maxspeed</th>\n",
       "      <th>speed_osrm</th>\n",
       "      <th>elevation</th>\n",
       "      <th>fwd_azimuth</th>\n",
       "      <th>way_type</th>\n",
       "      <th>way_surface</th>\n",
       "      <th>start_stop</th>\n",
       "      <th>azimuth_diff</th>\n",
       "      <th>elevation_diff</th>\n",
       "    </tr>\n",
       "  </thead>\n",
       "  <tbody>\n",
       "    <tr>\n",
       "      <th>0</th>\n",
       "      <td>50.397060</td>\n",
       "      <td>14.913273</td>\n",
       "      <td>39.739456</td>\n",
       "      <td>130.0</td>\n",
       "      <td>28.837246</td>\n",
       "      <td>229.77516</td>\n",
       "      <td>46.24135</td>\n",
       "      <td>motorway</td>\n",
       "      <td>asphalt</td>\n",
       "      <td>0</td>\n",
       "      <td>0.0</td>\n",
       "      <td>-0.025587</td>\n",
       "    </tr>\n",
       "    <tr>\n",
       "      <th>1</th>\n",
       "      <td>50.397068</td>\n",
       "      <td>14.913283</td>\n",
       "      <td>39.717785</td>\n",
       "      <td>130.0</td>\n",
       "      <td>28.875628</td>\n",
       "      <td>229.74959</td>\n",
       "      <td>46.24135</td>\n",
       "      <td>motorway</td>\n",
       "      <td>asphalt</td>\n",
       "      <td>0</td>\n",
       "      <td>0.0</td>\n",
       "      <td>-0.025587</td>\n",
       "    </tr>\n",
       "    <tr>\n",
       "      <th>2</th>\n",
       "      <td>50.397076</td>\n",
       "      <td>14.913294</td>\n",
       "      <td>39.696114</td>\n",
       "      <td>130.0</td>\n",
       "      <td>28.914007</td>\n",
       "      <td>229.72400</td>\n",
       "      <td>46.24135</td>\n",
       "      <td>motorway</td>\n",
       "      <td>asphalt</td>\n",
       "      <td>0</td>\n",
       "      <td>0.0</td>\n",
       "      <td>-0.025587</td>\n",
       "    </tr>\n",
       "    <tr>\n",
       "      <th>3</th>\n",
       "      <td>50.397080</td>\n",
       "      <td>14.913303</td>\n",
       "      <td>39.674442</td>\n",
       "      <td>130.0</td>\n",
       "      <td>28.952387</td>\n",
       "      <td>229.69841</td>\n",
       "      <td>46.24135</td>\n",
       "      <td>motorway</td>\n",
       "      <td>asphalt</td>\n",
       "      <td>0</td>\n",
       "      <td>0.0</td>\n",
       "      <td>-0.025587</td>\n",
       "    </tr>\n",
       "    <tr>\n",
       "      <th>4</th>\n",
       "      <td>50.397087</td>\n",
       "      <td>14.913314</td>\n",
       "      <td>39.652770</td>\n",
       "      <td>130.0</td>\n",
       "      <td>28.990767</td>\n",
       "      <td>229.67282</td>\n",
       "      <td>46.24135</td>\n",
       "      <td>motorway</td>\n",
       "      <td>asphalt</td>\n",
       "      <td>0</td>\n",
       "      <td>0.0</td>\n",
       "      <td>-0.025587</td>\n",
       "    </tr>\n",
       "  </tbody>\n",
       "</table>\n",
       "</div>"
      ],
      "text/plain": [
       "    latitude  longitude  target_speed  way_maxspeed  speed_osrm  elevation  \\\n",
       "0  50.397060  14.913273     39.739456         130.0   28.837246  229.77516   \n",
       "1  50.397068  14.913283     39.717785         130.0   28.875628  229.74959   \n",
       "2  50.397076  14.913294     39.696114         130.0   28.914007  229.72400   \n",
       "3  50.397080  14.913303     39.674442         130.0   28.952387  229.69841   \n",
       "4  50.397087  14.913314     39.652770         130.0   28.990767  229.67282   \n",
       "\n",
       "   fwd_azimuth  way_type way_surface  start_stop  azimuth_diff  elevation_diff  \n",
       "0     46.24135  motorway     asphalt           0           0.0       -0.025587  \n",
       "1     46.24135  motorway     asphalt           0           0.0       -0.025587  \n",
       "2     46.24135  motorway     asphalt           0           0.0       -0.025587  \n",
       "3     46.24135  motorway     asphalt           0           0.0       -0.025587  \n",
       "4     46.24135  motorway     asphalt           0           0.0       -0.025587  "
      ]
     },
     "execution_count": 26,
     "metadata": {},
     "output_type": "execute_result"
    }
   ],
   "source": [
    "# Dropping columns that have null values\n",
    "\n",
    "vehicle_speed_df = vehicle_speed_df.drop(['node_intersection', 'node_railway', 'node_crossing', 'node_highway', 'node_stop'], axis=1)"
   ]
  },
  {
   "cell_type": "code",
   "execution_count": null,
   "id": "48fd39df-ae6b-45b5-aa3f-7a642fa4be3c",
   "metadata": {},
   "outputs": [],
   "source": []
  }
 ],
 "metadata": {
  "availableInstances": [
   {
    "_defaultOrder": 0,
    "_isFastLaunch": true,
    "category": "General purpose",
    "gpuNum": 0,
    "hideHardwareSpecs": false,
    "memoryGiB": 4,
    "name": "ml.t3.medium",
    "vcpuNum": 2
   },
   {
    "_defaultOrder": 1,
    "_isFastLaunch": false,
    "category": "General purpose",
    "gpuNum": 0,
    "hideHardwareSpecs": false,
    "memoryGiB": 8,
    "name": "ml.t3.large",
    "vcpuNum": 2
   },
   {
    "_defaultOrder": 2,
    "_isFastLaunch": false,
    "category": "General purpose",
    "gpuNum": 0,
    "hideHardwareSpecs": false,
    "memoryGiB": 16,
    "name": "ml.t3.xlarge",
    "vcpuNum": 4
   },
   {
    "_defaultOrder": 3,
    "_isFastLaunch": false,
    "category": "General purpose",
    "gpuNum": 0,
    "hideHardwareSpecs": false,
    "memoryGiB": 32,
    "name": "ml.t3.2xlarge",
    "vcpuNum": 8
   },
   {
    "_defaultOrder": 4,
    "_isFastLaunch": true,
    "category": "General purpose",
    "gpuNum": 0,
    "hideHardwareSpecs": false,
    "memoryGiB": 8,
    "name": "ml.m5.large",
    "vcpuNum": 2
   },
   {
    "_defaultOrder": 5,
    "_isFastLaunch": false,
    "category": "General purpose",
    "gpuNum": 0,
    "hideHardwareSpecs": false,
    "memoryGiB": 16,
    "name": "ml.m5.xlarge",
    "vcpuNum": 4
   },
   {
    "_defaultOrder": 6,
    "_isFastLaunch": false,
    "category": "General purpose",
    "gpuNum": 0,
    "hideHardwareSpecs": false,
    "memoryGiB": 32,
    "name": "ml.m5.2xlarge",
    "vcpuNum": 8
   },
   {
    "_defaultOrder": 7,
    "_isFastLaunch": false,
    "category": "General purpose",
    "gpuNum": 0,
    "hideHardwareSpecs": false,
    "memoryGiB": 64,
    "name": "ml.m5.4xlarge",
    "vcpuNum": 16
   },
   {
    "_defaultOrder": 8,
    "_isFastLaunch": false,
    "category": "General purpose",
    "gpuNum": 0,
    "hideHardwareSpecs": false,
    "memoryGiB": 128,
    "name": "ml.m5.8xlarge",
    "vcpuNum": 32
   },
   {
    "_defaultOrder": 9,
    "_isFastLaunch": false,
    "category": "General purpose",
    "gpuNum": 0,
    "hideHardwareSpecs": false,
    "memoryGiB": 192,
    "name": "ml.m5.12xlarge",
    "vcpuNum": 48
   },
   {
    "_defaultOrder": 10,
    "_isFastLaunch": false,
    "category": "General purpose",
    "gpuNum": 0,
    "hideHardwareSpecs": false,
    "memoryGiB": 256,
    "name": "ml.m5.16xlarge",
    "vcpuNum": 64
   },
   {
    "_defaultOrder": 11,
    "_isFastLaunch": false,
    "category": "General purpose",
    "gpuNum": 0,
    "hideHardwareSpecs": false,
    "memoryGiB": 384,
    "name": "ml.m5.24xlarge",
    "vcpuNum": 96
   },
   {
    "_defaultOrder": 12,
    "_isFastLaunch": false,
    "category": "General purpose",
    "gpuNum": 0,
    "hideHardwareSpecs": false,
    "memoryGiB": 8,
    "name": "ml.m5d.large",
    "vcpuNum": 2
   },
   {
    "_defaultOrder": 13,
    "_isFastLaunch": false,
    "category": "General purpose",
    "gpuNum": 0,
    "hideHardwareSpecs": false,
    "memoryGiB": 16,
    "name": "ml.m5d.xlarge",
    "vcpuNum": 4
   },
   {
    "_defaultOrder": 14,
    "_isFastLaunch": false,
    "category": "General purpose",
    "gpuNum": 0,
    "hideHardwareSpecs": false,
    "memoryGiB": 32,
    "name": "ml.m5d.2xlarge",
    "vcpuNum": 8
   },
   {
    "_defaultOrder": 15,
    "_isFastLaunch": false,
    "category": "General purpose",
    "gpuNum": 0,
    "hideHardwareSpecs": false,
    "memoryGiB": 64,
    "name": "ml.m5d.4xlarge",
    "vcpuNum": 16
   },
   {
    "_defaultOrder": 16,
    "_isFastLaunch": false,
    "category": "General purpose",
    "gpuNum": 0,
    "hideHardwareSpecs": false,
    "memoryGiB": 128,
    "name": "ml.m5d.8xlarge",
    "vcpuNum": 32
   },
   {
    "_defaultOrder": 17,
    "_isFastLaunch": false,
    "category": "General purpose",
    "gpuNum": 0,
    "hideHardwareSpecs": false,
    "memoryGiB": 192,
    "name": "ml.m5d.12xlarge",
    "vcpuNum": 48
   },
   {
    "_defaultOrder": 18,
    "_isFastLaunch": false,
    "category": "General purpose",
    "gpuNum": 0,
    "hideHardwareSpecs": false,
    "memoryGiB": 256,
    "name": "ml.m5d.16xlarge",
    "vcpuNum": 64
   },
   {
    "_defaultOrder": 19,
    "_isFastLaunch": false,
    "category": "General purpose",
    "gpuNum": 0,
    "hideHardwareSpecs": false,
    "memoryGiB": 384,
    "name": "ml.m5d.24xlarge",
    "vcpuNum": 96
   },
   {
    "_defaultOrder": 20,
    "_isFastLaunch": false,
    "category": "General purpose",
    "gpuNum": 0,
    "hideHardwareSpecs": true,
    "memoryGiB": 0,
    "name": "ml.geospatial.interactive",
    "supportedImageNames": [
     "sagemaker-geospatial-v1-0"
    ],
    "vcpuNum": 0
   },
   {
    "_defaultOrder": 21,
    "_isFastLaunch": true,
    "category": "Compute optimized",
    "gpuNum": 0,
    "hideHardwareSpecs": false,
    "memoryGiB": 4,
    "name": "ml.c5.large",
    "vcpuNum": 2
   },
   {
    "_defaultOrder": 22,
    "_isFastLaunch": false,
    "category": "Compute optimized",
    "gpuNum": 0,
    "hideHardwareSpecs": false,
    "memoryGiB": 8,
    "name": "ml.c5.xlarge",
    "vcpuNum": 4
   },
   {
    "_defaultOrder": 23,
    "_isFastLaunch": false,
    "category": "Compute optimized",
    "gpuNum": 0,
    "hideHardwareSpecs": false,
    "memoryGiB": 16,
    "name": "ml.c5.2xlarge",
    "vcpuNum": 8
   },
   {
    "_defaultOrder": 24,
    "_isFastLaunch": false,
    "category": "Compute optimized",
    "gpuNum": 0,
    "hideHardwareSpecs": false,
    "memoryGiB": 32,
    "name": "ml.c5.4xlarge",
    "vcpuNum": 16
   },
   {
    "_defaultOrder": 25,
    "_isFastLaunch": false,
    "category": "Compute optimized",
    "gpuNum": 0,
    "hideHardwareSpecs": false,
    "memoryGiB": 72,
    "name": "ml.c5.9xlarge",
    "vcpuNum": 36
   },
   {
    "_defaultOrder": 26,
    "_isFastLaunch": false,
    "category": "Compute optimized",
    "gpuNum": 0,
    "hideHardwareSpecs": false,
    "memoryGiB": 96,
    "name": "ml.c5.12xlarge",
    "vcpuNum": 48
   },
   {
    "_defaultOrder": 27,
    "_isFastLaunch": false,
    "category": "Compute optimized",
    "gpuNum": 0,
    "hideHardwareSpecs": false,
    "memoryGiB": 144,
    "name": "ml.c5.18xlarge",
    "vcpuNum": 72
   },
   {
    "_defaultOrder": 28,
    "_isFastLaunch": false,
    "category": "Compute optimized",
    "gpuNum": 0,
    "hideHardwareSpecs": false,
    "memoryGiB": 192,
    "name": "ml.c5.24xlarge",
    "vcpuNum": 96
   },
   {
    "_defaultOrder": 29,
    "_isFastLaunch": true,
    "category": "Accelerated computing",
    "gpuNum": 1,
    "hideHardwareSpecs": false,
    "memoryGiB": 16,
    "name": "ml.g4dn.xlarge",
    "vcpuNum": 4
   },
   {
    "_defaultOrder": 30,
    "_isFastLaunch": false,
    "category": "Accelerated computing",
    "gpuNum": 1,
    "hideHardwareSpecs": false,
    "memoryGiB": 32,
    "name": "ml.g4dn.2xlarge",
    "vcpuNum": 8
   },
   {
    "_defaultOrder": 31,
    "_isFastLaunch": false,
    "category": "Accelerated computing",
    "gpuNum": 1,
    "hideHardwareSpecs": false,
    "memoryGiB": 64,
    "name": "ml.g4dn.4xlarge",
    "vcpuNum": 16
   },
   {
    "_defaultOrder": 32,
    "_isFastLaunch": false,
    "category": "Accelerated computing",
    "gpuNum": 1,
    "hideHardwareSpecs": false,
    "memoryGiB": 128,
    "name": "ml.g4dn.8xlarge",
    "vcpuNum": 32
   },
   {
    "_defaultOrder": 33,
    "_isFastLaunch": false,
    "category": "Accelerated computing",
    "gpuNum": 4,
    "hideHardwareSpecs": false,
    "memoryGiB": 192,
    "name": "ml.g4dn.12xlarge",
    "vcpuNum": 48
   },
   {
    "_defaultOrder": 34,
    "_isFastLaunch": false,
    "category": "Accelerated computing",
    "gpuNum": 1,
    "hideHardwareSpecs": false,
    "memoryGiB": 256,
    "name": "ml.g4dn.16xlarge",
    "vcpuNum": 64
   },
   {
    "_defaultOrder": 35,
    "_isFastLaunch": false,
    "category": "Accelerated computing",
    "gpuNum": 1,
    "hideHardwareSpecs": false,
    "memoryGiB": 61,
    "name": "ml.p3.2xlarge",
    "vcpuNum": 8
   },
   {
    "_defaultOrder": 36,
    "_isFastLaunch": false,
    "category": "Accelerated computing",
    "gpuNum": 4,
    "hideHardwareSpecs": false,
    "memoryGiB": 244,
    "name": "ml.p3.8xlarge",
    "vcpuNum": 32
   },
   {
    "_defaultOrder": 37,
    "_isFastLaunch": false,
    "category": "Accelerated computing",
    "gpuNum": 8,
    "hideHardwareSpecs": false,
    "memoryGiB": 488,
    "name": "ml.p3.16xlarge",
    "vcpuNum": 64
   },
   {
    "_defaultOrder": 38,
    "_isFastLaunch": false,
    "category": "Accelerated computing",
    "gpuNum": 8,
    "hideHardwareSpecs": false,
    "memoryGiB": 768,
    "name": "ml.p3dn.24xlarge",
    "vcpuNum": 96
   },
   {
    "_defaultOrder": 39,
    "_isFastLaunch": false,
    "category": "Memory Optimized",
    "gpuNum": 0,
    "hideHardwareSpecs": false,
    "memoryGiB": 16,
    "name": "ml.r5.large",
    "vcpuNum": 2
   },
   {
    "_defaultOrder": 40,
    "_isFastLaunch": false,
    "category": "Memory Optimized",
    "gpuNum": 0,
    "hideHardwareSpecs": false,
    "memoryGiB": 32,
    "name": "ml.r5.xlarge",
    "vcpuNum": 4
   },
   {
    "_defaultOrder": 41,
    "_isFastLaunch": false,
    "category": "Memory Optimized",
    "gpuNum": 0,
    "hideHardwareSpecs": false,
    "memoryGiB": 64,
    "name": "ml.r5.2xlarge",
    "vcpuNum": 8
   },
   {
    "_defaultOrder": 42,
    "_isFastLaunch": false,
    "category": "Memory Optimized",
    "gpuNum": 0,
    "hideHardwareSpecs": false,
    "memoryGiB": 128,
    "name": "ml.r5.4xlarge",
    "vcpuNum": 16
   },
   {
    "_defaultOrder": 43,
    "_isFastLaunch": false,
    "category": "Memory Optimized",
    "gpuNum": 0,
    "hideHardwareSpecs": false,
    "memoryGiB": 256,
    "name": "ml.r5.8xlarge",
    "vcpuNum": 32
   },
   {
    "_defaultOrder": 44,
    "_isFastLaunch": false,
    "category": "Memory Optimized",
    "gpuNum": 0,
    "hideHardwareSpecs": false,
    "memoryGiB": 384,
    "name": "ml.r5.12xlarge",
    "vcpuNum": 48
   },
   {
    "_defaultOrder": 45,
    "_isFastLaunch": false,
    "category": "Memory Optimized",
    "gpuNum": 0,
    "hideHardwareSpecs": false,
    "memoryGiB": 512,
    "name": "ml.r5.16xlarge",
    "vcpuNum": 64
   },
   {
    "_defaultOrder": 46,
    "_isFastLaunch": false,
    "category": "Memory Optimized",
    "gpuNum": 0,
    "hideHardwareSpecs": false,
    "memoryGiB": 768,
    "name": "ml.r5.24xlarge",
    "vcpuNum": 96
   },
   {
    "_defaultOrder": 47,
    "_isFastLaunch": false,
    "category": "Accelerated computing",
    "gpuNum": 1,
    "hideHardwareSpecs": false,
    "memoryGiB": 16,
    "name": "ml.g5.xlarge",
    "vcpuNum": 4
   },
   {
    "_defaultOrder": 48,
    "_isFastLaunch": false,
    "category": "Accelerated computing",
    "gpuNum": 1,
    "hideHardwareSpecs": false,
    "memoryGiB": 32,
    "name": "ml.g5.2xlarge",
    "vcpuNum": 8
   },
   {
    "_defaultOrder": 49,
    "_isFastLaunch": false,
    "category": "Accelerated computing",
    "gpuNum": 1,
    "hideHardwareSpecs": false,
    "memoryGiB": 64,
    "name": "ml.g5.4xlarge",
    "vcpuNum": 16
   },
   {
    "_defaultOrder": 50,
    "_isFastLaunch": false,
    "category": "Accelerated computing",
    "gpuNum": 1,
    "hideHardwareSpecs": false,
    "memoryGiB": 128,
    "name": "ml.g5.8xlarge",
    "vcpuNum": 32
   },
   {
    "_defaultOrder": 51,
    "_isFastLaunch": false,
    "category": "Accelerated computing",
    "gpuNum": 1,
    "hideHardwareSpecs": false,
    "memoryGiB": 256,
    "name": "ml.g5.16xlarge",
    "vcpuNum": 64
   },
   {
    "_defaultOrder": 52,
    "_isFastLaunch": false,
    "category": "Accelerated computing",
    "gpuNum": 4,
    "hideHardwareSpecs": false,
    "memoryGiB": 192,
    "name": "ml.g5.12xlarge",
    "vcpuNum": 48
   },
   {
    "_defaultOrder": 53,
    "_isFastLaunch": false,
    "category": "Accelerated computing",
    "gpuNum": 4,
    "hideHardwareSpecs": false,
    "memoryGiB": 384,
    "name": "ml.g5.24xlarge",
    "vcpuNum": 96
   },
   {
    "_defaultOrder": 54,
    "_isFastLaunch": false,
    "category": "Accelerated computing",
    "gpuNum": 8,
    "hideHardwareSpecs": false,
    "memoryGiB": 768,
    "name": "ml.g5.48xlarge",
    "vcpuNum": 192
   },
   {
    "_defaultOrder": 55,
    "_isFastLaunch": false,
    "category": "Accelerated computing",
    "gpuNum": 8,
    "hideHardwareSpecs": false,
    "memoryGiB": 1152,
    "name": "ml.p4d.24xlarge",
    "vcpuNum": 96
   },
   {
    "_defaultOrder": 56,
    "_isFastLaunch": false,
    "category": "Accelerated computing",
    "gpuNum": 8,
    "hideHardwareSpecs": false,
    "memoryGiB": 1152,
    "name": "ml.p4de.24xlarge",
    "vcpuNum": 96
   },
   {
    "_defaultOrder": 57,
    "_isFastLaunch": false,
    "category": "Accelerated computing",
    "gpuNum": 0,
    "hideHardwareSpecs": false,
    "memoryGiB": 32,
    "name": "ml.trn1.2xlarge",
    "vcpuNum": 8
   },
   {
    "_defaultOrder": 58,
    "_isFastLaunch": false,
    "category": "Accelerated computing",
    "gpuNum": 0,
    "hideHardwareSpecs": false,
    "memoryGiB": 512,
    "name": "ml.trn1.32xlarge",
    "vcpuNum": 128
   },
   {
    "_defaultOrder": 59,
    "_isFastLaunch": false,
    "category": "Accelerated computing",
    "gpuNum": 0,
    "hideHardwareSpecs": false,
    "memoryGiB": 512,
    "name": "ml.trn1n.32xlarge",
    "vcpuNum": 128
   }
  ],
  "instance_type": "ml.t3.medium",
  "kernelspec": {
   "display_name": "Python 3 (Data Science 2.0)",
   "language": "python",
   "name": "python3__SAGEMAKER_INTERNAL__arn:aws:sagemaker:us-east-1:081325390199:image/sagemaker-data-science-38"
  },
  "language_info": {
   "codemirror_mode": {
    "name": "ipython",
    "version": 3
   },
   "file_extension": ".py",
   "mimetype": "text/x-python",
   "name": "python",
   "nbconvert_exporter": "python",
   "pygments_lexer": "ipython3",
   "version": "3.8.13"
  }
 },
 "nbformat": 4,
 "nbformat_minor": 5
}
