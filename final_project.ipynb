{
 "cells": [
  {
   "cell_type": "markdown",
   "id": "20b8f492-1642-4819-966d-4c44493fc1e7",
   "metadata": {
    "tags": []
   },
   "source": [
    "# Import Corresponding Packages"
   ]
  },
  {
   "cell_type": "code",
   "execution_count": 101,
   "id": "02cb26ab-fe2d-4f87-b240-a71477364fa0",
   "metadata": {
    "tags": []
   },
   "outputs": [],
   "source": [
    "# Had to install package & upgrade package\n",
    "# !pip install pyathena\n",
    "# !pip install --upgrade pyathena pip"
   ]
  },
  {
   "cell_type": "code",
   "execution_count": 102,
   "id": "347b1d7c-6d2c-4aa0-99f5-7dbe33b420cc",
   "metadata": {
    "tags": []
   },
   "outputs": [],
   "source": [
    "import os\n",
    "import boto3\n",
    "import sagemaker\n",
    "import pandas as pd\n",
    "import numpy as np\n",
    "import csv, json\n",
    "import seaborn as sns\n",
    "import matplotlib.pyplot as plt\n",
    "%matplotlib inline\n",
    "from IPython.display import HTML, display, Image as IImage\n",
    "from io import StringIO\n",
    "from pyathena import connect\n",
    "from sklearn.model_selection import train_test_split\n",
    "import warnings\n",
    "import io\n",
    "from PIL import Image\n",
    "from skimage import transform\n",
    "from sklearn.utils import shuffle\n",
    "import random\n",
    "\n",
    "warnings.filterwarnings('ignore')"
   ]
  },
  {
   "cell_type": "code",
   "execution_count": 103,
   "id": "a2cf400f-727e-4550-8016-30ce715c3359",
   "metadata": {
    "tags": []
   },
   "outputs": [],
   "source": [
    "# Initialize Boto3 Rekognition client\n",
    "\n",
    "rekognition_client = boto3.client(\"rekognition\")\n",
    "s3 = boto3.client(\"s3\")"
   ]
  },
  {
   "cell_type": "markdown",
   "id": "4b05e977-1d46-4db6-a9b6-12de63dec62a",
   "metadata": {},
   "source": [
    "# Detect labels in Traffic sign images"
   ]
  },
  {
   "cell_type": "code",
   "execution_count": 104,
   "id": "5110c800-2f9b-4555-bfe3-bed5ada07f67",
   "metadata": {
    "tags": []
   },
   "outputs": [],
   "source": [
    "# Define s3 bucket name, prefix and output csv file path\n",
    "\n",
    "bucket_name = 'final.project.data.508'\n",
    "prefix_key = 'traffic_signs/'\n",
    "output_csv_key = 'csv_files/traffic_signs.csv'"
   ]
  },
  {
   "cell_type": "code",
   "execution_count": 105,
   "id": "f50cd80f-ff88-4b21-ac7f-76f5b3e056bb",
   "metadata": {
    "tags": []
   },
   "outputs": [],
   "source": [
    "# Function to detect text from an image \n",
    "\n",
    "def detect_text_from_image(bucket_name, image_key):\n",
    "    if image_key.endswith('.jpg'):\n",
    "        rekognition_response = rekognition_client.detect_text(Image={'S3Object': {'Bucket': bucket_name, 'Name': image_key}})\n",
    "        return rekognition_response"
   ]
  },
  {
   "cell_type": "code",
   "execution_count": 106,
   "id": "ca7b1b23-0eaa-4d4b-982e-964c4389fe50",
   "metadata": {
    "tags": []
   },
   "outputs": [],
   "source": [
    "# Get a list of objects in the s3 bucket\n",
    "\n",
    "all_results = []\n",
    "\n",
    "paginator = s3.get_paginator('list_objects_v2')\n",
    "result = paginator.paginate(Bucket=bucket_name, Prefix=prefix_key)\n",
    "\n",
    "for page in result:\n",
    "    if \"Contents\" in page:\n",
    "         for key in page[ \"Contents\" ]:\n",
    "             keyString = key[ \"Key\" ]\n",
    "             print(keyString)\n",
    "             if keyString.endswith('.jpg'):\n",
    "                 response = detect_text_from_image(bucket_name, keyString)\n",
    "                 all_results.append({'Image': keyString, 'TextDetections': response['TextDetections']})"
   ]
  },
  {
   "cell_type": "code",
   "execution_count": 107,
   "id": "22e13434-d38e-4586-a9c3-564b448808a8",
   "metadata": {
    "tags": []
   },
   "outputs": [
    {
     "name": "stdout",
     "output_type": "stream",
     "text": [
      "Text detection results saved to: s3://final.project.data.508/csv_files/traffic_signs.csv\n"
     ]
    }
   ],
   "source": [
    "# # Write aggregated results to a single CSV file\n",
    "\n",
    "csv_buffer = StringIO()\n",
    "writer = csv.DictWriter(csv_buffer, fieldnames=['Image', 'DetectedText', 'Type', 'Confidence'])\n",
    "writer.writeheader()\n",
    "for result in all_results:\n",
    "    image_key = result['Image']\n",
    "    for detection in result['TextDetections']:\n",
    "        detected_text = detection['DetectedText']\n",
    "        text_type = detection['Type']\n",
    "        confidence = detection['Confidence']\n",
    "        writer.writerow({'Image': image_key, 'DetectedText': detected_text, 'Type': text_type, 'Confidence': confidence})\n",
    "        \n",
    "# # Upload CSV string to S3\n",
    "\n",
    "csv_buffer.seek(0)\n",
    "s3.put_object(Body=csv_buffer.getvalue(), Bucket=bucket_name, Key=output_csv_key)\n",
    "\n",
    "print(f\"Text detection results saved to: s3://{bucket_name}/{output_csv_key}\")"
   ]
  },
  {
   "cell_type": "code",
   "execution_count": 108,
   "id": "862e6298-0f82-4d34-bb3a-6dd18b72c821",
   "metadata": {
    "tags": []
   },
   "outputs": [
    {
     "name": "stdout",
     "output_type": "stream",
     "text": [
      "sagemaker.config INFO - Not applying SDK defaults from location: /etc/xdg/sagemaker/config.yaml\n",
      "sagemaker.config INFO - Not applying SDK defaults from location: /root/.config/sagemaker/config.yaml\n",
      "sagemaker.config INFO - Not applying SDK defaults from location: /etc/xdg/sagemaker/config.yaml\n",
      "sagemaker.config INFO - Not applying SDK defaults from location: /root/.config/sagemaker/config.yaml\n"
     ]
    }
   ],
   "source": [
    "# Create athena database\n",
    "\n",
    "sess = sagemaker.Session()\n",
    "role = sagemaker.get_execution_role()\n",
    "bucket = sess.default_bucket()\n",
    "region = boto3.Session().region_name\n",
    "\n",
    "ingest_create_athena_db_passed = False"
   ]
  },
  {
   "cell_type": "code",
   "execution_count": 109,
   "id": "f24b3791-a436-48d4-b5cf-be9224468914",
   "metadata": {
    "tags": []
   },
   "outputs": [],
   "source": [
    "# Set Athena database name\n",
    "\n",
    "database_name = \"velocityvision\""
   ]
  },
  {
   "cell_type": "code",
   "execution_count": 110,
   "id": "dc685f68-b2da-4281-a91b-873b8836b1e2",
   "metadata": {
    "tags": []
   },
   "outputs": [],
   "source": [
    "# Set S3 staging directory -- this is a temporary directory used for Athena queries\n",
    "\n",
    "s3_staging_dir = \"s3://{0}/athena/staging\".format(bucket)"
   ]
  },
  {
   "cell_type": "code",
   "execution_count": 111,
   "id": "d60f25c1-0031-41e7-881b-8fae276890c8",
   "metadata": {
    "tags": []
   },
   "outputs": [],
   "source": [
    "# Connect to s3 using PyAthena\n",
    "\n",
    "conn = connect(region_name=region, s3_staging_dir=s3_staging_dir)"
   ]
  },
  {
   "cell_type": "code",
   "execution_count": 112,
   "id": "fb73e9df-14b3-4a16-99d7-d00551f77fb5",
   "metadata": {
    "tags": []
   },
   "outputs": [
    {
     "name": "stdout",
     "output_type": "stream",
     "text": [
      "CREATE DATABASE IF NOT EXISTS velocityvision\n"
     ]
    },
    {
     "data": {
      "text/html": [
       "<div>\n",
       "<style scoped>\n",
       "    .dataframe tbody tr th:only-of-type {\n",
       "        vertical-align: middle;\n",
       "    }\n",
       "\n",
       "    .dataframe tbody tr th {\n",
       "        vertical-align: top;\n",
       "    }\n",
       "\n",
       "    .dataframe thead th {\n",
       "        text-align: right;\n",
       "    }\n",
       "</style>\n",
       "<table border=\"1\" class=\"dataframe\">\n",
       "  <thead>\n",
       "    <tr style=\"text-align: right;\">\n",
       "      <th></th>\n",
       "    </tr>\n",
       "  </thead>\n",
       "  <tbody>\n",
       "  </tbody>\n",
       "</table>\n",
       "</div>"
      ],
      "text/plain": [
       "Empty DataFrame\n",
       "Columns: []\n",
       "Index: []"
      ]
     },
     "execution_count": 112,
     "metadata": {},
     "output_type": "execute_result"
    }
   ],
   "source": [
    "# SQL statement to execute\n",
    "\n",
    "statement = \"CREATE DATABASE IF NOT EXISTS {}\".format(database_name)\n",
    "print(statement)\n",
    "pd.read_sql(statement, conn)"
   ]
  },
  {
   "cell_type": "code",
   "execution_count": 113,
   "id": "11029721-91f2-4687-addd-08517da44df1",
   "metadata": {
    "tags": []
   },
   "outputs": [],
   "source": [
    "input_data_location = \"s3://finalprojectdata/csv_files\""
   ]
  },
  {
   "cell_type": "code",
   "execution_count": 114,
   "id": "ff1f2857-a56c-4f5a-bc8b-cd7b59943411",
   "metadata": {},
   "outputs": [
    {
     "data": {
      "text/html": [
       "<div>\n",
       "<style scoped>\n",
       "    .dataframe tbody tr th:only-of-type {\n",
       "        vertical-align: middle;\n",
       "    }\n",
       "\n",
       "    .dataframe tbody tr th {\n",
       "        vertical-align: top;\n",
       "    }\n",
       "\n",
       "    .dataframe thead th {\n",
       "        text-align: right;\n",
       "    }\n",
       "</style>\n",
       "<table border=\"1\" class=\"dataframe\">\n",
       "  <thead>\n",
       "    <tr style=\"text-align: right;\">\n",
       "      <th></th>\n",
       "      <th>image_id</th>\n",
       "      <th>detected_text</th>\n",
       "      <th>type</th>\n",
       "      <th>confidence</th>\n",
       "    </tr>\n",
       "  </thead>\n",
       "  <tbody>\n",
       "    <tr>\n",
       "      <th>0</th>\n",
       "      <td>traffic_signs/000000_jpg.rf.b11f308f16626f9f79...</td>\n",
       "      <td>30</td>\n",
       "      <td>LINE</td>\n",
       "      <td>99.548250</td>\n",
       "    </tr>\n",
       "    <tr>\n",
       "      <th>1</th>\n",
       "      <td>traffic_signs/000000_jpg.rf.b11f308f16626f9f79...</td>\n",
       "      <td>RYARSH</td>\n",
       "      <td>LINE</td>\n",
       "      <td>99.415030</td>\n",
       "    </tr>\n",
       "    <tr>\n",
       "      <th>2</th>\n",
       "      <td>traffic_signs/000000_jpg.rf.b11f308f16626f9f79...</td>\n",
       "      <td>Please reduce</td>\n",
       "      <td>LINE</td>\n",
       "      <td>99.164894</td>\n",
       "    </tr>\n",
       "    <tr>\n",
       "      <th>3</th>\n",
       "      <td>traffic_signs/000000_jpg.rf.b11f308f16626f9f79...</td>\n",
       "      <td>your speed</td>\n",
       "      <td>LINE</td>\n",
       "      <td>99.207320</td>\n",
       "    </tr>\n",
       "    <tr>\n",
       "      <th>4</th>\n",
       "      <td>traffic_signs/000000_jpg.rf.b11f308f16626f9f79...</td>\n",
       "      <td>30</td>\n",
       "      <td>WORD</td>\n",
       "      <td>99.548250</td>\n",
       "    </tr>\n",
       "  </tbody>\n",
       "</table>\n",
       "</div>"
      ],
      "text/plain": [
       "                                            image_id  detected_text  type  \\\n",
       "0  traffic_signs/000000_jpg.rf.b11f308f16626f9f79...             30  LINE   \n",
       "1  traffic_signs/000000_jpg.rf.b11f308f16626f9f79...         RYARSH  LINE   \n",
       "2  traffic_signs/000000_jpg.rf.b11f308f16626f9f79...  Please reduce  LINE   \n",
       "3  traffic_signs/000000_jpg.rf.b11f308f16626f9f79...     your speed  LINE   \n",
       "4  traffic_signs/000000_jpg.rf.b11f308f16626f9f79...             30  WORD   \n",
       "\n",
       "   confidence  \n",
       "0   99.548250  \n",
       "1   99.415030  \n",
       "2   99.164894  \n",
       "3   99.207320  \n",
       "4   99.548250  "
      ]
     },
     "execution_count": 114,
     "metadata": {},
     "output_type": "execute_result"
    }
   ],
   "source": [
    "# SQL statement to execute the traffic signs text detection\n",
    "\n",
    "table_name1 = 'traffic_signs'\n",
    "pd.read_sql(f'DROP TABLE IF EXISTS {database_name}.{table_name1}', conn)\n",
    "\n",
    "create_table = f\"\"\"\n",
    "CREATE EXTERNAL TABLE IF NOT EXISTS {database_name}.{table_name1}(\n",
    "            image_id string,\n",
    "            detected_text string,\n",
    "            type string,\n",
    "            confidence float\n",
    "            )\n",
    "            \n",
    "            ROW FORMAT DELIMITED FIELDS TERMINATED BY ','\n",
    "            LOCATION '{input_data_location}'\n",
    "            TBLPROPERTIES ('skip.header.line.count'='1')\n",
    "\"\"\"\n",
    "\n",
    "pd.read_sql(create_table, conn)\n",
    "\n",
    "pd.read_sql(f'SELECT * FROM {database_name}.{table_name1} LIMIT 5', conn)"
   ]
  },
  {
   "cell_type": "code",
   "execution_count": 115,
   "id": "d8c720fa-b073-45e4-9b95-807967217c4f",
   "metadata": {
    "tags": []
   },
   "outputs": [],
   "source": [
    "# SQL statement to filter rows for \"WORD\" type\n",
    "\n",
    "query1 = \"SELECT * FROM {}.{} WHERE type='WORD'\".format(database_name, table_name1)\n",
    "traffic_signs_df = pd.read_sql(query1, conn)"
   ]
  },
  {
   "cell_type": "code",
   "execution_count": 116,
   "id": "b1a69b2a-1678-498e-a957-817ec9666d93",
   "metadata": {
    "tags": []
   },
   "outputs": [
    {
     "data": {
      "text/plain": [
       "(22975, 4)"
      ]
     },
     "execution_count": 116,
     "metadata": {},
     "output_type": "execute_result"
    }
   ],
   "source": [
    "traffic_signs_df.shape"
   ]
  },
  {
   "cell_type": "markdown",
   "id": "33ed36a1-d9e7-440a-9768-684a7a8f6e0e",
   "metadata": {},
   "source": [
    "## Checking duplicate values"
   ]
  },
  {
   "cell_type": "code",
   "execution_count": 117,
   "id": "3e8f5333-ddba-45ec-8d59-d61509b7bd31",
   "metadata": {
    "tags": []
   },
   "outputs": [
    {
     "data": {
      "text/plain": [
       "7993"
      ]
     },
     "execution_count": 117,
     "metadata": {},
     "output_type": "execute_result"
    }
   ],
   "source": [
    "traffic_signs_df.duplicated().sum()"
   ]
  },
  {
   "cell_type": "code",
   "execution_count": 118,
   "id": "aaa4034d-921c-41ca-9528-85f7a24b46df",
   "metadata": {
    "tags": []
   },
   "outputs": [
    {
     "data": {
      "text/plain": [
       "(14982, 4)"
      ]
     },
     "execution_count": 118,
     "metadata": {},
     "output_type": "execute_result"
    }
   ],
   "source": [
    "# Removing duplicate rows\n",
    "\n",
    "traffic_signs_df.drop_duplicates(inplace = True)\n",
    "traffic_signs_df.shape"
   ]
  },
  {
   "cell_type": "code",
   "execution_count": 119,
   "id": "08252f05-ea09-4d70-9a62-4aee40220a2f",
   "metadata": {
    "tags": []
   },
   "outputs": [
    {
     "data": {
      "text/html": [
       "<div>\n",
       "<style scoped>\n",
       "    .dataframe tbody tr th:only-of-type {\n",
       "        vertical-align: middle;\n",
       "    }\n",
       "\n",
       "    .dataframe tbody tr th {\n",
       "        vertical-align: top;\n",
       "    }\n",
       "\n",
       "    .dataframe thead th {\n",
       "        text-align: right;\n",
       "    }\n",
       "</style>\n",
       "<table border=\"1\" class=\"dataframe\">\n",
       "  <thead>\n",
       "    <tr style=\"text-align: right;\">\n",
       "      <th></th>\n",
       "      <th>image_id</th>\n",
       "      <th>type</th>\n",
       "      <th>detected_text</th>\n",
       "      <th>confidence</th>\n",
       "    </tr>\n",
       "  </thead>\n",
       "  <tbody>\n",
       "    <tr>\n",
       "      <th>0</th>\n",
       "      <td>license_plate/license_1/00009e5b390986a0.jpg</td>\n",
       "      <td>WORD</td>\n",
       "      <td>Bel &amp; The Dragen a Eating Ноква Te Days P طنية...</td>\n",
       "      <td>98.897190</td>\n",
       "    </tr>\n",
       "    <tr>\n",
       "      <th>1</th>\n",
       "      <td>license_plate/license_1/00009e5b390986a0_jpg.r...</td>\n",
       "      <td>WORD</td>\n",
       "      <td>MG Dr Bragan Joseph SANG P -</td>\n",
       "      <td>87.967316</td>\n",
       "    </tr>\n",
       "    <tr>\n",
       "      <th>2</th>\n",
       "      <td>license_plate/license_1/00009e5b390986a0_jpg.r...</td>\n",
       "      <td>WORD</td>\n",
       "      <td>15 118 and التحج your</td>\n",
       "      <td>83.933174</td>\n",
       "    </tr>\n",
       "    <tr>\n",
       "      <th>3</th>\n",
       "      <td>license_plate/license_1/00009e5b390986a0_jpg.r...</td>\n",
       "      <td>WORD</td>\n",
       "      <td>M 10r Вори People Rainy</td>\n",
       "      <td>57.783930</td>\n",
       "    </tr>\n",
       "    <tr>\n",
       "      <th>4</th>\n",
       "      <td>license_plate/license_1/0002a5b67e5f0909_jpg.r...</td>\n",
       "      <td>WORD</td>\n",
       "      <td>и Andrews Church DS00 PCZ</td>\n",
       "      <td>98.522736</td>\n",
       "    </tr>\n",
       "  </tbody>\n",
       "</table>\n",
       "</div>"
      ],
      "text/plain": [
       "                                            image_id  type  \\\n",
       "0       license_plate/license_1/00009e5b390986a0.jpg  WORD   \n",
       "1  license_plate/license_1/00009e5b390986a0_jpg.r...  WORD   \n",
       "2  license_plate/license_1/00009e5b390986a0_jpg.r...  WORD   \n",
       "3  license_plate/license_1/00009e5b390986a0_jpg.r...  WORD   \n",
       "4  license_plate/license_1/0002a5b67e5f0909_jpg.r...  WORD   \n",
       "\n",
       "                                       detected_text  confidence  \n",
       "0  Bel & The Dragen a Eating Ноква Te Days P طنية...   98.897190  \n",
       "1                       MG Dr Bragan Joseph SANG P -   87.967316  \n",
       "2                              15 118 and التحج your   83.933174  \n",
       "3                            M 10r Вори People Rainy   57.783930  \n",
       "4                          и Andrews Church DS00 PCZ   98.522736  "
      ]
     },
     "execution_count": 119,
     "metadata": {},
     "output_type": "execute_result"
    }
   ],
   "source": [
    "traffic_df = traffic_signs_df.groupby(['image_id', 'type']).agg({'detected_text': ' '.join, 'confidence':'max'}).reset_index()\n",
    "traffic_df.head()"
   ]
  },
  {
   "cell_type": "code",
   "execution_count": 120,
   "id": "011a433c-2743-4a90-9495-5a15f1e54110",
   "metadata": {},
   "outputs": [
    {
     "data": {
      "text/html": [
       "<div>\n",
       "<style scoped>\n",
       "    .dataframe tbody tr th:only-of-type {\n",
       "        vertical-align: middle;\n",
       "    }\n",
       "\n",
       "    .dataframe tbody tr th {\n",
       "        vertical-align: top;\n",
       "    }\n",
       "\n",
       "    .dataframe thead th {\n",
       "        text-align: right;\n",
       "    }\n",
       "</style>\n",
       "<table border=\"1\" class=\"dataframe\">\n",
       "  <thead>\n",
       "    <tr style=\"text-align: right;\">\n",
       "      <th></th>\n",
       "    </tr>\n",
       "  </thead>\n",
       "  <tbody>\n",
       "  </tbody>\n",
       "</table>\n",
       "</div>"
      ],
      "text/plain": [
       "Empty DataFrame\n",
       "Columns: []\n",
       "Index: []"
      ]
     },
     "execution_count": 120,
     "metadata": {},
     "output_type": "execute_result"
    }
   ],
   "source": [
    "# SQL statement to execute the analysis of vehicle speed\n",
    "\n",
    "table_name2 = 'vehicle_speed'\n",
    "pd.read_sql(f'DROP TABLE IF EXISTS {database_name}.{table_name2}', conn)\n",
    "\n",
    "create_table = f\"\"\"\n",
    "CREATE EXTERNAL TABLE IF NOT EXISTS {database_name}.{table_name2}(\n",
    "             latitude float,\n",
    "             longitude float,\n",
    "             target_speed float,\n",
    "             way_maxspeed float,\n",
    "             speed_osrm float,\n",
    "             elevation float,\n",
    "             fwd_azimuth float,\n",
    "             way_type string,\n",
    "             way_surface string,\n",
    "             node_intersection string,\n",
    "             node_railway string,\n",
    "             node_crossing string,\n",
    "             node_highway string,\n",
    "             node_stop string,\n",
    "             start_stop int,\n",
    "             azimuth_diff int,\n",
    "             elevation_diff float\n",
    "             )\n",
    "             \n",
    "             ROW FORMAT DELIMITED FIELDS TERMINATED BY ','\n",
    "             LOCATION 's3://finalprojectdata/vehicle_speed'\n",
    "             TBLPROPERTIES ('skip.header.line.count'='1')\n",
    "\"\"\"\n",
    "\n",
    "pd.read_sql(create_table, conn)"
   ]
  },
  {
   "cell_type": "code",
   "execution_count": 121,
   "id": "38971b75-0c6e-487a-a778-50764d2c62a2",
   "metadata": {
    "tags": []
   },
   "outputs": [
    {
     "data": {
      "text/html": [
       "<div>\n",
       "<style scoped>\n",
       "    .dataframe tbody tr th:only-of-type {\n",
       "        vertical-align: middle;\n",
       "    }\n",
       "\n",
       "    .dataframe tbody tr th {\n",
       "        vertical-align: top;\n",
       "    }\n",
       "\n",
       "    .dataframe thead th {\n",
       "        text-align: right;\n",
       "    }\n",
       "</style>\n",
       "<table border=\"1\" class=\"dataframe\">\n",
       "  <thead>\n",
       "    <tr style=\"text-align: right;\">\n",
       "      <th></th>\n",
       "      <th>latitude</th>\n",
       "      <th>longitude</th>\n",
       "      <th>target_speed</th>\n",
       "      <th>way_maxspeed</th>\n",
       "      <th>speed_osrm</th>\n",
       "      <th>elevation</th>\n",
       "      <th>fwd_azimuth</th>\n",
       "      <th>way_type</th>\n",
       "      <th>way_surface</th>\n",
       "      <th>node_intersection</th>\n",
       "      <th>node_railway</th>\n",
       "      <th>node_crossing</th>\n",
       "      <th>node_highway</th>\n",
       "      <th>node_stop</th>\n",
       "      <th>start_stop</th>\n",
       "      <th>azimuth_diff</th>\n",
       "      <th>elevation_diff</th>\n",
       "    </tr>\n",
       "  </thead>\n",
       "  <tbody>\n",
       "    <tr>\n",
       "      <th>0</th>\n",
       "      <td>50.397060</td>\n",
       "      <td>14.913273</td>\n",
       "      <td>39.739456</td>\n",
       "      <td>130.0</td>\n",
       "      <td>28.837246</td>\n",
       "      <td>229.77516</td>\n",
       "      <td>46.24135</td>\n",
       "      <td>motorway</td>\n",
       "      <td>asphalt</td>\n",
       "      <td></td>\n",
       "      <td></td>\n",
       "      <td></td>\n",
       "      <td></td>\n",
       "      <td></td>\n",
       "      <td>0</td>\n",
       "      <td>0.0</td>\n",
       "      <td>-0.025587</td>\n",
       "    </tr>\n",
       "    <tr>\n",
       "      <th>1</th>\n",
       "      <td>50.397068</td>\n",
       "      <td>14.913283</td>\n",
       "      <td>39.717785</td>\n",
       "      <td>130.0</td>\n",
       "      <td>28.875628</td>\n",
       "      <td>229.74959</td>\n",
       "      <td>46.24135</td>\n",
       "      <td>motorway</td>\n",
       "      <td>asphalt</td>\n",
       "      <td></td>\n",
       "      <td></td>\n",
       "      <td></td>\n",
       "      <td></td>\n",
       "      <td></td>\n",
       "      <td>0</td>\n",
       "      <td>0.0</td>\n",
       "      <td>-0.025587</td>\n",
       "    </tr>\n",
       "    <tr>\n",
       "      <th>2</th>\n",
       "      <td>50.397076</td>\n",
       "      <td>14.913294</td>\n",
       "      <td>39.696114</td>\n",
       "      <td>130.0</td>\n",
       "      <td>28.914007</td>\n",
       "      <td>229.72400</td>\n",
       "      <td>46.24135</td>\n",
       "      <td>motorway</td>\n",
       "      <td>asphalt</td>\n",
       "      <td></td>\n",
       "      <td></td>\n",
       "      <td></td>\n",
       "      <td></td>\n",
       "      <td></td>\n",
       "      <td>0</td>\n",
       "      <td>0.0</td>\n",
       "      <td>-0.025587</td>\n",
       "    </tr>\n",
       "    <tr>\n",
       "      <th>3</th>\n",
       "      <td>50.397080</td>\n",
       "      <td>14.913303</td>\n",
       "      <td>39.674442</td>\n",
       "      <td>130.0</td>\n",
       "      <td>28.952387</td>\n",
       "      <td>229.69841</td>\n",
       "      <td>46.24135</td>\n",
       "      <td>motorway</td>\n",
       "      <td>asphalt</td>\n",
       "      <td></td>\n",
       "      <td></td>\n",
       "      <td></td>\n",
       "      <td></td>\n",
       "      <td></td>\n",
       "      <td>0</td>\n",
       "      <td>0.0</td>\n",
       "      <td>-0.025587</td>\n",
       "    </tr>\n",
       "    <tr>\n",
       "      <th>4</th>\n",
       "      <td>50.397087</td>\n",
       "      <td>14.913314</td>\n",
       "      <td>39.652770</td>\n",
       "      <td>130.0</td>\n",
       "      <td>28.990767</td>\n",
       "      <td>229.67282</td>\n",
       "      <td>46.24135</td>\n",
       "      <td>motorway</td>\n",
       "      <td>asphalt</td>\n",
       "      <td></td>\n",
       "      <td></td>\n",
       "      <td></td>\n",
       "      <td></td>\n",
       "      <td></td>\n",
       "      <td>0</td>\n",
       "      <td>0.0</td>\n",
       "      <td>-0.025587</td>\n",
       "    </tr>\n",
       "  </tbody>\n",
       "</table>\n",
       "</div>"
      ],
      "text/plain": [
       "    latitude  longitude  target_speed  way_maxspeed  speed_osrm  elevation  \\\n",
       "0  50.397060  14.913273     39.739456         130.0   28.837246  229.77516   \n",
       "1  50.397068  14.913283     39.717785         130.0   28.875628  229.74959   \n",
       "2  50.397076  14.913294     39.696114         130.0   28.914007  229.72400   \n",
       "3  50.397080  14.913303     39.674442         130.0   28.952387  229.69841   \n",
       "4  50.397087  14.913314     39.652770         130.0   28.990767  229.67282   \n",
       "\n",
       "   fwd_azimuth  way_type way_surface node_intersection node_railway  \\\n",
       "0     46.24135  motorway     asphalt                                  \n",
       "1     46.24135  motorway     asphalt                                  \n",
       "2     46.24135  motorway     asphalt                                  \n",
       "3     46.24135  motorway     asphalt                                  \n",
       "4     46.24135  motorway     asphalt                                  \n",
       "\n",
       "  node_crossing node_highway node_stop  start_stop  azimuth_diff  \\\n",
       "0                                                0           0.0   \n",
       "1                                                0           0.0   \n",
       "2                                                0           0.0   \n",
       "3                                                0           0.0   \n",
       "4                                                0           0.0   \n",
       "\n",
       "   elevation_diff  \n",
       "0       -0.025587  \n",
       "1       -0.025587  \n",
       "2       -0.025587  \n",
       "3       -0.025587  \n",
       "4       -0.025587  "
      ]
     },
     "execution_count": 121,
     "metadata": {},
     "output_type": "execute_result"
    }
   ],
   "source": [
    "vehicle_speed_df = pd.read_sql(f'SELECT * FROM {database_name}.{table_name2}', conn)\n",
    "vehicle_speed_df.head()"
   ]
  },
  {
   "cell_type": "markdown",
   "id": "1d6130b0-6a6f-4d13-8ee5-95bf037e4564",
   "metadata": {},
   "source": [
    "## Conducting Data Cleansing Techniques"
   ]
  },
  {
   "cell_type": "code",
   "execution_count": 122,
   "id": "6b08374d-34d0-4499-b91d-3a7c442101ef",
   "metadata": {
    "tags": []
   },
   "outputs": [],
   "source": [
    "# First copied the files from a public to private bucket\n",
    "# List the contents of the public bucket\n",
    "# !aws s3 ls s3://finalprojectdata/\n",
    "\n",
    "# Create folders in your private bucket for each type of data\n",
    "# !aws s3 mb s3://final.project.data.508/vehicle_type\n",
    "# !aws s3 mb s3://final.project.data.508/license_plate\n",
    "# !aws s3 mb s3://final.project.data.508/traffic_signage\n",
    "# !aws s3 mb s3://final.project.data.508/vehicle_speed\n",
    "\n",
    "# Copy the contents of each folder from the public bucket to your private bucket\n",
    "# !aws s3 cp s3://finalprojectdata/cars_type/ s3://final.project.data.508/vehicle_type/ --recursive\n",
    "# !aws s3 cp s3://finalprojectdata/traffic_signs/ s3://final.project.data.508/traffic_signage/ --recursive\n",
    "# !aws s3 cp s3://finalprojectdata/license_plate/ s3://final.project.data.508/license_plate/ --recursive\n",
    "# !aws s3 cp s3://finalprojectdata/vehicle_speed/ s3://final.project.data.508/vehicle_speed/ --recursive"
   ]
  },
  {
   "cell_type": "code",
   "execution_count": 123,
   "id": "29dcf380-007d-44b3-b447-14844cbef415",
   "metadata": {
    "tags": []
   },
   "outputs": [],
   "source": [
    "# Function to read the dataset from S3\n",
    "def read_dataset_from_s3(bucket, prefix):\n",
    "    s3 = boto3.client('s3')\n",
    "    objs = s3.list_objects_v2(Bucket=bucket, Prefix=prefix)\n",
    "    image_paths = [obj['Key'] for obj in objs['Contents']]\n",
    "    return pd.DataFrame({'image_id': image_paths})\n",
    "\n",
    "# Function to resize images\n",
    "def resize_image(image, target_size):\n",
    "    return transform.resize(image, target_size)\n",
    "\n",
    "# Function to normalize pixel values\n",
    "def normalize_image(image):\n",
    "    return image / 255.0\n",
    "\n",
    "# Function to perform data augmentation\n",
    "def augment_data(images, labels, augment_factor):\n",
    "    augmented_images = []\n",
    "    augmented_labels = []\n",
    "\n",
    "    for image, label in zip(images, labels):\n",
    "        augmented_images.append(image)\n",
    "        augmented_labels.append(label)\n",
    "\n",
    "        # Apply transformations and add augmented samples\n",
    "        for _ in range(augment_factor):\n",
    "            augmented_image = apply_random_augmentation(image)  # Define your augmentation function\n",
    "            augmented_images.append(augmented_image)\n",
    "            augmented_labels.append(label)\n",
    "\n",
    "    return np.array(augmented_images), np.array(augmented_labels)\n",
    "\n",
    "# Define a function to apply random augmentations\n",
    "def apply_random_augmentation(image):\n",
    "    # Randomly select an augmentation to apply\n",
    "    augmentation_type = random.choice([\"flip_horizontal\", \"flip_vertical\", \"rotate\", \"shift\", \"brightness\"])\n",
    "\n",
    "    if augmentation_type == \"flip_horizontal\":\n",
    "        return np.fliplr(image)\n",
    "    elif augmentation_type == \"flip_vertical\":\n",
    "        return np.flipud(image)\n",
    "    elif augmentation_type == \"rotate\":\n",
    "        return np.rot90(image)\n",
    "    elif augmentation_type == \"shift\":\n",
    "        # Example: Shift the image by a random amount\n",
    "        shift_amount = random.randint(-10, 10)\n",
    "        return np.roll(image, shift_amount, axis=random.choice([0, 1]))\n",
    "    elif augmentation_type == \"brightness\":\n",
    "        # Example: Adjust brightness by adding random noise\n",
    "        brightness_factor = random.uniform(0.5, 1.5)\n",
    "        return np.clip(image * brightness_factor, 0, 1)\n",
    "\n",
    "# Set the bucket & prefix for the dataset location\n",
    "bucket = 'final.project.data.508'\n",
    "prefix = 'traffic_signage/'\n",
    "\n",
    "# Read dataset from S3\n",
    "traffic_df = read_dataset_from_s3(bucket, prefix)\n",
    "\n",
    "# Resize images to a uniform size\n",
    "target_size = (32, 32)\n",
    "resized_images = []\n",
    "s3 = boto3.client('s3')\n",
    "for image_path in traffic_df['image_id']:\n",
    "    obj = s3.get_object(Bucket=bucket, Key=image_path)\n",
    "    image = Image.open(io.BytesIO(obj['Body'].read()))\n",
    "    resized_image = resize_image(np.array(image), target_size)\n",
    "    resized_images.append(resized_image)\n",
    "\n",
    "# Normalize pixel values\n",
    "normalized_images = np.array([normalize_image(image) for image in resized_images])\n",
    "\n",
    "# Perform data augmentation (example with augment_factor=2)\n",
    "augmented_images, augmented_labels = augment_data(normalized_images, \n",
    "                                                  np.zeros(len(normalized_images)),  # Dummy labels\n",
    "                                                  augment_factor=2)\n",
    "\n",
    "# Shuffle the augmented data\n",
    "augmented_images, augmented_labels = shuffle(augmented_images, augmented_labels)\n",
    "\n",
    "# Save the preprocessed data for training\n",
    "np.save('augmented_images.npy', augmented_images)\n",
    "np.save('augmented_labels.npy', augmented_labels)"
   ]
  },
  {
   "cell_type": "code",
   "execution_count": 124,
   "id": "14d1cbe6-8dc0-4f1c-b1c0-db2067cdc572",
   "metadata": {
    "tags": []
   },
   "outputs": [],
   "source": [
    "# Save the preprocessed .npy files into my S3 bucket\n",
    "\n",
    "# Define the bucket name and prefix\n",
    "bucket_name = 'final.project.data.508'\n",
    "prefix = 'pre_processed_signage/'\n",
    "\n",
    "# Initialize the S3 client\n",
    "s3 = boto3.client('s3')\n",
    "\n",
    "# Save augmented_images.npy\n",
    "augmented_images_key = 'augmented_images.npy'\n",
    "np.save(augmented_images_key, augmented_images)\n",
    "s3.upload_file(augmented_images_key, bucket_name, prefix + augmented_images_key)\n",
    "\n",
    "# Save augmented_labels.npy\n",
    "augmented_labels_key = 'augmented_labels.npy'\n",
    "np.save(augmented_labels_key, augmented_labels)\n",
    "s3.upload_file(augmented_labels_key, bucket_name, prefix + augmented_labels_key)"
   ]
  },
  {
   "cell_type": "code",
   "execution_count": 150,
   "id": "f2fbc4f7-349e-462f-9dbc-f619d52d0955",
   "metadata": {
    "tags": []
   },
   "outputs": [],
   "source": [
    "# Since the .npy format did not work on AutoML, I tried to use csv files\n",
    "\n",
    "# Load preprocessed data\n",
    "augmented_images = np.load('augmented_images.npy')\n",
    "augmented_labels = np.load('augmented_labels.npy')\n",
    "\n",
    "# Reshape images into a format suitable for CSV\n",
    "num_images = augmented_images.shape[0]\n",
    "image_size = augmented_images.shape[1] * augmented_images.shape[2] * augmented_images.shape[3]\n",
    "reshaped_images = augmented_images.reshape(num_images, image_size)\n",
    "\n",
    "# Convert to DataFrame\n",
    "df_images = pd.DataFrame(reshaped_images)\n",
    "df_labels = pd.DataFrame(augmented_labels, columns=['label'])\n",
    "\n",
    "# Concatenate images and labels\n",
    "df = pd.concat([df_images, df_labels], axis=1)\n",
    "\n",
    "# Save DataFrame to CSV\n",
    "df.to_csv('augmented_data.csv', index=False)"
   ]
  },
  {
   "cell_type": "code",
   "execution_count": null,
   "id": "60f037b8-679f-41e3-95ab-2e8628f1fa81",
   "metadata": {},
   "outputs": [],
   "source": [
    "Sav\n",
    "\n",
    "# Define the bucket name and prefix\n",
    "bucket_name = 'final.project.data.508'\n",
    "prefix = 'pre_processed_signage/'\n",
    "\n",
    "# Initialize the S3 client\n",
    "s3 = boto3.client('s3')\n",
    "\n",
    "# Upload augmented_data.csv to S3\n",
    "with open('augmented_data.csv', 'rb') as data:\n",
    "    s3.upload_fileobj(data, bucket_name, prefix + 'augmented_data.csv')"
   ]
  },
  {
   "cell_type": "markdown",
   "id": "24ac0d87-05a4-444b-9035-8d19187cec72",
   "metadata": {},
   "source": [
    "# Exploratory Data Analysis"
   ]
  },
  {
   "cell_type": "markdown",
   "id": "d85aae2d-ee45-4ebb-a725-a458037e0fbf",
   "metadata": {
    "tags": []
   },
   "source": [
    "### Velocity Dataset"
   ]
  },
  {
   "cell_type": "code",
   "execution_count": 125,
   "id": "0b11c10c-ae23-47b7-92c7-cd5d34ac1a69",
   "metadata": {
    "tags": []
   },
   "outputs": [
    {
     "data": {
      "text/html": [
       "<div>\n",
       "<style scoped>\n",
       "    .dataframe tbody tr th:only-of-type {\n",
       "        vertical-align: middle;\n",
       "    }\n",
       "\n",
       "    .dataframe tbody tr th {\n",
       "        vertical-align: top;\n",
       "    }\n",
       "\n",
       "    .dataframe thead th {\n",
       "        text-align: right;\n",
       "    }\n",
       "</style>\n",
       "<table border=\"1\" class=\"dataframe\">\n",
       "  <thead>\n",
       "    <tr style=\"text-align: right;\">\n",
       "      <th></th>\n",
       "      <th>latitude</th>\n",
       "      <th>longitude</th>\n",
       "      <th>target_speed</th>\n",
       "      <th>way_maxspeed</th>\n",
       "      <th>speed_osrm</th>\n",
       "      <th>elevation</th>\n",
       "      <th>fwd_azimuth</th>\n",
       "      <th>way_type</th>\n",
       "      <th>way_surface</th>\n",
       "      <th>node:intersection</th>\n",
       "      <th>node:railway</th>\n",
       "      <th>node:crossing</th>\n",
       "      <th>node:highway</th>\n",
       "      <th>node:stop</th>\n",
       "      <th>start_stop</th>\n",
       "      <th>azimuth_diff</th>\n",
       "      <th>elevation_diff</th>\n",
       "    </tr>\n",
       "  </thead>\n",
       "  <tbody>\n",
       "    <tr>\n",
       "      <th>0</th>\n",
       "      <td>50.397062</td>\n",
       "      <td>14.913273</td>\n",
       "      <td>39.739457</td>\n",
       "      <td>130.0</td>\n",
       "      <td>28.837247</td>\n",
       "      <td>229.775169</td>\n",
       "      <td>46.241347</td>\n",
       "      <td>motorway</td>\n",
       "      <td>asphalt</td>\n",
       "      <td>NaN</td>\n",
       "      <td>NaN</td>\n",
       "      <td>NaN</td>\n",
       "      <td>NaN</td>\n",
       "      <td>NaN</td>\n",
       "      <td>0</td>\n",
       "      <td>0.0</td>\n",
       "      <td>-0.025587</td>\n",
       "    </tr>\n",
       "    <tr>\n",
       "      <th>1</th>\n",
       "      <td>50.397068</td>\n",
       "      <td>14.913283</td>\n",
       "      <td>39.717786</td>\n",
       "      <td>130.0</td>\n",
       "      <td>28.875627</td>\n",
       "      <td>229.749582</td>\n",
       "      <td>46.241347</td>\n",
       "      <td>motorway</td>\n",
       "      <td>asphalt</td>\n",
       "      <td>NaN</td>\n",
       "      <td>NaN</td>\n",
       "      <td>NaN</td>\n",
       "      <td>NaN</td>\n",
       "      <td>NaN</td>\n",
       "      <td>0</td>\n",
       "      <td>0.0</td>\n",
       "      <td>-0.025587</td>\n",
       "    </tr>\n",
       "    <tr>\n",
       "      <th>2</th>\n",
       "      <td>50.397074</td>\n",
       "      <td>14.913294</td>\n",
       "      <td>39.696114</td>\n",
       "      <td>130.0</td>\n",
       "      <td>28.914007</td>\n",
       "      <td>229.723996</td>\n",
       "      <td>46.241347</td>\n",
       "      <td>motorway</td>\n",
       "      <td>asphalt</td>\n",
       "      <td>NaN</td>\n",
       "      <td>NaN</td>\n",
       "      <td>NaN</td>\n",
       "      <td>NaN</td>\n",
       "      <td>NaN</td>\n",
       "      <td>0</td>\n",
       "      <td>0.0</td>\n",
       "      <td>-0.025587</td>\n",
       "    </tr>\n",
       "    <tr>\n",
       "      <th>3</th>\n",
       "      <td>50.397080</td>\n",
       "      <td>14.913304</td>\n",
       "      <td>39.674442</td>\n",
       "      <td>130.0</td>\n",
       "      <td>28.952387</td>\n",
       "      <td>229.698409</td>\n",
       "      <td>46.241347</td>\n",
       "      <td>motorway</td>\n",
       "      <td>asphalt</td>\n",
       "      <td>NaN</td>\n",
       "      <td>NaN</td>\n",
       "      <td>NaN</td>\n",
       "      <td>NaN</td>\n",
       "      <td>NaN</td>\n",
       "      <td>0</td>\n",
       "      <td>0.0</td>\n",
       "      <td>-0.025587</td>\n",
       "    </tr>\n",
       "    <tr>\n",
       "      <th>4</th>\n",
       "      <td>50.397087</td>\n",
       "      <td>14.913314</td>\n",
       "      <td>39.652771</td>\n",
       "      <td>130.0</td>\n",
       "      <td>28.990767</td>\n",
       "      <td>229.672822</td>\n",
       "      <td>46.241347</td>\n",
       "      <td>motorway</td>\n",
       "      <td>asphalt</td>\n",
       "      <td>NaN</td>\n",
       "      <td>NaN</td>\n",
       "      <td>NaN</td>\n",
       "      <td>NaN</td>\n",
       "      <td>NaN</td>\n",
       "      <td>0</td>\n",
       "      <td>0.0</td>\n",
       "      <td>-0.025587</td>\n",
       "    </tr>\n",
       "  </tbody>\n",
       "</table>\n",
       "</div>"
      ],
      "text/plain": [
       "    latitude  longitude  target_speed  way_maxspeed  speed_osrm   elevation  \\\n",
       "0  50.397062  14.913273     39.739457         130.0   28.837247  229.775169   \n",
       "1  50.397068  14.913283     39.717786         130.0   28.875627  229.749582   \n",
       "2  50.397074  14.913294     39.696114         130.0   28.914007  229.723996   \n",
       "3  50.397080  14.913304     39.674442         130.0   28.952387  229.698409   \n",
       "4  50.397087  14.913314     39.652771         130.0   28.990767  229.672822   \n",
       "\n",
       "   fwd_azimuth  way_type way_surface node:intersection  node:railway  \\\n",
       "0    46.241347  motorway     asphalt               NaN           NaN   \n",
       "1    46.241347  motorway     asphalt               NaN           NaN   \n",
       "2    46.241347  motorway     asphalt               NaN           NaN   \n",
       "3    46.241347  motorway     asphalt               NaN           NaN   \n",
       "4    46.241347  motorway     asphalt               NaN           NaN   \n",
       "\n",
       "  node:crossing node:highway node:stop  start_stop  azimuth_diff  \\\n",
       "0           NaN          NaN       NaN           0           0.0   \n",
       "1           NaN          NaN       NaN           0           0.0   \n",
       "2           NaN          NaN       NaN           0           0.0   \n",
       "3           NaN          NaN       NaN           0           0.0   \n",
       "4           NaN          NaN       NaN           0           0.0   \n",
       "\n",
       "   elevation_diff  \n",
       "0       -0.025587  \n",
       "1       -0.025587  \n",
       "2       -0.025587  \n",
       "3       -0.025587  \n",
       "4       -0.025587  "
      ]
     },
     "execution_count": 125,
     "metadata": {},
     "output_type": "execute_result"
    }
   ],
   "source": [
    "# Load csv from S3 bucket\n",
    "\n",
    "# Import req'd packages\n",
    "import pandas as pd\n",
    "import boto3\n",
    "\n",
    "# Define S3 bucket and key\n",
    "bucket = 'velocityspeedproject08'\n",
    "key = 'datasets/vehicle_speed/vehicle_speed.csv'\n",
    "\n",
    "# Create a S3 client\n",
    "s3 = boto3.client('s3')\n",
    "\n",
    "# Load dataset from S3\n",
    "obj = s3.get_object(Bucket=bucket, Key=key)\n",
    "df = pd.read_csv(obj['Body'])\n",
    "\n",
    "# Preview dataset\n",
    "df.head()"
   ]
  },
  {
   "cell_type": "code",
   "execution_count": 126,
   "id": "544ead9b-caa6-493a-b6ac-f95ff7d78055",
   "metadata": {},
   "outputs": [
    {
     "data": {
      "text/plain": [
       "(12165, 17)"
      ]
     },
     "execution_count": 126,
     "metadata": {},
     "output_type": "execute_result"
    }
   ],
   "source": [
    "# Determine shape of df\n",
    "df.shape"
   ]
  },
  {
   "cell_type": "code",
   "execution_count": 127,
   "id": "46e4f150-236f-4edc-91a8-0200d223ed20",
   "metadata": {},
   "outputs": [
    {
     "data": {
      "image/png": "[encoded data removed]",
      "text/plain": [
       "<Figure size 720x576 with 1 Axes>"
      ]
     },
     "metadata": {
      "needs_background": "light"
     },
     "output_type": "display_data"
    }
   ],
   "source": [
    "# Plot movement using latitude and longitude\n",
    "plt.figure(figsize=(10, 8))\n",
    "plt.scatter(df['longitude'], df['latitude'], alpha=0.5, marker='.')\n",
    "plt.xlabel('Longitude')\n",
    "plt.ylabel('Latitude')\n",
    "plt.title('Movement Plot')\n",
    "plt.grid(True)\n",
    "plt.show()"
   ]
  },
  {
   "cell_type": "code",
   "execution_count": 128,
   "id": "09fefa31-6407-4e52-9cad-dac67a5fcd78",
   "metadata": {},
   "outputs": [
    {
     "data": {
      "text/html": [
       "<div>\n",
       "<style scoped>\n",
       "    .dataframe tbody tr th:only-of-type {\n",
       "        vertical-align: middle;\n",
       "    }\n",
       "\n",
       "    .dataframe tbody tr th {\n",
       "        vertical-align: top;\n",
       "    }\n",
       "\n",
       "    .dataframe thead th {\n",
       "        text-align: right;\n",
       "    }\n",
       "</style>\n",
       "<table border=\"1\" class=\"dataframe\">\n",
       "  <thead>\n",
       "    <tr style=\"text-align: right;\">\n",
       "      <th></th>\n",
       "      <th>latitude</th>\n",
       "      <th>longitude</th>\n",
       "      <th>target_speed</th>\n",
       "      <th>way_maxspeed</th>\n",
       "      <th>speed_osrm</th>\n",
       "      <th>elevation</th>\n",
       "      <th>fwd_azimuth</th>\n",
       "      <th>way_type</th>\n",
       "      <th>way_surface</th>\n",
       "      <th>node:intersection</th>\n",
       "      <th>node:railway</th>\n",
       "      <th>node:crossing</th>\n",
       "      <th>node:highway</th>\n",
       "      <th>node:stop</th>\n",
       "      <th>start_stop</th>\n",
       "      <th>azimuth_diff</th>\n",
       "      <th>elevation_diff</th>\n",
       "      <th>IdentifyingValue</th>\n",
       "    </tr>\n",
       "  </thead>\n",
       "  <tbody>\n",
       "    <tr>\n",
       "      <th>0</th>\n",
       "      <td>50.515393</td>\n",
       "      <td>14.966795</td>\n",
       "      <td>18.272307</td>\n",
       "      <td>90.0</td>\n",
       "      <td>18.2</td>\n",
       "      <td>232.000000</td>\n",
       "      <td>116.775715</td>\n",
       "      <td>secondary</td>\n",
       "      <td>asphalt</td>\n",
       "      <td>NaN</td>\n",
       "      <td>NaN</td>\n",
       "      <td>NaN</td>\n",
       "      <td>NaN</td>\n",
       "      <td>NaN</td>\n",
       "      <td>1</td>\n",
       "      <td>0.0</td>\n",
       "      <td>0.000000</td>\n",
       "      <td>98</td>\n",
       "    </tr>\n",
       "    <tr>\n",
       "      <th>1</th>\n",
       "      <td>50.515389</td>\n",
       "      <td>14.966808</td>\n",
       "      <td>18.272307</td>\n",
       "      <td>90.0</td>\n",
       "      <td>18.2</td>\n",
       "      <td>232.054728</td>\n",
       "      <td>116.775715</td>\n",
       "      <td>secondary</td>\n",
       "      <td>asphalt</td>\n",
       "      <td>NaN</td>\n",
       "      <td>NaN</td>\n",
       "      <td>NaN</td>\n",
       "      <td>NaN</td>\n",
       "      <td>NaN</td>\n",
       "      <td>0</td>\n",
       "      <td>0.0</td>\n",
       "      <td>0.054728</td>\n",
       "      <td>98</td>\n",
       "    </tr>\n",
       "    <tr>\n",
       "      <th>2</th>\n",
       "      <td>50.515385</td>\n",
       "      <td>14.966820</td>\n",
       "      <td>18.272307</td>\n",
       "      <td>90.0</td>\n",
       "      <td>18.2</td>\n",
       "      <td>232.109455</td>\n",
       "      <td>116.775715</td>\n",
       "      <td>secondary</td>\n",
       "      <td>asphalt</td>\n",
       "      <td>NaN</td>\n",
       "      <td>NaN</td>\n",
       "      <td>NaN</td>\n",
       "      <td>NaN</td>\n",
       "      <td>NaN</td>\n",
       "      <td>0</td>\n",
       "      <td>0.0</td>\n",
       "      <td>0.054728</td>\n",
       "      <td>98</td>\n",
       "    </tr>\n",
       "    <tr>\n",
       "      <th>3</th>\n",
       "      <td>50.515381</td>\n",
       "      <td>14.966833</td>\n",
       "      <td>18.272307</td>\n",
       "      <td>90.0</td>\n",
       "      <td>18.2</td>\n",
       "      <td>232.164183</td>\n",
       "      <td>116.775715</td>\n",
       "      <td>secondary</td>\n",
       "      <td>asphalt</td>\n",
       "      <td>NaN</td>\n",
       "      <td>NaN</td>\n",
       "      <td>NaN</td>\n",
       "      <td>NaN</td>\n",
       "      <td>NaN</td>\n",
       "      <td>0</td>\n",
       "      <td>0.0</td>\n",
       "      <td>0.054728</td>\n",
       "      <td>98</td>\n",
       "    </tr>\n",
       "    <tr>\n",
       "      <th>4</th>\n",
       "      <td>50.515377</td>\n",
       "      <td>14.966845</td>\n",
       "      <td>18.272307</td>\n",
       "      <td>90.0</td>\n",
       "      <td>18.2</td>\n",
       "      <td>232.218911</td>\n",
       "      <td>116.775715</td>\n",
       "      <td>secondary</td>\n",
       "      <td>asphalt</td>\n",
       "      <td>NaN</td>\n",
       "      <td>NaN</td>\n",
       "      <td>NaN</td>\n",
       "      <td>NaN</td>\n",
       "      <td>NaN</td>\n",
       "      <td>0</td>\n",
       "      <td>0.0</td>\n",
       "      <td>0.054728</td>\n",
       "      <td>98</td>\n",
       "    </tr>\n",
       "  </tbody>\n",
       "</table>\n",
       "</div>"
      ],
      "text/plain": [
       "    latitude  longitude  target_speed  way_maxspeed  speed_osrm   elevation  \\\n",
       "0  50.515393  14.966795     18.272307          90.0        18.2  232.000000   \n",
       "1  50.515389  14.966808     18.272307          90.0        18.2  232.054728   \n",
       "2  50.515385  14.966820     18.272307          90.0        18.2  232.109455   \n",
       "3  50.515381  14.966833     18.272307          90.0        18.2  232.164183   \n",
       "4  50.515377  14.966845     18.272307          90.0        18.2  232.218911   \n",
       "\n",
       "   fwd_azimuth   way_type way_surface node:intersection node:railway  \\\n",
       "0   116.775715  secondary     asphalt               NaN          NaN   \n",
       "1   116.775715  secondary     asphalt               NaN          NaN   \n",
       "2   116.775715  secondary     asphalt               NaN          NaN   \n",
       "3   116.775715  secondary     asphalt               NaN          NaN   \n",
       "4   116.775715  secondary     asphalt               NaN          NaN   \n",
       "\n",
       "  node:crossing node:highway node:stop  start_stop  azimuth_diff  \\\n",
       "0           NaN          NaN       NaN           1           0.0   \n",
       "1           NaN          NaN       NaN           0           0.0   \n",
       "2           NaN          NaN       NaN           0           0.0   \n",
       "3           NaN          NaN       NaN           0           0.0   \n",
       "4           NaN          NaN       NaN           0           0.0   \n",
       "\n",
       "   elevation_diff  IdentifyingValue  \n",
       "0        0.000000                98  \n",
       "1        0.054728                98  \n",
       "2        0.054728                98  \n",
       "3        0.054728                98  \n",
       "4        0.054728                98  "
      ]
     },
     "execution_count": 128,
     "metadata": {},
     "output_type": "execute_result"
    }
   ],
   "source": [
    "# Define S3 bucket and key\n",
    "bucket = 'velocityspeedproject08'\n",
    "key = 'datasets/vehicle_speed/combined_dataset.csv'\n",
    "\n",
    "# Create a S3 client\n",
    "s3 = boto3.client('s3')\n",
    "\n",
    "# Load dataset from S3\n",
    "obj = s3.get_object(Bucket=bucket, Key=key)\n",
    "upd_df = pd.read_csv(obj['Body'])\n",
    "\n",
    "# Preview dataset\n",
    "upd_df.head()"
   ]
  },
  {
   "cell_type": "code",
   "execution_count": 129,
   "id": "2dad1c47-e478-46bf-8621-35804cb1aa42",
   "metadata": {},
   "outputs": [
    {
     "data": {
      "text/plain": [
       "(864906, 18)"
      ]
     },
     "execution_count": 129,
     "metadata": {},
     "output_type": "execute_result"
    }
   ],
   "source": [
    "# Determine shape of df\n",
    "upd_df.shape"
   ]
  },
  {
   "cell_type": "code",
   "execution_count": 130,
   "id": "2aa3b8b8-54ad-4035-ac30-88f801c248da",
   "metadata": {},
   "outputs": [
    {
     "data": {
      "image/png": "[encoded data removed]",
      "text/plain": [
       "<Figure size 720x576 with 1 Axes>"
      ]
     },
     "metadata": {
      "needs_background": "light"
     },
     "output_type": "display_data"
    }
   ],
   "source": [
    "# Plot movement using latitude and longitude\n",
    "plt.figure(figsize=(10, 8))\n",
    "plt.scatter(upd_df['longitude'], upd_df['latitude'], alpha=0.5, marker='.')\n",
    "plt.xlabel('Longitude')\n",
    "plt.ylabel('Latitude')\n",
    "plt.title('Movement Plot')\n",
    "plt.grid(True)\n",
    "plt.show()"
   ]
  },
  {
   "cell_type": "code",
   "execution_count": 131,
   "id": "f3911ad9-f072-4c7b-bd6a-6ac7a66c10c8",
   "metadata": {},
   "outputs": [
    {
     "data": {
      "image/png": "[encoded data removed]",
      "text/plain": [
       "<Figure size 720x576 with 1 Axes>"
      ]
     },
     "metadata": {
      "needs_background": "light"
     },
     "output_type": "display_data"
    }
   ],
   "source": [
    "# Define colors for different columns\n",
    "color_map = {\n",
    "    'way_surface': 'red',\n",
    "    'node:intersection': 'blue',\n",
    "    'node:railway': 'green',\n",
    "    'node:crossing': 'orange',\n",
    "    'node:highway': 'purple'\n",
    "}\n",
    "\n",
    "# Plot movement using latitude and longitude\n",
    "plt.figure(figsize=(10, 8))\n",
    "\n",
    "# Scatter plot for latitude & longitude\n",
    "plt.scatter(upd_df['longitude'], upd_df['latitude'], alpha=0.5, marker='.', color='black', label='Other')\n",
    "\n",
    "# Scatter plot for desired columns\n",
    "for column, color in color_map.items():\n",
    "    if column in upd_df.columns:\n",
    "        plt.scatter(upd_df[upd_df[column].notnull()]['longitude'], \n",
    "                    upd_df[upd_df[column].notnull()]['latitude'], \n",
    "                    alpha=0.5, marker='.', color=color, label=column)\n",
    "\n",
    "# Add labels & title\n",
    "plt.xlabel('Longitude')\n",
    "plt.ylabel('Latitude')\n",
    "plt.title('Movement Plot')\n",
    "\n",
    "# Show legend\n",
    "plt.legend()\n",
    "\n",
    "plt.grid(True)\n",
    "plt.show()"
   ]
  },
  {
   "cell_type": "code",
   "execution_count": 132,
   "id": "f1a2f150-8a7c-435d-9d14-8f006534fd61",
   "metadata": {
    "tags": []
   },
   "outputs": [
    {
     "data": {
      "text/plain": [
       "(12165, 17)"
      ]
     },
     "execution_count": 132,
     "metadata": {},
     "output_type": "execute_result"
    }
   ],
   "source": [
    "vehicle_speed_df.shape"
   ]
  },
  {
   "cell_type": "code",
   "execution_count": 133,
   "id": "469ae319-fb6d-40e2-b619-039e7a1ed3e9",
   "metadata": {
    "tags": []
   },
   "outputs": [
    {
     "data": {
      "text/plain": [
       "Text(0, 0.5, 'Count')"
      ]
     },
     "execution_count": 133,
     "metadata": {},
     "output_type": "execute_result"
    },
    {
     "data": {
      "image/png": "[encoded data removed]",
      "text/plain": [
       "<Figure size 432x288 with 1 Axes>"
      ]
     },
     "metadata": {
      "needs_background": "light"
     },
     "output_type": "display_data"
    }
   ],
   "source": [
    "# Distrubition by Way type\n",
    "\n",
    "vehicle_speed_df['way_type'].value_counts().plot(kind=\"bar\", title=\"Distribution by way type\")\n",
    "plt.xlabel(\"Way Type\")\n",
    "plt.ylabel(\"Count\")"
   ]
  },
  {
   "cell_type": "markdown",
   "id": "d3cf5a17-a1ed-44ad-adb8-766b7926d8da",
   "metadata": {},
   "source": [
    "# Correlation\n",
    "\n",
    "Lets study the correlation between different attributes in the dataset"
   ]
  },
  {
   "cell_type": "code",
   "execution_count": 134,
   "id": "4469eafe-5739-45c4-b831-da969b9a7cdd",
   "metadata": {
    "tags": []
   },
   "outputs": [
    {
     "data": {
      "text/plain": [
       "<AxesSubplot:>"
      ]
     },
     "execution_count": 134,
     "metadata": {},
     "output_type": "execute_result"
    },
    {
     "data": {
      "image/png": "[encoded data removed]",
      "text/plain": [
       "<Figure size 720x576 with 2 Axes>"
      ]
     },
     "metadata": {
      "needs_background": "light"
     },
     "output_type": "display_data"
    }
   ],
   "source": [
    "corr = vehicle_speed_df.corr()\n",
    "plt.figure(figsize=(10, 8))\n",
    "sns.heatmap(corr, annot=True, cmap = 'coolwarm', cbar_kws={'label': 'Correlation Index'})"
   ]
  },
  {
   "cell_type": "markdown",
   "id": "66564c41-12c0-4505-b4d2-703a51fc2d22",
   "metadata": {},
   "source": [
    "From the above correlation Heatmap, it is observed that the below predictors are highly correlated.\n",
    "(1) latitude and elevation\n",
    "(2) target_speed and way_maxspeed\n",
    "(3) way_maxspeed and speed_osrm\n",
    "(4) target_speed and elevation"
   ]
  },
  {
   "cell_type": "markdown",
   "id": "652e2c9e-c11e-4087-bcf7-d4c8176f02a4",
   "metadata": {},
   "source": [
    "# 2. Data Preprocessing\n",
    "\n",
    "## 2.1. Handling Missing Values"
   ]
  },
  {
   "cell_type": "code",
   "execution_count": 135,
   "id": "b0186f64-20fc-4cf8-ab00-e251881ab1e6",
   "metadata": {
    "tags": []
   },
   "outputs": [
    {
     "data": {
      "text/plain": [
       "latitude             0\n",
       "longitude            0\n",
       "target_speed         0\n",
       "way_maxspeed         0\n",
       "speed_osrm           0\n",
       "elevation            0\n",
       "fwd_azimuth          0\n",
       "way_type             0\n",
       "way_surface          0\n",
       "node_intersection    0\n",
       "node_railway         0\n",
       "node_crossing        0\n",
       "node_highway         0\n",
       "node_stop            0\n",
       "start_stop           0\n",
       "azimuth_diff         7\n",
       "elevation_diff       0\n",
       "dtype: int64"
      ]
     },
     "execution_count": 135,
     "metadata": {},
     "output_type": "execute_result"
    }
   ],
   "source": [
    "vehicle_speed_df.isnull().sum()"
   ]
  },
  {
   "cell_type": "code",
   "execution_count": 136,
   "id": "a137f73b-140d-4de3-b75c-786f2941e7e4",
   "metadata": {
    "tags": []
   },
   "outputs": [],
   "source": [
    "# Dropping columns that have null values\n",
    "\n",
    "vehicle_speed_df = vehicle_speed_df.drop(['node_intersection', 'node_railway', 'node_crossing', 'node_highway', 'node_stop'], axis=1)\n",
    "\n",
    "# Dropping rows that have null values\n",
    "\n",
    "vehicle_speed_df = vehicle_speed_df.dropna(subset=['azimuth_diff'])"
   ]
  },
  {
   "cell_type": "markdown",
   "id": "e59f880a-b8d0-44bd-aaff-0d453b5d8618",
   "metadata": {},
   "source": [
    "# Multicollinearity\n",
    "\n",
    "Lets address the multicollinearity issue by calculating Variance Inflation Factor (VIF) and removing highly correlated predictors."
   ]
  },
  {
   "cell_type": "code",
   "execution_count": 137,
   "id": "7f3dc4af-dd29-4589-b80c-b0eef59e90ae",
   "metadata": {
    "tags": []
   },
   "outputs": [],
   "source": [
    "# Separate the predictors and target variables\n",
    "\n",
    "X_pred = vehicle_speed_df.drop(['target_speed'], axis=1)\n",
    "y_target = vehicle_speed_df['target_speed']"
   ]
  },
  {
   "cell_type": "code",
   "execution_count": 138,
   "id": "451ade60-ab75-4a4c-924f-d7cf9befc88e",
   "metadata": {
    "tags": []
   },
   "outputs": [
    {
     "data": {
      "image/png": "[encoded data removed]",
      "text/plain": [
       "<Figure size 720x576 with 2 Axes>"
      ]
     },
     "metadata": {
      "needs_background": "light"
     },
     "output_type": "display_data"
    }
   ],
   "source": [
    "# Calculate correlation matrix for predictors\n",
    "correlation_matrix = X_pred.corr()\n",
    "\n",
    "# Create a mask for the upper triangle\n",
    "mask = np.triu(np.ones_like(correlation_matrix, dtype=bool))\n",
    "\n",
    "# Plot the correlation matrix\n",
    "import seaborn as sns\n",
    "import matplotlib.pyplot as plt\n",
    "\n",
    "plt.figure(figsize=(10, 8))\n",
    "sns.heatmap(correlation_matrix, mask=mask, annot=True, cmap='coolwarm', fmt=\".2f\", linewidths=0.5)\n",
    "plt.title('Correlation Matrix of Predictors')\n",
    "plt.show()"
   ]
  },
  {
   "cell_type": "markdown",
   "id": "16c74e9b-ca09-4f2c-8da5-dbb1138dc49f",
   "metadata": {},
   "source": [
    "To address the issue of multicollinearity, it is suggested to remove the columns longitude, way_maxspeed, and elevation. However, since determining the target speed of a vehicle relies on multiple factors, including spatial information about the vehicle's location, both latitude and longitude should be taken into account."
   ]
  },
  {
   "cell_type": "markdown",
   "id": "ec62b27d-c622-4c1e-be4e-064787505068",
   "metadata": {},
   "source": [
    "# Feature transformation\n",
    "\n",
    "The maximum allowed speed is measured in km/hr whereas target_speed and speed_osrm are measured in m/s. Hence transforming the target_speed and speed_osrm values to km/hr"
   ]
  },
  {
   "cell_type": "code",
   "execution_count": 139,
   "id": "4827037e-e78a-4c10-895f-d41c8c9bc9c6",
   "metadata": {
    "tags": []
   },
   "outputs": [],
   "source": [
    "# Convert m/s to km/hr for the target_speed and speed_osrm column\n",
    "\n",
    "vehicle_speed_df['target_speed'] = vehicle_speed_df['target_speed'] * 3.6\n",
    "\n",
    "vehicle_speed_df['speed_osrm'] = vehicle_speed_df['speed_osrm'] * 3.6"
   ]
  },
  {
   "cell_type": "markdown",
   "id": "d2a87b5f-6d18-42eb-83cb-49427f98e7f3",
   "metadata": {},
   "source": [
    "# Feature Creation\n",
    "\n",
    "Lets create a new feature speed_deviation that computes the difference between target_speed and way_maxspeed to see if the vehicle is driving above or below the allowed speed limit."
   ]
  },
  {
   "cell_type": "code",
   "execution_count": 140,
   "id": "e07556fd-7fbd-4be4-a847-6148b06fe63e",
   "metadata": {
    "tags": []
   },
   "outputs": [],
   "source": [
    "vehicle_speed_df['speed_deviation'] = vehicle_speed_df['target_speed'] - vehicle_speed_df['way_maxspeed']"
   ]
  },
  {
   "cell_type": "markdown",
   "id": "40f5c13e-8099-4e9a-b558-8fc2c6357380",
   "metadata": {},
   "source": [
    "# Drop Irrelevant fields"
   ]
  },
  {
   "cell_type": "code",
   "execution_count": 141,
   "id": "eb829ede-ea6c-4081-b74e-4c259a4abaa9",
   "metadata": {},
   "outputs": [],
   "source": [
    "# Dropping fields that exhibit multicollinearity \n",
    "\n",
    "vehicle_speed_df = vehicle_speed_df.drop(['way_maxspeed', 'elevation'], axis=1)\n",
    "\n",
    "# Dropping irrelevant columns\n",
    "\n",
    "vehicle_speed_df = vehicle_speed_df.drop(['fwd_azimuth', 'way_surface', 'start_stop', 'azimuth_diff', 'elevation_diff'], axis=1)"
   ]
  },
  {
   "cell_type": "markdown",
   "id": "f3f1c5c9-ddfe-4395-b2f1-a05e9e6082b6",
   "metadata": {},
   "source": [
    "# Feature Selection\n",
    "\n",
    "Based on the insights from the correlation matrix heatmap and other transformation techniques, the useful predictors for the final model include: latitude, longitude, speed_osrm, way_type, speed_deviation and target_speed."
   ]
  },
  {
   "cell_type": "code",
   "execution_count": 142,
   "id": "ca9ef430-094a-4ca8-b133-98d5fe4f76c2",
   "metadata": {
    "tags": []
   },
   "outputs": [],
   "source": [
    "final_df = vehicle_speed_df.copy()"
   ]
  },
  {
   "cell_type": "markdown",
   "id": "666c7d8c-cf48-4bc5-84fe-5c78d67d2279",
   "metadata": {},
   "source": [
    "# Encoding Categorical Variables"
   ]
  },
  {
   "cell_type": "code",
   "execution_count": 143,
   "id": "3613a728-7020-48ef-8f18-b45b051aea2c",
   "metadata": {
    "tags": []
   },
   "outputs": [
    {
     "data": {
      "text/html": [
       "<div>\n",
       "<style scoped>\n",
       "    .dataframe tbody tr th:only-of-type {\n",
       "        vertical-align: middle;\n",
       "    }\n",
       "\n",
       "    .dataframe tbody tr th {\n",
       "        vertical-align: top;\n",
       "    }\n",
       "\n",
       "    .dataframe thead th {\n",
       "        text-align: right;\n",
       "    }\n",
       "</style>\n",
       "<table border=\"1\" class=\"dataframe\">\n",
       "  <thead>\n",
       "    <tr style=\"text-align: right;\">\n",
       "      <th></th>\n",
       "      <th>latitude</th>\n",
       "      <th>longitude</th>\n",
       "      <th>target_speed</th>\n",
       "      <th>speed_osrm</th>\n",
       "      <th>speed_deviation</th>\n",
       "      <th>way_type_residential</th>\n",
       "      <th>way_type_secondary</th>\n",
       "      <th>way_type_tertiary</th>\n",
       "      <th>way_type_trunk</th>\n",
       "    </tr>\n",
       "  </thead>\n",
       "  <tbody>\n",
       "    <tr>\n",
       "      <th>0</th>\n",
       "      <td>50.397060</td>\n",
       "      <td>14.913273</td>\n",
       "      <td>143.062042</td>\n",
       "      <td>103.814086</td>\n",
       "      <td>13.062042</td>\n",
       "      <td>0</td>\n",
       "      <td>0</td>\n",
       "      <td>0</td>\n",
       "      <td>0</td>\n",
       "    </tr>\n",
       "    <tr>\n",
       "      <th>1</th>\n",
       "      <td>50.397068</td>\n",
       "      <td>14.913283</td>\n",
       "      <td>142.984026</td>\n",
       "      <td>103.952261</td>\n",
       "      <td>12.984026</td>\n",
       "      <td>0</td>\n",
       "      <td>0</td>\n",
       "      <td>0</td>\n",
       "      <td>0</td>\n",
       "    </tr>\n",
       "    <tr>\n",
       "      <th>2</th>\n",
       "      <td>50.397076</td>\n",
       "      <td>14.913294</td>\n",
       "      <td>142.906010</td>\n",
       "      <td>104.090425</td>\n",
       "      <td>12.906010</td>\n",
       "      <td>0</td>\n",
       "      <td>0</td>\n",
       "      <td>0</td>\n",
       "      <td>0</td>\n",
       "    </tr>\n",
       "    <tr>\n",
       "      <th>3</th>\n",
       "      <td>50.397080</td>\n",
       "      <td>14.913303</td>\n",
       "      <td>142.827991</td>\n",
       "      <td>104.228593</td>\n",
       "      <td>12.827991</td>\n",
       "      <td>0</td>\n",
       "      <td>0</td>\n",
       "      <td>0</td>\n",
       "      <td>0</td>\n",
       "    </tr>\n",
       "    <tr>\n",
       "      <th>4</th>\n",
       "      <td>50.397087</td>\n",
       "      <td>14.913314</td>\n",
       "      <td>142.749972</td>\n",
       "      <td>104.366761</td>\n",
       "      <td>12.749972</td>\n",
       "      <td>0</td>\n",
       "      <td>0</td>\n",
       "      <td>0</td>\n",
       "      <td>0</td>\n",
       "    </tr>\n",
       "  </tbody>\n",
       "</table>\n",
       "</div>"
      ],
      "text/plain": [
       "    latitude  longitude  target_speed  speed_osrm  speed_deviation  \\\n",
       "0  50.397060  14.913273    143.062042  103.814086        13.062042   \n",
       "1  50.397068  14.913283    142.984026  103.952261        12.984026   \n",
       "2  50.397076  14.913294    142.906010  104.090425        12.906010   \n",
       "3  50.397080  14.913303    142.827991  104.228593        12.827991   \n",
       "4  50.397087  14.913314    142.749972  104.366761        12.749972   \n",
       "\n",
       "   way_type_residential  way_type_secondary  way_type_tertiary  way_type_trunk  \n",
       "0                     0                   0                  0               0  \n",
       "1                     0                   0                  0               0  \n",
       "2                     0                   0                  0               0  \n",
       "3                     0                   0                  0               0  \n",
       "4                     0                   0                  0               0  "
      ]
     },
     "execution_count": 143,
     "metadata": {},
     "output_type": "execute_result"
    }
   ],
   "source": [
    "# Convert categorical variables to dummy variables\n",
    "\n",
    "final_df = pd.get_dummies(final_df, columns= ['way_type'], drop_first=True)\n",
    "final_df.head()"
   ]
  },
  {
   "cell_type": "markdown",
   "id": "3691c17a-ee5c-462e-b042-665645bc314c",
   "metadata": {},
   "source": [
    "# Data Partitioning\n",
    "\n",
    "## Separate predictor and target variables"
   ]
  },
  {
   "cell_type": "code",
   "execution_count": 144,
   "id": "d002e108-3db2-416e-ac80-56b02ba81200",
   "metadata": {
    "tags": []
   },
   "outputs": [],
   "source": [
    "# Separate X and y variables\n",
    "\n",
    "X = final_df.drop(['target_speed'], axis=1)\n",
    "y = final_df['target_speed']\n",
    "predictors = X.columns\n",
    "outcome = 'target_speed'"
   ]
  },
  {
   "cell_type": "markdown",
   "id": "e41d192c-9968-468f-b193-68e12f3ec6ac",
   "metadata": {},
   "source": [
    "## Split dataset into training, test and validation sets"
   ]
  },
  {
   "cell_type": "code",
   "execution_count": 145,
   "id": "f85ed64a-85bd-47b6-bbe1-a1c9fc16694a",
   "metadata": {
    "tags": []
   },
   "outputs": [],
   "source": [
    "# Split the training and test set\n",
    "X_train, X_test, y_train, y_test = train_test_split(X, y, test_size=0.4, random_state=1)\n",
    "\n",
    "# Split the test and validation set\n",
    "X_test, X_valid, y_test, y_valid = train_test_split(X_test, y_test, test_size=0.5, random_state=1)"
   ]
  },
  {
   "cell_type": "code",
   "execution_count": 146,
   "id": "682bab85-2264-4bc9-8f72-e83baffbdb08",
   "metadata": {
    "tags": []
   },
   "outputs": [],
   "source": [
    "# Proportions of training, test and validation data\n",
    "\n",
    "train_prop = len(X_train)/len(final_df)\n",
    "test_prop = len(X_test)/len(final_df)\n",
    "valid_prop = len(X_valid)/len(final_df)"
   ]
  },
  {
   "cell_type": "code",
   "execution_count": 147,
   "id": "acbb3b8f-8a83-4562-a6cb-be5e724fb9e5",
   "metadata": {
    "tags": []
   },
   "outputs": [
    {
     "data": {
      "image/png": "[encoded data removed]",
      "text/plain": [
       "<Figure size 504x360 with 1 Axes>"
      ]
     },
     "metadata": {
      "needs_background": "light"
     },
     "output_type": "display_data"
    }
   ],
   "source": [
    "plt.figure(figsize=(7,5))\n",
    "labels = ['Training Set', 'Test Set', 'Validation Set']\n",
    "proportions = [train_prop, test_prop, valid_prop]\n",
    "plt.bar(labels,proportions)\n",
    "plt.xlabel(\"Datasets\")\n",
    "plt.ylabel(\"Proportions\")\n",
    "plt.title(\"Proportions of Training, Test and Validation sets\")\n",
    "plt.show()"
   ]
  },
  {
   "cell_type": "markdown",
   "id": "8becb2ca-ae44-4639-b7bd-0f20bad0ecb5",
   "metadata": {},
   "source": [
    "# Create a CNN model to detect traffic signage"
   ]
  },
  {
   "cell_type": "code",
   "execution_count": 148,
   "id": "48c865c5-a469-4ce1-b5f0-a48386ee94fa",
   "metadata": {
    "tags": []
   },
   "outputs": [],
   "source": [
    "# Install required package\n",
    "# !pip install tensorflow\n",
    "# !pip install --upgrade numpy\n",
    "# !pip install --upgrade tensorflow"
   ]
  },
  {
   "cell_type": "code",
   "execution_count": 149,
   "id": "abd66ab9-361c-4422-967f-415af5f611fc",
   "metadata": {
    "tags": []
   },
   "outputs": [
    {
     "ename": "AttributeError",
     "evalue": "module 'numpy' has no attribute 'typeDict'",
     "output_type": "error",
     "traceback": [
      "\u001b[0;31m---------------------------------------------------------------------------\u001b[0m",
      "\u001b[0;31mAttributeError\u001b[0m                            Traceback (most recent call last)",
      "Cell \u001b[0;32mIn[149], line 3\u001b[0m\n\u001b[1;32m      1\u001b[0m \u001b[38;5;28;01mimport\u001b[39;00m \u001b[38;5;21;01mnumpy\u001b[39;00m \u001b[38;5;28;01mas\u001b[39;00m \u001b[38;5;21;01mnp\u001b[39;00m\n\u001b[1;32m      2\u001b[0m \u001b[38;5;28;01mfrom\u001b[39;00m \u001b[38;5;21;01msklearn\u001b[39;00m\u001b[38;5;21;01m.\u001b[39;00m\u001b[38;5;21;01mmodel_selection\u001b[39;00m \u001b[38;5;28;01mimport\u001b[39;00m train_test_split\n\u001b[0;32m----> 3\u001b[0m \u001b[38;5;28;01mimport\u001b[39;00m \u001b[38;5;21;01mtensorflow\u001b[39;00m \u001b[38;5;28;01mas\u001b[39;00m \u001b[38;5;21;01mtf\u001b[39;00m\n\u001b[1;32m      4\u001b[0m \u001b[38;5;28;01mfrom\u001b[39;00m \u001b[38;5;21;01mtensorflow\u001b[39;00m\u001b[38;5;21;01m.\u001b[39;00m\u001b[38;5;21;01mkeras\u001b[39;00m \u001b[38;5;28;01mimport\u001b[39;00m layers, models\n\u001b[1;32m      6\u001b[0m \u001b[38;5;66;03m# Load preprocessed data\u001b[39;00m\n",
      "File \u001b[0;32m/opt/conda/lib/python3.8/site-packages/tensorflow/__init__.py:38\u001b[0m\n\u001b[1;32m     35\u001b[0m \u001b[38;5;28;01mimport\u001b[39;00m \u001b[38;5;21;01msys\u001b[39;00m \u001b[38;5;28;01mas\u001b[39;00m \u001b[38;5;21;01m_sys\u001b[39;00m\n\u001b[1;32m     36\u001b[0m \u001b[38;5;28;01mimport\u001b[39;00m \u001b[38;5;21;01mtyping\u001b[39;00m \u001b[38;5;28;01mas\u001b[39;00m \u001b[38;5;21;01m_typing\u001b[39;00m\n\u001b[0;32m---> 38\u001b[0m \u001b[38;5;28;01mfrom\u001b[39;00m \u001b[38;5;21;01mtensorflow\u001b[39;00m\u001b[38;5;21;01m.\u001b[39;00m\u001b[38;5;21;01mpython\u001b[39;00m\u001b[38;5;21;01m.\u001b[39;00m\u001b[38;5;21;01mtools\u001b[39;00m \u001b[38;5;28;01mimport\u001b[39;00m module_util \u001b[38;5;28;01mas\u001b[39;00m _module_util\n\u001b[1;32m     39\u001b[0m \u001b[38;5;28;01mfrom\u001b[39;00m \u001b[38;5;21;01mtensorflow\u001b[39;00m\u001b[38;5;21;01m.\u001b[39;00m\u001b[38;5;21;01mpython\u001b[39;00m\u001b[38;5;21;01m.\u001b[39;00m\u001b[38;5;21;01mutil\u001b[39;00m\u001b[38;5;21;01m.\u001b[39;00m\u001b[38;5;21;01mlazy_loader\u001b[39;00m \u001b[38;5;28;01mimport\u001b[39;00m LazyLoader \u001b[38;5;28;01mas\u001b[39;00m _LazyLoader\n\u001b[1;32m     41\u001b[0m \u001b[38;5;66;03m# Make sure code inside the TensorFlow codebase can use tf2.enabled() at import.\u001b[39;00m\n",
      "File \u001b[0;32m/opt/conda/lib/python3.8/site-packages/tensorflow/python/__init__.py:45\u001b[0m\n\u001b[1;32m     43\u001b[0m \u001b[38;5;28;01mfrom\u001b[39;00m \u001b[38;5;21;01mtensorflow\u001b[39;00m\u001b[38;5;21;01m.\u001b[39;00m\u001b[38;5;21;01mpython\u001b[39;00m \u001b[38;5;28;01mimport\u001b[39;00m distribute\n\u001b[1;32m     44\u001b[0m \u001b[38;5;66;03m# from tensorflow.python import keras\u001b[39;00m\n\u001b[0;32m---> 45\u001b[0m \u001b[38;5;28;01mfrom\u001b[39;00m \u001b[38;5;21;01mtensorflow\u001b[39;00m\u001b[38;5;21;01m.\u001b[39;00m\u001b[38;5;21;01mpython\u001b[39;00m\u001b[38;5;21;01m.\u001b[39;00m\u001b[38;5;21;01mfeature_column\u001b[39;00m \u001b[38;5;28;01mimport\u001b[39;00m feature_column_lib \u001b[38;5;28;01mas\u001b[39;00m feature_column\n\u001b[1;32m     46\u001b[0m \u001b[38;5;66;03m# from tensorflow.python.layers import layers\u001b[39;00m\n\u001b[1;32m     47\u001b[0m \u001b[38;5;28;01mfrom\u001b[39;00m \u001b[38;5;21;01mtensorflow\u001b[39;00m\u001b[38;5;21;01m.\u001b[39;00m\u001b[38;5;21;01mpython\u001b[39;00m\u001b[38;5;21;01m.\u001b[39;00m\u001b[38;5;21;01mmodule\u001b[39;00m \u001b[38;5;28;01mimport\u001b[39;00m module\n",
      "File \u001b[0;32m/opt/conda/lib/python3.8/site-packages/tensorflow/python/feature_column/feature_column_lib.py:18\u001b[0m\n\u001b[1;32m     15\u001b[0m \u001b[38;5;124;03m\"\"\"FeatureColumns: tools for ingesting and representing features.\"\"\"\u001b[39;00m\n\u001b[1;32m     17\u001b[0m \u001b[38;5;66;03m# pylint: disable=unused-import,line-too-long,wildcard-import,g-bad-import-order\u001b[39;00m\n\u001b[0;32m---> 18\u001b[0m \u001b[38;5;28;01mfrom\u001b[39;00m \u001b[38;5;21;01mtensorflow\u001b[39;00m\u001b[38;5;21;01m.\u001b[39;00m\u001b[38;5;21;01mpython\u001b[39;00m\u001b[38;5;21;01m.\u001b[39;00m\u001b[38;5;21;01mfeature_column\u001b[39;00m\u001b[38;5;21;01m.\u001b[39;00m\u001b[38;5;21;01mfeature_column\u001b[39;00m \u001b[38;5;28;01mimport\u001b[39;00m \u001b[38;5;241m*\u001b[39m\n\u001b[1;32m     19\u001b[0m \u001b[38;5;28;01mfrom\u001b[39;00m \u001b[38;5;21;01mtensorflow\u001b[39;00m\u001b[38;5;21;01m.\u001b[39;00m\u001b[38;5;21;01mpython\u001b[39;00m\u001b[38;5;21;01m.\u001b[39;00m\u001b[38;5;21;01mfeature_column\u001b[39;00m\u001b[38;5;21;01m.\u001b[39;00m\u001b[38;5;21;01mfeature_column_v2\u001b[39;00m \u001b[38;5;28;01mimport\u001b[39;00m \u001b[38;5;241m*\u001b[39m\n\u001b[1;32m     20\u001b[0m \u001b[38;5;28;01mfrom\u001b[39;00m \u001b[38;5;21;01mtensorflow\u001b[39;00m\u001b[38;5;21;01m.\u001b[39;00m\u001b[38;5;21;01mpython\u001b[39;00m\u001b[38;5;21;01m.\u001b[39;00m\u001b[38;5;21;01mfeature_column\u001b[39;00m\u001b[38;5;21;01m.\u001b[39;00m\u001b[38;5;21;01msequence_feature_column\u001b[39;00m \u001b[38;5;28;01mimport\u001b[39;00m \u001b[38;5;241m*\u001b[39m\n",
      "File \u001b[0;32m/opt/conda/lib/python3.8/site-packages/tensorflow/python/feature_column/feature_column.py:143\u001b[0m\n\u001b[1;32m    141\u001b[0m \u001b[38;5;28;01mfrom\u001b[39;00m \u001b[38;5;21;01mtensorflow\u001b[39;00m\u001b[38;5;21;01m.\u001b[39;00m\u001b[38;5;21;01mpython\u001b[39;00m\u001b[38;5;21;01m.\u001b[39;00m\u001b[38;5;21;01mframework\u001b[39;00m \u001b[38;5;28;01mimport\u001b[39;00m sparse_tensor \u001b[38;5;28;01mas\u001b[39;00m sparse_tensor_lib\n\u001b[1;32m    142\u001b[0m \u001b[38;5;28;01mfrom\u001b[39;00m \u001b[38;5;21;01mtensorflow\u001b[39;00m\u001b[38;5;21;01m.\u001b[39;00m\u001b[38;5;21;01mpython\u001b[39;00m\u001b[38;5;21;01m.\u001b[39;00m\u001b[38;5;21;01mframework\u001b[39;00m \u001b[38;5;28;01mimport\u001b[39;00m tensor_shape\n\u001b[0;32m--> 143\u001b[0m \u001b[38;5;28;01mfrom\u001b[39;00m \u001b[38;5;21;01mtensorflow\u001b[39;00m\u001b[38;5;21;01m.\u001b[39;00m\u001b[38;5;21;01mpython\u001b[39;00m\u001b[38;5;21;01m.\u001b[39;00m\u001b[38;5;21;01mlayers\u001b[39;00m \u001b[38;5;28;01mimport\u001b[39;00m base\n\u001b[1;32m    144\u001b[0m \u001b[38;5;28;01mfrom\u001b[39;00m \u001b[38;5;21;01mtensorflow\u001b[39;00m\u001b[38;5;21;01m.\u001b[39;00m\u001b[38;5;21;01mpython\u001b[39;00m\u001b[38;5;21;01m.\u001b[39;00m\u001b[38;5;21;01mops\u001b[39;00m \u001b[38;5;28;01mimport\u001b[39;00m array_ops\n\u001b[1;32m    145\u001b[0m \u001b[38;5;28;01mfrom\u001b[39;00m \u001b[38;5;21;01mtensorflow\u001b[39;00m\u001b[38;5;21;01m.\u001b[39;00m\u001b[38;5;21;01mpython\u001b[39;00m\u001b[38;5;21;01m.\u001b[39;00m\u001b[38;5;21;01mops\u001b[39;00m \u001b[38;5;28;01mimport\u001b[39;00m array_ops_stack\n",
      "File \u001b[0;32m/opt/conda/lib/python3.8/site-packages/tensorflow/python/layers/base.py:16\u001b[0m\n\u001b[1;32m      1\u001b[0m \u001b[38;5;66;03m# Copyright 2015 The TensorFlow Authors. All Rights Reserved.\u001b[39;00m\n\u001b[1;32m      2\u001b[0m \u001b[38;5;66;03m#\u001b[39;00m\n\u001b[1;32m      3\u001b[0m \u001b[38;5;66;03m# Licensed under the Apache License, Version 2.0 (the \"License\");\u001b[39;00m\n\u001b[0;32m   (...)\u001b[0m\n\u001b[1;32m     13\u001b[0m \u001b[38;5;66;03m# limitations under the License.\u001b[39;00m\n\u001b[1;32m     14\u001b[0m \u001b[38;5;66;03m# =============================================================================\u001b[39;00m\n\u001b[1;32m     15\u001b[0m \u001b[38;5;124;03m\"\"\"Contains the base Layer class, from which all layers inherit.\"\"\"\u001b[39;00m\n\u001b[0;32m---> 16\u001b[0m \u001b[38;5;28;01mfrom\u001b[39;00m \u001b[38;5;21;01mtensorflow\u001b[39;00m\u001b[38;5;21;01m.\u001b[39;00m\u001b[38;5;21;01mpython\u001b[39;00m\u001b[38;5;21;01m.\u001b[39;00m\u001b[38;5;21;01mkeras\u001b[39;00m\u001b[38;5;21;01m.\u001b[39;00m\u001b[38;5;21;01mlegacy_tf_layers\u001b[39;00m \u001b[38;5;28;01mimport\u001b[39;00m base\n\u001b[1;32m     18\u001b[0m InputSpec \u001b[38;5;241m=\u001b[39m base\u001b[38;5;241m.\u001b[39mInputSpec\n\u001b[1;32m     20\u001b[0m keras_style_scope \u001b[38;5;241m=\u001b[39m base\u001b[38;5;241m.\u001b[39mkeras_style_scope\n",
      "File \u001b[0;32m/opt/conda/lib/python3.8/site-packages/tensorflow/python/keras/__init__.py:25\u001b[0m\n\u001b[1;32m     22\u001b[0m \u001b[38;5;28;01mfrom\u001b[39;00m \u001b[38;5;21;01mtensorflow\u001b[39;00m\u001b[38;5;21;01m.\u001b[39;00m\u001b[38;5;21;01mpython\u001b[39;00m\u001b[38;5;21;01m.\u001b[39;00m\u001b[38;5;21;01mkeras\u001b[39;00m \u001b[38;5;28;01mimport\u001b[39;00m distribute\n\u001b[1;32m     24\u001b[0m \u001b[38;5;66;03m# See b/110718070#comment18 for more details about this import.\u001b[39;00m\n\u001b[0;32m---> 25\u001b[0m \u001b[38;5;28;01mfrom\u001b[39;00m \u001b[38;5;21;01mtensorflow\u001b[39;00m\u001b[38;5;21;01m.\u001b[39;00m\u001b[38;5;21;01mpython\u001b[39;00m\u001b[38;5;21;01m.\u001b[39;00m\u001b[38;5;21;01mkeras\u001b[39;00m \u001b[38;5;28;01mimport\u001b[39;00m models\n\u001b[1;32m     27\u001b[0m \u001b[38;5;28;01mfrom\u001b[39;00m \u001b[38;5;21;01mtensorflow\u001b[39;00m\u001b[38;5;21;01m.\u001b[39;00m\u001b[38;5;21;01mpython\u001b[39;00m\u001b[38;5;21;01m.\u001b[39;00m\u001b[38;5;21;01mkeras\u001b[39;00m\u001b[38;5;21;01m.\u001b[39;00m\u001b[38;5;21;01mengine\u001b[39;00m\u001b[38;5;21;01m.\u001b[39;00m\u001b[38;5;21;01minput_layer\u001b[39;00m \u001b[38;5;28;01mimport\u001b[39;00m Input\n\u001b[1;32m     28\u001b[0m \u001b[38;5;28;01mfrom\u001b[39;00m \u001b[38;5;21;01mtensorflow\u001b[39;00m\u001b[38;5;21;01m.\u001b[39;00m\u001b[38;5;21;01mpython\u001b[39;00m\u001b[38;5;21;01m.\u001b[39;00m\u001b[38;5;21;01mkeras\u001b[39;00m\u001b[38;5;21;01m.\u001b[39;00m\u001b[38;5;21;01mengine\u001b[39;00m\u001b[38;5;21;01m.\u001b[39;00m\u001b[38;5;21;01msequential\u001b[39;00m \u001b[38;5;28;01mimport\u001b[39;00m Sequential\n",
      "File \u001b[0;32m/opt/conda/lib/python3.8/site-packages/tensorflow/python/keras/models.py:22\u001b[0m\n\u001b[1;32m     20\u001b[0m \u001b[38;5;28;01mfrom\u001b[39;00m \u001b[38;5;21;01mtensorflow\u001b[39;00m\u001b[38;5;21;01m.\u001b[39;00m\u001b[38;5;21;01mpython\u001b[39;00m\u001b[38;5;21;01m.\u001b[39;00m\u001b[38;5;21;01mkeras\u001b[39;00m \u001b[38;5;28;01mimport\u001b[39;00m metrics \u001b[38;5;28;01mas\u001b[39;00m metrics_module\n\u001b[1;32m     21\u001b[0m \u001b[38;5;28;01mfrom\u001b[39;00m \u001b[38;5;21;01mtensorflow\u001b[39;00m\u001b[38;5;21;01m.\u001b[39;00m\u001b[38;5;21;01mpython\u001b[39;00m\u001b[38;5;21;01m.\u001b[39;00m\u001b[38;5;21;01mkeras\u001b[39;00m \u001b[38;5;28;01mimport\u001b[39;00m optimizer_v1\n\u001b[0;32m---> 22\u001b[0m \u001b[38;5;28;01mfrom\u001b[39;00m \u001b[38;5;21;01mtensorflow\u001b[39;00m\u001b[38;5;21;01m.\u001b[39;00m\u001b[38;5;21;01mpython\u001b[39;00m\u001b[38;5;21;01m.\u001b[39;00m\u001b[38;5;21;01mkeras\u001b[39;00m\u001b[38;5;21;01m.\u001b[39;00m\u001b[38;5;21;01mengine\u001b[39;00m \u001b[38;5;28;01mimport\u001b[39;00m functional\n\u001b[1;32m     23\u001b[0m \u001b[38;5;28;01mfrom\u001b[39;00m \u001b[38;5;21;01mtensorflow\u001b[39;00m\u001b[38;5;21;01m.\u001b[39;00m\u001b[38;5;21;01mpython\u001b[39;00m\u001b[38;5;21;01m.\u001b[39;00m\u001b[38;5;21;01mkeras\u001b[39;00m\u001b[38;5;21;01m.\u001b[39;00m\u001b[38;5;21;01mengine\u001b[39;00m \u001b[38;5;28;01mimport\u001b[39;00m sequential\n\u001b[1;32m     24\u001b[0m \u001b[38;5;28;01mfrom\u001b[39;00m \u001b[38;5;21;01mtensorflow\u001b[39;00m\u001b[38;5;21;01m.\u001b[39;00m\u001b[38;5;21;01mpython\u001b[39;00m\u001b[38;5;21;01m.\u001b[39;00m\u001b[38;5;21;01mkeras\u001b[39;00m\u001b[38;5;21;01m.\u001b[39;00m\u001b[38;5;21;01mengine\u001b[39;00m \u001b[38;5;28;01mimport\u001b[39;00m training\n",
      "File \u001b[0;32m/opt/conda/lib/python3.8/site-packages/tensorflow/python/keras/engine/functional.py:32\u001b[0m\n\u001b[1;32m     30\u001b[0m \u001b[38;5;28;01mfrom\u001b[39;00m \u001b[38;5;21;01mtensorflow\u001b[39;00m\u001b[38;5;21;01m.\u001b[39;00m\u001b[38;5;21;01mpython\u001b[39;00m\u001b[38;5;21;01m.\u001b[39;00m\u001b[38;5;21;01mkeras\u001b[39;00m\u001b[38;5;21;01m.\u001b[39;00m\u001b[38;5;21;01mengine\u001b[39;00m \u001b[38;5;28;01mimport\u001b[39;00m input_spec\n\u001b[1;32m     31\u001b[0m \u001b[38;5;28;01mfrom\u001b[39;00m \u001b[38;5;21;01mtensorflow\u001b[39;00m\u001b[38;5;21;01m.\u001b[39;00m\u001b[38;5;21;01mpython\u001b[39;00m\u001b[38;5;21;01m.\u001b[39;00m\u001b[38;5;21;01mkeras\u001b[39;00m\u001b[38;5;21;01m.\u001b[39;00m\u001b[38;5;21;01mengine\u001b[39;00m \u001b[38;5;28;01mimport\u001b[39;00m node \u001b[38;5;28;01mas\u001b[39;00m node_module\n\u001b[0;32m---> 32\u001b[0m \u001b[38;5;28;01mfrom\u001b[39;00m \u001b[38;5;21;01mtensorflow\u001b[39;00m\u001b[38;5;21;01m.\u001b[39;00m\u001b[38;5;21;01mpython\u001b[39;00m\u001b[38;5;21;01m.\u001b[39;00m\u001b[38;5;21;01mkeras\u001b[39;00m\u001b[38;5;21;01m.\u001b[39;00m\u001b[38;5;21;01mengine\u001b[39;00m \u001b[38;5;28;01mimport\u001b[39;00m training \u001b[38;5;28;01mas\u001b[39;00m training_lib\n\u001b[1;32m     33\u001b[0m \u001b[38;5;28;01mfrom\u001b[39;00m \u001b[38;5;21;01mtensorflow\u001b[39;00m\u001b[38;5;21;01m.\u001b[39;00m\u001b[38;5;21;01mpython\u001b[39;00m\u001b[38;5;21;01m.\u001b[39;00m\u001b[38;5;21;01mkeras\u001b[39;00m\u001b[38;5;21;01m.\u001b[39;00m\u001b[38;5;21;01mengine\u001b[39;00m \u001b[38;5;28;01mimport\u001b[39;00m training_utils\n\u001b[1;32m     34\u001b[0m \u001b[38;5;28;01mfrom\u001b[39;00m \u001b[38;5;21;01mtensorflow\u001b[39;00m\u001b[38;5;21;01m.\u001b[39;00m\u001b[38;5;21;01mpython\u001b[39;00m\u001b[38;5;21;01m.\u001b[39;00m\u001b[38;5;21;01mkeras\u001b[39;00m\u001b[38;5;21;01m.\u001b[39;00m\u001b[38;5;21;01msaving\u001b[39;00m\u001b[38;5;21;01m.\u001b[39;00m\u001b[38;5;21;01msaved_model\u001b[39;00m \u001b[38;5;28;01mimport\u001b[39;00m network_serialization\n",
      "File \u001b[0;32m/opt/conda/lib/python3.8/site-packages/tensorflow/python/keras/engine/training.py:53\u001b[0m\n\u001b[1;32m     51\u001b[0m \u001b[38;5;28;01mfrom\u001b[39;00m \u001b[38;5;21;01mtensorflow\u001b[39;00m\u001b[38;5;21;01m.\u001b[39;00m\u001b[38;5;21;01mpython\u001b[39;00m\u001b[38;5;21;01m.\u001b[39;00m\u001b[38;5;21;01mkeras\u001b[39;00m\u001b[38;5;21;01m.\u001b[39;00m\u001b[38;5;21;01mmixed_precision\u001b[39;00m \u001b[38;5;28;01mimport\u001b[39;00m loss_scale_optimizer \u001b[38;5;28;01mas\u001b[39;00m lso\n\u001b[1;32m     52\u001b[0m \u001b[38;5;28;01mfrom\u001b[39;00m \u001b[38;5;21;01mtensorflow\u001b[39;00m\u001b[38;5;21;01m.\u001b[39;00m\u001b[38;5;21;01mpython\u001b[39;00m\u001b[38;5;21;01m.\u001b[39;00m\u001b[38;5;21;01mkeras\u001b[39;00m\u001b[38;5;21;01m.\u001b[39;00m\u001b[38;5;21;01mmixed_precision\u001b[39;00m \u001b[38;5;28;01mimport\u001b[39;00m policy\n\u001b[0;32m---> 53\u001b[0m \u001b[38;5;28;01mfrom\u001b[39;00m \u001b[38;5;21;01mtensorflow\u001b[39;00m\u001b[38;5;21;01m.\u001b[39;00m\u001b[38;5;21;01mpython\u001b[39;00m\u001b[38;5;21;01m.\u001b[39;00m\u001b[38;5;21;01mkeras\u001b[39;00m\u001b[38;5;21;01m.\u001b[39;00m\u001b[38;5;21;01msaving\u001b[39;00m \u001b[38;5;28;01mimport\u001b[39;00m hdf5_format\n\u001b[1;32m     54\u001b[0m \u001b[38;5;28;01mfrom\u001b[39;00m \u001b[38;5;21;01mtensorflow\u001b[39;00m\u001b[38;5;21;01m.\u001b[39;00m\u001b[38;5;21;01mpython\u001b[39;00m\u001b[38;5;21;01m.\u001b[39;00m\u001b[38;5;21;01mkeras\u001b[39;00m\u001b[38;5;21;01m.\u001b[39;00m\u001b[38;5;21;01msaving\u001b[39;00m \u001b[38;5;28;01mimport\u001b[39;00m save\n\u001b[1;32m     55\u001b[0m \u001b[38;5;28;01mfrom\u001b[39;00m \u001b[38;5;21;01mtensorflow\u001b[39;00m\u001b[38;5;21;01m.\u001b[39;00m\u001b[38;5;21;01mpython\u001b[39;00m\u001b[38;5;21;01m.\u001b[39;00m\u001b[38;5;21;01mkeras\u001b[39;00m\u001b[38;5;21;01m.\u001b[39;00m\u001b[38;5;21;01msaving\u001b[39;00m \u001b[38;5;28;01mimport\u001b[39;00m saving_utils\n",
      "File \u001b[0;32m/opt/conda/lib/python3.8/site-packages/tensorflow/python/keras/saving/hdf5_format.py:37\u001b[0m\n\u001b[1;32m     35\u001b[0m \u001b[38;5;66;03m# pylint: disable=g-import-not-at-top\u001b[39;00m\n\u001b[1;32m     36\u001b[0m \u001b[38;5;28;01mtry\u001b[39;00m:\n\u001b[0;32m---> 37\u001b[0m   \u001b[38;5;28;01mimport\u001b[39;00m \u001b[38;5;21;01mh5py\u001b[39;00m\n\u001b[1;32m     38\u001b[0m   HDF5_OBJECT_HEADER_LIMIT \u001b[38;5;241m=\u001b[39m \u001b[38;5;241m64512\u001b[39m\n\u001b[1;32m     39\u001b[0m \u001b[38;5;28;01mexcept\u001b[39;00m \u001b[38;5;167;01mImportError\u001b[39;00m:\n",
      "File \u001b[0;32m/opt/conda/lib/python3.8/site-packages/h5py/__init__.py:46\u001b[0m\n\u001b[1;32m     37\u001b[0m     _warn((\u001b[38;5;124m\"\u001b[39m\u001b[38;5;124mh5py is running against HDF5 \u001b[39m\u001b[38;5;132;01m{0}\u001b[39;00m\u001b[38;5;124m when it was built against \u001b[39m\u001b[38;5;132;01m{1}\u001b[39;00m\u001b[38;5;124m, \u001b[39m\u001b[38;5;124m\"\u001b[39m\n\u001b[1;32m     38\u001b[0m            \u001b[38;5;124m\"\u001b[39m\u001b[38;5;124mthis may cause problems\u001b[39m\u001b[38;5;124m\"\u001b[39m)\u001b[38;5;241m.\u001b[39mformat(\n\u001b[1;32m     39\u001b[0m             \u001b[38;5;124m'\u001b[39m\u001b[38;5;132;01m{0}\u001b[39;00m\u001b[38;5;124m.\u001b[39m\u001b[38;5;132;01m{1}\u001b[39;00m\u001b[38;5;124m.\u001b[39m\u001b[38;5;132;01m{2}\u001b[39;00m\u001b[38;5;124m'\u001b[39m\u001b[38;5;241m.\u001b[39mformat(\u001b[38;5;241m*\u001b[39mversion\u001b[38;5;241m.\u001b[39mhdf5_version_tuple),\n\u001b[1;32m     40\u001b[0m             \u001b[38;5;124m'\u001b[39m\u001b[38;5;132;01m{0}\u001b[39;00m\u001b[38;5;124m.\u001b[39m\u001b[38;5;132;01m{1}\u001b[39;00m\u001b[38;5;124m.\u001b[39m\u001b[38;5;132;01m{2}\u001b[39;00m\u001b[38;5;124m'\u001b[39m\u001b[38;5;241m.\u001b[39mformat(\u001b[38;5;241m*\u001b[39mversion\u001b[38;5;241m.\u001b[39mhdf5_built_version_tuple)\n\u001b[1;32m     41\u001b[0m     ))\n\u001b[1;32m     44\u001b[0m _errors\u001b[38;5;241m.\u001b[39msilence_errors()\n\u001b[0;32m---> 46\u001b[0m \u001b[38;5;28;01mfrom\u001b[39;00m \u001b[38;5;21;01m.\u001b[39;00m\u001b[38;5;21;01m_conv\u001b[39;00m \u001b[38;5;28;01mimport\u001b[39;00m register_converters \u001b[38;5;28;01mas\u001b[39;00m _register_converters\n\u001b[1;32m     47\u001b[0m _register_converters()\n\u001b[1;32m     49\u001b[0m \u001b[38;5;28;01mfrom\u001b[39;00m \u001b[38;5;21;01m.\u001b[39;00m\u001b[38;5;21;01mh5z\u001b[39;00m \u001b[38;5;28;01mimport\u001b[39;00m _register_lzf\n",
      "File \u001b[0;32mh5py/h5t.pxd:14\u001b[0m, in \u001b[0;36minit h5py._conv\u001b[0;34m()\u001b[0m\n",
      "File \u001b[0;32mh5py/h5t.pyx:293\u001b[0m, in \u001b[0;36minit h5py.h5t\u001b[0;34m()\u001b[0m\n",
      "File \u001b[0;32m/opt/conda/lib/python3.8/site-packages/numpy/__init__.py:320\u001b[0m, in \u001b[0;36m__getattr__\u001b[0;34m(attr)\u001b[0m\n\u001b[1;32m    317\u001b[0m     \u001b[38;5;28;01mfrom\u001b[39;00m \u001b[38;5;21;01m.\u001b[39;00m\u001b[38;5;21;01mtesting\u001b[39;00m \u001b[38;5;28;01mimport\u001b[39;00m Tester\n\u001b[1;32m    318\u001b[0m     \u001b[38;5;28;01mreturn\u001b[39;00m Tester\n\u001b[0;32m--> 320\u001b[0m \u001b[38;5;28;01mraise\u001b[39;00m \u001b[38;5;167;01mAttributeError\u001b[39;00m(\u001b[38;5;124m\"\u001b[39m\u001b[38;5;124mmodule \u001b[39m\u001b[38;5;132;01m{!r}\u001b[39;00m\u001b[38;5;124m has no attribute \u001b[39m\u001b[38;5;124m\"\u001b[39m\n\u001b[1;32m    321\u001b[0m                      \u001b[38;5;124m\"\u001b[39m\u001b[38;5;132;01m{!r}\u001b[39;00m\u001b[38;5;124m\"\u001b[39m\u001b[38;5;241m.\u001b[39mformat(\u001b[38;5;18m__name__\u001b[39m, attr))\n",
      "\u001b[0;31mAttributeError\u001b[0m: module 'numpy' has no attribute 'typeDict'"
     ]
    }
   ],
   "source": [
    "import numpy as np\n",
    "from sklearn.model_selection import train_test_split\n",
    "import tensorflow as tf\n",
    "from tensorflow.keras import layers, models\n",
    "\n",
    "# Load preprocessed data\n",
    "augmented_images = np.load('augmented_images.npy')\n",
    "augmented_labels = np.load('augmented_labels.npy')\n",
    "\n",
    "# Split the data into training and testing sets\n",
    "X_train, X_test, y_train, y_test = train_test_split(augmented_images, augmented_labels, test_size=0.2, random_state=42)\n",
    "\n",
    "# Define the CNN model\n",
    "model = models.Sequential([\n",
    "    layers.Conv2D(32, (3, 3), activation='relu', input_shape=(32, 32, 3)),\n",
    "    layers.MaxPooling2D((2, 2)),\n",
    "    layers.Conv2D(64, (3, 3), activation='relu'),\n",
    "    layers.MaxPooling2D((2, 2)),\n",
    "    layers.Conv2D(64, (3, 3), activation='relu'),\n",
    "    layers.Flatten(),\n",
    "    layers.Dense(64, activation='relu'),\n",
    "    layers.Dense(10, activation='softmax')  # Assuming there are 10 classes of traffic signs\n",
    "])\n",
    "\n",
    "# Compile the model\n",
    "model.compile(optimizer='adam',\n",
    "              loss='sparse_categorical_crossentropy',\n",
    "              metrics=['accuracy'])\n",
    "\n",
    "# Train the model\n",
    "history = model.fit(X_train, y_train, epochs=10, validation_data=(X_test, y_test))\n",
    "\n",
    "# Evaluate the model\n",
    "test_loss, test_accuracy = model.evaluate(X_test, y_test)\n",
    "print(\"Test Accuracy:\", test_accuracy)"
   ]
  },
  {
   "cell_type": "code",
   "execution_count": null,
   "id": "9ceee17b-897d-4131-884b-c2272667f43e",
   "metadata": {},
   "outputs": [],
   "source": []
  }
 ],
 "metadata": {
  "availableInstances": [
   {
    "_defaultOrder": 0,
    "_isFastLaunch": true,
    "category": "General purpose",
    "gpuNum": 0,
    "hideHardwareSpecs": false,
    "memoryGiB": 4,
    "name": "ml.t3.medium",
    "vcpuNum": 2
   },
   {
    "_defaultOrder": 1,
    "_isFastLaunch": false,
    "category": "General purpose",
    "gpuNum": 0,
    "hideHardwareSpecs": false,
    "memoryGiB": 8,
    "name": "ml.t3.large",
    "vcpuNum": 2
   },
   {
    "_defaultOrder": 2,
    "_isFastLaunch": false,
    "category": "General purpose",
    "gpuNum": 0,
    "hideHardwareSpecs": false,
    "memoryGiB": 16,
    "name": "ml.t3.xlarge",
    "vcpuNum": 4
   },
   {
    "_defaultOrder": 3,
    "_isFastLaunch": false,
    "category": "General purpose",
    "gpuNum": 0,
    "hideHardwareSpecs": false,
    "memoryGiB": 32,
    "name": "ml.t3.2xlarge",
    "vcpuNum": 8
   },
   {
    "_defaultOrder": 4,
    "_isFastLaunch": true,
    "category": "General purpose",
    "gpuNum": 0,
    "hideHardwareSpecs": false,
    "memoryGiB": 8,
    "name": "ml.m5.large",
    "vcpuNum": 2
   },
   {
    "_defaultOrder": 5,
    "_isFastLaunch": false,
    "category": "General purpose",
    "gpuNum": 0,
    "hideHardwareSpecs": false,
    "memoryGiB": 16,
    "name": "ml.m5.xlarge",
    "vcpuNum": 4
   },
   {
    "_defaultOrder": 6,
    "_isFastLaunch": false,
    "category": "General purpose",
    "gpuNum": 0,
    "hideHardwareSpecs": false,
    "memoryGiB": 32,
    "name": "ml.m5.2xlarge",
    "vcpuNum": 8
   },
   {
    "_defaultOrder": 7,
    "_isFastLaunch": false,
    "category": "General purpose",
    "gpuNum": 0,
    "hideHardwareSpecs": false,
    "memoryGiB": 64,
    "name": "ml.m5.4xlarge",
    "vcpuNum": 16
   },
   {
    "_defaultOrder": 8,
    "_isFastLaunch": false,
    "category": "General purpose",
    "gpuNum": 0,
    "hideHardwareSpecs": false,
    "memoryGiB": 128,
    "name": "ml.m5.8xlarge",
    "vcpuNum": 32
   },
   {
    "_defaultOrder": 9,
    "_isFastLaunch": false,
    "category": "General purpose",
    "gpuNum": 0,
    "hideHardwareSpecs": false,
    "memoryGiB": 192,
    "name": "ml.m5.12xlarge",
    "vcpuNum": 48
   },
   {
    "_defaultOrder": 10,
    "_isFastLaunch": false,
    "category": "General purpose",
    "gpuNum": 0,
    "hideHardwareSpecs": false,
    "memoryGiB": 256,
    "name": "ml.m5.16xlarge",
    "vcpuNum": 64
   },
   {
    "_defaultOrder": 11,
    "_isFastLaunch": false,
    "category": "General purpose",
    "gpuNum": 0,
    "hideHardwareSpecs": false,
    "memoryGiB": 384,
    "name": "ml.m5.24xlarge",
    "vcpuNum": 96
   },
   {
    "_defaultOrder": 12,
    "_isFastLaunch": false,
    "category": "General purpose",
    "gpuNum": 0,
    "hideHardwareSpecs": false,
    "memoryGiB": 8,
    "name": "ml.m5d.large",
    "vcpuNum": 2
   },
   {
    "_defaultOrder": 13,
    "_isFastLaunch": false,
    "category": "General purpose",
    "gpuNum": 0,
    "hideHardwareSpecs": false,
    "memoryGiB": 16,
    "name": "ml.m5d.xlarge",
    "vcpuNum": 4
   },
   {
    "_defaultOrder": 14,
    "_isFastLaunch": false,
    "category": "General purpose",
    "gpuNum": 0,
    "hideHardwareSpecs": false,
    "memoryGiB": 32,
    "name": "ml.m5d.2xlarge",
    "vcpuNum": 8
   },
   {
    "_defaultOrder": 15,
    "_isFastLaunch": false,
    "category": "General purpose",
    "gpuNum": 0,
    "hideHardwareSpecs": false,
    "memoryGiB": 64,
    "name": "ml.m5d.4xlarge",
    "vcpuNum": 16
   },
   {
    "_defaultOrder": 16,
    "_isFastLaunch": false,
    "category": "General purpose",
    "gpuNum": 0,
    "hideHardwareSpecs": false,
    "memoryGiB": 128,
    "name": "ml.m5d.8xlarge",
    "vcpuNum": 32
   },
   {
    "_defaultOrder": 17,
    "_isFastLaunch": false,
    "category": "General purpose",
    "gpuNum": 0,
    "hideHardwareSpecs": false,
    "memoryGiB": 192,
    "name": "ml.m5d.12xlarge",
    "vcpuNum": 48
   },
   {
    "_defaultOrder": 18,
    "_isFastLaunch": false,
    "category": "General purpose",
    "gpuNum": 0,
    "hideHardwareSpecs": false,
    "memoryGiB": 256,
    "name": "ml.m5d.16xlarge",
    "vcpuNum": 64
   },
   {
    "_defaultOrder": 19,
    "_isFastLaunch": false,
    "category": "General purpose",
    "gpuNum": 0,
    "hideHardwareSpecs": false,
    "memoryGiB": 384,
    "name": "ml.m5d.24xlarge",
    "vcpuNum": 96
   },
   {
    "_defaultOrder": 20,
    "_isFastLaunch": false,
    "category": "General purpose",
    "gpuNum": 0,
    "hideHardwareSpecs": true,
    "memoryGiB": 0,
    "name": "ml.geospatial.interactive",
    "supportedImageNames": [
     "sagemaker-geospatial-v1-0"
    ],
    "vcpuNum": 0
   },
   {
    "_defaultOrder": 21,
    "_isFastLaunch": true,
    "category": "Compute optimized",
    "gpuNum": 0,
    "hideHardwareSpecs": false,
    "memoryGiB": 4,
    "name": "ml.c5.large",
    "vcpuNum": 2
   },
   {
    "_defaultOrder": 22,
    "_isFastLaunch": false,
    "category": "Compute optimized",
    "gpuNum": 0,
    "hideHardwareSpecs": false,
    "memoryGiB": 8,
    "name": "ml.c5.xlarge",
    "vcpuNum": 4
   },
   {
    "_defaultOrder": 23,
    "_isFastLaunch": false,
    "category": "Compute optimized",
    "gpuNum": 0,
    "hideHardwareSpecs": false,
    "memoryGiB": 16,
    "name": "ml.c5.2xlarge",
    "vcpuNum": 8
   },
   {
    "_defaultOrder": 24,
    "_isFastLaunch": false,
    "category": "Compute optimized",
    "gpuNum": 0,
    "hideHardwareSpecs": false,
    "memoryGiB": 32,
    "name": "ml.c5.4xlarge",
    "vcpuNum": 16
   },
   {
    "_defaultOrder": 25,
    "_isFastLaunch": false,
    "category": "Compute optimized",
    "gpuNum": 0,
    "hideHardwareSpecs": false,
    "memoryGiB": 72,
    "name": "ml.c5.9xlarge",
    "vcpuNum": 36
   },
   {
    "_defaultOrder": 26,
    "_isFastLaunch": false,
    "category": "Compute optimized",
    "gpuNum": 0,
    "hideHardwareSpecs": false,
    "memoryGiB": 96,
    "name": "ml.c5.12xlarge",
    "vcpuNum": 48
   },
   {
    "_defaultOrder": 27,
    "_isFastLaunch": false,
    "category": "Compute optimized",
    "gpuNum": 0,
    "hideHardwareSpecs": false,
    "memoryGiB": 144,
    "name": "ml.c5.18xlarge",
    "vcpuNum": 72
   },
   {
    "_defaultOrder": 28,
    "_isFastLaunch": false,
    "category": "Compute optimized",
    "gpuNum": 0,
    "hideHardwareSpecs": false,
    "memoryGiB": 192,
    "name": "ml.c5.24xlarge",
    "vcpuNum": 96
   },
   {
    "_defaultOrder": 29,
    "_isFastLaunch": true,
    "category": "Accelerated computing",
    "gpuNum": 1,
    "hideHardwareSpecs": false,
    "memoryGiB": 16,
    "name": "ml.g4dn.xlarge",
    "vcpuNum": 4
   },
   {
    "_defaultOrder": 30,
    "_isFastLaunch": false,
    "category": "Accelerated computing",
    "gpuNum": 1,
    "hideHardwareSpecs": false,
    "memoryGiB": 32,
    "name": "ml.g4dn.2xlarge",
    "vcpuNum": 8
   },
   {
    "_defaultOrder": 31,
    "_isFastLaunch": false,
    "category": "Accelerated computing",
    "gpuNum": 1,
    "hideHardwareSpecs": false,
    "memoryGiB": 64,
    "name": "ml.g4dn.4xlarge",
    "vcpuNum": 16
   },
   {
    "_defaultOrder": 32,
    "_isFastLaunch": false,
    "category": "Accelerated computing",
    "gpuNum": 1,
    "hideHardwareSpecs": false,
    "memoryGiB": 128,
    "name": "ml.g4dn.8xlarge",
    "vcpuNum": 32
   },
   {
    "_defaultOrder": 33,
    "_isFastLaunch": false,
    "category": "Accelerated computing",
    "gpuNum": 4,
    "hideHardwareSpecs": false,
    "memoryGiB": 192,
    "name": "ml.g4dn.12xlarge",
    "vcpuNum": 48
   },
   {
    "_defaultOrder": 34,
    "_isFastLaunch": false,
    "category": "Accelerated computing",
    "gpuNum": 1,
    "hideHardwareSpecs": false,
    "memoryGiB": 256,
    "name": "ml.g4dn.16xlarge",
    "vcpuNum": 64
   },
   {
    "_defaultOrder": 35,
    "_isFastLaunch": false,
    "category": "Accelerated computing",
    "gpuNum": 1,
    "hideHardwareSpecs": false,
    "memoryGiB": 61,
    "name": "ml.p3.2xlarge",
    "vcpuNum": 8
   },
   {
    "_defaultOrder": 36,
    "_isFastLaunch": false,
    "category": "Accelerated computing",
    "gpuNum": 4,
    "hideHardwareSpecs": false,
    "memoryGiB": 244,
    "name": "ml.p3.8xlarge",
    "vcpuNum": 32
   },
   {
    "_defaultOrder": 37,
    "_isFastLaunch": false,
    "category": "Accelerated computing",
    "gpuNum": 8,
    "hideHardwareSpecs": false,
    "memoryGiB": 488,
    "name": "ml.p3.16xlarge",
    "vcpuNum": 64
   },
   {
    "_defaultOrder": 38,
    "_isFastLaunch": false,
    "category": "Accelerated computing",
    "gpuNum": 8,
    "hideHardwareSpecs": false,
    "memoryGiB": 768,
    "name": "ml.p3dn.24xlarge",
    "vcpuNum": 96
   },
   {
    "_defaultOrder": 39,
    "_isFastLaunch": false,
    "category": "Memory Optimized",
    "gpuNum": 0,
    "hideHardwareSpecs": false,
    "memoryGiB": 16,
    "name": "ml.r5.large",
    "vcpuNum": 2
   },
   {
    "_defaultOrder": 40,
    "_isFastLaunch": false,
    "category": "Memory Optimized",
    "gpuNum": 0,
    "hideHardwareSpecs": false,
    "memoryGiB": 32,
    "name": "ml.r5.xlarge",
    "vcpuNum": 4
   },
   {
    "_defaultOrder": 41,
    "_isFastLaunch": false,
    "category": "Memory Optimized",
    "gpuNum": 0,
    "hideHardwareSpecs": false,
    "memoryGiB": 64,
    "name": "ml.r5.2xlarge",
    "vcpuNum": 8
   },
   {
    "_defaultOrder": 42,
    "_isFastLaunch": false,
    "category": "Memory Optimized",
    "gpuNum": 0,
    "hideHardwareSpecs": false,
    "memoryGiB": 128,
    "name": "ml.r5.4xlarge",
    "vcpuNum": 16
   },
   {
    "_defaultOrder": 43,
    "_isFastLaunch": false,
    "category": "Memory Optimized",
    "gpuNum": 0,
    "hideHardwareSpecs": false,
    "memoryGiB": 256,
    "name": "ml.r5.8xlarge",
    "vcpuNum": 32
   },
   {
    "_defaultOrder": 44,
    "_isFastLaunch": false,
    "category": "Memory Optimized",
    "gpuNum": 0,
    "hideHardwareSpecs": false,
    "memoryGiB": 384,
    "name": "ml.r5.12xlarge",
    "vcpuNum": 48
   },
   {
    "_defaultOrder": 45,
    "_isFastLaunch": false,
    "category": "Memory Optimized",
    "gpuNum": 0,
    "hideHardwareSpecs": false,
    "memoryGiB": 512,
    "name": "ml.r5.16xlarge",
    "vcpuNum": 64
   },
   {
    "_defaultOrder": 46,
    "_isFastLaunch": false,
    "category": "Memory Optimized",
    "gpuNum": 0,
    "hideHardwareSpecs": false,
    "memoryGiB": 768,
    "name": "ml.r5.24xlarge",
    "vcpuNum": 96
   },
   {
    "_defaultOrder": 47,
    "_isFastLaunch": false,
    "category": "Accelerated computing",
    "gpuNum": 1,
    "hideHardwareSpecs": false,
    "memoryGiB": 16,
    "name": "ml.g5.xlarge",
    "vcpuNum": 4
   },
   {
    "_defaultOrder": 48,
    "_isFastLaunch": false,
    "category": "Accelerated computing",
    "gpuNum": 1,
    "hideHardwareSpecs": false,
    "memoryGiB": 32,
    "name": "ml.g5.2xlarge",
    "vcpuNum": 8
   },
   {
    "_defaultOrder": 49,
    "_isFastLaunch": false,
    "category": "Accelerated computing",
    "gpuNum": 1,
    "hideHardwareSpecs": false,
    "memoryGiB": 64,
    "name": "ml.g5.4xlarge",
    "vcpuNum": 16
   },
   {
    "_defaultOrder": 50,
    "_isFastLaunch": false,
    "category": "Accelerated computing",
    "gpuNum": 1,
    "hideHardwareSpecs": false,
    "memoryGiB": 128,
    "name": "ml.g5.8xlarge",
    "vcpuNum": 32
   },
   {
    "_defaultOrder": 51,
    "_isFastLaunch": false,
    "category": "Accelerated computing",
    "gpuNum": 1,
    "hideHardwareSpecs": false,
    "memoryGiB": 256,
    "name": "ml.g5.16xlarge",
    "vcpuNum": 64
   },
   {
    "_defaultOrder": 52,
    "_isFastLaunch": false,
    "category": "Accelerated computing",
    "gpuNum": 4,
    "hideHardwareSpecs": false,
    "memoryGiB": 192,
    "name": "ml.g5.12xlarge",
    "vcpuNum": 48
   },
   {
    "_defaultOrder": 53,
    "_isFastLaunch": false,
    "category": "Accelerated computing",
    "gpuNum": 4,
    "hideHardwareSpecs": false,
    "memoryGiB": 384,
    "name": "ml.g5.24xlarge",
    "vcpuNum": 96
   },
   {
    "_defaultOrder": 54,
    "_isFastLaunch": false,
    "category": "Accelerated computing",
    "gpuNum": 8,
    "hideHardwareSpecs": false,
    "memoryGiB": 768,
    "name": "ml.g5.48xlarge",
    "vcpuNum": 192
   },
   {
    "_defaultOrder": 55,
    "_isFastLaunch": false,
    "category": "Accelerated computing",
    "gpuNum": 8,
    "hideHardwareSpecs": false,
    "memoryGiB": 1152,
    "name": "ml.p4d.24xlarge",
    "vcpuNum": 96
   },
   {
    "_defaultOrder": 56,
    "_isFastLaunch": false,
    "category": "Accelerated computing",
    "gpuNum": 8,
    "hideHardwareSpecs": false,
    "memoryGiB": 1152,
    "name": "ml.p4de.24xlarge",
    "vcpuNum": 96
   },
   {
    "_defaultOrder": 57,
    "_isFastLaunch": false,
    "category": "Accelerated computing",
    "gpuNum": 0,
    "hideHardwareSpecs": false,
    "memoryGiB": 32,
    "name": "ml.trn1.2xlarge",
    "vcpuNum": 8
   },
   {
    "_defaultOrder": 58,
    "_isFastLaunch": false,
    "category": "Accelerated computing",
    "gpuNum": 0,
    "hideHardwareSpecs": false,
    "memoryGiB": 512,
    "name": "ml.trn1.32xlarge",
    "vcpuNum": 128
   },
   {
    "_defaultOrder": 59,
    "_isFastLaunch": false,
    "category": "Accelerated computing",
    "gpuNum": 0,
    "hideHardwareSpecs": false,
    "memoryGiB": 512,
    "name": "ml.trn1n.32xlarge",
    "vcpuNum": 128
   }
  ],
  "instance_type": "ml.t3.medium",
  "kernelspec": {
   "display_name": "Python 3 (Data Science 2.0)",
   "language": "python",
   "name": "python3__SAGEMAKER_INTERNAL__arn:aws:sagemaker:us-east-1:081325390199:image/sagemaker-data-science-38"
  },
  "language_info": {
   "codemirror_mode": {
    "name": "ipython",
    "version": 3
   },
   "file_extension": ".py",
   "mimetype": "text/x-python",
   "name": "python",
   "nbconvert_exporter": "python",
   "pygments_lexer": "ipython3",
   "version": "3.8.13"
  }
 },
 "nbformat": 4,
 "nbformat_minor": 5
}
