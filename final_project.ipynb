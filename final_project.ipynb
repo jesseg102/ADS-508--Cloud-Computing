{
 "cells": [
  {
   "cell_type": "markdown",
   "id": "20b8f492-1642-4819-966d-4c44493fc1e7",
   "metadata": {
    "tags": []
   },
   "source": [
    "# Import Corresponding Packages"
   ]
  },
  {
   "cell_type": "code",
   "execution_count": 156,
   "id": "02cb26ab-fe2d-4f87-b240-a71477364fa0",
   "metadata": {
    "tags": []
   },
   "outputs": [],
   "source": [
    "# Had to install package & upgrade package\n",
    "# !pip install pyathena\n",
    "# !pip install --upgrade pyathena pip"
   ]
  },
  {
   "cell_type": "code",
   "execution_count": 157,
   "id": "347b1d7c-6d2c-4aa0-99f5-7dbe33b420cc",
   "metadata": {
    "tags": []
   },
   "outputs": [],
   "source": [
    "import os\n",
    "import boto3\n",
    "import sagemaker\n",
    "import pandas as pd\n",
    "import numpy as np\n",
    "import csv, json\n",
    "import seaborn as sns\n",
    "import matplotlib.pyplot as plt\n",
    "%matplotlib inline\n",
    "from IPython.display import HTML, display, Image as IImage\n",
    "from io import StringIO\n",
    "from pyathena import connect\n",
    "from sklearn.model_selection import train_test_split\n",
    "import warnings\n",
    "import io\n",
    "from PIL import Image\n",
    "from skimage import transform\n",
    "from sklearn.utils import shuffle\n",
    "import random\n",
    "\n",
    "warnings.filterwarnings('ignore')"
   ]
  },
  {
   "cell_type": "code",
   "execution_count": 158,
   "id": "a2cf400f-727e-4550-8016-30ce715c3359",
   "metadata": {
    "tags": []
   },
   "outputs": [],
   "source": [
    "# Initialize Boto3 Rekognition client\n",
    "\n",
    "rekognition_client = boto3.client(\"rekognition\")\n",
    "s3 = boto3.client(\"s3\")"
   ]
  },
  {
   "cell_type": "markdown",
   "id": "4b05e977-1d46-4db6-a9b6-12de63dec62a",
   "metadata": {},
   "source": [
    "# Detect labels in Traffic sign images"
   ]
  },
  {
   "cell_type": "code",
   "execution_count": 159,
   "id": "5110c800-2f9b-4555-bfe3-bed5ada07f67",
   "metadata": {
    "tags": []
   },
   "outputs": [],
   "source": [
    "# Define s3 bucket name, prefix and output csv file path\n",
    "\n",
    "bucket_name = 'final.project.data.508'\n",
    "prefix_key = 'traffic_signs/'\n",
    "output_csv_key = 'csv_files/traffic_signs.csv'"
   ]
  },
  {
   "cell_type": "code",
   "execution_count": 160,
   "id": "f50cd80f-ff88-4b21-ac7f-76f5b3e056bb",
   "metadata": {
    "tags": []
   },
   "outputs": [],
   "source": [
    "# Function to detect text from an image \n",
    "\n",
    "def detect_text_from_image(bucket_name, image_key):\n",
    "    if image_key.endswith('.jpg'):\n",
    "        rekognition_response = rekognition_client.detect_text(Image={'S3Object': {'Bucket': bucket_name, 'Name': image_key}})\n",
    "        return rekognition_response"
   ]
  },
  {
   "cell_type": "code",
   "execution_count": 161,
   "id": "ca7b1b23-0eaa-4d4b-982e-964c4389fe50",
   "metadata": {
    "tags": []
   },
   "outputs": [],
   "source": [
    "# Get a list of objects in the s3 bucket\n",
    "\n",
    "all_results = []\n",
    "\n",
    "paginator = s3.get_paginator('list_objects_v2')\n",
    "result = paginator.paginate(Bucket=bucket_name, Prefix=prefix_key)\n",
    "\n",
    "for page in result:\n",
    "    if \"Contents\" in page:\n",
    "         for key in page[ \"Contents\" ]:\n",
    "             keyString = key[ \"Key\" ]\n",
    "             print(keyString)\n",
    "             if keyString.endswith('.jpg'):\n",
    "                 response = detect_text_from_image(bucket_name, keyString)\n",
    "                 all_results.append({'Image': keyString, 'TextDetections': response['TextDetections']})"
   ]
  },
  {
   "cell_type": "code",
   "execution_count": 162,
   "id": "22e13434-d38e-4586-a9c3-564b448808a8",
   "metadata": {
    "tags": []
   },
   "outputs": [
    {
     "name": "stdout",
     "output_type": "stream",
     "text": [
      "Text detection results saved to: s3://final.project.data.508/csv_files/traffic_signs.csv\n"
     ]
    }
   ],
   "source": [
    "# # Write aggregated results to a single CSV file\n",
    "\n",
    "csv_buffer = StringIO()\n",
    "writer = csv.DictWriter(csv_buffer, fieldnames=['Image', 'DetectedText', 'Type', 'Confidence'])\n",
    "writer.writeheader()\n",
    "for result in all_results:\n",
    "    image_key = result['Image']\n",
    "    for detection in result['TextDetections']:\n",
    "        detected_text = detection['DetectedText']\n",
    "        text_type = detection['Type']\n",
    "        confidence = detection['Confidence']\n",
    "        writer.writerow({'Image': image_key, 'DetectedText': detected_text, 'Type': text_type, 'Confidence': confidence})\n",
    "        \n",
    "# # Upload CSV string to S3\n",
    "\n",
    "csv_buffer.seek(0)\n",
    "s3.put_object(Body=csv_buffer.getvalue(), Bucket=bucket_name, Key=output_csv_key)\n",
    "\n",
    "print(f\"Text detection results saved to: s3://{bucket_name}/{output_csv_key}\")"
   ]
  },
  {
   "cell_type": "code",
   "execution_count": 163,
   "id": "862e6298-0f82-4d34-bb3a-6dd18b72c821",
   "metadata": {
    "tags": []
   },
   "outputs": [
    {
     "name": "stdout",
     "output_type": "stream",
     "text": [
      "sagemaker.config INFO - Not applying SDK defaults from location: /etc/xdg/sagemaker/config.yaml\n",
      "sagemaker.config INFO - Not applying SDK defaults from location: /root/.config/sagemaker/config.yaml\n",
      "sagemaker.config INFO - Not applying SDK defaults from location: /etc/xdg/sagemaker/config.yaml\n",
      "sagemaker.config INFO - Not applying SDK defaults from location: /root/.config/sagemaker/config.yaml\n"
     ]
    }
   ],
   "source": [
    "# Create athena database\n",
    "\n",
    "sess = sagemaker.Session()\n",
    "role = sagemaker.get_execution_role()\n",
    "bucket = sess.default_bucket()\n",
    "region = boto3.Session().region_name\n",
    "\n",
    "ingest_create_athena_db_passed = False"
   ]
  },
  {
   "cell_type": "code",
   "execution_count": 164,
   "id": "f24b3791-a436-48d4-b5cf-be9224468914",
   "metadata": {
    "tags": []
   },
   "outputs": [],
   "source": [
    "# Set Athena database name\n",
    "\n",
    "database_name = \"velocityvision\""
   ]
  },
  {
   "cell_type": "code",
   "execution_count": 165,
   "id": "dc685f68-b2da-4281-a91b-873b8836b1e2",
   "metadata": {
    "tags": []
   },
   "outputs": [],
   "source": [
    "# Set S3 staging directory -- this is a temporary directory used for Athena queries\n",
    "\n",
    "s3_staging_dir = \"s3://{0}/athena/staging\".format(bucket)"
   ]
  },
  {
   "cell_type": "code",
   "execution_count": 166,
   "id": "d60f25c1-0031-41e7-881b-8fae276890c8",
   "metadata": {
    "tags": []
   },
   "outputs": [],
   "source": [
    "# Connect to s3 using PyAthena\n",
    "\n",
    "conn = connect(region_name=region, s3_staging_dir=s3_staging_dir)"
   ]
  },
  {
   "cell_type": "code",
   "execution_count": 167,
   "id": "fb73e9df-14b3-4a16-99d7-d00551f77fb5",
   "metadata": {
    "tags": []
   },
   "outputs": [
    {
     "name": "stdout",
     "output_type": "stream",
     "text": [
      "CREATE DATABASE IF NOT EXISTS velocityvision\n"
     ]
    },
    {
     "data": {
      "text/html": [
       "<div>\n",
       "<style scoped>\n",
       "    .dataframe tbody tr th:only-of-type {\n",
       "        vertical-align: middle;\n",
       "    }\n",
       "\n",
       "    .dataframe tbody tr th {\n",
       "        vertical-align: top;\n",
       "    }\n",
       "\n",
       "    .dataframe thead th {\n",
       "        text-align: right;\n",
       "    }\n",
       "</style>\n",
       "<table border=\"1\" class=\"dataframe\">\n",
       "  <thead>\n",
       "    <tr style=\"text-align: right;\">\n",
       "      <th></th>\n",
       "    </tr>\n",
       "  </thead>\n",
       "  <tbody>\n",
       "  </tbody>\n",
       "</table>\n",
       "</div>"
      ],
      "text/plain": [
       "Empty DataFrame\n",
       "Columns: []\n",
       "Index: []"
      ]
     },
     "execution_count": 167,
     "metadata": {},
     "output_type": "execute_result"
    }
   ],
   "source": [
    "# SQL statement to execute\n",
    "\n",
    "statement = \"CREATE DATABASE IF NOT EXISTS {}\".format(database_name)\n",
    "print(statement)\n",
    "pd.read_sql(statement, conn)"
   ]
  },
  {
   "cell_type": "code",
   "execution_count": 168,
   "id": "11029721-91f2-4687-addd-08517da44df1",
   "metadata": {
    "tags": []
   },
   "outputs": [],
   "source": [
    "input_data_location = \"s3://finalprojectdata/csv_files\""
   ]
  },
  {
   "cell_type": "code",
   "execution_count": 169,
   "id": "ff1f2857-a56c-4f5a-bc8b-cd7b59943411",
   "metadata": {},
   "outputs": [
    {
     "data": {
      "text/html": [
       "<div>\n",
       "<style scoped>\n",
       "    .dataframe tbody tr th:only-of-type {\n",
       "        vertical-align: middle;\n",
       "    }\n",
       "\n",
       "    .dataframe tbody tr th {\n",
       "        vertical-align: top;\n",
       "    }\n",
       "\n",
       "    .dataframe thead th {\n",
       "        text-align: right;\n",
       "    }\n",
       "</style>\n",
       "<table border=\"1\" class=\"dataframe\">\n",
       "  <thead>\n",
       "    <tr style=\"text-align: right;\">\n",
       "      <th></th>\n",
       "      <th>image_id</th>\n",
       "      <th>detected_text</th>\n",
       "      <th>type</th>\n",
       "      <th>confidence</th>\n",
       "    </tr>\n",
       "  </thead>\n",
       "  <tbody>\n",
       "    <tr>\n",
       "      <th>0</th>\n",
       "      <td>license_plate/license_1/00009e5b390986a0.jpg</td>\n",
       "      <td>Bel &amp; The</td>\n",
       "      <td>LINE</td>\n",
       "      <td>98.095120</td>\n",
       "    </tr>\n",
       "    <tr>\n",
       "      <th>1</th>\n",
       "      <td>license_plate/license_1/00009e5b390986a0.jpg</td>\n",
       "      <td>Dragen</td>\n",
       "      <td>LINE</td>\n",
       "      <td>89.713400</td>\n",
       "    </tr>\n",
       "    <tr>\n",
       "      <th>2</th>\n",
       "      <td>license_plate/license_1/00009e5b390986a0.jpg</td>\n",
       "      <td>a Eating Ноква</td>\n",
       "      <td>LINE</td>\n",
       "      <td>15.457928</td>\n",
       "    </tr>\n",
       "    <tr>\n",
       "      <th>3</th>\n",
       "      <td>license_plate/license_1/00009e5b390986a0.jpg</td>\n",
       "      <td>Te Days</td>\n",
       "      <td>LINE</td>\n",
       "      <td>16.091923</td>\n",
       "    </tr>\n",
       "    <tr>\n",
       "      <th>4</th>\n",
       "      <td>license_plate/license_1/00009e5b390986a0.jpg</td>\n",
       "      <td>P</td>\n",
       "      <td>LINE</td>\n",
       "      <td>96.585700</td>\n",
       "    </tr>\n",
       "  </tbody>\n",
       "</table>\n",
       "</div>"
      ],
      "text/plain": [
       "                                       image_id   detected_text  type  \\\n",
       "0  license_plate/license_1/00009e5b390986a0.jpg       Bel & The  LINE   \n",
       "1  license_plate/license_1/00009e5b390986a0.jpg          Dragen  LINE   \n",
       "2  license_plate/license_1/00009e5b390986a0.jpg  a Eating Ноква  LINE   \n",
       "3  license_plate/license_1/00009e5b390986a0.jpg         Te Days  LINE   \n",
       "4  license_plate/license_1/00009e5b390986a0.jpg               P  LINE   \n",
       "\n",
       "   confidence  \n",
       "0   98.095120  \n",
       "1   89.713400  \n",
       "2   15.457928  \n",
       "3   16.091923  \n",
       "4   96.585700  "
      ]
     },
     "execution_count": 169,
     "metadata": {},
     "output_type": "execute_result"
    }
   ],
   "source": [
    "# SQL statement to execute the traffic signs text detection\n",
    "\n",
    "table_name1 = 'traffic_signs'\n",
    "pd.read_sql(f'DROP TABLE IF EXISTS {database_name}.{table_name1}', conn)\n",
    "\n",
    "create_table = f\"\"\"\n",
    "CREATE EXTERNAL TABLE IF NOT EXISTS {database_name}.{table_name1}(\n",
    "            image_id string,\n",
    "            detected_text string,\n",
    "            type string,\n",
    "            confidence float\n",
    "            )\n",
    "            \n",
    "            ROW FORMAT DELIMITED FIELDS TERMINATED BY ','\n",
    "            LOCATION '{input_data_location}'\n",
    "            TBLPROPERTIES ('skip.header.line.count'='1')\n",
    "\"\"\"\n",
    "\n",
    "pd.read_sql(create_table, conn)\n",
    "\n",
    "pd.read_sql(f'SELECT * FROM {database_name}.{table_name1} LIMIT 5', conn)"
   ]
  },
  {
   "cell_type": "code",
   "execution_count": 170,
   "id": "d8c720fa-b073-45e4-9b95-807967217c4f",
   "metadata": {
    "tags": []
   },
   "outputs": [],
   "source": [
    "# SQL statement to filter rows for \"WORD\" type\n",
    "\n",
    "query1 = \"SELECT * FROM {}.{} WHERE type='WORD'\".format(database_name, table_name1)\n",
    "traffic_signs_df = pd.read_sql(query1, conn)"
   ]
  },
  {
   "cell_type": "code",
   "execution_count": 171,
   "id": "b1a69b2a-1678-498e-a957-817ec9666d93",
   "metadata": {
    "tags": []
   },
   "outputs": [
    {
     "data": {
      "text/plain": [
       "(22975, 4)"
      ]
     },
     "execution_count": 171,
     "metadata": {},
     "output_type": "execute_result"
    }
   ],
   "source": [
    "traffic_signs_df.shape"
   ]
  },
  {
   "cell_type": "markdown",
   "id": "33ed36a1-d9e7-440a-9768-684a7a8f6e0e",
   "metadata": {},
   "source": [
    "## Checking duplicate values"
   ]
  },
  {
   "cell_type": "code",
   "execution_count": 172,
   "id": "3e8f5333-ddba-45ec-8d59-d61509b7bd31",
   "metadata": {
    "tags": []
   },
   "outputs": [
    {
     "data": {
      "text/plain": [
       "7993"
      ]
     },
     "execution_count": 172,
     "metadata": {},
     "output_type": "execute_result"
    }
   ],
   "source": [
    "traffic_signs_df.duplicated().sum()"
   ]
  },
  {
   "cell_type": "code",
   "execution_count": 173,
   "id": "aaa4034d-921c-41ca-9528-85f7a24b46df",
   "metadata": {
    "tags": []
   },
   "outputs": [
    {
     "data": {
      "text/plain": [
       "(14982, 4)"
      ]
     },
     "execution_count": 173,
     "metadata": {},
     "output_type": "execute_result"
    }
   ],
   "source": [
    "# Removing duplicate rows\n",
    "\n",
    "traffic_signs_df.drop_duplicates(inplace = True)\n",
    "traffic_signs_df.shape"
   ]
  },
  {
   "cell_type": "code",
   "execution_count": 174,
   "id": "08252f05-ea09-4d70-9a62-4aee40220a2f",
   "metadata": {
    "tags": []
   },
   "outputs": [
    {
     "data": {
      "text/html": [
       "<div>\n",
       "<style scoped>\n",
       "    .dataframe tbody tr th:only-of-type {\n",
       "        vertical-align: middle;\n",
       "    }\n",
       "\n",
       "    .dataframe tbody tr th {\n",
       "        vertical-align: top;\n",
       "    }\n",
       "\n",
       "    .dataframe thead th {\n",
       "        text-align: right;\n",
       "    }\n",
       "</style>\n",
       "<table border=\"1\" class=\"dataframe\">\n",
       "  <thead>\n",
       "    <tr style=\"text-align: right;\">\n",
       "      <th></th>\n",
       "      <th>image_id</th>\n",
       "      <th>type</th>\n",
       "      <th>detected_text</th>\n",
       "      <th>confidence</th>\n",
       "    </tr>\n",
       "  </thead>\n",
       "  <tbody>\n",
       "    <tr>\n",
       "      <th>0</th>\n",
       "      <td>license_plate/license_1/00009e5b390986a0.jpg</td>\n",
       "      <td>WORD</td>\n",
       "      <td>Bel &amp; The Dragen a Eating Ноква Te Days P طنية...</td>\n",
       "      <td>98.897190</td>\n",
       "    </tr>\n",
       "    <tr>\n",
       "      <th>1</th>\n",
       "      <td>license_plate/license_1/00009e5b390986a0_jpg.r...</td>\n",
       "      <td>WORD</td>\n",
       "      <td>MG Dr Bragan Joseph SANG P -</td>\n",
       "      <td>87.967316</td>\n",
       "    </tr>\n",
       "    <tr>\n",
       "      <th>2</th>\n",
       "      <td>license_plate/license_1/00009e5b390986a0_jpg.r...</td>\n",
       "      <td>WORD</td>\n",
       "      <td>15 118 and التحج your</td>\n",
       "      <td>83.933174</td>\n",
       "    </tr>\n",
       "    <tr>\n",
       "      <th>3</th>\n",
       "      <td>license_plate/license_1/00009e5b390986a0_jpg.r...</td>\n",
       "      <td>WORD</td>\n",
       "      <td>M 10r Вори People Rainy</td>\n",
       "      <td>57.783930</td>\n",
       "    </tr>\n",
       "    <tr>\n",
       "      <th>4</th>\n",
       "      <td>license_plate/license_1/0002a5b67e5f0909_jpg.r...</td>\n",
       "      <td>WORD</td>\n",
       "      <td>и Andrews Church DS00 PCZ</td>\n",
       "      <td>98.522736</td>\n",
       "    </tr>\n",
       "  </tbody>\n",
       "</table>\n",
       "</div>"
      ],
      "text/plain": [
       "                                            image_id  type  \\\n",
       "0       license_plate/license_1/00009e5b390986a0.jpg  WORD   \n",
       "1  license_plate/license_1/00009e5b390986a0_jpg.r...  WORD   \n",
       "2  license_plate/license_1/00009e5b390986a0_jpg.r...  WORD   \n",
       "3  license_plate/license_1/00009e5b390986a0_jpg.r...  WORD   \n",
       "4  license_plate/license_1/0002a5b67e5f0909_jpg.r...  WORD   \n",
       "\n",
       "                                       detected_text  confidence  \n",
       "0  Bel & The Dragen a Eating Ноква Te Days P طنية...   98.897190  \n",
       "1                       MG Dr Bragan Joseph SANG P -   87.967316  \n",
       "2                              15 118 and التحج your   83.933174  \n",
       "3                            M 10r Вори People Rainy   57.783930  \n",
       "4                          и Andrews Church DS00 PCZ   98.522736  "
      ]
     },
     "execution_count": 174,
     "metadata": {},
     "output_type": "execute_result"
    }
   ],
   "source": [
    "traffic_df = traffic_signs_df.groupby(['image_id', 'type']).agg({'detected_text': ' '.join, 'confidence':'max'}).reset_index()\n",
    "traffic_df.head()"
   ]
  },
  {
   "cell_type": "code",
   "execution_count": 175,
   "id": "011a433c-2743-4a90-9495-5a15f1e54110",
   "metadata": {},
   "outputs": [
    {
     "data": {
      "text/html": [
       "<div>\n",
       "<style scoped>\n",
       "    .dataframe tbody tr th:only-of-type {\n",
       "        vertical-align: middle;\n",
       "    }\n",
       "\n",
       "    .dataframe tbody tr th {\n",
       "        vertical-align: top;\n",
       "    }\n",
       "\n",
       "    .dataframe thead th {\n",
       "        text-align: right;\n",
       "    }\n",
       "</style>\n",
       "<table border=\"1\" class=\"dataframe\">\n",
       "  <thead>\n",
       "    <tr style=\"text-align: right;\">\n",
       "      <th></th>\n",
       "    </tr>\n",
       "  </thead>\n",
       "  <tbody>\n",
       "  </tbody>\n",
       "</table>\n",
       "</div>"
      ],
      "text/plain": [
       "Empty DataFrame\n",
       "Columns: []\n",
       "Index: []"
      ]
     },
     "execution_count": 175,
     "metadata": {},
     "output_type": "execute_result"
    }
   ],
   "source": [
    "# SQL statement to execute the analysis of vehicle speed\n",
    "\n",
    "table_name2 = 'vehicle_speed'\n",
    "pd.read_sql(f'DROP TABLE IF EXISTS {database_name}.{table_name2}', conn)\n",
    "\n",
    "create_table = f\"\"\"\n",
    "CREATE EXTERNAL TABLE IF NOT EXISTS {database_name}.{table_name2}(\n",
    "             latitude float,\n",
    "             longitude float,\n",
    "             target_speed float,\n",
    "             way_maxspeed float,\n",
    "             speed_osrm float,\n",
    "             elevation float,\n",
    "             fwd_azimuth float,\n",
    "             way_type string,\n",
    "             way_surface string,\n",
    "             node_intersection string,\n",
    "             node_railway string,\n",
    "             node_crossing string,\n",
    "             node_highway string,\n",
    "             node_stop string,\n",
    "             start_stop int,\n",
    "             azimuth_diff int,\n",
    "             elevation_diff float\n",
    "             )\n",
    "             \n",
    "             ROW FORMAT DELIMITED FIELDS TERMINATED BY ','\n",
    "             LOCATION 's3://finalprojectdata/vehicle_speed'\n",
    "             TBLPROPERTIES ('skip.header.line.count'='1')\n",
    "\"\"\"\n",
    "\n",
    "pd.read_sql(create_table, conn)"
   ]
  },
  {
   "cell_type": "code",
   "execution_count": 176,
   "id": "38971b75-0c6e-487a-a778-50764d2c62a2",
   "metadata": {
    "tags": []
   },
   "outputs": [
    {
     "data": {
      "text/html": [
       "<div>\n",
       "<style scoped>\n",
       "    .dataframe tbody tr th:only-of-type {\n",
       "        vertical-align: middle;\n",
       "    }\n",
       "\n",
       "    .dataframe tbody tr th {\n",
       "        vertical-align: top;\n",
       "    }\n",
       "\n",
       "    .dataframe thead th {\n",
       "        text-align: right;\n",
       "    }\n",
       "</style>\n",
       "<table border=\"1\" class=\"dataframe\">\n",
       "  <thead>\n",
       "    <tr style=\"text-align: right;\">\n",
       "      <th></th>\n",
       "      <th>latitude</th>\n",
       "      <th>longitude</th>\n",
       "      <th>target_speed</th>\n",
       "      <th>way_maxspeed</th>\n",
       "      <th>speed_osrm</th>\n",
       "      <th>elevation</th>\n",
       "      <th>fwd_azimuth</th>\n",
       "      <th>way_type</th>\n",
       "      <th>way_surface</th>\n",
       "      <th>node_intersection</th>\n",
       "      <th>node_railway</th>\n",
       "      <th>node_crossing</th>\n",
       "      <th>node_highway</th>\n",
       "      <th>node_stop</th>\n",
       "      <th>start_stop</th>\n",
       "      <th>azimuth_diff</th>\n",
       "      <th>elevation_diff</th>\n",
       "    </tr>\n",
       "  </thead>\n",
       "  <tbody>\n",
       "    <tr>\n",
       "      <th>0</th>\n",
       "      <td>50.397060</td>\n",
       "      <td>14.913273</td>\n",
       "      <td>39.739456</td>\n",
       "      <td>130.0</td>\n",
       "      <td>28.837246</td>\n",
       "      <td>229.77516</td>\n",
       "      <td>46.24135</td>\n",
       "      <td>motorway</td>\n",
       "      <td>asphalt</td>\n",
       "      <td></td>\n",
       "      <td></td>\n",
       "      <td></td>\n",
       "      <td></td>\n",
       "      <td></td>\n",
       "      <td>0</td>\n",
       "      <td>0.0</td>\n",
       "      <td>-0.025587</td>\n",
       "    </tr>\n",
       "    <tr>\n",
       "      <th>1</th>\n",
       "      <td>50.397068</td>\n",
       "      <td>14.913283</td>\n",
       "      <td>39.717785</td>\n",
       "      <td>130.0</td>\n",
       "      <td>28.875628</td>\n",
       "      <td>229.74959</td>\n",
       "      <td>46.24135</td>\n",
       "      <td>motorway</td>\n",
       "      <td>asphalt</td>\n",
       "      <td></td>\n",
       "      <td></td>\n",
       "      <td></td>\n",
       "      <td></td>\n",
       "      <td></td>\n",
       "      <td>0</td>\n",
       "      <td>0.0</td>\n",
       "      <td>-0.025587</td>\n",
       "    </tr>\n",
       "    <tr>\n",
       "      <th>2</th>\n",
       "      <td>50.397076</td>\n",
       "      <td>14.913294</td>\n",
       "      <td>39.696114</td>\n",
       "      <td>130.0</td>\n",
       "      <td>28.914007</td>\n",
       "      <td>229.72400</td>\n",
       "      <td>46.24135</td>\n",
       "      <td>motorway</td>\n",
       "      <td>asphalt</td>\n",
       "      <td></td>\n",
       "      <td></td>\n",
       "      <td></td>\n",
       "      <td></td>\n",
       "      <td></td>\n",
       "      <td>0</td>\n",
       "      <td>0.0</td>\n",
       "      <td>-0.025587</td>\n",
       "    </tr>\n",
       "    <tr>\n",
       "      <th>3</th>\n",
       "      <td>50.397080</td>\n",
       "      <td>14.913303</td>\n",
       "      <td>39.674442</td>\n",
       "      <td>130.0</td>\n",
       "      <td>28.952387</td>\n",
       "      <td>229.69841</td>\n",
       "      <td>46.24135</td>\n",
       "      <td>motorway</td>\n",
       "      <td>asphalt</td>\n",
       "      <td></td>\n",
       "      <td></td>\n",
       "      <td></td>\n",
       "      <td></td>\n",
       "      <td></td>\n",
       "      <td>0</td>\n",
       "      <td>0.0</td>\n",
       "      <td>-0.025587</td>\n",
       "    </tr>\n",
       "    <tr>\n",
       "      <th>4</th>\n",
       "      <td>50.397087</td>\n",
       "      <td>14.913314</td>\n",
       "      <td>39.652770</td>\n",
       "      <td>130.0</td>\n",
       "      <td>28.990767</td>\n",
       "      <td>229.67282</td>\n",
       "      <td>46.24135</td>\n",
       "      <td>motorway</td>\n",
       "      <td>asphalt</td>\n",
       "      <td></td>\n",
       "      <td></td>\n",
       "      <td></td>\n",
       "      <td></td>\n",
       "      <td></td>\n",
       "      <td>0</td>\n",
       "      <td>0.0</td>\n",
       "      <td>-0.025587</td>\n",
       "    </tr>\n",
       "  </tbody>\n",
       "</table>\n",
       "</div>"
      ],
      "text/plain": [
       "    latitude  longitude  target_speed  way_maxspeed  speed_osrm  elevation  \\\n",
       "0  50.397060  14.913273     39.739456         130.0   28.837246  229.77516   \n",
       "1  50.397068  14.913283     39.717785         130.0   28.875628  229.74959   \n",
       "2  50.397076  14.913294     39.696114         130.0   28.914007  229.72400   \n",
       "3  50.397080  14.913303     39.674442         130.0   28.952387  229.69841   \n",
       "4  50.397087  14.913314     39.652770         130.0   28.990767  229.67282   \n",
       "\n",
       "   fwd_azimuth  way_type way_surface node_intersection node_railway  \\\n",
       "0     46.24135  motorway     asphalt                                  \n",
       "1     46.24135  motorway     asphalt                                  \n",
       "2     46.24135  motorway     asphalt                                  \n",
       "3     46.24135  motorway     asphalt                                  \n",
       "4     46.24135  motorway     asphalt                                  \n",
       "\n",
       "  node_crossing node_highway node_stop  start_stop  azimuth_diff  \\\n",
       "0                                                0           0.0   \n",
       "1                                                0           0.0   \n",
       "2                                                0           0.0   \n",
       "3                                                0           0.0   \n",
       "4                                                0           0.0   \n",
       "\n",
       "   elevation_diff  \n",
       "0       -0.025587  \n",
       "1       -0.025587  \n",
       "2       -0.025587  \n",
       "3       -0.025587  \n",
       "4       -0.025587  "
      ]
     },
     "execution_count": 176,
     "metadata": {},
     "output_type": "execute_result"
    }
   ],
   "source": [
    "vehicle_speed_df = pd.read_sql(f'SELECT * FROM {database_name}.{table_name2}', conn)\n",
    "vehicle_speed_df.head()"
   ]
  },
  {
   "cell_type": "markdown",
   "id": "1d6130b0-6a6f-4d13-8ee5-95bf037e4564",
   "metadata": {},
   "source": [
    "## Conducting Data Cleansing Techniques"
   ]
  },
  {
   "cell_type": "code",
   "execution_count": 177,
   "id": "6b08374d-34d0-4499-b91d-3a7c442101ef",
   "metadata": {
    "tags": []
   },
   "outputs": [],
   "source": [
    "# First copied the files from a public to private bucket\n",
    "# List the contents of the public bucket\n",
    "# !aws s3 ls s3://finalprojectdata/\n",
    "\n",
    "# Create folders in your private bucket for each type of data\n",
    "# !aws s3 mb s3://final.project.data.508/vehicle_type\n",
    "# !aws s3 mb s3://final.project.data.508/license_plate\n",
    "# !aws s3 mb s3://final.project.data.508/traffic_signage\n",
    "# !aws s3 mb s3://final.project.data.508/vehicle_speed\n",
    "\n",
    "# Copy the contents of each folder from the public bucket to your private bucket\n",
    "# !aws s3 cp s3://finalprojectdata/cars_type/ s3://final.project.data.508/vehicle_type/ --recursive\n",
    "# !aws s3 cp s3://finalprojectdata/traffic_signs/ s3://final.project.data.508/traffic_signage/ --recursive\n",
    "# !aws s3 cp s3://finalprojectdata/license_plate/ s3://final.project.data.508/license_plate/ --recursive\n",
    "# !aws s3 cp s3://finalprojectdata/vehicle_speed/ s3://final.project.data.508/vehicle_speed/ --recursive"
   ]
  },
  {
   "cell_type": "code",
   "execution_count": 178,
   "id": "29dcf380-007d-44b3-b447-14844cbef415",
   "metadata": {
    "tags": []
   },
   "outputs": [],
   "source": [
    "# Function to read the dataset from S3\n",
    "def read_dataset_from_s3(bucket, prefix):\n",
    "    s3 = boto3.client('s3')\n",
    "    objs = s3.list_objects_v2(Bucket=bucket, Prefix=prefix)\n",
    "    image_paths = [obj['Key'] for obj in objs['Contents']]\n",
    "    return pd.DataFrame({'image_id': image_paths})\n",
    "\n",
    "# Function to resize images\n",
    "def resize_image(image, target_size):\n",
    "    return transform.resize(image, target_size)\n",
    "\n",
    "# Function to normalize pixel values\n",
    "def normalize_image(image):\n",
    "    return image / 255.0\n",
    "\n",
    "# Function to perform data augmentation\n",
    "def augment_data(images, labels, augment_factor):\n",
    "    augmented_images = []\n",
    "    augmented_labels = []\n",
    "\n",
    "    for image, label in zip(images, labels):\n",
    "        augmented_images.append(image)\n",
    "        augmented_labels.append(label)\n",
    "\n",
    "        # Apply transformations and add augmented samples\n",
    "        for _ in range(augment_factor):\n",
    "            augmented_image = apply_random_augmentation(image)  # Define your augmentation function\n",
    "            augmented_images.append(augmented_image)\n",
    "            augmented_labels.append(label)\n",
    "\n",
    "    return np.array(augmented_images), np.array(augmented_labels)\n",
    "\n",
    "# Define a function to apply random augmentations\n",
    "def apply_random_augmentation(image):\n",
    "    # Randomly select an augmentation to apply\n",
    "    augmentation_type = random.choice([\"flip_horizontal\", \"flip_vertical\", \"rotate\", \"shift\", \"brightness\"])\n",
    "\n",
    "    if augmentation_type == \"flip_horizontal\":\n",
    "        return np.fliplr(image)\n",
    "    elif augmentation_type == \"flip_vertical\":\n",
    "        return np.flipud(image)\n",
    "    elif augmentation_type == \"rotate\":\n",
    "        return np.rot90(image)\n",
    "    elif augmentation_type == \"shift\":\n",
    "        # Example: Shift the image by a random amount\n",
    "        shift_amount = random.randint(-10, 10)\n",
    "        return np.roll(image, shift_amount, axis=random.choice([0, 1]))\n",
    "    elif augmentation_type == \"brightness\":\n",
    "        # Example: Adjust brightness by adding random noise\n",
    "        brightness_factor = random.uniform(0.5, 1.5)\n",
    "        return np.clip(image * brightness_factor, 0, 1)\n",
    "\n",
    "# Set the bucket & prefix for the dataset location\n",
    "bucket = 'final.project.data.508'\n",
    "prefix = 'traffic_signage/'\n",
    "\n",
    "# Read dataset from S3\n",
    "traffic_df = read_dataset_from_s3(bucket, prefix)\n",
    "\n",
    "# Resize images to a uniform size\n",
    "target_size = (32, 32)\n",
    "resized_images = []\n",
    "s3 = boto3.client('s3')\n",
    "for image_path in traffic_df['image_id']:\n",
    "    obj = s3.get_object(Bucket=bucket, Key=image_path)\n",
    "    image = Image.open(io.BytesIO(obj['Body'].read()))\n",
    "    resized_image = resize_image(np.array(image), target_size)\n",
    "    resized_images.append(resized_image)\n",
    "\n",
    "# Normalize pixel values\n",
    "normalized_images = np.array([normalize_image(image) for image in resized_images])\n",
    "\n",
    "# Perform data augmentation (example with augment_factor=2)\n",
    "augmented_images, augmented_labels = augment_data(normalized_images, \n",
    "                                                  np.zeros(len(normalized_images)),  # Dummy labels\n",
    "                                                  augment_factor=2)\n",
    "\n",
    "# Shuffle the augmented data\n",
    "augmented_images, augmented_labels = shuffle(augmented_images, augmented_labels)\n",
    "\n",
    "# Save the preprocessed data for training\n",
    "np.save('augmented_images.npy', augmented_images)\n",
    "np.save('augmented_labels.npy', augmented_labels)"
   ]
  },
  {
   "cell_type": "code",
   "execution_count": 179,
   "id": "14d1cbe6-8dc0-4f1c-b1c0-db2067cdc572",
   "metadata": {
    "tags": []
   },
   "outputs": [],
   "source": [
    "# Save the preprocessed .npy files into my S3 bucket\n",
    "\n",
    "# Define the bucket name and prefix\n",
    "bucket_name = 'final.project.data.508'\n",
    "prefix = 'pre_processed_signage/'\n",
    "\n",
    "# Initialize the S3 client\n",
    "s3 = boto3.client('s3')\n",
    "\n",
    "# Save augmented_images.npy\n",
    "augmented_images_key = 'augmented_images.npy'\n",
    "np.save(augmented_images_key, augmented_images)\n",
    "s3.upload_file(augmented_images_key, bucket_name, prefix + augmented_images_key)\n",
    "\n",
    "# Save augmented_labels.npy\n",
    "augmented_labels_key = 'augmented_labels.npy'\n",
    "np.save(augmented_labels_key, augmented_labels)\n",
    "s3.upload_file(augmented_labels_key, bucket_name, prefix + augmented_labels_key)"
   ]
  },
  {
   "cell_type": "code",
   "execution_count": 180,
   "id": "f2fbc4f7-349e-462f-9dbc-f619d52d0955",
   "metadata": {
    "tags": []
   },
   "outputs": [],
   "source": [
    "# Since the .npy format did not work on AutoML, I tried to use csv files\n",
    "\n",
    "# Load preprocessed data\n",
    "augmented_images = np.load('augmented_images.npy')\n",
    "augmented_labels = np.load('augmented_labels.npy')\n",
    "\n",
    "# Reshape images into a format suitable for CSV\n",
    "num_images = augmented_images.shape[0]\n",
    "image_size = augmented_images.shape[1] * augmented_images.shape[2] * augmented_images.shape[3]\n",
    "reshaped_images = augmented_images.reshape(num_images, image_size)\n",
    "\n",
    "# Convert to DataFrame\n",
    "df_images = pd.DataFrame(reshaped_images)\n",
    "df_labels = pd.DataFrame(augmented_labels, columns=['label'])\n",
    "\n",
    "# Concatenate images and labels\n",
    "df = pd.concat([df_images, df_labels], axis=1)\n",
    "\n",
    "# Save DataFrame to CSV\n",
    "df.to_csv('augmented_data.csv', index=False)"
   ]
  },
  {
   "cell_type": "code",
   "execution_count": 181,
   "id": "60f037b8-679f-41e3-95ab-2e8628f1fa81",
   "metadata": {
    "tags": []
   },
   "outputs": [],
   "source": [
    "# Save csv file into bucket\n",
    "\n",
    "# Define the bucket name and prefix\n",
    "bucket_name = 'final.project.data.508'\n",
    "prefix = 'pre_processed_signage/'\n",
    "\n",
    "# Initialize the S3 client\n",
    "s3 = boto3.client('s3')\n",
    "\n",
    "# Upload augmented_data.csv to S3\n",
    "with open('augmented_data.csv', 'rb') as data:\n",
    "    s3.upload_fileobj(data, bucket_name, prefix + 'augmented_data.csv')"
   ]
  },
  {
   "cell_type": "markdown",
   "id": "24ac0d87-05a4-444b-9035-8d19187cec72",
   "metadata": {},
   "source": [
    "# Exploratory Data Analysis"
   ]
  },
  {
   "cell_type": "markdown",
   "id": "d85aae2d-ee45-4ebb-a725-a458037e0fbf",
   "metadata": {
    "tags": []
   },
   "source": [
    "### Velocity Dataset"
   ]
  },
  {
   "cell_type": "code",
   "execution_count": 182,
   "id": "0b11c10c-ae23-47b7-92c7-cd5d34ac1a69",
   "metadata": {
    "tags": []
   },
   "outputs": [
    {
     "data": {
      "text/html": [
       "<div>\n",
       "<style scoped>\n",
       "    .dataframe tbody tr th:only-of-type {\n",
       "        vertical-align: middle;\n",
       "    }\n",
       "\n",
       "    .dataframe tbody tr th {\n",
       "        vertical-align: top;\n",
       "    }\n",
       "\n",
       "    .dataframe thead th {\n",
       "        text-align: right;\n",
       "    }\n",
       "</style>\n",
       "<table border=\"1\" class=\"dataframe\">\n",
       "  <thead>\n",
       "    <tr style=\"text-align: right;\">\n",
       "      <th></th>\n",
       "      <th>latitude</th>\n",
       "      <th>longitude</th>\n",
       "      <th>target_speed</th>\n",
       "      <th>way_maxspeed</th>\n",
       "      <th>speed_osrm</th>\n",
       "      <th>elevation</th>\n",
       "      <th>fwd_azimuth</th>\n",
       "      <th>way_type</th>\n",
       "      <th>way_surface</th>\n",
       "      <th>node:intersection</th>\n",
       "      <th>node:railway</th>\n",
       "      <th>node:crossing</th>\n",
       "      <th>node:highway</th>\n",
       "      <th>node:stop</th>\n",
       "      <th>start_stop</th>\n",
       "      <th>azimuth_diff</th>\n",
       "      <th>elevation_diff</th>\n",
       "    </tr>\n",
       "  </thead>\n",
       "  <tbody>\n",
       "    <tr>\n",
       "      <th>0</th>\n",
       "      <td>50.397062</td>\n",
       "      <td>14.913273</td>\n",
       "      <td>39.739457</td>\n",
       "      <td>130.0</td>\n",
       "      <td>28.837247</td>\n",
       "      <td>229.775169</td>\n",
       "      <td>46.241347</td>\n",
       "      <td>motorway</td>\n",
       "      <td>asphalt</td>\n",
       "      <td>NaN</td>\n",
       "      <td>NaN</td>\n",
       "      <td>NaN</td>\n",
       "      <td>NaN</td>\n",
       "      <td>NaN</td>\n",
       "      <td>0</td>\n",
       "      <td>0.0</td>\n",
       "      <td>-0.025587</td>\n",
       "    </tr>\n",
       "    <tr>\n",
       "      <th>1</th>\n",
       "      <td>50.397068</td>\n",
       "      <td>14.913283</td>\n",
       "      <td>39.717786</td>\n",
       "      <td>130.0</td>\n",
       "      <td>28.875627</td>\n",
       "      <td>229.749582</td>\n",
       "      <td>46.241347</td>\n",
       "      <td>motorway</td>\n",
       "      <td>asphalt</td>\n",
       "      <td>NaN</td>\n",
       "      <td>NaN</td>\n",
       "      <td>NaN</td>\n",
       "      <td>NaN</td>\n",
       "      <td>NaN</td>\n",
       "      <td>0</td>\n",
       "      <td>0.0</td>\n",
       "      <td>-0.025587</td>\n",
       "    </tr>\n",
       "    <tr>\n",
       "      <th>2</th>\n",
       "      <td>50.397074</td>\n",
       "      <td>14.913294</td>\n",
       "      <td>39.696114</td>\n",
       "      <td>130.0</td>\n",
       "      <td>28.914007</td>\n",
       "      <td>229.723996</td>\n",
       "      <td>46.241347</td>\n",
       "      <td>motorway</td>\n",
       "      <td>asphalt</td>\n",
       "      <td>NaN</td>\n",
       "      <td>NaN</td>\n",
       "      <td>NaN</td>\n",
       "      <td>NaN</td>\n",
       "      <td>NaN</td>\n",
       "      <td>0</td>\n",
       "      <td>0.0</td>\n",
       "      <td>-0.025587</td>\n",
       "    </tr>\n",
       "    <tr>\n",
       "      <th>3</th>\n",
       "      <td>50.397080</td>\n",
       "      <td>14.913304</td>\n",
       "      <td>39.674442</td>\n",
       "      <td>130.0</td>\n",
       "      <td>28.952387</td>\n",
       "      <td>229.698409</td>\n",
       "      <td>46.241347</td>\n",
       "      <td>motorway</td>\n",
       "      <td>asphalt</td>\n",
       "      <td>NaN</td>\n",
       "      <td>NaN</td>\n",
       "      <td>NaN</td>\n",
       "      <td>NaN</td>\n",
       "      <td>NaN</td>\n",
       "      <td>0</td>\n",
       "      <td>0.0</td>\n",
       "      <td>-0.025587</td>\n",
       "    </tr>\n",
       "    <tr>\n",
       "      <th>4</th>\n",
       "      <td>50.397087</td>\n",
       "      <td>14.913314</td>\n",
       "      <td>39.652771</td>\n",
       "      <td>130.0</td>\n",
       "      <td>28.990767</td>\n",
       "      <td>229.672822</td>\n",
       "      <td>46.241347</td>\n",
       "      <td>motorway</td>\n",
       "      <td>asphalt</td>\n",
       "      <td>NaN</td>\n",
       "      <td>NaN</td>\n",
       "      <td>NaN</td>\n",
       "      <td>NaN</td>\n",
       "      <td>NaN</td>\n",
       "      <td>0</td>\n",
       "      <td>0.0</td>\n",
       "      <td>-0.025587</td>\n",
       "    </tr>\n",
       "  </tbody>\n",
       "</table>\n",
       "</div>"
      ],
      "text/plain": [
       "    latitude  longitude  target_speed  way_maxspeed  speed_osrm   elevation  \\\n",
       "0  50.397062  14.913273     39.739457         130.0   28.837247  229.775169   \n",
       "1  50.397068  14.913283     39.717786         130.0   28.875627  229.749582   \n",
       "2  50.397074  14.913294     39.696114         130.0   28.914007  229.723996   \n",
       "3  50.397080  14.913304     39.674442         130.0   28.952387  229.698409   \n",
       "4  50.397087  14.913314     39.652771         130.0   28.990767  229.672822   \n",
       "\n",
       "   fwd_azimuth  way_type way_surface node:intersection  node:railway  \\\n",
       "0    46.241347  motorway     asphalt               NaN           NaN   \n",
       "1    46.241347  motorway     asphalt               NaN           NaN   \n",
       "2    46.241347  motorway     asphalt               NaN           NaN   \n",
       "3    46.241347  motorway     asphalt               NaN           NaN   \n",
       "4    46.241347  motorway     asphalt               NaN           NaN   \n",
       "\n",
       "  node:crossing node:highway node:stop  start_stop  azimuth_diff  \\\n",
       "0           NaN          NaN       NaN           0           0.0   \n",
       "1           NaN          NaN       NaN           0           0.0   \n",
       "2           NaN          NaN       NaN           0           0.0   \n",
       "3           NaN          NaN       NaN           0           0.0   \n",
       "4           NaN          NaN       NaN           0           0.0   \n",
       "\n",
       "   elevation_diff  \n",
       "0       -0.025587  \n",
       "1       -0.025587  \n",
       "2       -0.025587  \n",
       "3       -0.025587  \n",
       "4       -0.025587  "
      ]
     },
     "execution_count": 182,
     "metadata": {},
     "output_type": "execute_result"
    }
   ],
   "source": [
    "# Load csv from S3 bucket\n",
    "\n",
    "# Import req'd packages\n",
    "import pandas as pd\n",
    "import boto3\n",
    "\n",
    "# Define S3 bucket and key\n",
    "bucket = 'velocityspeedproject08'\n",
    "key = 'datasets/vehicle_speed/vehicle_speed.csv'\n",
    "\n",
    "# Create a S3 client\n",
    "s3 = boto3.client('s3')\n",
    "\n",
    "# Load dataset from S3\n",
    "obj = s3.get_object(Bucket=bucket, Key=key)\n",
    "df = pd.read_csv(obj['Body'])\n",
    "\n",
    "# Preview dataset\n",
    "df.head()"
   ]
  },
  {
   "cell_type": "code",
   "execution_count": 183,
   "id": "544ead9b-caa6-493a-b6ac-f95ff7d78055",
   "metadata": {},
   "outputs": [
    {
     "data": {
      "text/plain": [
       "(12165, 17)"
      ]
     },
     "execution_count": 183,
     "metadata": {},
     "output_type": "execute_result"
    }
   ],
   "source": [
    "# Determine shape of df\n",
    "df.shape"
   ]
  },
  {
   "cell_type": "code",
   "execution_count": 184,
   "id": "46e4f150-236f-4edc-91a8-0200d223ed20",
   "metadata": {},
   "outputs": [
    {
     "data": {
      "image/png": "[encoded data removed]",
      "text/plain": [
       "<Figure size 720x576 with 1 Axes>"
      ]
     },
     "metadata": {
      "needs_background": "light"
     },
     "output_type": "display_data"
    }
   ],
   "source": [
    "# Plot movement using latitude and longitude\n",
    "plt.figure(figsize=(10, 8))\n",
    "plt.scatter(df['longitude'], df['latitude'], alpha=0.5, marker='.')\n",
    "plt.xlabel('Longitude')\n",
    "plt.ylabel('Latitude')\n",
    "plt.title('Movement Plot')\n",
    "plt.grid(True)\n",
    "plt.show()"
   ]
  },
  {
   "cell_type": "code",
   "execution_count": 185,
   "id": "09fefa31-6407-4e52-9cad-dac67a5fcd78",
   "metadata": {},
   "outputs": [
    {
     "data": {
      "text/html": [
       "<div>\n",
       "<style scoped>\n",
       "    .dataframe tbody tr th:only-of-type {\n",
       "        vertical-align: middle;\n",
       "    }\n",
       "\n",
       "    .dataframe tbody tr th {\n",
       "        vertical-align: top;\n",
       "    }\n",
       "\n",
       "    .dataframe thead th {\n",
       "        text-align: right;\n",
       "    }\n",
       "</style>\n",
       "<table border=\"1\" class=\"dataframe\">\n",
       "  <thead>\n",
       "    <tr style=\"text-align: right;\">\n",
       "      <th></th>\n",
       "      <th>latitude</th>\n",
       "      <th>longitude</th>\n",
       "      <th>target_speed</th>\n",
       "      <th>way_maxspeed</th>\n",
       "      <th>speed_osrm</th>\n",
       "      <th>elevation</th>\n",
       "      <th>fwd_azimuth</th>\n",
       "      <th>way_type</th>\n",
       "      <th>way_surface</th>\n",
       "      <th>node:intersection</th>\n",
       "      <th>node:railway</th>\n",
       "      <th>node:crossing</th>\n",
       "      <th>node:highway</th>\n",
       "      <th>node:stop</th>\n",
       "      <th>start_stop</th>\n",
       "      <th>azimuth_diff</th>\n",
       "      <th>elevation_diff</th>\n",
       "      <th>IdentifyingValue</th>\n",
       "    </tr>\n",
       "  </thead>\n",
       "  <tbody>\n",
       "    <tr>\n",
       "      <th>0</th>\n",
       "      <td>50.515393</td>\n",
       "      <td>14.966795</td>\n",
       "      <td>18.272307</td>\n",
       "      <td>90.0</td>\n",
       "      <td>18.2</td>\n",
       "      <td>232.000000</td>\n",
       "      <td>116.775715</td>\n",
       "      <td>secondary</td>\n",
       "      <td>asphalt</td>\n",
       "      <td>NaN</td>\n",
       "      <td>NaN</td>\n",
       "      <td>NaN</td>\n",
       "      <td>NaN</td>\n",
       "      <td>NaN</td>\n",
       "      <td>1</td>\n",
       "      <td>0.0</td>\n",
       "      <td>0.000000</td>\n",
       "      <td>98</td>\n",
       "    </tr>\n",
       "    <tr>\n",
       "      <th>1</th>\n",
       "      <td>50.515389</td>\n",
       "      <td>14.966808</td>\n",
       "      <td>18.272307</td>\n",
       "      <td>90.0</td>\n",
       "      <td>18.2</td>\n",
       "      <td>232.054728</td>\n",
       "      <td>116.775715</td>\n",
       "      <td>secondary</td>\n",
       "      <td>asphalt</td>\n",
       "      <td>NaN</td>\n",
       "      <td>NaN</td>\n",
       "      <td>NaN</td>\n",
       "      <td>NaN</td>\n",
       "      <td>NaN</td>\n",
       "      <td>0</td>\n",
       "      <td>0.0</td>\n",
       "      <td>0.054728</td>\n",
       "      <td>98</td>\n",
       "    </tr>\n",
       "    <tr>\n",
       "      <th>2</th>\n",
       "      <td>50.515385</td>\n",
       "      <td>14.966820</td>\n",
       "      <td>18.272307</td>\n",
       "      <td>90.0</td>\n",
       "      <td>18.2</td>\n",
       "      <td>232.109455</td>\n",
       "      <td>116.775715</td>\n",
       "      <td>secondary</td>\n",
       "      <td>asphalt</td>\n",
       "      <td>NaN</td>\n",
       "      <td>NaN</td>\n",
       "      <td>NaN</td>\n",
       "      <td>NaN</td>\n",
       "      <td>NaN</td>\n",
       "      <td>0</td>\n",
       "      <td>0.0</td>\n",
       "      <td>0.054728</td>\n",
       "      <td>98</td>\n",
       "    </tr>\n",
       "    <tr>\n",
       "      <th>3</th>\n",
       "      <td>50.515381</td>\n",
       "      <td>14.966833</td>\n",
       "      <td>18.272307</td>\n",
       "      <td>90.0</td>\n",
       "      <td>18.2</td>\n",
       "      <td>232.164183</td>\n",
       "      <td>116.775715</td>\n",
       "      <td>secondary</td>\n",
       "      <td>asphalt</td>\n",
       "      <td>NaN</td>\n",
       "      <td>NaN</td>\n",
       "      <td>NaN</td>\n",
       "      <td>NaN</td>\n",
       "      <td>NaN</td>\n",
       "      <td>0</td>\n",
       "      <td>0.0</td>\n",
       "      <td>0.054728</td>\n",
       "      <td>98</td>\n",
       "    </tr>\n",
       "    <tr>\n",
       "      <th>4</th>\n",
       "      <td>50.515377</td>\n",
       "      <td>14.966845</td>\n",
       "      <td>18.272307</td>\n",
       "      <td>90.0</td>\n",
       "      <td>18.2</td>\n",
       "      <td>232.218911</td>\n",
       "      <td>116.775715</td>\n",
       "      <td>secondary</td>\n",
       "      <td>asphalt</td>\n",
       "      <td>NaN</td>\n",
       "      <td>NaN</td>\n",
       "      <td>NaN</td>\n",
       "      <td>NaN</td>\n",
       "      <td>NaN</td>\n",
       "      <td>0</td>\n",
       "      <td>0.0</td>\n",
       "      <td>0.054728</td>\n",
       "      <td>98</td>\n",
       "    </tr>\n",
       "  </tbody>\n",
       "</table>\n",
       "</div>"
      ],
      "text/plain": [
       "    latitude  longitude  target_speed  way_maxspeed  speed_osrm   elevation  \\\n",
       "0  50.515393  14.966795     18.272307          90.0        18.2  232.000000   \n",
       "1  50.515389  14.966808     18.272307          90.0        18.2  232.054728   \n",
       "2  50.515385  14.966820     18.272307          90.0        18.2  232.109455   \n",
       "3  50.515381  14.966833     18.272307          90.0        18.2  232.164183   \n",
       "4  50.515377  14.966845     18.272307          90.0        18.2  232.218911   \n",
       "\n",
       "   fwd_azimuth   way_type way_surface node:intersection node:railway  \\\n",
       "0   116.775715  secondary     asphalt               NaN          NaN   \n",
       "1   116.775715  secondary     asphalt               NaN          NaN   \n",
       "2   116.775715  secondary     asphalt               NaN          NaN   \n",
       "3   116.775715  secondary     asphalt               NaN          NaN   \n",
       "4   116.775715  secondary     asphalt               NaN          NaN   \n",
       "\n",
       "  node:crossing node:highway node:stop  start_stop  azimuth_diff  \\\n",
       "0           NaN          NaN       NaN           1           0.0   \n",
       "1           NaN          NaN       NaN           0           0.0   \n",
       "2           NaN          NaN       NaN           0           0.0   \n",
       "3           NaN          NaN       NaN           0           0.0   \n",
       "4           NaN          NaN       NaN           0           0.0   \n",
       "\n",
       "   elevation_diff  IdentifyingValue  \n",
       "0        0.000000                98  \n",
       "1        0.054728                98  \n",
       "2        0.054728                98  \n",
       "3        0.054728                98  \n",
       "4        0.054728                98  "
      ]
     },
     "execution_count": 185,
     "metadata": {},
     "output_type": "execute_result"
    }
   ],
   "source": [
    "# Define S3 bucket and key\n",
    "bucket = 'velocityspeedproject08'\n",
    "key = 'datasets/vehicle_speed/combined_dataset.csv'\n",
    "\n",
    "# Create a S3 client\n",
    "s3 = boto3.client('s3')\n",
    "\n",
    "# Load dataset from S3\n",
    "obj = s3.get_object(Bucket=bucket, Key=key)\n",
    "upd_df = pd.read_csv(obj['Body'])\n",
    "\n",
    "# Preview dataset\n",
    "upd_df.head()"
   ]
  },
  {
   "cell_type": "code",
   "execution_count": 186,
   "id": "2dad1c47-e478-46bf-8621-35804cb1aa42",
   "metadata": {},
   "outputs": [
    {
     "data": {
      "text/plain": [
       "(864906, 18)"
      ]
     },
     "execution_count": 186,
     "metadata": {},
     "output_type": "execute_result"
    }
   ],
   "source": [
    "# Determine shape of df\n",
    "upd_df.shape"
   ]
  },
  {
   "cell_type": "code",
   "execution_count": 187,
   "id": "2aa3b8b8-54ad-4035-ac30-88f801c248da",
   "metadata": {},
   "outputs": [
    {
     "data": {
      "image/png": "[encoded data removed]",
      "text/plain": [
       "<Figure size 720x576 with 1 Axes>"
      ]
     },
     "metadata": {
      "needs_background": "light"
     },
     "output_type": "display_data"
    }
   ],
   "source": [
    "# Plot movement using latitude and longitude\n",
    "plt.figure(figsize=(10, 8))\n",
    "plt.scatter(upd_df['longitude'], upd_df['latitude'], alpha=0.5, marker='.')\n",
    "plt.xlabel('Longitude')\n",
    "plt.ylabel('Latitude')\n",
    "plt.title('Movement Plot')\n",
    "plt.grid(True)\n",
    "plt.show()"
   ]
  },
  {
   "cell_type": "code",
   "execution_count": 188,
   "id": "f3911ad9-f072-4c7b-bd6a-6ac7a66c10c8",
   "metadata": {},
   "outputs": [
    {
     "data": {
      "image/png": "[encoded data removed]",
      "text/plain": [
       "<Figure size 720x576 with 1 Axes>"
      ]
     },
     "metadata": {
      "needs_background": "light"
     },
     "output_type": "display_data"
    }
   ],
   "source": [
    "# Define colors for different columns\n",
    "color_map = {\n",
    "    'way_surface': 'red',\n",
    "    'node:intersection': 'blue',\n",
    "    'node:railway': 'green',\n",
    "    'node:crossing': 'orange',\n",
    "    'node:highway': 'purple'\n",
    "}\n",
    "\n",
    "# Plot movement using latitude and longitude\n",
    "plt.figure(figsize=(10, 8))\n",
    "\n",
    "# Scatter plot for latitude & longitude\n",
    "plt.scatter(upd_df['longitude'], upd_df['latitude'], alpha=0.5, marker='.', color='black', label='Other')\n",
    "\n",
    "# Scatter plot for desired columns\n",
    "for column, color in color_map.items():\n",
    "    if column in upd_df.columns:\n",
    "        plt.scatter(upd_df[upd_df[column].notnull()]['longitude'], \n",
    "                    upd_df[upd_df[column].notnull()]['latitude'], \n",
    "                    alpha=0.5, marker='.', color=color, label=column)\n",
    "\n",
    "# Add labels & title\n",
    "plt.xlabel('Longitude')\n",
    "plt.ylabel('Latitude')\n",
    "plt.title('Movement Plot')\n",
    "\n",
    "# Show legend\n",
    "plt.legend()\n",
    "\n",
    "plt.grid(True)\n",
    "plt.show()"
   ]
  },
  {
   "cell_type": "code",
   "execution_count": 189,
   "id": "f1a2f150-8a7c-435d-9d14-8f006534fd61",
   "metadata": {
    "tags": []
   },
   "outputs": [
    {
     "data": {
      "text/plain": [
       "(12165, 17)"
      ]
     },
     "execution_count": 189,
     "metadata": {},
     "output_type": "execute_result"
    }
   ],
   "source": [
    "vehicle_speed_df.shape"
   ]
  },
  {
   "cell_type": "code",
   "execution_count": 190,
   "id": "469ae319-fb6d-40e2-b619-039e7a1ed3e9",
   "metadata": {
    "tags": []
   },
   "outputs": [
    {
     "data": {
      "text/plain": [
       "Text(0, 0.5, 'Count')"
      ]
     },
     "execution_count": 190,
     "metadata": {},
     "output_type": "execute_result"
    },
    {
     "data": {
      "image/png": "[encoded data removed]",
      "text/plain": [
       "<Figure size 432x288 with 1 Axes>"
      ]
     },
     "metadata": {
      "needs_background": "light"
     },
     "output_type": "display_data"
    }
   ],
   "source": [
    "# Distrubition by Way type\n",
    "\n",
    "vehicle_speed_df['way_type'].value_counts().plot(kind=\"bar\", title=\"Distribution by way type\")\n",
    "plt.xlabel(\"Way Type\")\n",
    "plt.ylabel(\"Count\")"
   ]
  },
  {
   "cell_type": "markdown",
   "id": "d3cf5a17-a1ed-44ad-adb8-766b7926d8da",
   "metadata": {},
   "source": [
    "# Correlation\n",
    "\n",
    "Lets study the correlation between different attributes in the dataset"
   ]
  },
  {
   "cell_type": "code",
   "execution_count": 191,
   "id": "4469eafe-5739-45c4-b831-da969b9a7cdd",
   "metadata": {
    "tags": []
   },
   "outputs": [
    {
     "data": {
      "text/plain": [
       "<AxesSubplot:>"
      ]
     },
     "execution_count": 191,
     "metadata": {},
     "output_type": "execute_result"
    },
    {
     "data": {
      "image/png": "[encoded data removed]",
      "text/plain": [
       "<Figure size 720x576 with 2 Axes>"
      ]
     },
     "metadata": {
      "needs_background": "light"
     },
     "output_type": "display_data"
    }
   ],
   "source": [
    "corr = vehicle_speed_df.corr()\n",
    "plt.figure(figsize=(10, 8))\n",
    "sns.heatmap(corr, annot=True, cmap = 'coolwarm', cbar_kws={'label': 'Correlation Index'})"
   ]
  },
  {
   "cell_type": "markdown",
   "id": "66564c41-12c0-4505-b4d2-703a51fc2d22",
   "metadata": {},
   "source": [
    "From the above correlation Heatmap, it is observed that the below predictors are highly correlated.\n",
    "(1) latitude and elevation\n",
    "(2) target_speed and way_maxspeed\n",
    "(3) way_maxspeed and speed_osrm\n",
    "(4) target_speed and elevation"
   ]
  },
  {
   "cell_type": "markdown",
   "id": "652e2c9e-c11e-4087-bcf7-d4c8176f02a4",
   "metadata": {},
   "source": [
    "# 2. Data Preprocessing\n",
    "\n",
    "## 2.1. Handling Missing Values"
   ]
  },
  {
   "cell_type": "code",
   "execution_count": 192,
   "id": "b0186f64-20fc-4cf8-ab00-e251881ab1e6",
   "metadata": {
    "tags": []
   },
   "outputs": [
    {
     "data": {
      "text/plain": [
       "latitude             0\n",
       "longitude            0\n",
       "target_speed         0\n",
       "way_maxspeed         0\n",
       "speed_osrm           0\n",
       "elevation            0\n",
       "fwd_azimuth          0\n",
       "way_type             0\n",
       "way_surface          0\n",
       "node_intersection    0\n",
       "node_railway         0\n",
       "node_crossing        0\n",
       "node_highway         0\n",
       "node_stop            0\n",
       "start_stop           0\n",
       "azimuth_diff         7\n",
       "elevation_diff       0\n",
       "dtype: int64"
      ]
     },
     "execution_count": 192,
     "metadata": {},
     "output_type": "execute_result"
    }
   ],
   "source": [
    "vehicle_speed_df.isnull().sum()"
   ]
  },
  {
   "cell_type": "code",
   "execution_count": 193,
   "id": "a137f73b-140d-4de3-b75c-786f2941e7e4",
   "metadata": {
    "tags": []
   },
   "outputs": [],
   "source": [
    "# Dropping columns that have null values\n",
    "\n",
    "vehicle_speed_df = vehicle_speed_df.drop(['node_intersection', 'node_railway', 'node_crossing', 'node_highway', 'node_stop'], axis=1)\n",
    "\n",
    "# Dropping rows that have null values\n",
    "\n",
    "vehicle_speed_df = vehicle_speed_df.dropna(subset=['azimuth_diff'])"
   ]
  },
  {
   "cell_type": "markdown",
   "id": "e59f880a-b8d0-44bd-aaff-0d453b5d8618",
   "metadata": {},
   "source": [
    "# Multicollinearity\n",
    "\n",
    "Lets address the multicollinearity issue by calculating Variance Inflation Factor (VIF) and removing highly correlated predictors."
   ]
  },
  {
   "cell_type": "code",
   "execution_count": 194,
   "id": "7f3dc4af-dd29-4589-b80c-b0eef59e90ae",
   "metadata": {
    "tags": []
   },
   "outputs": [],
   "source": [
    "# Separate the predictors and target variables\n",
    "\n",
    "X_pred = vehicle_speed_df.drop(['target_speed'], axis=1)\n",
    "y_target = vehicle_speed_df['target_speed']"
   ]
  },
  {
   "cell_type": "code",
   "execution_count": 195,
   "id": "451ade60-ab75-4a4c-924f-d7cf9befc88e",
   "metadata": {
    "tags": []
   },
   "outputs": [
    {
     "data": {
      "image/png": "[encoded data removed]",
      "text/plain": [
       "<Figure size 720x576 with 2 Axes>"
      ]
     },
     "metadata": {
      "needs_background": "light"
     },
     "output_type": "display_data"
    }
   ],
   "source": [
    "# Calculate correlation matrix for predictors\n",
    "correlation_matrix = X_pred.corr()\n",
    "\n",
    "# Create a mask for the upper triangle\n",
    "mask = np.triu(np.ones_like(correlation_matrix, dtype=bool))\n",
    "\n",
    "# Plot the correlation matrix\n",
    "import seaborn as sns\n",
    "import matplotlib.pyplot as plt\n",
    "\n",
    "plt.figure(figsize=(10, 8))\n",
    "sns.heatmap(correlation_matrix, mask=mask, annot=True, cmap='coolwarm', fmt=\".2f\", linewidths=0.5)\n",
    "plt.title('Correlation Matrix of Predictors')\n",
    "plt.show()"
   ]
  },
  {
   "cell_type": "markdown",
   "id": "16c74e9b-ca09-4f2c-8da5-dbb1138dc49f",
   "metadata": {},
   "source": [
    "To address the issue of multicollinearity, it is suggested to remove the columns longitude, way_maxspeed, and elevation. However, since determining the target speed of a vehicle relies on multiple factors, including spatial information about the vehicle's location, both latitude and longitude should be taken into account."
   ]
  },
  {
   "cell_type": "markdown",
   "id": "ec62b27d-c622-4c1e-be4e-064787505068",
   "metadata": {},
   "source": [
    "# Feature transformation\n",
    "\n",
    "The maximum allowed speed is measured in km/hr whereas target_speed and speed_osrm are measured in m/s. Hence transforming the target_speed and speed_osrm values to km/hr"
   ]
  },
  {
   "cell_type": "code",
   "execution_count": 196,
   "id": "4827037e-e78a-4c10-895f-d41c8c9bc9c6",
   "metadata": {
    "tags": []
   },
   "outputs": [],
   "source": [
    "# Convert m/s to km/hr for the target_speed and speed_osrm column\n",
    "\n",
    "vehicle_speed_df['target_speed'] = vehicle_speed_df['target_speed'] * 3.6\n",
    "\n",
    "vehicle_speed_df['speed_osrm'] = vehicle_speed_df['speed_osrm'] * 3.6"
   ]
  },
  {
   "cell_type": "markdown",
   "id": "d2a87b5f-6d18-42eb-83cb-49427f98e7f3",
   "metadata": {},
   "source": [
    "# Feature Creation\n",
    "\n",
    "Lets create a new feature speed_deviation that computes the difference between target_speed and way_maxspeed to see if the vehicle is driving above or below the allowed speed limit."
   ]
  },
  {
   "cell_type": "code",
   "execution_count": 197,
   "id": "e07556fd-7fbd-4be4-a847-6148b06fe63e",
   "metadata": {
    "tags": []
   },
   "outputs": [],
   "source": [
    "vehicle_speed_df['speed_deviation'] = vehicle_speed_df['target_speed'] - vehicle_speed_df['way_maxspeed']"
   ]
  },
  {
   "cell_type": "markdown",
   "id": "40f5c13e-8099-4e9a-b558-8fc2c6357380",
   "metadata": {},
   "source": [
    "# Drop Irrelevant fields"
   ]
  },
  {
   "cell_type": "code",
   "execution_count": 198,
   "id": "eb829ede-ea6c-4081-b74e-4c259a4abaa9",
   "metadata": {},
   "outputs": [],
   "source": [
    "# Dropping fields that exhibit multicollinearity \n",
    "\n",
    "vehicle_speed_df = vehicle_speed_df.drop(['way_maxspeed', 'elevation'], axis=1)\n",
    "\n",
    "# Dropping irrelevant columns\n",
    "\n",
    "vehicle_speed_df = vehicle_speed_df.drop(['fwd_azimuth', 'way_surface', 'start_stop', 'azimuth_diff', 'elevation_diff'], axis=1)"
   ]
  },
  {
   "cell_type": "markdown",
   "id": "f3f1c5c9-ddfe-4395-b2f1-a05e9e6082b6",
   "metadata": {},
   "source": [
    "# Feature Selection\n",
    "\n",
    "Based on the insights from the correlation matrix heatmap and other transformation techniques, the useful predictors for the final model include: latitude, longitude, speed_osrm, way_type, speed_deviation and target_speed."
   ]
  },
  {
   "cell_type": "code",
   "execution_count": 199,
   "id": "ca9ef430-094a-4ca8-b133-98d5fe4f76c2",
   "metadata": {
    "tags": []
   },
   "outputs": [],
   "source": [
    "final_df = vehicle_speed_df.copy()"
   ]
  },
  {
   "cell_type": "markdown",
   "id": "666c7d8c-cf48-4bc5-84fe-5c78d67d2279",
   "metadata": {},
   "source": [
    "# Encoding Categorical Variables"
   ]
  },
  {
   "cell_type": "code",
   "execution_count": 200,
   "id": "3613a728-7020-48ef-8f18-b45b051aea2c",
   "metadata": {
    "tags": []
   },
   "outputs": [
    {
     "data": {
      "text/html": [
       "<div>\n",
       "<style scoped>\n",
       "    .dataframe tbody tr th:only-of-type {\n",
       "        vertical-align: middle;\n",
       "    }\n",
       "\n",
       "    .dataframe tbody tr th {\n",
       "        vertical-align: top;\n",
       "    }\n",
       "\n",
       "    .dataframe thead th {\n",
       "        text-align: right;\n",
       "    }\n",
       "</style>\n",
       "<table border=\"1\" class=\"dataframe\">\n",
       "  <thead>\n",
       "    <tr style=\"text-align: right;\">\n",
       "      <th></th>\n",
       "      <th>latitude</th>\n",
       "      <th>longitude</th>\n",
       "      <th>target_speed</th>\n",
       "      <th>speed_osrm</th>\n",
       "      <th>speed_deviation</th>\n",
       "      <th>way_type_residential</th>\n",
       "      <th>way_type_secondary</th>\n",
       "      <th>way_type_tertiary</th>\n",
       "      <th>way_type_trunk</th>\n",
       "    </tr>\n",
       "  </thead>\n",
       "  <tbody>\n",
       "    <tr>\n",
       "      <th>0</th>\n",
       "      <td>50.397060</td>\n",
       "      <td>14.913273</td>\n",
       "      <td>143.062042</td>\n",
       "      <td>103.814086</td>\n",
       "      <td>13.062042</td>\n",
       "      <td>0</td>\n",
       "      <td>0</td>\n",
       "      <td>0</td>\n",
       "      <td>0</td>\n",
       "    </tr>\n",
       "    <tr>\n",
       "      <th>1</th>\n",
       "      <td>50.397068</td>\n",
       "      <td>14.913283</td>\n",
       "      <td>142.984026</td>\n",
       "      <td>103.952261</td>\n",
       "      <td>12.984026</td>\n",
       "      <td>0</td>\n",
       "      <td>0</td>\n",
       "      <td>0</td>\n",
       "      <td>0</td>\n",
       "    </tr>\n",
       "    <tr>\n",
       "      <th>2</th>\n",
       "      <td>50.397076</td>\n",
       "      <td>14.913294</td>\n",
       "      <td>142.906010</td>\n",
       "      <td>104.090425</td>\n",
       "      <td>12.906010</td>\n",
       "      <td>0</td>\n",
       "      <td>0</td>\n",
       "      <td>0</td>\n",
       "      <td>0</td>\n",
       "    </tr>\n",
       "    <tr>\n",
       "      <th>3</th>\n",
       "      <td>50.397080</td>\n",
       "      <td>14.913303</td>\n",
       "      <td>142.827991</td>\n",
       "      <td>104.228593</td>\n",
       "      <td>12.827991</td>\n",
       "      <td>0</td>\n",
       "      <td>0</td>\n",
       "      <td>0</td>\n",
       "      <td>0</td>\n",
       "    </tr>\n",
       "    <tr>\n",
       "      <th>4</th>\n",
       "      <td>50.397087</td>\n",
       "      <td>14.913314</td>\n",
       "      <td>142.749972</td>\n",
       "      <td>104.366761</td>\n",
       "      <td>12.749972</td>\n",
       "      <td>0</td>\n",
       "      <td>0</td>\n",
       "      <td>0</td>\n",
       "      <td>0</td>\n",
       "    </tr>\n",
       "  </tbody>\n",
       "</table>\n",
       "</div>"
      ],
      "text/plain": [
       "    latitude  longitude  target_speed  speed_osrm  speed_deviation  \\\n",
       "0  50.397060  14.913273    143.062042  103.814086        13.062042   \n",
       "1  50.397068  14.913283    142.984026  103.952261        12.984026   \n",
       "2  50.397076  14.913294    142.906010  104.090425        12.906010   \n",
       "3  50.397080  14.913303    142.827991  104.228593        12.827991   \n",
       "4  50.397087  14.913314    142.749972  104.366761        12.749972   \n",
       "\n",
       "   way_type_residential  way_type_secondary  way_type_tertiary  way_type_trunk  \n",
       "0                     0                   0                  0               0  \n",
       "1                     0                   0                  0               0  \n",
       "2                     0                   0                  0               0  \n",
       "3                     0                   0                  0               0  \n",
       "4                     0                   0                  0               0  "
      ]
     },
     "execution_count": 200,
     "metadata": {},
     "output_type": "execute_result"
    }
   ],
   "source": [
    "# Convert categorical variables to dummy variables\n",
    "\n",
    "final_df = pd.get_dummies(final_df, columns= ['way_type'], drop_first=True)\n",
    "final_df.head()"
   ]
  },
  {
   "cell_type": "markdown",
   "id": "3691c17a-ee5c-462e-b042-665645bc314c",
   "metadata": {},
   "source": [
    "# Data Partitioning\n",
    "\n",
    "## Separate predictor and target variables"
   ]
  },
  {
   "cell_type": "code",
   "execution_count": 201,
   "id": "d002e108-3db2-416e-ac80-56b02ba81200",
   "metadata": {
    "tags": []
   },
   "outputs": [],
   "source": [
    "# Separate X and y variables\n",
    "\n",
    "X = final_df.drop(['target_speed'], axis=1)\n",
    "y = final_df['target_speed']\n",
    "predictors = X.columns\n",
    "outcome = 'target_speed'"
   ]
  },
  {
   "cell_type": "markdown",
   "id": "e41d192c-9968-468f-b193-68e12f3ec6ac",
   "metadata": {},
   "source": [
    "## Split dataset into training, test and validation sets"
   ]
  },
  {
   "cell_type": "code",
   "execution_count": 202,
   "id": "f85ed64a-85bd-47b6-bbe1-a1c9fc16694a",
   "metadata": {
    "tags": []
   },
   "outputs": [],
   "source": [
    "# Split the training and test set\n",
    "X_train, X_test, y_train, y_test = train_test_split(X, y, test_size=0.4, random_state=1)\n",
    "\n",
    "# Split the test and validation set\n",
    "X_test, X_valid, y_test, y_valid = train_test_split(X_test, y_test, test_size=0.5, random_state=1)"
   ]
  },
  {
   "cell_type": "code",
   "execution_count": 203,
   "id": "682bab85-2264-4bc9-8f72-e83baffbdb08",
   "metadata": {
    "tags": []
   },
   "outputs": [],
   "source": [
    "# Proportions of training, test and validation data\n",
    "\n",
    "train_prop = len(X_train)/len(final_df)\n",
    "test_prop = len(X_test)/len(final_df)\n",
    "valid_prop = len(X_valid)/len(final_df)"
   ]
  },
  {
   "cell_type": "code",
   "execution_count": 204,
   "id": "acbb3b8f-8a83-4562-a6cb-be5e724fb9e5",
   "metadata": {
    "tags": []
   },
   "outputs": [
    {
     "data": {
      "image/png": "[encoded data removed]",
      "text/plain": [
       "<Figure size 504x360 with 1 Axes>"
      ]
     },
     "metadata": {
      "needs_background": "light"
     },
     "output_type": "display_data"
    }
   ],
   "source": [
    "plt.figure(figsize=(7,5))\n",
    "labels = ['Training Set', 'Test Set', 'Validation Set']\n",
    "proportions = [train_prop, test_prop, valid_prop]\n",
    "plt.bar(labels,proportions)\n",
    "plt.xlabel(\"Datasets\")\n",
    "plt.ylabel(\"Proportions\")\n",
    "plt.title(\"Proportions of Training, Test and Validation sets\")\n",
    "plt.show()"
   ]
  },
  {
   "cell_type": "markdown",
   "id": "8becb2ca-ae44-4639-b7bd-0f20bad0ecb5",
   "metadata": {},
   "source": [
    "# Create a CNN model to detect traffic signage"
   ]
  },
  {
   "cell_type": "code",
   "execution_count": 205,
   "id": "f71f06cb-b9c2-4ea0-a892-bc27ae009755",
   "metadata": {
    "tags": []
   },
   "outputs": [
    {
     "data": {
      "image/png": "[encoded data removed]",
      "text/plain": [
       "<Figure size 432x288 with 1 Axes>"
      ]
     },
     "metadata": {
      "needs_background": "light"
     },
     "output_type": "display_data"
    }
   ],
   "source": [
    "# First ensure access to the S3 file & load an image\n",
    "\n",
    "# Define the S3 bucket and prefix\n",
    "bucket_name = 'final.project.data.508'\n",
    "prefix_key = 'traffic_signage/'\n",
    "image_key = '000005_jpg.rf.d730849ae93a7c211a7c8f57ed851028.jpg'\n",
    "\n",
    "# Create a Boto3 S3 client\n",
    "s3_client = boto3.client('s3')\n",
    "\n",
    "# Load the image from S3\n",
    "image_object = s3_client.get_object(Bucket=bucket_name, Key=f'{prefix_key}{image_key}')\n",
    "\n",
    "# Read the image data from the object\n",
    "image_data = image_object['Body'].read()\n",
    "\n",
    "# Open the image using PIL\n",
    "image = Image.open(io.BytesIO(image_data))\n",
    "\n",
    "# Display the image\n",
    "plt.imshow(image)\n",
    "plt.axis('off')\n",
    "plt.show()"
   ]
  },
  {
   "cell_type": "code",
   "execution_count": 206,
   "id": "2239c3c9-e773-408c-bb58-649dc07b1f00",
   "metadata": {
    "tags": []
   },
   "outputs": [
    {
     "name": "stdout",
     "output_type": "stream",
     "text": [
      "Number of training examples: 600\n",
      "Number of validation examples: 200\n",
      "Number of test examples: 200\n"
     ]
    }
   ],
   "source": [
    "# Create a Boto3 S3 client\n",
    "s3_client = boto3.client('s3')\n",
    "\n",
    "# List objects in the bucket\n",
    "response = s3_client.list_objects_v2(Bucket=bucket_name, Prefix=prefix_key)\n",
    "\n",
    "# Extract the filenames from the response\n",
    "image_filenames = [obj['Key'] for obj in response.get('Contents', [])]\n",
    "\n",
    "# Shuffle the filenames\n",
    "random.seed(42)  \n",
    "random.shuffle(image_filenames)\n",
    "\n",
    "# Define the ratio for train, validation, & test sets\n",
    "train_ratio = 0.6\n",
    "validation_ratio = 0.2\n",
    "test_ratio = 0.2\n",
    "\n",
    "# Split the data into train, validation, and test sets\n",
    "train_filenames, test_filenames = train_test_split(image_filenames, test_size=test_ratio, random_state=42)\n",
    "train_filenames, validation_filenames = train_test_split(train_filenames, test_size=validation_ratio/(1-test_ratio), random_state=42)\n",
    "\n",
    "# Print the lengths of each set\n",
    "print(\"Number of training examples:\", len(train_filenames))\n",
    "print(\"Number of validation examples:\", len(validation_filenames))\n",
    "print(\"Number of test examples:\", len(test_filenames))"
   ]
  },
  {
   "cell_type": "code",
   "execution_count": 207,
   "id": "48c865c5-a469-4ce1-b5f0-a48386ee94fa",
   "metadata": {
    "tags": []
   },
   "outputs": [],
   "source": [
    "# Install required package\n",
    "# !pip install tensorflow\n",
    "# !pip install --upgrade numpy\n",
    "# !pip install --upgrade tensorflow\n",
    "# !pip install --upgrade numpy h5py tensorflow\n",
    "# !pip install yolov5\n",
    "# !apt-get install libgl1-mesa-glx\n",
    "# !apt-get install libgl1\n",
    "# !pip install yolov8"
   ]
  },
  {
   "cell_type": "code",
   "execution_count": 208,
   "id": "abd66ab9-361c-4422-967f-415af5f611fc",
   "metadata": {
    "tags": []
   },
   "outputs": [
    {
     "name": "stdout",
     "output_type": "stream",
     "text": [
      "Model: \"sequential_1\"\n",
      "_________________________________________________________________\n",
      " Layer (type)                Output Shape              Param #   \n",
      "=================================================================\n",
      " conv2d_3 (Conv2D)           (None, 98, 98, 32)        896       \n",
      "                                                                 \n",
      " max_pooling2d_2 (MaxPoolin  (None, 49, 49, 32)        0         \n",
      " g2D)                                                            \n",
      "                                                                 \n",
      " conv2d_4 (Conv2D)           (None, 47, 47, 64)        18496     \n",
      "                                                                 \n",
      " max_pooling2d_3 (MaxPoolin  (None, 23, 23, 64)        0         \n",
      " g2D)                                                            \n",
      "                                                                 \n",
      " conv2d_5 (Conv2D)           (None, 21, 21, 64)        36928     \n",
      "                                                                 \n",
      " flatten_1 (Flatten)         (None, 28224)             0         \n",
      "                                                                 \n",
      " dense_2 (Dense)             (None, 64)                1806400   \n",
      "                                                                 \n",
      " dense_3 (Dense)             (None, 1)                 65        \n",
      "                                                                 \n",
      "=================================================================\n",
      "Total params: 1862785 (7.11 MB)\n",
      "Trainable params: 1862785 (7.11 MB)\n",
      "Non-trainable params: 0 (0.00 Byte)\n",
      "_________________________________________________________________\n"
     ]
    }
   ],
   "source": [
    "import tensorflow as tf\n",
    "from tensorflow.keras import layers, models\n",
    "\n",
    "# Define input shape (assuming images are 100x100 pixels with 3 color channels)\n",
    "input_shape = (100, 100, 3)\n",
    "\n",
    "# Define the CNN model\n",
    "model = models.Sequential([\n",
    "    # Convolutional layer with 32 filters, 3x3 kernel size, ReLU activation, and input shape\n",
    "    layers.Conv2D(32, (3, 3), activation='relu', input_shape=input_shape),\n",
    "    # Max pooling layer with 2x2 pool size\n",
    "    layers.MaxPooling2D((2, 2)),\n",
    "    # Convolutional layer with 64 filters, 3x3 kernel size, ReLU activation\n",
    "    layers.Conv2D(64, (3, 3), activation='relu'),\n",
    "    # Max pooling layer with 2x2 pool size\n",
    "    layers.MaxPooling2D((2, 2)),\n",
    "    # Convolutional layer with 64 filters, 3x3 kernel size, ReLU activation\n",
    "    layers.Conv2D(64, (3, 3), activation='relu'),\n",
    "    # Flatten layer to convert 2D features into 1D feature vector\n",
    "    layers.Flatten(),\n",
    "    # Dense (fully connected) layer with 64 units and ReLU activation\n",
    "    layers.Dense(64, activation='relu'),\n",
    "    # Output layer with 1 unit and sigmoid activation (for binary classification)\n",
    "    layers.Dense(1, activation='sigmoid')\n",
    "])\n",
    "\n",
    "# Compile the model\n",
    "model.compile(optimizer='adam',\n",
    "              loss='binary_crossentropy',\n",
    "              metrics=['accuracy'])\n",
    "\n",
    "# Print model summary\n",
    "model.summary()"
   ]
  },
  {
   "cell_type": "markdown",
   "id": "976cb808-40e3-4717-a5a7-ebea63be9180",
   "metadata": {},
   "source": [
    "#### Model Summary:\n",
    "\n",
    "##### Layer (type): This column lists the layers in your model, along with their type.\n",
    "##### Output Shape: This column shows the shape of the output from each layer. For convolutional layers, it represents the dimensions of the output feature maps.\n",
    "##### Param #: This column displays the number of parameters (weights and biases) in each layer. These parameters are learned during training.\n",
    "\n",
    "#### Translation:\n",
    "\n",
    "##### The first row indicates a convolutional layer (Conv2D) with 32 filters (output channels) and a 3x3 kernel size. The output shape is (98, 98, 32), indicating 32 feature maps of size 98x98.\n",
    "##### The second row indicates a max-pooling layer (MaxPooling2D) with a 2x2 pool size, which reduces the dimensions of the feature maps by half.\n",
    "##### The third and fourth rows represent another convolutional layer followed by max-pooling, similar to the first two rows.\n",
    "##### The fifth row represents a flatten layer, which converts the 2D feature maps into a 1D feature vector.\n",
    "##### The sixth row represents a dense (fully connected) layer with 64 units and ReLU activation.\n",
    "##### The seventh row represents the output layer with 1 unit and sigmoid activation, suitable for binary classification tasks.\n",
    "##### Total params: This line shows the total number of parameters in the model. In your case, the model has 1,862,785 parameters."
   ]
  },
  {
   "cell_type": "code",
   "execution_count": 209,
   "id": "44b051d4-97be-41bd-9786-161a6922f3bc",
   "metadata": {
    "tags": []
   },
   "outputs": [],
   "source": [
    "# !pip install -U ipywidgets\n",
    "# !pip install ultralytics"
   ]
  },
  {
   "cell_type": "code",
   "execution_count": 210,
   "id": "6203ba1c-6893-4804-b5a2-de6df46b59d6",
   "metadata": {
    "tags": []
   },
   "outputs": [],
   "source": [
    "# I tried the YOLO package similar to the kaggle notebook, but with no success\n",
    "\n",
    "# from ultralytics import YOLO\n",
    "# import cv2\n",
    "# from PIL import Image\n",
    "\n",
    "# Download the YOLOv8 model\n",
    "# !wget https://github.com/ultralytics/assets/releases/download/v0.0.0/yolov8n.pt\n",
    "\n",
    "# Load the pretrained YOLOv8 model\n",
    "# model = YOLO(\"yolov8n.pt\")\n",
    "\n",
    "# Loop through the images in the training set\n",
    "# for filename in train_filenames:\n",
    "    # Define the path to the image\n",
    "#     image_path = f\"s3://{bucket_name}/{filename}\"\n",
    "    \n",
    "    # Use the model to detect objects in the image\n",
    "#     result_predict = model.predict(source=image_path, imgsz=(416))\n",
    "    \n",
    "    # Display the detection results\n",
    "#     plot = result_predict[0].plot()\n",
    "#     plot = cv2.cvtColor(plot, cv2.COLOR_BGR2RGB)\n",
    "#     Image.fromarray(plot).show()\n"
   ]
  },
  {
   "cell_type": "code",
   "execution_count": 211,
   "id": "41661175-dc07-4f5c-8526-2f98f0969a60",
   "metadata": {
    "tags": []
   },
   "outputs": [],
   "source": [
    "# import sys, os, distutils.core\n",
    "# from IPython.display import clear_output\n",
    "\n",
    "# !python -m pip install pyyaml==5.1\n",
    "# !git clone 'https://github.com/facebookresearch/detectron2'\n",
    "# dist = distutils.core.run_setup(\"./detectron2/setup.py\")\n",
    "# !python -m pip install {' '.join([f\"'{x}'\" for x in dist.install_requires])}\n",
    "# sys.path.insert(0, os.path.abspath('./detectron2'))\n",
    "# clear_output()\n",
    "\n",
    "# import torch, detectron2\n",
    "# from detectron2.utils.logger import setup_logger\n",
    "# setup_logger()\n",
    "# print(\"detectron2 version:\", detectron2.__version__)\n",
    "\n",
    "# import numpy as np\n",
    "# import os, json, cv2, random\n",
    "# from IPython import display\n",
    "# import PIL\n",
    "# import matplotlib.pyplot as plt\n",
    "\n",
    "# from detectron2 import model_zoo\n",
    "# from detectron2.engine import DefaultPredictor\n",
    "# from detectron2.config import get_cfg\n",
    "# from detectron2.utils.visualizer import Visualizer\n",
    "# from detectron2.data import MetadataCatalog, DatasetCatalog\n",
    "\n",
    "# Set your S3 bucket name and file paths\n",
    "# bucket_name = 'final.project.data.508'\n",
    "\n",
    "# Define the configuration for the Detectron2 model\n",
    "# cfg = get_cfg()\n",
    "# cfg.merge_from_file(model_zoo.get_config_file(\"COCO-Detection/faster_rcnn_R_50_FPN_1x.yaml\"))\n",
    "# cfg.MODEL.ROI_HEADS.SCORE_THRESH_TEST = 0.5  # Set threshold for detections\n",
    "\n",
    "# Load the trained Detectron2 model\n",
    "# cfg.MODEL.WEIGHTS = \"detectron2://COCO-Detection/faster_rcnn_R_50_FPN_1x/137257644/model_final_b275ba.pkl\"\n",
    "# predictor = DefaultPredictor(cfg)\n",
    "\n",
    "# Loop through the images in the training set\n",
    "# for filename in train_filenames:\n",
    "    # Define the path to the image\n",
    "#     image_path = f\"s3://{bucket_name}/{filename}\"\n",
    "    \n",
    "    # Use the model to detect objects in the image\n",
    "#     img = cv2.imread(image_path)\n",
    "#     outputs = predictor(img)\n",
    "    \n",
    "    # Display the detection results\n",
    "#     v = Visualizer(img[:, :, ::-1], MetadataCatalog.get(cfg.DATASETS.TRAIN[0]), scale=1.2)\n",
    "#     out = v.draw_instance_predictions(outputs[\"instances\"].to(\"cpu\"))\n",
    "#     plt.imshow(out.get_image()[:, :, ::-1])\n",
    "#     plt.show()"
   ]
  },
  {
   "cell_type": "markdown",
   "id": "58124d87-15b7-4461-9a65-45331972726b",
   "metadata": {},
   "source": [
    "# Car detection"
   ]
  },
  {
   "cell_type": "code",
   "execution_count": 212,
   "id": "890ca78d-100b-4359-9bac-77fc73164859",
   "metadata": {
    "tags": []
   },
   "outputs": [
    {
     "data": {
      "image/png": "[encoded data removed]",
      "text/plain": [
       "<Figure size 432x288 with 1 Axes>"
      ]
     },
     "metadata": {
      "needs_background": "light"
     },
     "output_type": "display_data"
    }
   ],
   "source": [
    "# First ensure access to the S3 file & load an image\n",
    "\n",
    "# Define the S3 bucket and prefix\n",
    "bucket_name_car_type = 'final.project.data.508'\n",
    "prefix_key_car_type = 'vehicle_type_upd/cars_train/cars_train/'\n",
    "image_key_car_type = '00004.jpg'\n",
    "\n",
    "# Create a Boto3 S3 client\n",
    "s3_client = boto3.client('s3')\n",
    "\n",
    "# Load the image from S3\n",
    "image_object = s3_client.get_object(Bucket=bucket_name_car_type, Key=f'{prefix_key_car_type}{image_key_car_type}')\n",
    "\n",
    "# Read the image data from the object\n",
    "image_data = image_object['Body'].read()\n",
    "\n",
    "# Open the image using PIL\n",
    "image = Image.open(io.BytesIO(image_data))\n",
    "\n",
    "# Display the image\n",
    "plt.imshow(image)\n",
    "plt.axis('off')\n",
    "plt.show()"
   ]
  },
  {
   "cell_type": "code",
   "execution_count": null,
   "id": "73498fb5-02be-4003-8951-2addb836c80a",
   "metadata": {
    "tags": []
   },
   "outputs": [],
   "source": [
    "import boto3\n",
    "\n",
    "# Define the S3 bucket and prefix\n",
    "bucket_name = 'final.project.data.508'\n",
    "prefix_key = 'vehicle_type_upd/'\n",
    "\n",
    "# Create a Boto3 S3 client\n",
    "s3_client = boto3.client('s3')\n",
    "\n",
    "# Define the S3 locations for annotation and image data\n",
    "annos_mat_location = 's3://final.project.data.508/vehicle_type_upd/cars_annos.mat'\n",
    "train_images_location = 's3://final.project.data.508/vehicle_type_upd/cars_train/cars_train/'\n",
    "test_images_location = 's3://final.project.data.508/vehicle_type_upd/cars_test/cars_test/'\n",
    "\n",
    "# Load training images\n",
    "training_image_filenames = []\n",
    "response = s3_client.list_objects_v2(Bucket=bucket_name, Prefix=prefix_key + 'cars_train/cars_train/')\n",
    "if 'Contents' in response:\n",
    "    training_image_filenames = [obj['Key'].split('/')[-1] for obj in response['Contents']]\n",
    "    training_images = [s3_client.get_object(Bucket=bucket_name, Key=obj['Key'])['Body'].read() for obj in response['Contents']]\n",
    "else:\n",
    "    print(\"No training images found.\")\n",
    "\n",
    "# Load testing images\n",
    "testing_image_filenames = []\n",
    "response = s3_client.list_objects_v2(Bucket=bucket_name, Prefix=prefix_key + 'cars_test/cars_test/')\n",
    "if 'Contents' in response:\n",
    "    testing_image_filenames = [obj['Key'].split('/')[-1] for obj in response['Contents']]\n",
    "    testing_images = [s3_client.get_object(Bucket=bucket_name, Key=obj['Key'])['Body'].read() for obj in response['Contents']]\n",
    "else:\n",
    "    print(\"No testing images found.\")\n",
    "\n",
    "# Print the number of training and testing images\n",
    "print(\"Number of training images:\", len(training_images))\n",
    "print(\"Number of testing images:\", len(testing_images))"
   ]
  },
  {
   "cell_type": "code",
   "execution_count": null,
   "id": "27704e2e-0b59-465e-b0ad-0bb0c6a4d382",
   "metadata": {
    "tags": []
   },
   "outputs": [],
   "source": [
    "import matplotlib.pyplot as plt\n",
    "import io\n",
    "from PIL import Image\n",
    "\n",
    "# Display the first 10 training images\n",
    "print(\"Displaying the first 5 training images:\")\n",
    "for i in range(5):\n",
    "    try:\n",
    "        img_bytes = training_images[i]\n",
    "        img = Image.open(io.BytesIO(img_bytes))\n",
    "        plt.imshow(img)\n",
    "        plt.axis('off')\n",
    "        plt.show()\n",
    "    except Exception as e:\n",
    "        print(f\"Error displaying training image {i+1}: {e}\")\n",
    "\n",
    "# Display the first 10 testing images\n",
    "print(\"Displaying the first 5 testing images:\")\n",
    "for i in range(5):\n",
    "    try:\n",
    "        img_bytes = testing_images[i]\n",
    "        img = Image.open(io.BytesIO(img_bytes))\n",
    "        plt.imshow(img)\n",
    "        plt.axis('off')\n",
    "        plt.show()\n",
    "    except Exception as e:\n",
    "        print(f\"Error displaying testing image {i+1}: {e}\")"
   ]
  },
  {
   "cell_type": "code",
   "execution_count": null,
   "id": "fb7d5df9-637e-4dec-9bc5-2b6f709d10f9",
   "metadata": {
    "tags": []
   },
   "outputs": [],
   "source": [
    "import boto3\n",
    "import io\n",
    "import scipy.io\n",
    "\n",
    "# S3 bucket details\n",
    "bucket_name = 'final.project.data.508'\n",
    "key = 'vehicle_type_upd/cars_annos.mat'\n",
    "\n",
    "# Create an S3 client\n",
    "s3 = boto3.client('s3')\n",
    "\n",
    "# Download the file contents into memory\n",
    "response = s3.get_object(Bucket=bucket_name, Key=key)\n",
    "data = response['Body'].read()\n",
    "\n",
    "# Load the contents of the annos.mat file\n",
    "mat_contents = scipy.io.loadmat(io.BytesIO(data))\n",
    "\n",
    "# Access the annotations and class_names fields\n",
    "annotations = mat_contents['annotations']\n",
    "class_names = mat_contents['class_names']\n",
    "\n",
    "# Display the contents\n",
    "print(\"Annotations:\")\n",
    "print(annotations)\n",
    "print(\"\\nClass names:\")\n",
    "print(class_names)"
   ]
  },
  {
   "cell_type": "code",
   "execution_count": null,
   "id": "921978e2-c5a3-49e8-b84e-2c09f85e14b0",
   "metadata": {
    "tags": []
   },
   "outputs": [],
   "source": [
    "# Display file names and formats in the cars_train directory\n",
    "train_files = s3.ls(train_images_location)\n",
    "print(\"Number of files in train directory:\", len(train_files))\n",
    "print(\"Example file names:\")\n",
    "for file in train_files[:10]:\n",
    "    print(file)"
   ]
  },
  {
   "cell_type": "code",
   "execution_count": null,
   "id": "30c6617a-b95a-4084-8165-9475befe506a",
   "metadata": {
    "tags": []
   },
   "outputs": [],
   "source": [
    "# Seeking to understand the format of the referenced files in the annotation file to match them\n",
    "\n",
    "import boto3\n",
    "import io\n",
    "from scipy.io import loadmat\n",
    "\n",
    "# Assuming you have configured your AWS credentials or are using some other method to authenticate with S3\n",
    "s3 = boto3.client('s3')\n",
    "\n",
    "# Define the S3 bucket and key where the annotations file is located\n",
    "bucket_name = 'final.project.data.508'\n",
    "annotations_key = 'vehicle_type_upd/cars_annos.mat'\n",
    "\n",
    "# Download the annotations file from S3\n",
    "response = s3.get_object(Bucket=bucket_name, Key=annotations_key)\n",
    "annotations_data = response['Body'].read()\n",
    "\n",
    "# Load annotations data using scipy.io.loadmat\n",
    "annotations = loadmat(io.BytesIO(annotations_data))\n",
    "\n",
    "# Extract filenames from the annotations data\n",
    "filenames = annotations['annotations']['relative_im_path'][0]\n",
    "\n",
    "# Print all the filenames\n",
    "for idx, filename in enumerate(filenames[:10]):\n",
    "    print(f\"Annotation Filename {idx + 1}: {filename[0]}\")\n"
   ]
  },
  {
   "cell_type": "code",
   "execution_count": null,
   "id": "c12413ec-f5db-4141-91fe-b5a4addaaf9c",
   "metadata": {
    "tags": []
   },
   "outputs": [],
   "source": [
    "import os\n",
    "import boto3\n",
    "from scipy.io import loadmat\n",
    "import io\n",
    "\n",
    "# Assuming you have configured your AWS credentials or are using some other method to authenticate with S3\n",
    "s3 = boto3.client('s3')\n",
    "\n",
    "# Define the S3 bucket and keys for annotations file and train images\n",
    "bucket_name = 'final.project.data.508'\n",
    "annotations_key = 'vehicle_type_upd/cars_annos.mat'\n",
    "train_images_location = 'vehicle_type_upd/cars_train/cars_train/'\n",
    "\n",
    "# Function to list all objects in the specified location\n",
    "def list_all_objects(bucket_name, prefix):\n",
    "    s3_client = boto3.client('s3')\n",
    "    paginator = s3_client.get_paginator('list_objects_v2')\n",
    "    for page in paginator.paginate(Bucket=bucket_name, Prefix=prefix):\n",
    "        for obj in page.get('Contents', []):\n",
    "            yield obj['Key']\n",
    "\n",
    "# Function to count the total number of files in the specified location\n",
    "def count_files_in_bucket(bucket_name, prefix):\n",
    "    total_files = 0\n",
    "    for _ in list_all_objects(bucket_name, prefix):\n",
    "        total_files += 1\n",
    "    return total_files\n",
    "\n",
    "# Download the annotations file from S3\n",
    "response = s3.get_object(Bucket=bucket_name, Key=annotations_key)\n",
    "annotations_data = response['Body'].read()\n",
    "\n",
    "# Load annotations data using scipy.io.loadmat\n",
    "annotations = loadmat(io.BytesIO(annotations_data))\n",
    "\n",
    "# Extract filenames and labels from the annotations data\n",
    "annotations_filenames = [filename[0].replace('car_ims/', '') for filename in annotations['annotations']['relative_im_path'][0]]\n",
    "annotations_labels = annotations['annotations']['class'][0]\n",
    "\n",
    "# Print the first 10 filenames from annotations\n",
    "print(\"Annotations filenames and labels:\")\n",
    "for i in range(10):\n",
    "    print(f\"Filename: {annotations_filenames[i].split('/')[-1]}, Label: {annotations_labels[i]}\")\n",
    "\n",
    "# Extract filenames from the train images location\n",
    "train_files = list(list_all_objects(bucket_name, train_images_location))\n",
    "\n",
    "# Print the number of train files\n",
    "print(\"\\nNumber of train files:\", len(train_files))\n",
    "\n",
    "# Print the first 10 filenames from train data subset\n",
    "print(\"\\nFirst 10 filenames from train data subset:\")\n",
    "for file in train_files[:10]:\n",
    "    print(f\"Filename: {file.split('/')[-1]}\")"
   ]
  },
  {
   "cell_type": "code",
   "execution_count": null,
   "id": "3738ce15-6b6c-442f-9bf0-6d36fd30bec9",
   "metadata": {
    "tags": []
   },
   "outputs": [],
   "source": [
    "# Create a dictionary to store the mapping of filenames to labels\n",
    "label_mapping = dict(zip(annotations_filenames, annotations_labels))\n",
    "\n",
    "# Initialize lists to store matched and unmatched files\n",
    "matched_files = []\n",
    "unmatched_files = []\n",
    "\n",
    "# Assign labels to train files\n",
    "print(\"\\nFirst 10 files to be matched:\")\n",
    "for file in train_files[:10]:\n",
    "    print(file)\n",
    "    if file in label_mapping:\n",
    "        # Add matched files to the list\n",
    "        matched_files.append(file)\n",
    "        # Extract label for the matched file\n",
    "        label = label_mapping[file][0][0]\n",
    "        # Print filename and label\n",
    "        print(f\"Filename: {file.split('/')[-1]}, Label: {label}\")\n",
    "    else:\n",
    "        # Add unmatched files to the list\n",
    "        unmatched_files.append(file)\n",
    "\n",
    "# Print counts of matched and unmatched files\n",
    "print(f\"\\nNumber of matched files: {len(matched_files)}\")\n",
    "print(f\"Number of unmatched files: {len(unmatched_files)}\")"
   ]
  },
  {
   "cell_type": "code",
   "execution_count": null,
   "id": "7ce30902-8223-45ba-9106-784c96dd9f93",
   "metadata": {},
   "outputs": [],
   "source": []
  }
 ],
 "metadata": {
  "availableInstances": [
   {
    "_defaultOrder": 0,
    "_isFastLaunch": true,
    "category": "General purpose",
    "gpuNum": 0,
    "hideHardwareSpecs": false,
    "memoryGiB": 4,
    "name": "ml.t3.medium",
    "vcpuNum": 2
   },
   {
    "_defaultOrder": 1,
    "_isFastLaunch": false,
    "category": "General purpose",
    "gpuNum": 0,
    "hideHardwareSpecs": false,
    "memoryGiB": 8,
    "name": "ml.t3.large",
    "vcpuNum": 2
   },
   {
    "_defaultOrder": 2,
    "_isFastLaunch": false,
    "category": "General purpose",
    "gpuNum": 0,
    "hideHardwareSpecs": false,
    "memoryGiB": 16,
    "name": "ml.t3.xlarge",
    "vcpuNum": 4
   },
   {
    "_defaultOrder": 3,
    "_isFastLaunch": false,
    "category": "General purpose",
    "gpuNum": 0,
    "hideHardwareSpecs": false,
    "memoryGiB": 32,
    "name": "ml.t3.2xlarge",
    "vcpuNum": 8
   },
   {
    "_defaultOrder": 4,
    "_isFastLaunch": true,
    "category": "General purpose",
    "gpuNum": 0,
    "hideHardwareSpecs": false,
    "memoryGiB": 8,
    "name": "ml.m5.large",
    "vcpuNum": 2
   },
   {
    "_defaultOrder": 5,
    "_isFastLaunch": false,
    "category": "General purpose",
    "gpuNum": 0,
    "hideHardwareSpecs": false,
    "memoryGiB": 16,
    "name": "ml.m5.xlarge",
    "vcpuNum": 4
   },
   {
    "_defaultOrder": 6,
    "_isFastLaunch": false,
    "category": "General purpose",
    "gpuNum": 0,
    "hideHardwareSpecs": false,
    "memoryGiB": 32,
    "name": "ml.m5.2xlarge",
    "vcpuNum": 8
   },
   {
    "_defaultOrder": 7,
    "_isFastLaunch": false,
    "category": "General purpose",
    "gpuNum": 0,
    "hideHardwareSpecs": false,
    "memoryGiB": 64,
    "name": "ml.m5.4xlarge",
    "vcpuNum": 16
   },
   {
    "_defaultOrder": 8,
    "_isFastLaunch": false,
    "category": "General purpose",
    "gpuNum": 0,
    "hideHardwareSpecs": false,
    "memoryGiB": 128,
    "name": "ml.m5.8xlarge",
    "vcpuNum": 32
   },
   {
    "_defaultOrder": 9,
    "_isFastLaunch": false,
    "category": "General purpose",
    "gpuNum": 0,
    "hideHardwareSpecs": false,
    "memoryGiB": 192,
    "name": "ml.m5.12xlarge",
    "vcpuNum": 48
   },
   {
    "_defaultOrder": 10,
    "_isFastLaunch": false,
    "category": "General purpose",
    "gpuNum": 0,
    "hideHardwareSpecs": false,
    "memoryGiB": 256,
    "name": "ml.m5.16xlarge",
    "vcpuNum": 64
   },
   {
    "_defaultOrder": 11,
    "_isFastLaunch": false,
    "category": "General purpose",
    "gpuNum": 0,
    "hideHardwareSpecs": false,
    "memoryGiB": 384,
    "name": "ml.m5.24xlarge",
    "vcpuNum": 96
   },
   {
    "_defaultOrder": 12,
    "_isFastLaunch": false,
    "category": "General purpose",
    "gpuNum": 0,
    "hideHardwareSpecs": false,
    "memoryGiB": 8,
    "name": "ml.m5d.large",
    "vcpuNum": 2
   },
   {
    "_defaultOrder": 13,
    "_isFastLaunch": false,
    "category": "General purpose",
    "gpuNum": 0,
    "hideHardwareSpecs": false,
    "memoryGiB": 16,
    "name": "ml.m5d.xlarge",
    "vcpuNum": 4
   },
   {
    "_defaultOrder": 14,
    "_isFastLaunch": false,
    "category": "General purpose",
    "gpuNum": 0,
    "hideHardwareSpecs": false,
    "memoryGiB": 32,
    "name": "ml.m5d.2xlarge",
    "vcpuNum": 8
   },
   {
    "_defaultOrder": 15,
    "_isFastLaunch": false,
    "category": "General purpose",
    "gpuNum": 0,
    "hideHardwareSpecs": false,
    "memoryGiB": 64,
    "name": "ml.m5d.4xlarge",
    "vcpuNum": 16
   },
   {
    "_defaultOrder": 16,
    "_isFastLaunch": false,
    "category": "General purpose",
    "gpuNum": 0,
    "hideHardwareSpecs": false,
    "memoryGiB": 128,
    "name": "ml.m5d.8xlarge",
    "vcpuNum": 32
   },
   {
    "_defaultOrder": 17,
    "_isFastLaunch": false,
    "category": "General purpose",
    "gpuNum": 0,
    "hideHardwareSpecs": false,
    "memoryGiB": 192,
    "name": "ml.m5d.12xlarge",
    "vcpuNum": 48
   },
   {
    "_defaultOrder": 18,
    "_isFastLaunch": false,
    "category": "General purpose",
    "gpuNum": 0,
    "hideHardwareSpecs": false,
    "memoryGiB": 256,
    "name": "ml.m5d.16xlarge",
    "vcpuNum": 64
   },
   {
    "_defaultOrder": 19,
    "_isFastLaunch": false,
    "category": "General purpose",
    "gpuNum": 0,
    "hideHardwareSpecs": false,
    "memoryGiB": 384,
    "name": "ml.m5d.24xlarge",
    "vcpuNum": 96
   },
   {
    "_defaultOrder": 20,
    "_isFastLaunch": false,
    "category": "General purpose",
    "gpuNum": 0,
    "hideHardwareSpecs": true,
    "memoryGiB": 0,
    "name": "ml.geospatial.interactive",
    "supportedImageNames": [
     "sagemaker-geospatial-v1-0"
    ],
    "vcpuNum": 0
   },
   {
    "_defaultOrder": 21,
    "_isFastLaunch": true,
    "category": "Compute optimized",
    "gpuNum": 0,
    "hideHardwareSpecs": false,
    "memoryGiB": 4,
    "name": "ml.c5.large",
    "vcpuNum": 2
   },
   {
    "_defaultOrder": 22,
    "_isFastLaunch": false,
    "category": "Compute optimized",
    "gpuNum": 0,
    "hideHardwareSpecs": false,
    "memoryGiB": 8,
    "name": "ml.c5.xlarge",
    "vcpuNum": 4
   },
   {
    "_defaultOrder": 23,
    "_isFastLaunch": false,
    "category": "Compute optimized",
    "gpuNum": 0,
    "hideHardwareSpecs": false,
    "memoryGiB": 16,
    "name": "ml.c5.2xlarge",
    "vcpuNum": 8
   },
   {
    "_defaultOrder": 24,
    "_isFastLaunch": false,
    "category": "Compute optimized",
    "gpuNum": 0,
    "hideHardwareSpecs": false,
    "memoryGiB": 32,
    "name": "ml.c5.4xlarge",
    "vcpuNum": 16
   },
   {
    "_defaultOrder": 25,
    "_isFastLaunch": false,
    "category": "Compute optimized",
    "gpuNum": 0,
    "hideHardwareSpecs": false,
    "memoryGiB": 72,
    "name": "ml.c5.9xlarge",
    "vcpuNum": 36
   },
   {
    "_defaultOrder": 26,
    "_isFastLaunch": false,
    "category": "Compute optimized",
    "gpuNum": 0,
    "hideHardwareSpecs": false,
    "memoryGiB": 96,
    "name": "ml.c5.12xlarge",
    "vcpuNum": 48
   },
   {
    "_defaultOrder": 27,
    "_isFastLaunch": false,
    "category": "Compute optimized",
    "gpuNum": 0,
    "hideHardwareSpecs": false,
    "memoryGiB": 144,
    "name": "ml.c5.18xlarge",
    "vcpuNum": 72
   },
   {
    "_defaultOrder": 28,
    "_isFastLaunch": false,
    "category": "Compute optimized",
    "gpuNum": 0,
    "hideHardwareSpecs": false,
    "memoryGiB": 192,
    "name": "ml.c5.24xlarge",
    "vcpuNum": 96
   },
   {
    "_defaultOrder": 29,
    "_isFastLaunch": true,
    "category": "Accelerated computing",
    "gpuNum": 1,
    "hideHardwareSpecs": false,
    "memoryGiB": 16,
    "name": "ml.g4dn.xlarge",
    "vcpuNum": 4
   },
   {
    "_defaultOrder": 30,
    "_isFastLaunch": false,
    "category": "Accelerated computing",
    "gpuNum": 1,
    "hideHardwareSpecs": false,
    "memoryGiB": 32,
    "name": "ml.g4dn.2xlarge",
    "vcpuNum": 8
   },
   {
    "_defaultOrder": 31,
    "_isFastLaunch": false,
    "category": "Accelerated computing",
    "gpuNum": 1,
    "hideHardwareSpecs": false,
    "memoryGiB": 64,
    "name": "ml.g4dn.4xlarge",
    "vcpuNum": 16
   },
   {
    "_defaultOrder": 32,
    "_isFastLaunch": false,
    "category": "Accelerated computing",
    "gpuNum": 1,
    "hideHardwareSpecs": false,
    "memoryGiB": 128,
    "name": "ml.g4dn.8xlarge",
    "vcpuNum": 32
   },
   {
    "_defaultOrder": 33,
    "_isFastLaunch": false,
    "category": "Accelerated computing",
    "gpuNum": 4,
    "hideHardwareSpecs": false,
    "memoryGiB": 192,
    "name": "ml.g4dn.12xlarge",
    "vcpuNum": 48
   },
   {
    "_defaultOrder": 34,
    "_isFastLaunch": false,
    "category": "Accelerated computing",
    "gpuNum": 1,
    "hideHardwareSpecs": false,
    "memoryGiB": 256,
    "name": "ml.g4dn.16xlarge",
    "vcpuNum": 64
   },
   {
    "_defaultOrder": 35,
    "_isFastLaunch": false,
    "category": "Accelerated computing",
    "gpuNum": 1,
    "hideHardwareSpecs": false,
    "memoryGiB": 61,
    "name": "ml.p3.2xlarge",
    "vcpuNum": 8
   },
   {
    "_defaultOrder": 36,
    "_isFastLaunch": false,
    "category": "Accelerated computing",
    "gpuNum": 4,
    "hideHardwareSpecs": false,
    "memoryGiB": 244,
    "name": "ml.p3.8xlarge",
    "vcpuNum": 32
   },
   {
    "_defaultOrder": 37,
    "_isFastLaunch": false,
    "category": "Accelerated computing",
    "gpuNum": 8,
    "hideHardwareSpecs": false,
    "memoryGiB": 488,
    "name": "ml.p3.16xlarge",
    "vcpuNum": 64
   },
   {
    "_defaultOrder": 38,
    "_isFastLaunch": false,
    "category": "Accelerated computing",
    "gpuNum": 8,
    "hideHardwareSpecs": false,
    "memoryGiB": 768,
    "name": "ml.p3dn.24xlarge",
    "vcpuNum": 96
   },
   {
    "_defaultOrder": 39,
    "_isFastLaunch": false,
    "category": "Memory Optimized",
    "gpuNum": 0,
    "hideHardwareSpecs": false,
    "memoryGiB": 16,
    "name": "ml.r5.large",
    "vcpuNum": 2
   },
   {
    "_defaultOrder": 40,
    "_isFastLaunch": false,
    "category": "Memory Optimized",
    "gpuNum": 0,
    "hideHardwareSpecs": false,
    "memoryGiB": 32,
    "name": "ml.r5.xlarge",
    "vcpuNum": 4
   },
   {
    "_defaultOrder": 41,
    "_isFastLaunch": false,
    "category": "Memory Optimized",
    "gpuNum": 0,
    "hideHardwareSpecs": false,
    "memoryGiB": 64,
    "name": "ml.r5.2xlarge",
    "vcpuNum": 8
   },
   {
    "_defaultOrder": 42,
    "_isFastLaunch": false,
    "category": "Memory Optimized",
    "gpuNum": 0,
    "hideHardwareSpecs": false,
    "memoryGiB": 128,
    "name": "ml.r5.4xlarge",
    "vcpuNum": 16
   },
   {
    "_defaultOrder": 43,
    "_isFastLaunch": false,
    "category": "Memory Optimized",
    "gpuNum": 0,
    "hideHardwareSpecs": false,
    "memoryGiB": 256,
    "name": "ml.r5.8xlarge",
    "vcpuNum": 32
   },
   {
    "_defaultOrder": 44,
    "_isFastLaunch": false,
    "category": "Memory Optimized",
    "gpuNum": 0,
    "hideHardwareSpecs": false,
    "memoryGiB": 384,
    "name": "ml.r5.12xlarge",
    "vcpuNum": 48
   },
   {
    "_defaultOrder": 45,
    "_isFastLaunch": false,
    "category": "Memory Optimized",
    "gpuNum": 0,
    "hideHardwareSpecs": false,
    "memoryGiB": 512,
    "name": "ml.r5.16xlarge",
    "vcpuNum": 64
   },
   {
    "_defaultOrder": 46,
    "_isFastLaunch": false,
    "category": "Memory Optimized",
    "gpuNum": 0,
    "hideHardwareSpecs": false,
    "memoryGiB": 768,
    "name": "ml.r5.24xlarge",
    "vcpuNum": 96
   },
   {
    "_defaultOrder": 47,
    "_isFastLaunch": false,
    "category": "Accelerated computing",
    "gpuNum": 1,
    "hideHardwareSpecs": false,
    "memoryGiB": 16,
    "name": "ml.g5.xlarge",
    "vcpuNum": 4
   },
   {
    "_defaultOrder": 48,
    "_isFastLaunch": false,
    "category": "Accelerated computing",
    "gpuNum": 1,
    "hideHardwareSpecs": false,
    "memoryGiB": 32,
    "name": "ml.g5.2xlarge",
    "vcpuNum": 8
   },
   {
    "_defaultOrder": 49,
    "_isFastLaunch": false,
    "category": "Accelerated computing",
    "gpuNum": 1,
    "hideHardwareSpecs": false,
    "memoryGiB": 64,
    "name": "ml.g5.4xlarge",
    "vcpuNum": 16
   },
   {
    "_defaultOrder": 50,
    "_isFastLaunch": false,
    "category": "Accelerated computing",
    "gpuNum": 1,
    "hideHardwareSpecs": false,
    "memoryGiB": 128,
    "name": "ml.g5.8xlarge",
    "vcpuNum": 32
   },
   {
    "_defaultOrder": 51,
    "_isFastLaunch": false,
    "category": "Accelerated computing",
    "gpuNum": 1,
    "hideHardwareSpecs": false,
    "memoryGiB": 256,
    "name": "ml.g5.16xlarge",
    "vcpuNum": 64
   },
   {
    "_defaultOrder": 52,
    "_isFastLaunch": false,
    "category": "Accelerated computing",
    "gpuNum": 4,
    "hideHardwareSpecs": false,
    "memoryGiB": 192,
    "name": "ml.g5.12xlarge",
    "vcpuNum": 48
   },
   {
    "_defaultOrder": 53,
    "_isFastLaunch": false,
    "category": "Accelerated computing",
    "gpuNum": 4,
    "hideHardwareSpecs": false,
    "memoryGiB": 384,
    "name": "ml.g5.24xlarge",
    "vcpuNum": 96
   },
   {
    "_defaultOrder": 54,
    "_isFastLaunch": false,
    "category": "Accelerated computing",
    "gpuNum": 8,
    "hideHardwareSpecs": false,
    "memoryGiB": 768,
    "name": "ml.g5.48xlarge",
    "vcpuNum": 192
   },
   {
    "_defaultOrder": 55,
    "_isFastLaunch": false,
    "category": "Accelerated computing",
    "gpuNum": 8,
    "hideHardwareSpecs": false,
    "memoryGiB": 1152,
    "name": "ml.p4d.24xlarge",
    "vcpuNum": 96
   },
   {
    "_defaultOrder": 56,
    "_isFastLaunch": false,
    "category": "Accelerated computing",
    "gpuNum": 8,
    "hideHardwareSpecs": false,
    "memoryGiB": 1152,
    "name": "ml.p4de.24xlarge",
    "vcpuNum": 96
   },
   {
    "_defaultOrder": 57,
    "_isFastLaunch": false,
    "category": "Accelerated computing",
    "gpuNum": 0,
    "hideHardwareSpecs": false,
    "memoryGiB": 32,
    "name": "ml.trn1.2xlarge",
    "vcpuNum": 8
   },
   {
    "_defaultOrder": 58,
    "_isFastLaunch": false,
    "category": "Accelerated computing",
    "gpuNum": 0,
    "hideHardwareSpecs": false,
    "memoryGiB": 512,
    "name": "ml.trn1.32xlarge",
    "vcpuNum": 128
   },
   {
    "_defaultOrder": 59,
    "_isFastLaunch": false,
    "category": "Accelerated computing",
    "gpuNum": 0,
    "hideHardwareSpecs": false,
    "memoryGiB": 512,
    "name": "ml.trn1n.32xlarge",
    "vcpuNum": 128
   }
  ],
  "instance_type": "ml.t3.medium",
  "kernelspec": {
   "display_name": "Python 3 (Data Science 2.0)",
   "language": "python",
   "name": "python3__SAGEMAKER_INTERNAL__arn:aws:sagemaker:us-east-1:081325390199:image/sagemaker-data-science-38"
  },
  "language_info": {
   "codemirror_mode": {
    "name": "ipython",
    "version": 3
   },
   "file_extension": ".py",
   "mimetype": "text/x-python",
   "name": "python",
   "nbconvert_exporter": "python",
   "pygments_lexer": "ipython3",
   "version": "3.8.13"
  }
 },
 "nbformat": 4,
 "nbformat_minor": 5
}
