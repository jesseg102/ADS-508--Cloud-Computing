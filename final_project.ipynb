{
 "cells": [
  {
   "cell_type": "markdown",
   "id": "20b8f492-1642-4819-966d-4c44493fc1e7",
   "metadata": {
    "tags": []
   },
   "source": [
    "# Import Corresponding Packages"
   ]
  },
  {
   "cell_type": "code",
   "execution_count": 45,
   "id": "347b1d7c-6d2c-4aa0-99f5-7dbe33b420cc",
   "metadata": {
    "tags": []
   },
   "outputs": [],
   "source": [
    "import os\n",
    "import boto3\n",
    "import sagemaker\n",
    "import pandas as pd\n",
    "import numpy as np\n",
    "import csv, json\n",
    "import seaborn as sns\n",
    "import matplotlib.pyplot as plt\n",
    "%matplotlib inline\n",
    "from IPython.display import HTML, display, Image as IImage\n",
    "from io import StringIO\n",
    "from pyathena import connect\n",
    "from sklearn.model_selection import train_test_split\n",
    "import warnings\n",
    "\n",
    "from PIL import Image\n",
    "from skimage import transform\n",
    "from sklearn.utils import shuffle\n",
    "\n",
    "warnings.filterwarnings('ignore')"
   ]
  },
  {
   "cell_type": "code",
   "execution_count": 10,
   "id": "a2cf400f-727e-4550-8016-30ce715c3359",
   "metadata": {
    "tags": []
   },
   "outputs": [],
   "source": [
    "# Initialize Boto3 Rekognition client\n",
    "\n",
    "rekognition_client = boto3.client(\"rekognition\")\n",
    "s3 = boto3.client(\"s3\")"
   ]
  },
  {
   "cell_type": "markdown",
   "id": "4b05e977-1d46-4db6-a9b6-12de63dec62a",
   "metadata": {},
   "source": [
    "# Detect labels in Traffic sign images"
   ]
  },
  {
   "cell_type": "code",
   "execution_count": 52,
   "id": "5110c800-2f9b-4555-bfe3-bed5ada07f67",
   "metadata": {
    "tags": []
   },
   "outputs": [],
   "source": [
    "# Define s3 bucket name, prefix and output csv file path\n",
    "\n",
    "bucket_name = 'final.project.data.508'\n",
    "prefix_key = 'traffic_signs/'\n",
    "output_csv_key = 'csv_files/traffic_signs.csv'"
   ]
  },
  {
   "cell_type": "code",
   "execution_count": 53,
   "id": "f50cd80f-ff88-4b21-ac7f-76f5b3e056bb",
   "metadata": {
    "tags": []
   },
   "outputs": [],
   "source": [
    "# Function to detect text from an image \n",
    "\n",
    "def detect_text_from_image(bucket_name, image_key):\n",
    "    if image_key.endswith('.jpg'):\n",
    "        rekognition_response = rekognition_client.detect_text(Image={'S3Object': {'Bucket': bucket_name, 'Name': image_key}})\n",
    "        return rekognition_response"
   ]
  },
  {
   "cell_type": "code",
   "execution_count": 54,
   "id": "ca7b1b23-0eaa-4d4b-982e-964c4389fe50",
   "metadata": {
    "tags": []
   },
   "outputs": [],
   "source": [
    "# Get a list of objects in the s3 bucket\n",
    "\n",
    "all_results = []\n",
    "\n",
    "paginator = s3.get_paginator('list_objects_v2')\n",
    "result = paginator.paginate(Bucket=bucket_name, Prefix=prefix_key)\n",
    "\n",
    "for page in result:\n",
    "    if \"Contents\" in page:\n",
    "         for key in page[ \"Contents\" ]:\n",
    "             keyString = key[ \"Key\" ]\n",
    "             print(keyString)\n",
    "             if keyString.endswith('.jpg'):\n",
    "                 response = detect_text_from_image(bucket_name, keyString)\n",
    "                 all_results.append({'Image': keyString, 'TextDetections': response['TextDetections']})"
   ]
  },
  {
   "cell_type": "code",
   "execution_count": 58,
   "id": "22e13434-d38e-4586-a9c3-564b448808a8",
   "metadata": {
    "tags": []
   },
   "outputs": [
    {
     "name": "stdout",
     "output_type": "stream",
     "text": [
      "Text detection results saved to: s3://final.project.data.508/csv_files/traffic_signs.csv\n"
     ]
    }
   ],
   "source": [
    "# # Write aggregated results to a single CSV file\n",
    "\n",
    "csv_buffer = StringIO()\n",
    "writer = csv.DictWriter(csv_buffer, fieldnames=['Image', 'DetectedText', 'Type', 'Confidence'])\n",
    "writer.writeheader()\n",
    "for result in all_results:\n",
    "    image_key = result['Image']\n",
    "    for detection in result['TextDetections']:\n",
    "        detected_text = detection['DetectedText']\n",
    "        text_type = detection['Type']\n",
    "        confidence = detection['Confidence']\n",
    "        writer.writerow({'Image': image_key, 'DetectedText': detected_text, 'Type': text_type, 'Confidence': confidence})\n",
    "        \n",
    "# # Upload CSV string to S3\n",
    "\n",
    "csv_buffer.seek(0)\n",
    "s3.put_object(Body=csv_buffer.getvalue(), Bucket=bucket_name, Key=output_csv_key)\n",
    "\n",
    "print(f\"Text detection results saved to: s3://{bucket_name}/{output_csv_key}\")"
   ]
  },
  {
   "cell_type": "code",
   "execution_count": 59,
   "id": "862e6298-0f82-4d34-bb3a-6dd18b72c821",
   "metadata": {
    "tags": []
   },
   "outputs": [],
   "source": [
    "# Create athena database\n",
    "\n",
    "sess = sagemaker.Session()\n",
    "role = sagemaker.get_execution_role()\n",
    "bucket = sess.default_bucket()\n",
    "region = boto3.Session().region_name\n",
    "\n",
    "ingest_create_athena_db_passed = False"
   ]
  },
  {
   "cell_type": "code",
   "execution_count": 60,
   "id": "f24b3791-a436-48d4-b5cf-be9224468914",
   "metadata": {
    "tags": []
   },
   "outputs": [],
   "source": [
    "# Set Athena database name\n",
    "\n",
    "database_name = \"velocityvision\""
   ]
  },
  {
   "cell_type": "code",
   "execution_count": 61,
   "id": "dc685f68-b2da-4281-a91b-873b8836b1e2",
   "metadata": {
    "tags": []
   },
   "outputs": [],
   "source": [
    "# Set S3 staging directory -- this is a temporary directory used for Athena queries\n",
    "\n",
    "s3_staging_dir = \"s3://{0}/athena/staging\".format(bucket)"
   ]
  },
  {
   "cell_type": "code",
   "execution_count": 62,
   "id": "d60f25c1-0031-41e7-881b-8fae276890c8",
   "metadata": {
    "tags": []
   },
   "outputs": [],
   "source": [
    "# Connect to s3 using PyAthena\n",
    "\n",
    "conn = connect(region_name=region, s3_staging_dir=s3_staging_dir)"
   ]
  },
  {
   "cell_type": "code",
   "execution_count": 63,
   "id": "fb73e9df-14b3-4a16-99d7-d00551f77fb5",
   "metadata": {
    "tags": []
   },
   "outputs": [
    {
     "name": "stdout",
     "output_type": "stream",
     "text": [
      "CREATE DATABASE IF NOT EXISTS velocityvision\n"
     ]
    },
    {
     "data": {
      "text/html": [
       "<div>\n",
       "<style scoped>\n",
       "    .dataframe tbody tr th:only-of-type {\n",
       "        vertical-align: middle;\n",
       "    }\n",
       "\n",
       "    .dataframe tbody tr th {\n",
       "        vertical-align: top;\n",
       "    }\n",
       "\n",
       "    .dataframe thead th {\n",
       "        text-align: right;\n",
       "    }\n",
       "</style>\n",
       "<table border=\"1\" class=\"dataframe\">\n",
       "  <thead>\n",
       "    <tr style=\"text-align: right;\">\n",
       "      <th></th>\n",
       "    </tr>\n",
       "  </thead>\n",
       "  <tbody>\n",
       "  </tbody>\n",
       "</table>\n",
       "</div>"
      ],
      "text/plain": [
       "Empty DataFrame\n",
       "Columns: []\n",
       "Index: []"
      ]
     },
     "execution_count": 63,
     "metadata": {},
     "output_type": "execute_result"
    }
   ],
   "source": [
    "# SQL statement to execute\n",
    "\n",
    "statement = \"CREATE DATABASE IF NOT EXISTS {}\".format(database_name)\n",
    "print(statement)\n",
    "pd.read_sql(statement, conn)"
   ]
  },
  {
   "cell_type": "code",
   "execution_count": 64,
   "id": "11029721-91f2-4687-addd-08517da44df1",
   "metadata": {
    "tags": []
   },
   "outputs": [],
   "source": [
    "input_data_location = \"s3://finalprojectdata/csv_files\""
   ]
  },
  {
   "cell_type": "code",
   "execution_count": 65,
   "id": "ff1f2857-a56c-4f5a-bc8b-cd7b59943411",
   "metadata": {},
   "outputs": [
    {
     "data": {
      "text/html": [
       "<div>\n",
       "<style scoped>\n",
       "    .dataframe tbody tr th:only-of-type {\n",
       "        vertical-align: middle;\n",
       "    }\n",
       "\n",
       "    .dataframe tbody tr th {\n",
       "        vertical-align: top;\n",
       "    }\n",
       "\n",
       "    .dataframe thead th {\n",
       "        text-align: right;\n",
       "    }\n",
       "</style>\n",
       "<table border=\"1\" class=\"dataframe\">\n",
       "  <thead>\n",
       "    <tr style=\"text-align: right;\">\n",
       "      <th></th>\n",
       "      <th>image_id</th>\n",
       "      <th>detected_text</th>\n",
       "      <th>type</th>\n",
       "      <th>confidence</th>\n",
       "    </tr>\n",
       "  </thead>\n",
       "  <tbody>\n",
       "    <tr>\n",
       "      <th>0</th>\n",
       "      <td>traffic_signs/000000_jpg.rf.b11f308f16626f9f79...</td>\n",
       "      <td>30</td>\n",
       "      <td>LINE</td>\n",
       "      <td>99.548250</td>\n",
       "    </tr>\n",
       "    <tr>\n",
       "      <th>1</th>\n",
       "      <td>traffic_signs/000000_jpg.rf.b11f308f16626f9f79...</td>\n",
       "      <td>RYARSH</td>\n",
       "      <td>LINE</td>\n",
       "      <td>99.415030</td>\n",
       "    </tr>\n",
       "    <tr>\n",
       "      <th>2</th>\n",
       "      <td>traffic_signs/000000_jpg.rf.b11f308f16626f9f79...</td>\n",
       "      <td>Please reduce</td>\n",
       "      <td>LINE</td>\n",
       "      <td>99.164894</td>\n",
       "    </tr>\n",
       "    <tr>\n",
       "      <th>3</th>\n",
       "      <td>traffic_signs/000000_jpg.rf.b11f308f16626f9f79...</td>\n",
       "      <td>your speed</td>\n",
       "      <td>LINE</td>\n",
       "      <td>99.207320</td>\n",
       "    </tr>\n",
       "    <tr>\n",
       "      <th>4</th>\n",
       "      <td>traffic_signs/000000_jpg.rf.b11f308f16626f9f79...</td>\n",
       "      <td>30</td>\n",
       "      <td>WORD</td>\n",
       "      <td>99.548250</td>\n",
       "    </tr>\n",
       "  </tbody>\n",
       "</table>\n",
       "</div>"
      ],
      "text/plain": [
       "                                            image_id  detected_text  type  \\\n",
       "0  traffic_signs/000000_jpg.rf.b11f308f16626f9f79...             30  LINE   \n",
       "1  traffic_signs/000000_jpg.rf.b11f308f16626f9f79...         RYARSH  LINE   \n",
       "2  traffic_signs/000000_jpg.rf.b11f308f16626f9f79...  Please reduce  LINE   \n",
       "3  traffic_signs/000000_jpg.rf.b11f308f16626f9f79...     your speed  LINE   \n",
       "4  traffic_signs/000000_jpg.rf.b11f308f16626f9f79...             30  WORD   \n",
       "\n",
       "   confidence  \n",
       "0   99.548250  \n",
       "1   99.415030  \n",
       "2   99.164894  \n",
       "3   99.207320  \n",
       "4   99.548250  "
      ]
     },
     "execution_count": 65,
     "metadata": {},
     "output_type": "execute_result"
    }
   ],
   "source": [
    "# SQL statement to execute the traffic signs text detection\n",
    "\n",
    "table_name1 = 'traffic_signs'\n",
    "pd.read_sql(f'DROP TABLE IF EXISTS {database_name}.{table_name1}', conn)\n",
    "\n",
    "create_table = f\"\"\"\n",
    "CREATE EXTERNAL TABLE IF NOT EXISTS {database_name}.{table_name1}(\n",
    "            image_id string,\n",
    "            detected_text string,\n",
    "            type string,\n",
    "            confidence float\n",
    "            )\n",
    "            \n",
    "            ROW FORMAT DELIMITED FIELDS TERMINATED BY ','\n",
    "            LOCATION '{input_data_location}'\n",
    "            TBLPROPERTIES ('skip.header.line.count'='1')\n",
    "\"\"\"\n",
    "\n",
    "pd.read_sql(create_table, conn)\n",
    "\n",
    "pd.read_sql(f'SELECT * FROM {database_name}.{table_name1} LIMIT 5', conn)"
   ]
  },
  {
   "cell_type": "code",
   "execution_count": 66,
   "id": "d8c720fa-b073-45e4-9b95-807967217c4f",
   "metadata": {
    "tags": []
   },
   "outputs": [],
   "source": [
    "# SQL statement to filter rows for \"WORD\" type\n",
    "\n",
    "query1 = \"SELECT * FROM {}.{} WHERE type='WORD'\".format(database_name, table_name1)\n",
    "traffic_signs_df = pd.read_sql(query1, conn)"
   ]
  },
  {
   "cell_type": "code",
   "execution_count": 67,
   "id": "b1a69b2a-1678-498e-a957-817ec9666d93",
   "metadata": {
    "tags": []
   },
   "outputs": [
    {
     "data": {
      "text/plain": [
       "(15968, 4)"
      ]
     },
     "execution_count": 67,
     "metadata": {},
     "output_type": "execute_result"
    }
   ],
   "source": [
    "traffic_signs_df.shape"
   ]
  },
  {
   "cell_type": "markdown",
   "id": "33ed36a1-d9e7-440a-9768-684a7a8f6e0e",
   "metadata": {},
   "source": [
    "## Checking duplicate values"
   ]
  },
  {
   "cell_type": "code",
   "execution_count": 68,
   "id": "3e8f5333-ddba-45ec-8d59-d61509b7bd31",
   "metadata": {
    "tags": []
   },
   "outputs": [
    {
     "data": {
      "text/plain": [
       "7993"
      ]
     },
     "execution_count": 68,
     "metadata": {},
     "output_type": "execute_result"
    }
   ],
   "source": [
    "traffic_signs_df.duplicated().sum()"
   ]
  },
  {
   "cell_type": "code",
   "execution_count": 69,
   "id": "aaa4034d-921c-41ca-9528-85f7a24b46df",
   "metadata": {
    "tags": []
   },
   "outputs": [
    {
     "data": {
      "text/plain": [
       "(7975, 4)"
      ]
     },
     "execution_count": 69,
     "metadata": {},
     "output_type": "execute_result"
    }
   ],
   "source": [
    "# Removing duplicate rows\n",
    "\n",
    "traffic_signs_df.drop_duplicates(inplace = True)\n",
    "traffic_signs_df.shape"
   ]
  },
  {
   "cell_type": "code",
   "execution_count": 70,
   "id": "08252f05-ea09-4d70-9a62-4aee40220a2f",
   "metadata": {
    "tags": []
   },
   "outputs": [
    {
     "data": {
      "text/html": [
       "<div>\n",
       "<style scoped>\n",
       "    .dataframe tbody tr th:only-of-type {\n",
       "        vertical-align: middle;\n",
       "    }\n",
       "\n",
       "    .dataframe tbody tr th {\n",
       "        vertical-align: top;\n",
       "    }\n",
       "\n",
       "    .dataframe thead th {\n",
       "        text-align: right;\n",
       "    }\n",
       "</style>\n",
       "<table border=\"1\" class=\"dataframe\">\n",
       "  <thead>\n",
       "    <tr style=\"text-align: right;\">\n",
       "      <th></th>\n",
       "      <th>image_id</th>\n",
       "      <th>type</th>\n",
       "      <th>detected_text</th>\n",
       "      <th>confidence</th>\n",
       "    </tr>\n",
       "  </thead>\n",
       "  <tbody>\n",
       "    <tr>\n",
       "      <th>0</th>\n",
       "      <td>traffic_signs/000000_jpg.rf.b11f308f16626f9f79...</td>\n",
       "      <td>WORD</td>\n",
       "      <td>30 RYARSH Please reduce your speed</td>\n",
       "      <td>99.548250</td>\n",
       "    </tr>\n",
       "    <tr>\n",
       "      <th>1</th>\n",
       "      <td>traffic_signs/000005_jpg.rf.d730849ae93a7c211a...</td>\n",
       "      <td>WORD</td>\n",
       "      <td>T lamy STEEP - a T 30 alamy a alamy 20 is plen...</td>\n",
       "      <td>99.875980</td>\n",
       "    </tr>\n",
       "    <tr>\n",
       "      <th>2</th>\n",
       "      <td>traffic_signs/000007_jpg.rf.226fe0751cf8ba445b...</td>\n",
       "      <td>WORD</td>\n",
       "      <td>30</td>\n",
       "      <td>99.148350</td>\n",
       "    </tr>\n",
       "    <tr>\n",
       "      <th>3</th>\n",
       "      <td>traffic_signs/000008_jpg.rf.bd6ae6db0f8c0eb727...</td>\n",
       "      <td>WORD</td>\n",
       "      <td>30 stock.photo www.alamy.com-DB9EAN</td>\n",
       "      <td>97.540085</td>\n",
       "    </tr>\n",
       "    <tr>\n",
       "      <th>4</th>\n",
       "      <td>traffic_signs/000009_jpg.rf.df4118d1d26fa7a259...</td>\n",
       "      <td>WORD</td>\n",
       "      <td>3010 www.alamy.com - EKPJRP</td>\n",
       "      <td>87.884930</td>\n",
       "    </tr>\n",
       "  </tbody>\n",
       "</table>\n",
       "</div>"
      ],
      "text/plain": [
       "                                            image_id  type  \\\n",
       "0  traffic_signs/000000_jpg.rf.b11f308f16626f9f79...  WORD   \n",
       "1  traffic_signs/000005_jpg.rf.d730849ae93a7c211a...  WORD   \n",
       "2  traffic_signs/000007_jpg.rf.226fe0751cf8ba445b...  WORD   \n",
       "3  traffic_signs/000008_jpg.rf.bd6ae6db0f8c0eb727...  WORD   \n",
       "4  traffic_signs/000009_jpg.rf.df4118d1d26fa7a259...  WORD   \n",
       "\n",
       "                                       detected_text  confidence  \n",
       "0                 30 RYARSH Please reduce your speed   99.548250  \n",
       "1  T lamy STEEP - a T 30 alamy a alamy 20 is plen...   99.875980  \n",
       "2                                                 30   99.148350  \n",
       "3                30 stock.photo www.alamy.com-DB9EAN   97.540085  \n",
       "4                        3010 www.alamy.com - EKPJRP   87.884930  "
      ]
     },
     "execution_count": 70,
     "metadata": {},
     "output_type": "execute_result"
    }
   ],
   "source": [
    "traffic_df = traffic_signs_df.groupby(['image_id', 'type']).agg({'detected_text': ' '.join, 'confidence':'max'}).reset_index()\n",
    "traffic_df.head()"
   ]
  },
  {
   "cell_type": "code",
   "execution_count": 71,
   "id": "011a433c-2743-4a90-9495-5a15f1e54110",
   "metadata": {},
   "outputs": [
    {
     "data": {
      "text/html": [
       "<div>\n",
       "<style scoped>\n",
       "    .dataframe tbody tr th:only-of-type {\n",
       "        vertical-align: middle;\n",
       "    }\n",
       "\n",
       "    .dataframe tbody tr th {\n",
       "        vertical-align: top;\n",
       "    }\n",
       "\n",
       "    .dataframe thead th {\n",
       "        text-align: right;\n",
       "    }\n",
       "</style>\n",
       "<table border=\"1\" class=\"dataframe\">\n",
       "  <thead>\n",
       "    <tr style=\"text-align: right;\">\n",
       "      <th></th>\n",
       "    </tr>\n",
       "  </thead>\n",
       "  <tbody>\n",
       "  </tbody>\n",
       "</table>\n",
       "</div>"
      ],
      "text/plain": [
       "Empty DataFrame\n",
       "Columns: []\n",
       "Index: []"
      ]
     },
     "execution_count": 71,
     "metadata": {},
     "output_type": "execute_result"
    }
   ],
   "source": [
    "# SQL statement to execute the analysis of vehicle speed\n",
    "\n",
    "table_name2 = 'vehicle_speed'\n",
    "pd.read_sql(f'DROP TABLE IF EXISTS {database_name}.{table_name2}', conn)\n",
    "\n",
    "create_table = f\"\"\"\n",
    "CREATE EXTERNAL TABLE IF NOT EXISTS {database_name}.{table_name2}(\n",
    "             latitude float,\n",
    "             longitude float,\n",
    "             target_speed float,\n",
    "             way_maxspeed float,\n",
    "             speed_osrm float,\n",
    "             elevation float,\n",
    "             fwd_azimuth float,\n",
    "             way_type string,\n",
    "             way_surface string,\n",
    "             node_intersection string,\n",
    "             node_railway string,\n",
    "             node_crossing string,\n",
    "             node_highway string,\n",
    "             node_stop string,\n",
    "             start_stop int,\n",
    "             azimuth_diff int,\n",
    "             elevation_diff float\n",
    "             )\n",
    "             \n",
    "             ROW FORMAT DELIMITED FIELDS TERMINATED BY ','\n",
    "             LOCATION 's3://finalprojectdata/vehicle_speed'\n",
    "             TBLPROPERTIES ('skip.header.line.count'='1')\n",
    "\"\"\"\n",
    "\n",
    "pd.read_sql(create_table, conn)"
   ]
  },
  {
   "cell_type": "code",
   "execution_count": 72,
   "id": "38971b75-0c6e-487a-a778-50764d2c62a2",
   "metadata": {
    "tags": []
   },
   "outputs": [
    {
     "data": {
      "text/html": [
       "<div>\n",
       "<style scoped>\n",
       "    .dataframe tbody tr th:only-of-type {\n",
       "        vertical-align: middle;\n",
       "    }\n",
       "\n",
       "    .dataframe tbody tr th {\n",
       "        vertical-align: top;\n",
       "    }\n",
       "\n",
       "    .dataframe thead th {\n",
       "        text-align: right;\n",
       "    }\n",
       "</style>\n",
       "<table border=\"1\" class=\"dataframe\">\n",
       "  <thead>\n",
       "    <tr style=\"text-align: right;\">\n",
       "      <th></th>\n",
       "      <th>latitude</th>\n",
       "      <th>longitude</th>\n",
       "      <th>target_speed</th>\n",
       "      <th>way_maxspeed</th>\n",
       "      <th>speed_osrm</th>\n",
       "      <th>elevation</th>\n",
       "      <th>fwd_azimuth</th>\n",
       "      <th>way_type</th>\n",
       "      <th>way_surface</th>\n",
       "      <th>node_intersection</th>\n",
       "      <th>node_railway</th>\n",
       "      <th>node_crossing</th>\n",
       "      <th>node_highway</th>\n",
       "      <th>node_stop</th>\n",
       "      <th>start_stop</th>\n",
       "      <th>azimuth_diff</th>\n",
       "      <th>elevation_diff</th>\n",
       "    </tr>\n",
       "  </thead>\n",
       "  <tbody>\n",
       "    <tr>\n",
       "      <th>0</th>\n",
       "      <td>50.397060</td>\n",
       "      <td>14.913273</td>\n",
       "      <td>39.739456</td>\n",
       "      <td>130.0</td>\n",
       "      <td>28.837246</td>\n",
       "      <td>229.77516</td>\n",
       "      <td>46.24135</td>\n",
       "      <td>motorway</td>\n",
       "      <td>asphalt</td>\n",
       "      <td></td>\n",
       "      <td></td>\n",
       "      <td></td>\n",
       "      <td></td>\n",
       "      <td></td>\n",
       "      <td>0</td>\n",
       "      <td>0.0</td>\n",
       "      <td>-0.025587</td>\n",
       "    </tr>\n",
       "    <tr>\n",
       "      <th>1</th>\n",
       "      <td>50.397068</td>\n",
       "      <td>14.913283</td>\n",
       "      <td>39.717785</td>\n",
       "      <td>130.0</td>\n",
       "      <td>28.875628</td>\n",
       "      <td>229.74959</td>\n",
       "      <td>46.24135</td>\n",
       "      <td>motorway</td>\n",
       "      <td>asphalt</td>\n",
       "      <td></td>\n",
       "      <td></td>\n",
       "      <td></td>\n",
       "      <td></td>\n",
       "      <td></td>\n",
       "      <td>0</td>\n",
       "      <td>0.0</td>\n",
       "      <td>-0.025587</td>\n",
       "    </tr>\n",
       "    <tr>\n",
       "      <th>2</th>\n",
       "      <td>50.397076</td>\n",
       "      <td>14.913294</td>\n",
       "      <td>39.696114</td>\n",
       "      <td>130.0</td>\n",
       "      <td>28.914007</td>\n",
       "      <td>229.72400</td>\n",
       "      <td>46.24135</td>\n",
       "      <td>motorway</td>\n",
       "      <td>asphalt</td>\n",
       "      <td></td>\n",
       "      <td></td>\n",
       "      <td></td>\n",
       "      <td></td>\n",
       "      <td></td>\n",
       "      <td>0</td>\n",
       "      <td>0.0</td>\n",
       "      <td>-0.025587</td>\n",
       "    </tr>\n",
       "    <tr>\n",
       "      <th>3</th>\n",
       "      <td>50.397080</td>\n",
       "      <td>14.913303</td>\n",
       "      <td>39.674442</td>\n",
       "      <td>130.0</td>\n",
       "      <td>28.952387</td>\n",
       "      <td>229.69841</td>\n",
       "      <td>46.24135</td>\n",
       "      <td>motorway</td>\n",
       "      <td>asphalt</td>\n",
       "      <td></td>\n",
       "      <td></td>\n",
       "      <td></td>\n",
       "      <td></td>\n",
       "      <td></td>\n",
       "      <td>0</td>\n",
       "      <td>0.0</td>\n",
       "      <td>-0.025587</td>\n",
       "    </tr>\n",
       "    <tr>\n",
       "      <th>4</th>\n",
       "      <td>50.397087</td>\n",
       "      <td>14.913314</td>\n",
       "      <td>39.652770</td>\n",
       "      <td>130.0</td>\n",
       "      <td>28.990767</td>\n",
       "      <td>229.67282</td>\n",
       "      <td>46.24135</td>\n",
       "      <td>motorway</td>\n",
       "      <td>asphalt</td>\n",
       "      <td></td>\n",
       "      <td></td>\n",
       "      <td></td>\n",
       "      <td></td>\n",
       "      <td></td>\n",
       "      <td>0</td>\n",
       "      <td>0.0</td>\n",
       "      <td>-0.025587</td>\n",
       "    </tr>\n",
       "  </tbody>\n",
       "</table>\n",
       "</div>"
      ],
      "text/plain": [
       "    latitude  longitude  target_speed  way_maxspeed  speed_osrm  elevation  \\\n",
       "0  50.397060  14.913273     39.739456         130.0   28.837246  229.77516   \n",
       "1  50.397068  14.913283     39.717785         130.0   28.875628  229.74959   \n",
       "2  50.397076  14.913294     39.696114         130.0   28.914007  229.72400   \n",
       "3  50.397080  14.913303     39.674442         130.0   28.952387  229.69841   \n",
       "4  50.397087  14.913314     39.652770         130.0   28.990767  229.67282   \n",
       "\n",
       "   fwd_azimuth  way_type way_surface node_intersection node_railway  \\\n",
       "0     46.24135  motorway     asphalt                                  \n",
       "1     46.24135  motorway     asphalt                                  \n",
       "2     46.24135  motorway     asphalt                                  \n",
       "3     46.24135  motorway     asphalt                                  \n",
       "4     46.24135  motorway     asphalt                                  \n",
       "\n",
       "  node_crossing node_highway node_stop  start_stop  azimuth_diff  \\\n",
       "0                                                0           0.0   \n",
       "1                                                0           0.0   \n",
       "2                                                0           0.0   \n",
       "3                                                0           0.0   \n",
       "4                                                0           0.0   \n",
       "\n",
       "   elevation_diff  \n",
       "0       -0.025587  \n",
       "1       -0.025587  \n",
       "2       -0.025587  \n",
       "3       -0.025587  \n",
       "4       -0.025587  "
      ]
     },
     "execution_count": 72,
     "metadata": {},
     "output_type": "execute_result"
    }
   ],
   "source": [
    "vehicle_speed_df = pd.read_sql(f'SELECT * FROM {database_name}.{table_name2}', conn)\n",
    "vehicle_speed_df.head()"
   ]
  },
  {
   "cell_type": "markdown",
   "id": "1d6130b0-6a6f-4d13-8ee5-95bf037e4564",
   "metadata": {},
   "source": [
    "## Conducting Data Cleansing Techniques"
   ]
  },
  {
   "cell_type": "code",
   "execution_count": 51,
   "id": "6b08374d-34d0-4499-b91d-3a7c442101ef",
   "metadata": {
    "tags": []
   },
   "outputs": [],
   "source": [
    "# First copied the files from a public to private bucket\n",
    "# List the contents of the public bucket\n",
    "# !aws s3 ls s3://finalprojectdata/\n",
    "\n",
    "# Create folders in your private bucket for each type of data\n",
    "# !aws s3 mb s3://final.project.data.508/vehicle_type\n",
    "# !aws s3 mb s3://final.project.data.508/license_plate\n",
    "# !aws s3 mb s3://final.project.data.508/traffic_signage\n",
    "# !aws s3 mb s3://final.project.data.508/vehicle_speed\n",
    "\n",
    "# Copy the contents of each folder from the public bucket to your private bucket\n",
    "# !aws s3 cp s3://finalprojectdata/cars_type/ s3://final.project.data.508/vehicle_type/ --recursive\n",
    "# !aws s3 cp s3://finalprojectdata/traffic_signs/ s3://final.project.data.508/traffic_signage/ --recursive\n",
    "# !aws s3 cp s3://finalprojectdata/license_plate/ s3://final.project.data.508/license_plate/ --recursive\n",
    "# !aws s3 cp s3://finalprojectdata/vehicle_speed/ s3://final.project.data.508/vehicle_speed/ --recursive"
   ]
  },
  {
   "cell_type": "code",
   "execution_count": 79,
   "id": "1ca98c57-7faf-4e99-9cd8-dc293189c869",
   "metadata": {
    "tags": []
   },
   "outputs": [
    {
     "name": "stdout",
     "output_type": "stream",
     "text": [
      "Dataset shape: (2200, 4)\n",
      "Data types:\n",
      " image_id          object\n",
      "type              object\n",
      "detected_text     object\n",
      "confidence       float64\n",
      "dtype: object\n",
      "Sample records:\n",
      "                                             image_id  type  \\\n",
      "0  traffic_signs/000000_jpg.rf.b11f308f16626f9f79...  WORD   \n",
      "1  traffic_signs/000005_jpg.rf.d730849ae93a7c211a...  WORD   \n",
      "2  traffic_signs/000007_jpg.rf.226fe0751cf8ba445b...  WORD   \n",
      "3  traffic_signs/000008_jpg.rf.bd6ae6db0f8c0eb727...  WORD   \n",
      "4  traffic_signs/000009_jpg.rf.df4118d1d26fa7a259...  WORD   \n",
      "\n",
      "                                       detected_text  confidence  \n",
      "0                 30 RYARSH Please reduce your speed   99.548250  \n",
      "1  T lamy STEEP - a T 30 alamy a alamy 20 is plen...   99.875980  \n",
      "2                                                 30   99.148350  \n",
      "3                30 stock.photo www.alamy.com-DB9EAN   97.540085  \n",
      "4                        3010 www.alamy.com - EKPJRP   87.884930  \n"
     ]
    },
    {
     "ename": "FileNotFoundError",
     "evalue": "[Errno 2] No such file or directory: 'traffic_signs/000000_jpg.rf.b11f308f16626f9f795a148029c46d10.jpg'",
     "output_type": "error",
     "traceback": [
      "\u001b[0;31m---------------------------------------------------------------------------\u001b[0m",
      "\u001b[0;31mFileNotFoundError\u001b[0m                         Traceback (most recent call last)",
      "Cell \u001b[0;32mIn[79], line 59\u001b[0m\n\u001b[1;32m     57\u001b[0m \u001b[38;5;66;03m# Resize images to a uniform size\u001b[39;00m\n\u001b[1;32m     58\u001b[0m target_size \u001b[38;5;241m=\u001b[39m (\u001b[38;5;241m32\u001b[39m, \u001b[38;5;241m32\u001b[39m)\n\u001b[0;32m---> 59\u001b[0m resized_images \u001b[38;5;241m=\u001b[39m np\u001b[38;5;241m.\u001b[39marray([resize_image(np\u001b[38;5;241m.\u001b[39marray(Image\u001b[38;5;241m.\u001b[39mopen(image_path)), target_size) \n\u001b[1;32m     60\u001b[0m                            \u001b[38;5;28;01mfor\u001b[39;00m image_path \u001b[38;5;129;01min\u001b[39;00m cleaned_data[\u001b[38;5;124m'\u001b[39m\u001b[38;5;124mimage_id\u001b[39m\u001b[38;5;124m'\u001b[39m]])\n\u001b[1;32m     62\u001b[0m \u001b[38;5;66;03m# Normalize pixel values\u001b[39;00m\n\u001b[1;32m     63\u001b[0m normalized_images \u001b[38;5;241m=\u001b[39m np\u001b[38;5;241m.\u001b[39marray([normalize_image(image) \u001b[38;5;28;01mfor\u001b[39;00m image \u001b[38;5;129;01min\u001b[39;00m resized_images])\n",
      "Cell \u001b[0;32mIn[79], line 59\u001b[0m, in \u001b[0;36m<listcomp>\u001b[0;34m(.0)\u001b[0m\n\u001b[1;32m     57\u001b[0m \u001b[38;5;66;03m# Resize images to a uniform size\u001b[39;00m\n\u001b[1;32m     58\u001b[0m target_size \u001b[38;5;241m=\u001b[39m (\u001b[38;5;241m32\u001b[39m, \u001b[38;5;241m32\u001b[39m)\n\u001b[0;32m---> 59\u001b[0m resized_images \u001b[38;5;241m=\u001b[39m np\u001b[38;5;241m.\u001b[39marray([resize_image(np\u001b[38;5;241m.\u001b[39marray(\u001b[43mImage\u001b[49m\u001b[38;5;241;43m.\u001b[39;49m\u001b[43mopen\u001b[49m\u001b[43m(\u001b[49m\u001b[43mimage_path\u001b[49m\u001b[43m)\u001b[49m), target_size) \n\u001b[1;32m     60\u001b[0m                            \u001b[38;5;28;01mfor\u001b[39;00m image_path \u001b[38;5;129;01min\u001b[39;00m cleaned_data[\u001b[38;5;124m'\u001b[39m\u001b[38;5;124mimage_id\u001b[39m\u001b[38;5;124m'\u001b[39m]])\n\u001b[1;32m     62\u001b[0m \u001b[38;5;66;03m# Normalize pixel values\u001b[39;00m\n\u001b[1;32m     63\u001b[0m normalized_images \u001b[38;5;241m=\u001b[39m np\u001b[38;5;241m.\u001b[39marray([normalize_image(image) \u001b[38;5;28;01mfor\u001b[39;00m image \u001b[38;5;129;01min\u001b[39;00m resized_images])\n",
      "File \u001b[0;32m/opt/conda/lib/python3.8/site-packages/PIL/Image.py:3243\u001b[0m, in \u001b[0;36mopen\u001b[0;34m(fp, mode, formats)\u001b[0m\n\u001b[1;32m   3240\u001b[0m     filename \u001b[38;5;241m=\u001b[39m fp\n\u001b[1;32m   3242\u001b[0m \u001b[38;5;28;01mif\u001b[39;00m filename:\n\u001b[0;32m-> 3243\u001b[0m     fp \u001b[38;5;241m=\u001b[39m \u001b[43mbuiltins\u001b[49m\u001b[38;5;241;43m.\u001b[39;49m\u001b[43mopen\u001b[49m\u001b[43m(\u001b[49m\u001b[43mfilename\u001b[49m\u001b[43m,\u001b[49m\u001b[43m \u001b[49m\u001b[38;5;124;43m\"\u001b[39;49m\u001b[38;5;124;43mrb\u001b[39;49m\u001b[38;5;124;43m\"\u001b[39;49m\u001b[43m)\u001b[49m\n\u001b[1;32m   3244\u001b[0m     exclusive_fp \u001b[38;5;241m=\u001b[39m \u001b[38;5;28;01mTrue\u001b[39;00m\n\u001b[1;32m   3246\u001b[0m \u001b[38;5;28;01mtry\u001b[39;00m:\n",
      "\u001b[0;31mFileNotFoundError\u001b[0m: [Errno 2] No such file or directory: 'traffic_signs/000000_jpg.rf.b11f308f16626f9f795a148029c46d10.jpg'"
     ]
    }
   ],
   "source": [
    "# Function to read the dataset from S3\n",
    "def read_dataset_from_s3(bucket, prefix, filename):\n",
    "    s3 = boto3.resource('s3')\n",
    "    obj = s3.Object(bucket, os.path.join(prefix, filename))\n",
    "    data = obj.get()['Body'].read().decode('utf-8')\n",
    "    return pd.read_csv(io.StringIO(data))\n",
    "\n",
    "# Function to resize images\n",
    "def resize_image(image, target_size):\n",
    "    return transform.resize(image, target_size)\n",
    "\n",
    "# Function to normalize pixel values\n",
    "def normalize_image(image):\n",
    "    return image / 255.0\n",
    "\n",
    "# Function to perform data inspection & cleaning\n",
    "def inspect_and_clean_data(data):\n",
    "    # Display basic information\n",
    "    print(\"Dataset shape:\", data.shape)\n",
    "    print(\"Data types:\\n\", data.dtypes)\n",
    "    print(\"Sample records:\\n\", data.head())\n",
    "\n",
    "    # Handle missing values\n",
    "    data.dropna(inplace=True)\n",
    "\n",
    "    # Remove duplicate records\n",
    "    data.drop_duplicates(inplace=True)\n",
    "\n",
    "    return data\n",
    "\n",
    "# Function to perform data augmentation\n",
    "def augment_data(images, labels, augment_factor):\n",
    "    augmented_images = []\n",
    "    augmented_labels = []\n",
    "\n",
    "    for image, label in zip(images, labels):\n",
    "        augmented_images.append(image)\n",
    "        augmented_labels.append(label)\n",
    "\n",
    "        # Apply transformations and add augmented samples\n",
    "        for _ in range(augment_factor):\n",
    "            augmented_image = apply_random_augmentation(image)\n",
    "            augmented_images.append(augmented_image)\n",
    "            augmented_labels.append(label)\n",
    "\n",
    "    return np.array(augmented_images), np.array(augmented_labels)\n",
    "\n",
    "# Set the bucket & prefix for the dataset location\n",
    "bucket = 'final.project.data.508'\n",
    "prefix = 'traffic_signs/'\n",
    "image_path = 's3://final.project.data.508/traffic_signage/'\n",
    "\n",
    "\n",
    "# Perform data inspection and cleaning\n",
    "cleaned_data = inspect_and_clean_data(traffic_df)\n",
    "\n",
    "# Resize images to a uniform size\n",
    "target_size = (32, 32)\n",
    "resized_images = np.array([resize_image(np.array(Image.open(image_path)), target_size) \n",
    "                           for image_path in cleaned_data['image_id']])\n",
    "\n",
    "# Normalize pixel values\n",
    "normalized_images = np.array([normalize_image(image) for image in resized_images])\n",
    "\n",
    "# Perform data augmentation (example with augment_factor=2)\n",
    "augmented_images, augmented_labels = augment_data(normalized_images, \n",
    "                                                  cleaned_data['type'], \n",
    "                                                  augment_factor=2)\n",
    "\n",
    "# Shuffle the augmented data\n",
    "augmented_images, augmented_labels = shuffle(augmented_images, augmented_labels)\n",
    "\n",
    "# Optionally, save the preprocessed data for training\n",
    "np.save('augmented_images.npy', augmented_images)\n",
    "np.save('augmented_labels.npy', augmented_labels)"
   ]
  },
  {
   "cell_type": "markdown",
   "id": "24ac0d87-05a4-444b-9035-8d19187cec72",
   "metadata": {},
   "source": [
    "# Exploratory Data Analysis"
   ]
  },
  {
   "cell_type": "markdown",
   "id": "d85aae2d-ee45-4ebb-a725-a458037e0fbf",
   "metadata": {
    "tags": []
   },
   "source": [
    "### Velocity Dataset"
   ]
  },
  {
   "cell_type": "code",
   "execution_count": 3,
   "id": "0b11c10c-ae23-47b7-92c7-cd5d34ac1a69",
   "metadata": {
    "tags": []
   },
   "outputs": [
    {
     "data": {
      "text/html": [
       "<div>\n",
       "<style scoped>\n",
       "    .dataframe tbody tr th:only-of-type {\n",
       "        vertical-align: middle;\n",
       "    }\n",
       "\n",
       "    .dataframe tbody tr th {\n",
       "        vertical-align: top;\n",
       "    }\n",
       "\n",
       "    .dataframe thead th {\n",
       "        text-align: right;\n",
       "    }\n",
       "</style>\n",
       "<table border=\"1\" class=\"dataframe\">\n",
       "  <thead>\n",
       "    <tr style=\"text-align: right;\">\n",
       "      <th></th>\n",
       "      <th>latitude</th>\n",
       "      <th>longitude</th>\n",
       "      <th>target_speed</th>\n",
       "      <th>way_maxspeed</th>\n",
       "      <th>speed_osrm</th>\n",
       "      <th>elevation</th>\n",
       "      <th>fwd_azimuth</th>\n",
       "      <th>way_type</th>\n",
       "      <th>way_surface</th>\n",
       "      <th>node:intersection</th>\n",
       "      <th>node:railway</th>\n",
       "      <th>node:crossing</th>\n",
       "      <th>node:highway</th>\n",
       "      <th>node:stop</th>\n",
       "      <th>start_stop</th>\n",
       "      <th>azimuth_diff</th>\n",
       "      <th>elevation_diff</th>\n",
       "    </tr>\n",
       "  </thead>\n",
       "  <tbody>\n",
       "    <tr>\n",
       "      <th>0</th>\n",
       "      <td>50.397062</td>\n",
       "      <td>14.913273</td>\n",
       "      <td>39.739457</td>\n",
       "      <td>130.0</td>\n",
       "      <td>28.837247</td>\n",
       "      <td>229.775169</td>\n",
       "      <td>46.241347</td>\n",
       "      <td>motorway</td>\n",
       "      <td>asphalt</td>\n",
       "      <td>NaN</td>\n",
       "      <td>NaN</td>\n",
       "      <td>NaN</td>\n",
       "      <td>NaN</td>\n",
       "      <td>NaN</td>\n",
       "      <td>0</td>\n",
       "      <td>0.0</td>\n",
       "      <td>-0.025587</td>\n",
       "    </tr>\n",
       "    <tr>\n",
       "      <th>1</th>\n",
       "      <td>50.397068</td>\n",
       "      <td>14.913283</td>\n",
       "      <td>39.717786</td>\n",
       "      <td>130.0</td>\n",
       "      <td>28.875627</td>\n",
       "      <td>229.749582</td>\n",
       "      <td>46.241347</td>\n",
       "      <td>motorway</td>\n",
       "      <td>asphalt</td>\n",
       "      <td>NaN</td>\n",
       "      <td>NaN</td>\n",
       "      <td>NaN</td>\n",
       "      <td>NaN</td>\n",
       "      <td>NaN</td>\n",
       "      <td>0</td>\n",
       "      <td>0.0</td>\n",
       "      <td>-0.025587</td>\n",
       "    </tr>\n",
       "    <tr>\n",
       "      <th>2</th>\n",
       "      <td>50.397074</td>\n",
       "      <td>14.913294</td>\n",
       "      <td>39.696114</td>\n",
       "      <td>130.0</td>\n",
       "      <td>28.914007</td>\n",
       "      <td>229.723996</td>\n",
       "      <td>46.241347</td>\n",
       "      <td>motorway</td>\n",
       "      <td>asphalt</td>\n",
       "      <td>NaN</td>\n",
       "      <td>NaN</td>\n",
       "      <td>NaN</td>\n",
       "      <td>NaN</td>\n",
       "      <td>NaN</td>\n",
       "      <td>0</td>\n",
       "      <td>0.0</td>\n",
       "      <td>-0.025587</td>\n",
       "    </tr>\n",
       "    <tr>\n",
       "      <th>3</th>\n",
       "      <td>50.397080</td>\n",
       "      <td>14.913304</td>\n",
       "      <td>39.674442</td>\n",
       "      <td>130.0</td>\n",
       "      <td>28.952387</td>\n",
       "      <td>229.698409</td>\n",
       "      <td>46.241347</td>\n",
       "      <td>motorway</td>\n",
       "      <td>asphalt</td>\n",
       "      <td>NaN</td>\n",
       "      <td>NaN</td>\n",
       "      <td>NaN</td>\n",
       "      <td>NaN</td>\n",
       "      <td>NaN</td>\n",
       "      <td>0</td>\n",
       "      <td>0.0</td>\n",
       "      <td>-0.025587</td>\n",
       "    </tr>\n",
       "    <tr>\n",
       "      <th>4</th>\n",
       "      <td>50.397087</td>\n",
       "      <td>14.913314</td>\n",
       "      <td>39.652771</td>\n",
       "      <td>130.0</td>\n",
       "      <td>28.990767</td>\n",
       "      <td>229.672822</td>\n",
       "      <td>46.241347</td>\n",
       "      <td>motorway</td>\n",
       "      <td>asphalt</td>\n",
       "      <td>NaN</td>\n",
       "      <td>NaN</td>\n",
       "      <td>NaN</td>\n",
       "      <td>NaN</td>\n",
       "      <td>NaN</td>\n",
       "      <td>0</td>\n",
       "      <td>0.0</td>\n",
       "      <td>-0.025587</td>\n",
       "    </tr>\n",
       "  </tbody>\n",
       "</table>\n",
       "</div>"
      ],
      "text/plain": [
       "    latitude  longitude  target_speed  way_maxspeed  speed_osrm   elevation  \\\n",
       "0  50.397062  14.913273     39.739457         130.0   28.837247  229.775169   \n",
       "1  50.397068  14.913283     39.717786         130.0   28.875627  229.749582   \n",
       "2  50.397074  14.913294     39.696114         130.0   28.914007  229.723996   \n",
       "3  50.397080  14.913304     39.674442         130.0   28.952387  229.698409   \n",
       "4  50.397087  14.913314     39.652771         130.0   28.990767  229.672822   \n",
       "\n",
       "   fwd_azimuth  way_type way_surface node:intersection  node:railway  \\\n",
       "0    46.241347  motorway     asphalt               NaN           NaN   \n",
       "1    46.241347  motorway     asphalt               NaN           NaN   \n",
       "2    46.241347  motorway     asphalt               NaN           NaN   \n",
       "3    46.241347  motorway     asphalt               NaN           NaN   \n",
       "4    46.241347  motorway     asphalt               NaN           NaN   \n",
       "\n",
       "  node:crossing node:highway node:stop  start_stop  azimuth_diff  \\\n",
       "0           NaN          NaN       NaN           0           0.0   \n",
       "1           NaN          NaN       NaN           0           0.0   \n",
       "2           NaN          NaN       NaN           0           0.0   \n",
       "3           NaN          NaN       NaN           0           0.0   \n",
       "4           NaN          NaN       NaN           0           0.0   \n",
       "\n",
       "   elevation_diff  \n",
       "0       -0.025587  \n",
       "1       -0.025587  \n",
       "2       -0.025587  \n",
       "3       -0.025587  \n",
       "4       -0.025587  "
      ]
     },
     "execution_count": 3,
     "metadata": {},
     "output_type": "execute_result"
    }
   ],
   "source": [
    "# Load csv from S3 bucket\n",
    "\n",
    "# Import req'd packages\n",
    "import pandas as pd\n",
    "import boto3\n",
    "\n",
    "# Define S3 bucket and key\n",
    "bucket = 'velocityspeedproject08'\n",
    "key = 'datasets/vehicle_speed/vehicle_speed.csv'\n",
    "\n",
    "# Create a S3 client\n",
    "s3 = boto3.client('s3')\n",
    "\n",
    "# Load dataset from S3\n",
    "obj = s3.get_object(Bucket=bucket, Key=key)\n",
    "df = pd.read_csv(obj['Body'])\n",
    "\n",
    "# Preview dataset\n",
    "df.head()"
   ]
  },
  {
   "cell_type": "code",
   "execution_count": 4,
   "id": "544ead9b-caa6-493a-b6ac-f95ff7d78055",
   "metadata": {},
   "outputs": [
    {
     "data": {
      "text/plain": [
       "(12165, 17)"
      ]
     },
     "execution_count": 4,
     "metadata": {},
     "output_type": "execute_result"
    }
   ],
   "source": [
    "# Determine shape of df\n",
    "df.shape"
   ]
  },
  {
   "cell_type": "code",
   "execution_count": 5,
   "id": "46e4f150-236f-4edc-91a8-0200d223ed20",
   "metadata": {},
   "outputs": [
    {
     "data": {
      "image/png": "[encoded data removed]",
      "text/plain": [
       "<Figure size 720x576 with 1 Axes>"
      ]
     },
     "metadata": {
      "needs_background": "light"
     },
     "output_type": "display_data"
    }
   ],
   "source": [
    "# Plot movement using latitude and longitude\n",
    "plt.figure(figsize=(10, 8))\n",
    "plt.scatter(df['longitude'], df['latitude'], alpha=0.5, marker='.')\n",
    "plt.xlabel('Longitude')\n",
    "plt.ylabel('Latitude')\n",
    "plt.title('Movement Plot')\n",
    "plt.grid(True)\n",
    "plt.show()"
   ]
  },
  {
   "cell_type": "code",
   "execution_count": 6,
   "id": "09fefa31-6407-4e52-9cad-dac67a5fcd78",
   "metadata": {},
   "outputs": [
    {
     "data": {
      "text/html": [
       "<div>\n",
       "<style scoped>\n",
       "    .dataframe tbody tr th:only-of-type {\n",
       "        vertical-align: middle;\n",
       "    }\n",
       "\n",
       "    .dataframe tbody tr th {\n",
       "        vertical-align: top;\n",
       "    }\n",
       "\n",
       "    .dataframe thead th {\n",
       "        text-align: right;\n",
       "    }\n",
       "</style>\n",
       "<table border=\"1\" class=\"dataframe\">\n",
       "  <thead>\n",
       "    <tr style=\"text-align: right;\">\n",
       "      <th></th>\n",
       "      <th>latitude</th>\n",
       "      <th>longitude</th>\n",
       "      <th>target_speed</th>\n",
       "      <th>way_maxspeed</th>\n",
       "      <th>speed_osrm</th>\n",
       "      <th>elevation</th>\n",
       "      <th>fwd_azimuth</th>\n",
       "      <th>way_type</th>\n",
       "      <th>way_surface</th>\n",
       "      <th>node:intersection</th>\n",
       "      <th>node:railway</th>\n",
       "      <th>node:crossing</th>\n",
       "      <th>node:highway</th>\n",
       "      <th>node:stop</th>\n",
       "      <th>start_stop</th>\n",
       "      <th>azimuth_diff</th>\n",
       "      <th>elevation_diff</th>\n",
       "      <th>IdentifyingValue</th>\n",
       "    </tr>\n",
       "  </thead>\n",
       "  <tbody>\n",
       "    <tr>\n",
       "      <th>0</th>\n",
       "      <td>50.515393</td>\n",
       "      <td>14.966795</td>\n",
       "      <td>18.272307</td>\n",
       "      <td>90.0</td>\n",
       "      <td>18.2</td>\n",
       "      <td>232.000000</td>\n",
       "      <td>116.775715</td>\n",
       "      <td>secondary</td>\n",
       "      <td>asphalt</td>\n",
       "      <td>NaN</td>\n",
       "      <td>NaN</td>\n",
       "      <td>NaN</td>\n",
       "      <td>NaN</td>\n",
       "      <td>NaN</td>\n",
       "      <td>1</td>\n",
       "      <td>0.0</td>\n",
       "      <td>0.000000</td>\n",
       "      <td>98</td>\n",
       "    </tr>\n",
       "    <tr>\n",
       "      <th>1</th>\n",
       "      <td>50.515389</td>\n",
       "      <td>14.966808</td>\n",
       "      <td>18.272307</td>\n",
       "      <td>90.0</td>\n",
       "      <td>18.2</td>\n",
       "      <td>232.054728</td>\n",
       "      <td>116.775715</td>\n",
       "      <td>secondary</td>\n",
       "      <td>asphalt</td>\n",
       "      <td>NaN</td>\n",
       "      <td>NaN</td>\n",
       "      <td>NaN</td>\n",
       "      <td>NaN</td>\n",
       "      <td>NaN</td>\n",
       "      <td>0</td>\n",
       "      <td>0.0</td>\n",
       "      <td>0.054728</td>\n",
       "      <td>98</td>\n",
       "    </tr>\n",
       "    <tr>\n",
       "      <th>2</th>\n",
       "      <td>50.515385</td>\n",
       "      <td>14.966820</td>\n",
       "      <td>18.272307</td>\n",
       "      <td>90.0</td>\n",
       "      <td>18.2</td>\n",
       "      <td>232.109455</td>\n",
       "      <td>116.775715</td>\n",
       "      <td>secondary</td>\n",
       "      <td>asphalt</td>\n",
       "      <td>NaN</td>\n",
       "      <td>NaN</td>\n",
       "      <td>NaN</td>\n",
       "      <td>NaN</td>\n",
       "      <td>NaN</td>\n",
       "      <td>0</td>\n",
       "      <td>0.0</td>\n",
       "      <td>0.054728</td>\n",
       "      <td>98</td>\n",
       "    </tr>\n",
       "    <tr>\n",
       "      <th>3</th>\n",
       "      <td>50.515381</td>\n",
       "      <td>14.966833</td>\n",
       "      <td>18.272307</td>\n",
       "      <td>90.0</td>\n",
       "      <td>18.2</td>\n",
       "      <td>232.164183</td>\n",
       "      <td>116.775715</td>\n",
       "      <td>secondary</td>\n",
       "      <td>asphalt</td>\n",
       "      <td>NaN</td>\n",
       "      <td>NaN</td>\n",
       "      <td>NaN</td>\n",
       "      <td>NaN</td>\n",
       "      <td>NaN</td>\n",
       "      <td>0</td>\n",
       "      <td>0.0</td>\n",
       "      <td>0.054728</td>\n",
       "      <td>98</td>\n",
       "    </tr>\n",
       "    <tr>\n",
       "      <th>4</th>\n",
       "      <td>50.515377</td>\n",
       "      <td>14.966845</td>\n",
       "      <td>18.272307</td>\n",
       "      <td>90.0</td>\n",
       "      <td>18.2</td>\n",
       "      <td>232.218911</td>\n",
       "      <td>116.775715</td>\n",
       "      <td>secondary</td>\n",
       "      <td>asphalt</td>\n",
       "      <td>NaN</td>\n",
       "      <td>NaN</td>\n",
       "      <td>NaN</td>\n",
       "      <td>NaN</td>\n",
       "      <td>NaN</td>\n",
       "      <td>0</td>\n",
       "      <td>0.0</td>\n",
       "      <td>0.054728</td>\n",
       "      <td>98</td>\n",
       "    </tr>\n",
       "  </tbody>\n",
       "</table>\n",
       "</div>"
      ],
      "text/plain": [
       "    latitude  longitude  target_speed  way_maxspeed  speed_osrm   elevation  \\\n",
       "0  50.515393  14.966795     18.272307          90.0        18.2  232.000000   \n",
       "1  50.515389  14.966808     18.272307          90.0        18.2  232.054728   \n",
       "2  50.515385  14.966820     18.272307          90.0        18.2  232.109455   \n",
       "3  50.515381  14.966833     18.272307          90.0        18.2  232.164183   \n",
       "4  50.515377  14.966845     18.272307          90.0        18.2  232.218911   \n",
       "\n",
       "   fwd_azimuth   way_type way_surface node:intersection node:railway  \\\n",
       "0   116.775715  secondary     asphalt               NaN          NaN   \n",
       "1   116.775715  secondary     asphalt               NaN          NaN   \n",
       "2   116.775715  secondary     asphalt               NaN          NaN   \n",
       "3   116.775715  secondary     asphalt               NaN          NaN   \n",
       "4   116.775715  secondary     asphalt               NaN          NaN   \n",
       "\n",
       "  node:crossing node:highway node:stop  start_stop  azimuth_diff  \\\n",
       "0           NaN          NaN       NaN           1           0.0   \n",
       "1           NaN          NaN       NaN           0           0.0   \n",
       "2           NaN          NaN       NaN           0           0.0   \n",
       "3           NaN          NaN       NaN           0           0.0   \n",
       "4           NaN          NaN       NaN           0           0.0   \n",
       "\n",
       "   elevation_diff  IdentifyingValue  \n",
       "0        0.000000                98  \n",
       "1        0.054728                98  \n",
       "2        0.054728                98  \n",
       "3        0.054728                98  \n",
       "4        0.054728                98  "
      ]
     },
     "execution_count": 6,
     "metadata": {},
     "output_type": "execute_result"
    }
   ],
   "source": [
    "# Define S3 bucket and key\n",
    "bucket = 'velocityspeedproject08'\n",
    "key = 'datasets/vehicle_speed/combined_dataset.csv'\n",
    "\n",
    "# Create a S3 client\n",
    "s3 = boto3.client('s3')\n",
    "\n",
    "# Load dataset from S3\n",
    "obj = s3.get_object(Bucket=bucket, Key=key)\n",
    "upd_df = pd.read_csv(obj['Body'])\n",
    "\n",
    "# Preview dataset\n",
    "upd_df.head()"
   ]
  },
  {
   "cell_type": "code",
   "execution_count": 7,
   "id": "2dad1c47-e478-46bf-8621-35804cb1aa42",
   "metadata": {},
   "outputs": [
    {
     "data": {
      "text/plain": [
       "(864906, 18)"
      ]
     },
     "execution_count": 7,
     "metadata": {},
     "output_type": "execute_result"
    }
   ],
   "source": [
    "# Determine shape of df\n",
    "upd_df.shape"
   ]
  },
  {
   "cell_type": "code",
   "execution_count": 8,
   "id": "2aa3b8b8-54ad-4035-ac30-88f801c248da",
   "metadata": {},
   "outputs": [
    {
     "data": {
      "image/png": "[encoded data removed]",
      "text/plain": [
       "<Figure size 720x576 with 1 Axes>"
      ]
     },
     "metadata": {
      "needs_background": "light"
     },
     "output_type": "display_data"
    }
   ],
   "source": [
    "# Plot movement using latitude and longitude\n",
    "plt.figure(figsize=(10, 8))\n",
    "plt.scatter(upd_df['longitude'], upd_df['latitude'], alpha=0.5, marker='.')\n",
    "plt.xlabel('Longitude')\n",
    "plt.ylabel('Latitude')\n",
    "plt.title('Movement Plot')\n",
    "plt.grid(True)\n",
    "plt.show()"
   ]
  },
  {
   "cell_type": "code",
   "execution_count": 9,
   "id": "f3911ad9-f072-4c7b-bd6a-6ac7a66c10c8",
   "metadata": {},
   "outputs": [
    {
     "data": {
      "image/png": "[encoded data removed]",
      "text/plain": [
       "<Figure size 720x576 with 1 Axes>"
      ]
     },
     "metadata": {
      "needs_background": "light"
     },
     "output_type": "display_data"
    }
   ],
   "source": [
    "# Define colors for different columns\n",
    "color_map = {\n",
    "    'way_surface': 'red',\n",
    "    'node:intersection': 'blue',\n",
    "    'node:railway': 'green',\n",
    "    'node:crossing': 'orange',\n",
    "    'node:highway': 'purple'\n",
    "}\n",
    "\n",
    "# Plot movement using latitude and longitude\n",
    "plt.figure(figsize=(10, 8))\n",
    "\n",
    "# Scatter plot for latitude & longitude\n",
    "plt.scatter(upd_df['longitude'], upd_df['latitude'], alpha=0.5, marker='.', color='black', label='Other')\n",
    "\n",
    "# Scatter plot for desired columns\n",
    "for column, color in color_map.items():\n",
    "    if column in upd_df.columns:\n",
    "        plt.scatter(upd_df[upd_df[column].notnull()]['longitude'], \n",
    "                    upd_df[upd_df[column].notnull()]['latitude'], \n",
    "                    alpha=0.5, marker='.', color=color, label=column)\n",
    "\n",
    "# Add labels & title\n",
    "plt.xlabel('Longitude')\n",
    "plt.ylabel('Latitude')\n",
    "plt.title('Movement Plot')\n",
    "\n",
    "# Show legend\n",
    "plt.legend()\n",
    "\n",
    "plt.grid(True)\n",
    "plt.show()"
   ]
  },
  {
   "cell_type": "code",
   "execution_count": 29,
   "id": "f1a2f150-8a7c-435d-9d14-8f006534fd61",
   "metadata": {
    "tags": []
   },
   "outputs": [
    {
     "data": {
      "text/plain": [
       "(12165, 17)"
      ]
     },
     "execution_count": 29,
     "metadata": {},
     "output_type": "execute_result"
    }
   ],
   "source": [
    "vehicle_speed_df.shape"
   ]
  },
  {
   "cell_type": "code",
   "execution_count": 30,
   "id": "469ae319-fb6d-40e2-b619-039e7a1ed3e9",
   "metadata": {
    "tags": []
   },
   "outputs": [
    {
     "data": {
      "text/plain": [
       "Text(0, 0.5, 'Count')"
      ]
     },
     "execution_count": 30,
     "metadata": {},
     "output_type": "execute_result"
    },
    {
     "data": {
      "image/png": "[encoded data removed]",
      "text/plain": [
       "<Figure size 432x288 with 1 Axes>"
      ]
     },
     "metadata": {
      "needs_background": "light"
     },
     "output_type": "display_data"
    }
   ],
   "source": [
    "# Distrubition by Way type\n",
    "\n",
    "vehicle_speed_df['way_type'].value_counts().plot(kind=\"bar\", title=\"Distribution by way type\")\n",
    "plt.xlabel(\"Way Type\")\n",
    "plt.ylabel(\"Count\")"
   ]
  },
  {
   "cell_type": "markdown",
   "id": "d3cf5a17-a1ed-44ad-adb8-766b7926d8da",
   "metadata": {},
   "source": [
    "# Correlation\n",
    "\n",
    "Lets study the correlation between different attributes in the dataset"
   ]
  },
  {
   "cell_type": "code",
   "execution_count": 31,
   "id": "4469eafe-5739-45c4-b831-da969b9a7cdd",
   "metadata": {
    "tags": []
   },
   "outputs": [
    {
     "data": {
      "text/plain": [
       "<AxesSubplot:>"
      ]
     },
     "execution_count": 31,
     "metadata": {},
     "output_type": "execute_result"
    },
    {
     "data": {
      "image/png": "[encoded data removed]",
      "text/plain": [
       "<Figure size 720x576 with 2 Axes>"
      ]
     },
     "metadata": {
      "needs_background": "light"
     },
     "output_type": "display_data"
    }
   ],
   "source": [
    "corr = vehicle_speed_df.corr()\n",
    "plt.figure(figsize=(10, 8))\n",
    "sns.heatmap(corr, annot=True, cmap = 'coolwarm', cbar_kws={'label': 'Correlation Index'})"
   ]
  },
  {
   "cell_type": "markdown",
   "id": "66564c41-12c0-4505-b4d2-703a51fc2d22",
   "metadata": {},
   "source": [
    "From the above correlation Heatmap, it is observed that the below predictors are highly correlated.\n",
    "(1) latitude and elevation\n",
    "(2) target_speed and way_maxspeed\n",
    "(3) way_maxspeed and speed_osrm\n",
    "(4) target_speed and elevation"
   ]
  },
  {
   "cell_type": "markdown",
   "id": "652e2c9e-c11e-4087-bcf7-d4c8176f02a4",
   "metadata": {},
   "source": [
    "# 2. Data Preprocessing\n",
    "\n",
    "## 2.1. Handling Missing Values"
   ]
  },
  {
   "cell_type": "code",
   "execution_count": 32,
   "id": "b0186f64-20fc-4cf8-ab00-e251881ab1e6",
   "metadata": {
    "tags": []
   },
   "outputs": [
    {
     "data": {
      "text/plain": [
       "latitude             0\n",
       "longitude            0\n",
       "target_speed         0\n",
       "way_maxspeed         0\n",
       "speed_osrm           0\n",
       "elevation            0\n",
       "fwd_azimuth          0\n",
       "way_type             0\n",
       "way_surface          0\n",
       "node_intersection    0\n",
       "node_railway         0\n",
       "node_crossing        0\n",
       "node_highway         0\n",
       "node_stop            0\n",
       "start_stop           0\n",
       "azimuth_diff         7\n",
       "elevation_diff       0\n",
       "dtype: int64"
      ]
     },
     "execution_count": 32,
     "metadata": {},
     "output_type": "execute_result"
    }
   ],
   "source": [
    "vehicle_speed_df.isnull().sum()"
   ]
  },
  {
   "cell_type": "code",
   "execution_count": 33,
   "id": "a137f73b-140d-4de3-b75c-786f2941e7e4",
   "metadata": {
    "tags": []
   },
   "outputs": [],
   "source": [
    "# Dropping columns that have null values\n",
    "\n",
    "vehicle_speed_df = vehicle_speed_df.drop(['node_intersection', 'node_railway', 'node_crossing', 'node_highway', 'node_stop'], axis=1)\n",
    "\n",
    "# Dropping rows that have null values\n",
    "\n",
    "vehicle_speed_df = vehicle_speed_df.dropna(subset=['azimuth_diff'])"
   ]
  },
  {
   "cell_type": "markdown",
   "id": "e59f880a-b8d0-44bd-aaff-0d453b5d8618",
   "metadata": {},
   "source": [
    "# Multicollinearity\n",
    "\n",
    "Lets address the multicollinearity issue by calculating Variance Inflation Factor (VIF) and removing highly correlated predictors."
   ]
  },
  {
   "cell_type": "code",
   "execution_count": 34,
   "id": "7f3dc4af-dd29-4589-b80c-b0eef59e90ae",
   "metadata": {
    "tags": []
   },
   "outputs": [],
   "source": [
    "# Separate the predictors and target variables\n",
    "\n",
    "X_pred = vehicle_speed_df.drop(['target_speed'], axis=1)\n",
    "y_target = vehicle_speed_df['target_speed']"
   ]
  },
  {
   "cell_type": "code",
   "execution_count": 35,
   "id": "451ade60-ab75-4a4c-924f-d7cf9befc88e",
   "metadata": {
    "tags": []
   },
   "outputs": [
    {
     "data": {
      "image/png": "[encoded data removed]",
      "text/plain": [
       "<Figure size 720x576 with 2 Axes>"
      ]
     },
     "metadata": {
      "needs_background": "light"
     },
     "output_type": "display_data"
    }
   ],
   "source": [
    "# Calculate correlation matrix for predictors\n",
    "correlation_matrix = X_pred.corr()\n",
    "\n",
    "# Create a mask for the upper triangle\n",
    "mask = np.triu(np.ones_like(correlation_matrix, dtype=bool))\n",
    "\n",
    "# Plot the correlation matrix\n",
    "import seaborn as sns\n",
    "import matplotlib.pyplot as plt\n",
    "\n",
    "plt.figure(figsize=(10, 8))\n",
    "sns.heatmap(correlation_matrix, mask=mask, annot=True, cmap='coolwarm', fmt=\".2f\", linewidths=0.5)\n",
    "plt.title('Correlation Matrix of Predictors')\n",
    "plt.show()"
   ]
  },
  {
   "cell_type": "markdown",
   "id": "16c74e9b-ca09-4f2c-8da5-dbb1138dc49f",
   "metadata": {},
   "source": [
    "To address the issue of multicollinearity, it is suggested to remove the columns longitude, way_maxspeed, and elevation. However, since determining the target speed of a vehicle relies on multiple factors, including spatial information about the vehicle's location, both latitude and longitude should be taken into account."
   ]
  },
  {
   "cell_type": "markdown",
   "id": "ec62b27d-c622-4c1e-be4e-064787505068",
   "metadata": {},
   "source": [
    "# Feature transformation\n",
    "\n",
    "The maximum allowed speed is measured in km/hr whereas target_speed and speed_osrm are measured in m/s. Hence transforming the target_speed and speed_osrm values to km/hr"
   ]
  },
  {
   "cell_type": "code",
   "execution_count": 36,
   "id": "4827037e-e78a-4c10-895f-d41c8c9bc9c6",
   "metadata": {
    "tags": []
   },
   "outputs": [],
   "source": [
    "# Convert m/s to km/hr for the target_speed and speed_osrm column\n",
    "\n",
    "vehicle_speed_df['target_speed'] = vehicle_speed_df['target_speed'] * 3.6\n",
    "\n",
    "vehicle_speed_df['speed_osrm'] = vehicle_speed_df['speed_osrm'] * 3.6"
   ]
  },
  {
   "cell_type": "markdown",
   "id": "d2a87b5f-6d18-42eb-83cb-49427f98e7f3",
   "metadata": {},
   "source": [
    "# Feature Creation\n",
    "\n",
    "Lets create a new feature speed_deviation that computes the difference between target_speed and way_maxspeed to see if the vehicle is driving above or below the allowed speed limit."
   ]
  },
  {
   "cell_type": "code",
   "execution_count": 37,
   "id": "e07556fd-7fbd-4be4-a847-6148b06fe63e",
   "metadata": {
    "tags": []
   },
   "outputs": [],
   "source": [
    "vehicle_speed_df['speed_deviation'] = vehicle_speed_df['target_speed'] - vehicle_speed_df['way_maxspeed']"
   ]
  },
  {
   "cell_type": "markdown",
   "id": "40f5c13e-8099-4e9a-b558-8fc2c6357380",
   "metadata": {},
   "source": [
    "# Drop Irrelevant fields"
   ]
  },
  {
   "cell_type": "code",
   "execution_count": 38,
   "id": "eb829ede-ea6c-4081-b74e-4c259a4abaa9",
   "metadata": {},
   "outputs": [],
   "source": [
    "# Dropping fields that exhibit multicollinearity \n",
    "\n",
    "vehicle_speed_df = vehicle_speed_df.drop(['way_maxspeed', 'elevation'], axis=1)\n",
    "\n",
    "# Dropping irrelevant columns\n",
    "\n",
    "vehicle_speed_df = vehicle_speed_df.drop(['fwd_azimuth', 'way_surface', 'start_stop', 'azimuth_diff', 'elevation_diff'], axis=1)"
   ]
  },
  {
   "cell_type": "markdown",
   "id": "f3f1c5c9-ddfe-4395-b2f1-a05e9e6082b6",
   "metadata": {},
   "source": [
    "# Feature Selection\n",
    "\n",
    "Based on the insights from the correlation matrix heatmap and other transformation techniques, the useful predictors for the final model include: latitude, longitude, speed_osrm, way_type, speed_deviation and target_speed."
   ]
  },
  {
   "cell_type": "code",
   "execution_count": 39,
   "id": "ca9ef430-094a-4ca8-b133-98d5fe4f76c2",
   "metadata": {
    "tags": []
   },
   "outputs": [],
   "source": [
    "final_df = vehicle_speed_df.copy()"
   ]
  },
  {
   "cell_type": "markdown",
   "id": "666c7d8c-cf48-4bc5-84fe-5c78d67d2279",
   "metadata": {},
   "source": [
    "# Encoding Categorical Variables"
   ]
  },
  {
   "cell_type": "code",
   "execution_count": 40,
   "id": "3613a728-7020-48ef-8f18-b45b051aea2c",
   "metadata": {
    "tags": []
   },
   "outputs": [
    {
     "data": {
      "text/html": [
       "<div>\n",
       "<style scoped>\n",
       "    .dataframe tbody tr th:only-of-type {\n",
       "        vertical-align: middle;\n",
       "    }\n",
       "\n",
       "    .dataframe tbody tr th {\n",
       "        vertical-align: top;\n",
       "    }\n",
       "\n",
       "    .dataframe thead th {\n",
       "        text-align: right;\n",
       "    }\n",
       "</style>\n",
       "<table border=\"1\" class=\"dataframe\">\n",
       "  <thead>\n",
       "    <tr style=\"text-align: right;\">\n",
       "      <th></th>\n",
       "      <th>latitude</th>\n",
       "      <th>longitude</th>\n",
       "      <th>target_speed</th>\n",
       "      <th>speed_osrm</th>\n",
       "      <th>speed_deviation</th>\n",
       "      <th>way_type_residential</th>\n",
       "      <th>way_type_secondary</th>\n",
       "      <th>way_type_tertiary</th>\n",
       "      <th>way_type_trunk</th>\n",
       "    </tr>\n",
       "  </thead>\n",
       "  <tbody>\n",
       "    <tr>\n",
       "      <th>0</th>\n",
       "      <td>50.397060</td>\n",
       "      <td>14.913273</td>\n",
       "      <td>143.062042</td>\n",
       "      <td>103.814086</td>\n",
       "      <td>13.062042</td>\n",
       "      <td>0</td>\n",
       "      <td>0</td>\n",
       "      <td>0</td>\n",
       "      <td>0</td>\n",
       "    </tr>\n",
       "    <tr>\n",
       "      <th>1</th>\n",
       "      <td>50.397068</td>\n",
       "      <td>14.913283</td>\n",
       "      <td>142.984026</td>\n",
       "      <td>103.952261</td>\n",
       "      <td>12.984026</td>\n",
       "      <td>0</td>\n",
       "      <td>0</td>\n",
       "      <td>0</td>\n",
       "      <td>0</td>\n",
       "    </tr>\n",
       "    <tr>\n",
       "      <th>2</th>\n",
       "      <td>50.397076</td>\n",
       "      <td>14.913294</td>\n",
       "      <td>142.906010</td>\n",
       "      <td>104.090425</td>\n",
       "      <td>12.906010</td>\n",
       "      <td>0</td>\n",
       "      <td>0</td>\n",
       "      <td>0</td>\n",
       "      <td>0</td>\n",
       "    </tr>\n",
       "    <tr>\n",
       "      <th>3</th>\n",
       "      <td>50.397080</td>\n",
       "      <td>14.913303</td>\n",
       "      <td>142.827991</td>\n",
       "      <td>104.228593</td>\n",
       "      <td>12.827991</td>\n",
       "      <td>0</td>\n",
       "      <td>0</td>\n",
       "      <td>0</td>\n",
       "      <td>0</td>\n",
       "    </tr>\n",
       "    <tr>\n",
       "      <th>4</th>\n",
       "      <td>50.397087</td>\n",
       "      <td>14.913314</td>\n",
       "      <td>142.749972</td>\n",
       "      <td>104.366761</td>\n",
       "      <td>12.749972</td>\n",
       "      <td>0</td>\n",
       "      <td>0</td>\n",
       "      <td>0</td>\n",
       "      <td>0</td>\n",
       "    </tr>\n",
       "  </tbody>\n",
       "</table>\n",
       "</div>"
      ],
      "text/plain": [
       "    latitude  longitude  target_speed  speed_osrm  speed_deviation  \\\n",
       "0  50.397060  14.913273    143.062042  103.814086        13.062042   \n",
       "1  50.397068  14.913283    142.984026  103.952261        12.984026   \n",
       "2  50.397076  14.913294    142.906010  104.090425        12.906010   \n",
       "3  50.397080  14.913303    142.827991  104.228593        12.827991   \n",
       "4  50.397087  14.913314    142.749972  104.366761        12.749972   \n",
       "\n",
       "   way_type_residential  way_type_secondary  way_type_tertiary  way_type_trunk  \n",
       "0                     0                   0                  0               0  \n",
       "1                     0                   0                  0               0  \n",
       "2                     0                   0                  0               0  \n",
       "3                     0                   0                  0               0  \n",
       "4                     0                   0                  0               0  "
      ]
     },
     "execution_count": 40,
     "metadata": {},
     "output_type": "execute_result"
    }
   ],
   "source": [
    "# Convert categorical variables to dummy variables\n",
    "\n",
    "final_df = pd.get_dummies(final_df, columns= ['way_type'], drop_first=True)\n",
    "final_df.head()"
   ]
  },
  {
   "cell_type": "markdown",
   "id": "3691c17a-ee5c-462e-b042-665645bc314c",
   "metadata": {},
   "source": [
    "# Data Partitioning\n",
    "\n",
    "## Separate predictor and target variables"
   ]
  },
  {
   "cell_type": "code",
   "execution_count": 41,
   "id": "d002e108-3db2-416e-ac80-56b02ba81200",
   "metadata": {
    "tags": []
   },
   "outputs": [],
   "source": [
    "# Separate X and y variables\n",
    "\n",
    "X = final_df.drop(['target_speed'], axis=1)\n",
    "y = final_df['target_speed']\n",
    "predictors = X.columns\n",
    "outcome = 'target_speed'"
   ]
  },
  {
   "cell_type": "markdown",
   "id": "e41d192c-9968-468f-b193-68e12f3ec6ac",
   "metadata": {},
   "source": [
    "## Split dataset into training, test and validation sets"
   ]
  },
  {
   "cell_type": "code",
   "execution_count": 42,
   "id": "f85ed64a-85bd-47b6-bbe1-a1c9fc16694a",
   "metadata": {
    "tags": []
   },
   "outputs": [],
   "source": [
    "# Split the training and test set\n",
    "X_train, X_test, y_train, y_test = train_test_split(X, y, test_size=0.4, random_state=1)\n",
    "\n",
    "# Split the test and validation set\n",
    "X_test, X_valid, y_test, y_valid = train_test_split(X_test, y_test, test_size=0.5, random_state=1)"
   ]
  },
  {
   "cell_type": "code",
   "execution_count": 43,
   "id": "682bab85-2264-4bc9-8f72-e83baffbdb08",
   "metadata": {
    "tags": []
   },
   "outputs": [],
   "source": [
    "# Proportions of training, test and validation data\n",
    "\n",
    "train_prop = len(X_train)/len(final_df)\n",
    "test_prop = len(X_test)/len(final_df)\n",
    "valid_prop = len(X_valid)/len(final_df)"
   ]
  },
  {
   "cell_type": "code",
   "execution_count": 44,
   "id": "acbb3b8f-8a83-4562-a6cb-be5e724fb9e5",
   "metadata": {
    "tags": []
   },
   "outputs": [
    {
     "data": {
      "image/png": "[encoded data removed]",
      "text/plain": [
       "<Figure size 504x360 with 1 Axes>"
      ]
     },
     "metadata": {
      "needs_background": "light"
     },
     "output_type": "display_data"
    }
   ],
   "source": [
    "plt.figure(figsize=(7,5))\n",
    "labels = ['Training Set', 'Test Set', 'Validation Set']\n",
    "proportions = [train_prop, test_prop, valid_prop]\n",
    "plt.bar(labels,proportions)\n",
    "plt.xlabel(\"Datasets\")\n",
    "plt.ylabel(\"Proportions\")\n",
    "plt.title(\"Proportions of Training, Test and Validation sets\")\n",
    "plt.show()"
   ]
  },
  {
   "cell_type": "code",
   "execution_count": null,
   "id": "f2b2a0c7-2d0e-4bb4-9487-bbdf0991cacf",
   "metadata": {},
   "outputs": [],
   "source": []
  }
 ],
 "metadata": {
  "availableInstances": [
   {
    "_defaultOrder": 0,
    "_isFastLaunch": true,
    "category": "General purpose",
    "gpuNum": 0,
    "hideHardwareSpecs": false,
    "memoryGiB": 4,
    "name": "ml.t3.medium",
    "vcpuNum": 2
   },
   {
    "_defaultOrder": 1,
    "_isFastLaunch": false,
    "category": "General purpose",
    "gpuNum": 0,
    "hideHardwareSpecs": false,
    "memoryGiB": 8,
    "name": "ml.t3.large",
    "vcpuNum": 2
   },
   {
    "_defaultOrder": 2,
    "_isFastLaunch": false,
    "category": "General purpose",
    "gpuNum": 0,
    "hideHardwareSpecs": false,
    "memoryGiB": 16,
    "name": "ml.t3.xlarge",
    "vcpuNum": 4
   },
   {
    "_defaultOrder": 3,
    "_isFastLaunch": false,
    "category": "General purpose",
    "gpuNum": 0,
    "hideHardwareSpecs": false,
    "memoryGiB": 32,
    "name": "ml.t3.2xlarge",
    "vcpuNum": 8
   },
   {
    "_defaultOrder": 4,
    "_isFastLaunch": true,
    "category": "General purpose",
    "gpuNum": 0,
    "hideHardwareSpecs": false,
    "memoryGiB": 8,
    "name": "ml.m5.large",
    "vcpuNum": 2
   },
   {
    "_defaultOrder": 5,
    "_isFastLaunch": false,
    "category": "General purpose",
    "gpuNum": 0,
    "hideHardwareSpecs": false,
    "memoryGiB": 16,
    "name": "ml.m5.xlarge",
    "vcpuNum": 4
   },
   {
    "_defaultOrder": 6,
    "_isFastLaunch": false,
    "category": "General purpose",
    "gpuNum": 0,
    "hideHardwareSpecs": false,
    "memoryGiB": 32,
    "name": "ml.m5.2xlarge",
    "vcpuNum": 8
   },
   {
    "_defaultOrder": 7,
    "_isFastLaunch": false,
    "category": "General purpose",
    "gpuNum": 0,
    "hideHardwareSpecs": false,
    "memoryGiB": 64,
    "name": "ml.m5.4xlarge",
    "vcpuNum": 16
   },
   {
    "_defaultOrder": 8,
    "_isFastLaunch": false,
    "category": "General purpose",
    "gpuNum": 0,
    "hideHardwareSpecs": false,
    "memoryGiB": 128,
    "name": "ml.m5.8xlarge",
    "vcpuNum": 32
   },
   {
    "_defaultOrder": 9,
    "_isFastLaunch": false,
    "category": "General purpose",
    "gpuNum": 0,
    "hideHardwareSpecs": false,
    "memoryGiB": 192,
    "name": "ml.m5.12xlarge",
    "vcpuNum": 48
   },
   {
    "_defaultOrder": 10,
    "_isFastLaunch": false,
    "category": "General purpose",
    "gpuNum": 0,
    "hideHardwareSpecs": false,
    "memoryGiB": 256,
    "name": "ml.m5.16xlarge",
    "vcpuNum": 64
   },
   {
    "_defaultOrder": 11,
    "_isFastLaunch": false,
    "category": "General purpose",
    "gpuNum": 0,
    "hideHardwareSpecs": false,
    "memoryGiB": 384,
    "name": "ml.m5.24xlarge",
    "vcpuNum": 96
   },
   {
    "_defaultOrder": 12,
    "_isFastLaunch": false,
    "category": "General purpose",
    "gpuNum": 0,
    "hideHardwareSpecs": false,
    "memoryGiB": 8,
    "name": "ml.m5d.large",
    "vcpuNum": 2
   },
   {
    "_defaultOrder": 13,
    "_isFastLaunch": false,
    "category": "General purpose",
    "gpuNum": 0,
    "hideHardwareSpecs": false,
    "memoryGiB": 16,
    "name": "ml.m5d.xlarge",
    "vcpuNum": 4
   },
   {
    "_defaultOrder": 14,
    "_isFastLaunch": false,
    "category": "General purpose",
    "gpuNum": 0,
    "hideHardwareSpecs": false,
    "memoryGiB": 32,
    "name": "ml.m5d.2xlarge",
    "vcpuNum": 8
   },
   {
    "_defaultOrder": 15,
    "_isFastLaunch": false,
    "category": "General purpose",
    "gpuNum": 0,
    "hideHardwareSpecs": false,
    "memoryGiB": 64,
    "name": "ml.m5d.4xlarge",
    "vcpuNum": 16
   },
   {
    "_defaultOrder": 16,
    "_isFastLaunch": false,
    "category": "General purpose",
    "gpuNum": 0,
    "hideHardwareSpecs": false,
    "memoryGiB": 128,
    "name": "ml.m5d.8xlarge",
    "vcpuNum": 32
   },
   {
    "_defaultOrder": 17,
    "_isFastLaunch": false,
    "category": "General purpose",
    "gpuNum": 0,
    "hideHardwareSpecs": false,
    "memoryGiB": 192,
    "name": "ml.m5d.12xlarge",
    "vcpuNum": 48
   },
   {
    "_defaultOrder": 18,
    "_isFastLaunch": false,
    "category": "General purpose",
    "gpuNum": 0,
    "hideHardwareSpecs": false,
    "memoryGiB": 256,
    "name": "ml.m5d.16xlarge",
    "vcpuNum": 64
   },
   {
    "_defaultOrder": 19,
    "_isFastLaunch": false,
    "category": "General purpose",
    "gpuNum": 0,
    "hideHardwareSpecs": false,
    "memoryGiB": 384,
    "name": "ml.m5d.24xlarge",
    "vcpuNum": 96
   },
   {
    "_defaultOrder": 20,
    "_isFastLaunch": false,
    "category": "General purpose",
    "gpuNum": 0,
    "hideHardwareSpecs": true,
    "memoryGiB": 0,
    "name": "ml.geospatial.interactive",
    "supportedImageNames": [
     "sagemaker-geospatial-v1-0"
    ],
    "vcpuNum": 0
   },
   {
    "_defaultOrder": 21,
    "_isFastLaunch": true,
    "category": "Compute optimized",
    "gpuNum": 0,
    "hideHardwareSpecs": false,
    "memoryGiB": 4,
    "name": "ml.c5.large",
    "vcpuNum": 2
   },
   {
    "_defaultOrder": 22,
    "_isFastLaunch": false,
    "category": "Compute optimized",
    "gpuNum": 0,
    "hideHardwareSpecs": false,
    "memoryGiB": 8,
    "name": "ml.c5.xlarge",
    "vcpuNum": 4
   },
   {
    "_defaultOrder": 23,
    "_isFastLaunch": false,
    "category": "Compute optimized",
    "gpuNum": 0,
    "hideHardwareSpecs": false,
    "memoryGiB": 16,
    "name": "ml.c5.2xlarge",
    "vcpuNum": 8
   },
   {
    "_defaultOrder": 24,
    "_isFastLaunch": false,
    "category": "Compute optimized",
    "gpuNum": 0,
    "hideHardwareSpecs": false,
    "memoryGiB": 32,
    "name": "ml.c5.4xlarge",
    "vcpuNum": 16
   },
   {
    "_defaultOrder": 25,
    "_isFastLaunch": false,
    "category": "Compute optimized",
    "gpuNum": 0,
    "hideHardwareSpecs": false,
    "memoryGiB": 72,
    "name": "ml.c5.9xlarge",
    "vcpuNum": 36
   },
   {
    "_defaultOrder": 26,
    "_isFastLaunch": false,
    "category": "Compute optimized",
    "gpuNum": 0,
    "hideHardwareSpecs": false,
    "memoryGiB": 96,
    "name": "ml.c5.12xlarge",
    "vcpuNum": 48
   },
   {
    "_defaultOrder": 27,
    "_isFastLaunch": false,
    "category": "Compute optimized",
    "gpuNum": 0,
    "hideHardwareSpecs": false,
    "memoryGiB": 144,
    "name": "ml.c5.18xlarge",
    "vcpuNum": 72
   },
   {
    "_defaultOrder": 28,
    "_isFastLaunch": false,
    "category": "Compute optimized",
    "gpuNum": 0,
    "hideHardwareSpecs": false,
    "memoryGiB": 192,
    "name": "ml.c5.24xlarge",
    "vcpuNum": 96
   },
   {
    "_defaultOrder": 29,
    "_isFastLaunch": true,
    "category": "Accelerated computing",
    "gpuNum": 1,
    "hideHardwareSpecs": false,
    "memoryGiB": 16,
    "name": "ml.g4dn.xlarge",
    "vcpuNum": 4
   },
   {
    "_defaultOrder": 30,
    "_isFastLaunch": false,
    "category": "Accelerated computing",
    "gpuNum": 1,
    "hideHardwareSpecs": false,
    "memoryGiB": 32,
    "name": "ml.g4dn.2xlarge",
    "vcpuNum": 8
   },
   {
    "_defaultOrder": 31,
    "_isFastLaunch": false,
    "category": "Accelerated computing",
    "gpuNum": 1,
    "hideHardwareSpecs": false,
    "memoryGiB": 64,
    "name": "ml.g4dn.4xlarge",
    "vcpuNum": 16
   },
   {
    "_defaultOrder": 32,
    "_isFastLaunch": false,
    "category": "Accelerated computing",
    "gpuNum": 1,
    "hideHardwareSpecs": false,
    "memoryGiB": 128,
    "name": "ml.g4dn.8xlarge",
    "vcpuNum": 32
   },
   {
    "_defaultOrder": 33,
    "_isFastLaunch": false,
    "category": "Accelerated computing",
    "gpuNum": 4,
    "hideHardwareSpecs": false,
    "memoryGiB": 192,
    "name": "ml.g4dn.12xlarge",
    "vcpuNum": 48
   },
   {
    "_defaultOrder": 34,
    "_isFastLaunch": false,
    "category": "Accelerated computing",
    "gpuNum": 1,
    "hideHardwareSpecs": false,
    "memoryGiB": 256,
    "name": "ml.g4dn.16xlarge",
    "vcpuNum": 64
   },
   {
    "_defaultOrder": 35,
    "_isFastLaunch": false,
    "category": "Accelerated computing",
    "gpuNum": 1,
    "hideHardwareSpecs": false,
    "memoryGiB": 61,
    "name": "ml.p3.2xlarge",
    "vcpuNum": 8
   },
   {
    "_defaultOrder": 36,
    "_isFastLaunch": false,
    "category": "Accelerated computing",
    "gpuNum": 4,
    "hideHardwareSpecs": false,
    "memoryGiB": 244,
    "name": "ml.p3.8xlarge",
    "vcpuNum": 32
   },
   {
    "_defaultOrder": 37,
    "_isFastLaunch": false,
    "category": "Accelerated computing",
    "gpuNum": 8,
    "hideHardwareSpecs": false,
    "memoryGiB": 488,
    "name": "ml.p3.16xlarge",
    "vcpuNum": 64
   },
   {
    "_defaultOrder": 38,
    "_isFastLaunch": false,
    "category": "Accelerated computing",
    "gpuNum": 8,
    "hideHardwareSpecs": false,
    "memoryGiB": 768,
    "name": "ml.p3dn.24xlarge",
    "vcpuNum": 96
   },
   {
    "_defaultOrder": 39,
    "_isFastLaunch": false,
    "category": "Memory Optimized",
    "gpuNum": 0,
    "hideHardwareSpecs": false,
    "memoryGiB": 16,
    "name": "ml.r5.large",
    "vcpuNum": 2
   },
   {
    "_defaultOrder": 40,
    "_isFastLaunch": false,
    "category": "Memory Optimized",
    "gpuNum": 0,
    "hideHardwareSpecs": false,
    "memoryGiB": 32,
    "name": "ml.r5.xlarge",
    "vcpuNum": 4
   },
   {
    "_defaultOrder": 41,
    "_isFastLaunch": false,
    "category": "Memory Optimized",
    "gpuNum": 0,
    "hideHardwareSpecs": false,
    "memoryGiB": 64,
    "name": "ml.r5.2xlarge",
    "vcpuNum": 8
   },
   {
    "_defaultOrder": 42,
    "_isFastLaunch": false,
    "category": "Memory Optimized",
    "gpuNum": 0,
    "hideHardwareSpecs": false,
    "memoryGiB": 128,
    "name": "ml.r5.4xlarge",
    "vcpuNum": 16
   },
   {
    "_defaultOrder": 43,
    "_isFastLaunch": false,
    "category": "Memory Optimized",
    "gpuNum": 0,
    "hideHardwareSpecs": false,
    "memoryGiB": 256,
    "name": "ml.r5.8xlarge",
    "vcpuNum": 32
   },
   {
    "_defaultOrder": 44,
    "_isFastLaunch": false,
    "category": "Memory Optimized",
    "gpuNum": 0,
    "hideHardwareSpecs": false,
    "memoryGiB": 384,
    "name": "ml.r5.12xlarge",
    "vcpuNum": 48
   },
   {
    "_defaultOrder": 45,
    "_isFastLaunch": false,
    "category": "Memory Optimized",
    "gpuNum": 0,
    "hideHardwareSpecs": false,
    "memoryGiB": 512,
    "name": "ml.r5.16xlarge",
    "vcpuNum": 64
   },
   {
    "_defaultOrder": 46,
    "_isFastLaunch": false,
    "category": "Memory Optimized",
    "gpuNum": 0,
    "hideHardwareSpecs": false,
    "memoryGiB": 768,
    "name": "ml.r5.24xlarge",
    "vcpuNum": 96
   },
   {
    "_defaultOrder": 47,
    "_isFastLaunch": false,
    "category": "Accelerated computing",
    "gpuNum": 1,
    "hideHardwareSpecs": false,
    "memoryGiB": 16,
    "name": "ml.g5.xlarge",
    "vcpuNum": 4
   },
   {
    "_defaultOrder": 48,
    "_isFastLaunch": false,
    "category": "Accelerated computing",
    "gpuNum": 1,
    "hideHardwareSpecs": false,
    "memoryGiB": 32,
    "name": "ml.g5.2xlarge",
    "vcpuNum": 8
   },
   {
    "_defaultOrder": 49,
    "_isFastLaunch": false,
    "category": "Accelerated computing",
    "gpuNum": 1,
    "hideHardwareSpecs": false,
    "memoryGiB": 64,
    "name": "ml.g5.4xlarge",
    "vcpuNum": 16
   },
   {
    "_defaultOrder": 50,
    "_isFastLaunch": false,
    "category": "Accelerated computing",
    "gpuNum": 1,
    "hideHardwareSpecs": false,
    "memoryGiB": 128,
    "name": "ml.g5.8xlarge",
    "vcpuNum": 32
   },
   {
    "_defaultOrder": 51,
    "_isFastLaunch": false,
    "category": "Accelerated computing",
    "gpuNum": 1,
    "hideHardwareSpecs": false,
    "memoryGiB": 256,
    "name": "ml.g5.16xlarge",
    "vcpuNum": 64
   },
   {
    "_defaultOrder": 52,
    "_isFastLaunch": false,
    "category": "Accelerated computing",
    "gpuNum": 4,
    "hideHardwareSpecs": false,
    "memoryGiB": 192,
    "name": "ml.g5.12xlarge",
    "vcpuNum": 48
   },
   {
    "_defaultOrder": 53,
    "_isFastLaunch": false,
    "category": "Accelerated computing",
    "gpuNum": 4,
    "hideHardwareSpecs": false,
    "memoryGiB": 384,
    "name": "ml.g5.24xlarge",
    "vcpuNum": 96
   },
   {
    "_defaultOrder": 54,
    "_isFastLaunch": false,
    "category": "Accelerated computing",
    "gpuNum": 8,
    "hideHardwareSpecs": false,
    "memoryGiB": 768,
    "name": "ml.g5.48xlarge",
    "vcpuNum": 192
   },
   {
    "_defaultOrder": 55,
    "_isFastLaunch": false,
    "category": "Accelerated computing",
    "gpuNum": 8,
    "hideHardwareSpecs": false,
    "memoryGiB": 1152,
    "name": "ml.p4d.24xlarge",
    "vcpuNum": 96
   },
   {
    "_defaultOrder": 56,
    "_isFastLaunch": false,
    "category": "Accelerated computing",
    "gpuNum": 8,
    "hideHardwareSpecs": false,
    "memoryGiB": 1152,
    "name": "ml.p4de.24xlarge",
    "vcpuNum": 96
   },
   {
    "_defaultOrder": 57,
    "_isFastLaunch": false,
    "category": "Accelerated computing",
    "gpuNum": 0,
    "hideHardwareSpecs": false,
    "memoryGiB": 32,
    "name": "ml.trn1.2xlarge",
    "vcpuNum": 8
   },
   {
    "_defaultOrder": 58,
    "_isFastLaunch": false,
    "category": "Accelerated computing",
    "gpuNum": 0,
    "hideHardwareSpecs": false,
    "memoryGiB": 512,
    "name": "ml.trn1.32xlarge",
    "vcpuNum": 128
   },
   {
    "_defaultOrder": 59,
    "_isFastLaunch": false,
    "category": "Accelerated computing",
    "gpuNum": 0,
    "hideHardwareSpecs": false,
    "memoryGiB": 512,
    "name": "ml.trn1n.32xlarge",
    "vcpuNum": 128
   }
  ],
  "instance_type": "ml.t3.medium",
  "kernelspec": {
   "display_name": "Python 3 (Data Science 2.0)",
   "language": "python",
   "name": "python3__SAGEMAKER_INTERNAL__arn:aws:sagemaker:us-east-1:081325390199:image/sagemaker-data-science-38"
  },
  "language_info": {
   "codemirror_mode": {
    "name": "ipython",
    "version": 3
   },
   "file_extension": ".py",
   "mimetype": "text/x-python",
   "name": "python",
   "nbconvert_exporter": "python",
   "pygments_lexer": "ipython3",
   "version": "3.8.13"
  }
 },
 "nbformat": 4,
 "nbformat_minor": 5
}
